{
 "cells": [
  {
   "cell_type": "code",
   "execution_count": 1,
   "metadata": {
    "execution": {
     "iopub.execute_input": "2021-03-14T06:13:35.392034Z",
     "iopub.status.busy": "2021-03-14T06:13:35.391217Z",
     "iopub.status.idle": "2021-03-14T06:13:37.909017Z",
     "shell.execute_reply": "2021-03-14T06:13:37.907985Z"
    },
    "papermill": {
     "duration": 2.529962,
     "end_time": "2021-03-14T06:13:37.909254",
     "exception": false,
     "start_time": "2021-03-14T06:13:35.379292",
     "status": "completed"
    },
    "tags": []
   },
   "outputs": [],
   "source": [
    "import numpy as np\n",
    "import pandas as pd\n",
    "import librosa\n",
    "from tqdm import tqdm\n",
    "import os"
   ]
  },
  {
   "cell_type": "code",
   "execution_count": 2,
   "metadata": {
    "execution": {
     "iopub.execute_input": "2021-03-14T06:13:37.927730Z",
     "iopub.status.busy": "2021-03-14T06:13:37.926743Z",
     "iopub.status.idle": "2021-03-14T06:13:37.930142Z",
     "shell.execute_reply": "2021-03-14T06:13:37.929631Z"
    },
    "papermill": {
     "duration": 0.014912,
     "end_time": "2021-03-14T06:13:37.930285",
     "exception": false,
     "start_time": "2021-03-14T06:13:37.915373",
     "status": "completed"
    },
    "tags": []
   },
   "outputs": [],
   "source": [
    "# normalize\n",
    "def MyNormalize(x):\n",
    "    x.fillna(0, inplace=True)\n",
    "    mean_ = x.mean(axis=0)\n",
    "    x -= mean_\n",
    "    max_ = x.max(axis=0)\n",
    "    x /= (max_+1e-5)\n",
    "    \n",
    "    return x"
   ]
  },
  {
   "cell_type": "code",
   "execution_count": 3,
   "metadata": {
    "execution": {
     "iopub.execute_input": "2021-03-14T06:13:37.954703Z",
     "iopub.status.busy": "2021-03-14T06:13:37.953691Z",
     "iopub.status.idle": "2021-03-14T06:13:37.957073Z",
     "shell.execute_reply": "2021-03-14T06:13:37.956577Z"
    },
    "papermill": {
     "duration": 0.021133,
     "end_time": "2021-03-14T06:13:37.957215",
     "exception": false,
     "start_time": "2021-03-14T06:13:37.936082",
     "status": "completed"
    },
    "tags": []
   },
   "outputs": [],
   "source": [
    "def feature_extract(x):\n",
    "    # multi channel -> one channel\n",
    "    # rms: root mean squared\n",
    "    # rms_res = librosa.feature.rms(x.T)\n",
    "    rms_res = []\n",
    "    # spectral_centroid\n",
    "    # Each frame of a magnitude spectrogram is normalized and treated as a distribution over frequency bins, from which the mean (centroid) is extracted per frame.\n",
    "    sc_res = []\n",
    "    # spectral_bandwidth\n",
    "    # (sum_k S[k, t] * (freq[k, t] - centroid[t])**p)**(1/p)\n",
    "    sb_res = []\n",
    "    # zero_crossing_rate\n",
    "    # 过零率（zero crossing rate）是一个信号符号变化的比率，即，在每帧中，语音信号从正变为负或从负变为正的次数\n",
    "    zc_res = []\n",
    "    # mel frequency cepstral coefficient\n",
    "    mfcc_res = []\n",
    "    # poly_features\n",
    "    # Get coefficients of fitting an nth-order polynomial to the columns of a spectrogram\n",
    "    pf_res = []\n",
    "    # spectral_contrast\n",
    "    # Each frame of a spectrogram S is divided into sub-bands. For each sub-band, the energy contrast is estimated by comparing the mean energy in the top quantile (peak energy) to that of the bottom quantile (valley energy). High contrast values generally correspond to clear, narrow-band signals, while low contrast values correspond to broad-band noise.\n",
    "    scon_res = []\n",
    "    # chroma_stft after applying stft (or not)\n",
    "    for coli in x:\n",
    "        rms_tmp = librosa.feature.rms(x[coli].values)\n",
    "        rms_res.append(rms_tmp)\n",
    "        sc_tmp = librosa.feature.spectral_centroid(y=x[coli].values, sr=100)\n",
    "        sc_res.append(sc_tmp)\n",
    "        sb_tmp = librosa.feature.spectral_bandwidth(y=x[coli].values, sr=100)\n",
    "        sb_res.append(sb_tmp)\n",
    "        zc_tmp = librosa.feature.zero_crossing_rate(x[coli].values)\n",
    "        zc_res.append(zc_tmp)\n",
    "        scon_tmp = librosa.feature.spectral_contrast(y=x[coli].values, sr=100, fmin=1)\n",
    "        scon_res.append(scon_tmp)\n",
    "        pf_tmp = librosa.feature.poly_features(y=x[coli].values, sr=100, order=2)\n",
    "        pf_res.append(pf_tmp)\n",
    "        mfcc_tmp = librosa.feature.mfcc(y=x[coli].values, sr=100)\n",
    "        mfcc_res.append(mfcc_tmp)\n",
    "        \n",
    "    final_res = []\n",
    "    for res in [rms_res, sc_res, sb_res, zc_res, scon_res, pf_res, mfcc_res]:\n",
    "        final_res.extend(res)\n",
    "    \n",
    "    return np.concatenate(final_res)"
   ]
  },
  {
   "cell_type": "code",
   "execution_count": 4,
   "metadata": {
    "execution": {
     "iopub.execute_input": "2021-03-14T06:13:37.974137Z",
     "iopub.status.busy": "2021-03-14T06:13:37.973481Z",
     "iopub.status.idle": "2021-03-14T06:13:38.718546Z",
     "shell.execute_reply": "2021-03-14T06:13:38.717419Z"
    },
    "papermill": {
     "duration": 0.755601,
     "end_time": "2021-03-14T06:13:38.718708",
     "exception": false,
     "start_time": "2021-03-14T06:13:37.963107",
     "status": "completed"
    },
    "tags": []
   },
   "outputs": [],
   "source": [
    "!mkdir ./train ./test"
   ]
  },
  {
   "cell_type": "code",
   "execution_count": 5,
   "metadata": {
    "execution": {
     "iopub.execute_input": "2021-03-14T06:13:38.738311Z",
     "iopub.status.busy": "2021-03-14T06:13:38.737601Z",
     "iopub.status.idle": "2021-03-14T06:13:38.740753Z",
     "shell.execute_reply": "2021-03-14T06:13:38.740115Z"
    },
    "papermill": {
     "duration": 0.016044,
     "end_time": "2021-03-14T06:13:38.740915",
     "exception": false,
     "start_time": "2021-03-14T06:13:38.724871",
     "status": "completed"
    },
    "tags": []
   },
   "outputs": [],
   "source": [
    "# train\n",
    "def output(ppath, opath):\n",
    "    for path in tqdm(os.listdir(ppath)):\n",
    "        filepath = os.path.join(ppath, path)\n",
    "        data = pd.read_csv(filepath)\n",
    "        data = MyNormalize(data)\n",
    "        res = feature_extract(data)\n",
    "        outputname = os.path.join(opath, path[:-4]+'.npz')\n",
    "        np.savez(outputname, res)"
   ]
  },
  {
   "cell_type": "code",
   "execution_count": 6,
   "metadata": {
    "execution": {
     "iopub.execute_input": "2021-03-14T06:13:38.758205Z",
     "iopub.status.busy": "2021-03-14T06:13:38.757539Z",
     "iopub.status.idle": "2021-03-14T07:16:14.788848Z",
     "shell.execute_reply": "2021-03-14T07:16:14.789469Z"
    },
    "papermill": {
     "duration": 3756.04247,
     "end_time": "2021-03-14T07:16:14.789720",
     "exception": false,
     "start_time": "2021-03-14T06:13:38.747250",
     "status": "completed"
    },
    "tags": []
   },
   "outputs": [
    {
     "name": "stderr",
     "output_type": "stream",
     "text": [
      "100%|██████████| 4431/4431 [1:02:35<00:00,  1.18it/s]\n"
     ]
    }
   ],
   "source": [
    "output(r'../input/predict-volcanic-eruptions-ingv-oe/train', r'./train')"
   ]
  },
  {
   "cell_type": "code",
   "execution_count": 7,
   "metadata": {
    "execution": {
     "iopub.execute_input": "2021-03-14T07:16:17.416414Z",
     "iopub.status.busy": "2021-03-14T07:16:17.415765Z",
     "iopub.status.idle": "2021-03-14T08:19:08.501795Z",
     "shell.execute_reply": "2021-03-14T08:19:08.500845Z"
    },
    "papermill": {
     "duration": 3772.402203,
     "end_time": "2021-03-14T08:19:08.502009",
     "exception": false,
     "start_time": "2021-03-14T07:16:16.099806",
     "status": "completed"
    },
    "tags": []
   },
   "outputs": [
    {
     "name": "stderr",
     "output_type": "stream",
     "text": [
      "100%|██████████| 4520/4520 [1:02:50<00:00,  1.20it/s]\n"
     ]
    }
   ],
   "source": [
    "output(r'../input/predict-volcanic-eruptions-ingv-oe/test', r'./test')"
   ]
  }
 ],
 "metadata": {
  "kernelspec": {
   "display_name": "Python 3",
   "language": "python",
   "name": "python3"
  },
  "language_info": {
   "codemirror_mode": {
    "name": "ipython",
    "version": 3
   },
   "file_extension": ".py",
   "mimetype": "text/x-python",
   "name": "python",
   "nbconvert_exporter": "python",
   "pygments_lexer": "ipython3",
   "version": "3.7.9"
  },
  "papermill": {
   "default_parameters": {},
   "duration": 7542.824264,
   "end_time": "2021-03-14T08:19:12.360483",
   "environment_variables": {},
   "exception": null,
   "input_path": "__notebook__.ipynb",
   "output_path": "__notebook__.ipynb",
   "parameters": {},
   "start_time": "2021-03-14T06:13:29.536219",
   "version": "2.2.2"
  }
 },
 "nbformat": 4,
 "nbformat_minor": 4
}

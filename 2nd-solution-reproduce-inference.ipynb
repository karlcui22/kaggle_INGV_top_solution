{
 "cells": [
  {
   "cell_type": "code",
   "execution_count": 1,
   "metadata": {
    "execution": {
     "iopub.execute_input": "2021-03-15T03:00:03.953633Z",
     "iopub.status.busy": "2021-03-15T03:00:03.953090Z",
     "iopub.status.idle": "2021-03-15T03:00:06.327050Z",
     "shell.execute_reply": "2021-03-15T03:00:06.326041Z"
    },
    "papermill": {
     "duration": 2.38922,
     "end_time": "2021-03-15T03:00:06.327260",
     "exception": false,
     "start_time": "2021-03-15T03:00:03.938040",
     "status": "completed"
    },
    "tags": []
   },
   "outputs": [],
   "source": [
    "import numpy as np\n",
    "import pandas as pd\n",
    "import torch\n",
    "from torch import Tensor\n",
    "import torch.nn as nn\n",
    "from typing import Callable, Any, Optional, Tuple, List\n",
    "import torch.nn.functional as F\n",
    "from torch.utils.data import Dataset, DataLoader\n",
    "from torch.optim.lr_scheduler import CosineAnnealingLR, CosineAnnealingWarmRestarts, ReduceLROnPlateau\n",
    "from sklearn.cluster import KMeans\n",
    "from sklearn.model_selection import StratifiedKFold\n",
    "import random\n",
    "import os\n",
    "from logging import getLogger, INFO, FileHandler, Formatter, StreamHandler\n",
    "import copy\n",
    "import time\n",
    "from tqdm import tqdm\n",
    "from sklearn.metrics import mean_absolute_error"
   ]
  },
  {
   "cell_type": "code",
   "execution_count": 2,
   "metadata": {
    "execution": {
     "iopub.execute_input": "2021-03-15T03:00:06.367295Z",
     "iopub.status.busy": "2021-03-15T03:00:06.360570Z",
     "iopub.status.idle": "2021-03-15T03:00:06.369723Z",
     "shell.execute_reply": "2021-03-15T03:00:06.369327Z"
    },
    "papermill": {
     "duration": 0.034631,
     "end_time": "2021-03-15T03:00:06.369829",
     "exception": false,
     "start_time": "2021-03-15T03:00:06.335198",
     "status": "completed"
    },
    "tags": []
   },
   "outputs": [],
   "source": [
    "# InceptionA and InceptionC\n",
    "# Copied from https://github.com/pytorch/vision/blob/master/torchvision/models/inception.py\n",
    "# Copied from https://amaarora.github.io/2020/07/24/SeNet.html\n",
    "\n",
    "class BasicConv1d(nn.Module):\n",
    "\n",
    "    def __init__(\n",
    "        self,\n",
    "        in_channels: int,\n",
    "        out_channels: int,\n",
    "        **kwargs: Any\n",
    "    ) -> None:\n",
    "        super(BasicConv1d, self).__init__()\n",
    "        self.conv = nn.Conv1d(in_channels, out_channels, bias=False, **kwargs)\n",
    "        self.bn = nn.BatchNorm1d(out_channels, eps=0.001)\n",
    "\n",
    "    def forward(self, x: Tensor) -> Tensor:\n",
    "        x = self.conv(x)\n",
    "        x = self.bn(x)\n",
    "        return F.leaky_relu(x, inplace=True)\n",
    "\n",
    "    \n",
    "class InceptionA(nn.Module):\n",
    "\n",
    "    def __init__(\n",
    "        self,\n",
    "        in_channels: int,\n",
    "        pool_features: int,\n",
    "        conv_block: Optional[Callable[..., nn.Module]] = None\n",
    "    ) -> None:\n",
    "        super(InceptionA, self).__init__()\n",
    "        if conv_block is None:\n",
    "            conv_block = BasicConv1d\n",
    "        self.branch1x1 = conv_block(in_channels, 64, kernel_size=1)\n",
    "\n",
    "        self.branch5x5_1 = conv_block(in_channels, 48, kernel_size=1)\n",
    "        self.branch5x5_2 = conv_block(48, 64, kernel_size=5, padding=2)\n",
    "\n",
    "        self.branch3x3dbl_1 = conv_block(in_channels, 64, kernel_size=1)\n",
    "        self.branch3x3dbl_2 = conv_block(64, 96, kernel_size=3, padding=1)\n",
    "        self.branch3x3dbl_3 = conv_block(96, 96, kernel_size=3, padding=1)\n",
    "\n",
    "        self.branch_pool = conv_block(in_channels, pool_features, kernel_size=1)\n",
    "\n",
    "    def _forward(self, x: Tensor) -> List[Tensor]:\n",
    "        branch1x1 = self.branch1x1(x)\n",
    "\n",
    "        branch5x5 = self.branch5x5_1(x)\n",
    "        branch5x5 = self.branch5x5_2(branch5x5)\n",
    "\n",
    "        branch3x3dbl = self.branch3x3dbl_1(x)\n",
    "        branch3x3dbl = self.branch3x3dbl_2(branch3x3dbl)\n",
    "        branch3x3dbl = self.branch3x3dbl_3(branch3x3dbl)\n",
    "\n",
    "        branch_pool = F.avg_pool2d(x, kernel_size=3, stride=1, padding=1)\n",
    "        branch_pool = self.branch_pool(branch_pool)\n",
    "\n",
    "        outputs = [branch1x1, branch5x5, branch3x3dbl, branch_pool]\n",
    "        return outputs\n",
    "\n",
    "    def forward(self, x: Tensor) -> Tensor:\n",
    "        outputs = self._forward(x)\n",
    "        return torch.cat(outputs, 1)\n",
    "\n",
    "\n",
    "class InceptionC(nn.Module):\n",
    "\n",
    "    def __init__(\n",
    "        self,\n",
    "        in_channels: int,\n",
    "        channels_7x7: int,\n",
    "        conv_block: Optional[Callable[..., nn.Module]] = None\n",
    "    ) -> None:\n",
    "        super(InceptionC, self).__init__()\n",
    "        if conv_block is None:\n",
    "            conv_block = BasicConv1d\n",
    "        self.branch1x1 = conv_block(in_channels, 128, kernel_size=1)\n",
    "\n",
    "        c7 = channels_7x7\n",
    "        self.branch7x7_1 = conv_block(in_channels, c7, kernel_size=1)\n",
    "        self.branch7x7_2 = conv_block(c7, c7, kernel_size=1, padding=0)\n",
    "        self.branch7x7_3 = conv_block(c7, 128, kernel_size=7, padding=3)\n",
    "\n",
    "        self.branch7x7dbl_1 = conv_block(in_channels, c7, kernel_size=1)\n",
    "        self.branch7x7dbl_2 = conv_block(c7, c7, kernel_size=7, padding=3,)\n",
    "        self.branch7x7dbl_3 = conv_block(c7, c7, kernel_size=1, padding=0,)\n",
    "        self.branch7x7dbl_4 = conv_block(c7, c7, kernel_size=7, padding=3,)\n",
    "        self.branch7x7dbl_5 = conv_block(c7, 128, kernel_size=1, padding=0,)\n",
    "\n",
    "        self.branch_pool = conv_block(in_channels, 128, kernel_size=1)\n",
    "\n",
    "    def _forward(self, x: Tensor) -> List[Tensor]:\n",
    "        branch1x1 = self.branch1x1(x)\n",
    "\n",
    "        branch7x7 = self.branch7x7_1(x)\n",
    "        branch7x7 = self.branch7x7_2(branch7x7)\n",
    "        branch7x7 = self.branch7x7_3(branch7x7)\n",
    "\n",
    "        branch7x7dbl = self.branch7x7dbl_1(x)\n",
    "        branch7x7dbl = self.branch7x7dbl_2(branch7x7dbl)\n",
    "        branch7x7dbl = self.branch7x7dbl_3(branch7x7dbl)\n",
    "        branch7x7dbl = self.branch7x7dbl_4(branch7x7dbl)\n",
    "        branch7x7dbl = self.branch7x7dbl_5(branch7x7dbl)\n",
    "\n",
    "        branch_pool = F.avg_pool1d(x, kernel_size=3, stride=1, padding=1)\n",
    "        branch_pool = self.branch_pool(branch_pool)\n",
    "\n",
    "        outputs = [branch1x1, branch7x7, branch7x7dbl, branch_pool]\n",
    "        return outputs\n",
    "\n",
    "    def forward(self, x: Tensor) -> Tensor:\n",
    "        outputs = self._forward(x)\n",
    "        return torch.cat(outputs, 1)\n",
    "    \n",
    "\n",
    "class SE_Block(nn.Module):\n",
    "    \"credits: https://github.com/moskomule/senet.pytorch/blob/master/senet/se_module.py#L4\"\n",
    "    def __init__(self, c, r=16):\n",
    "        super().__init__()\n",
    "        self.squeeze = nn.AdaptiveAvgPool1d(1)\n",
    "        self.excitation = nn.Sequential(\n",
    "            nn.Linear(c, c // r, bias=False),\n",
    "            nn.ReLU(inplace=True),\n",
    "            nn.Linear(c // r, c, bias=False),\n",
    "            nn.Sigmoid()\n",
    "        )\n",
    "\n",
    "    def forward(self, x):\n",
    "        bs, c, _ = x.shape\n",
    "        y = self.squeeze(x).view(bs, c)\n",
    "        y = self.excitation(y).view(bs, c, 1)\n",
    "        return x * y.expand_as(x)"
   ]
  },
  {
   "cell_type": "code",
   "execution_count": 3,
   "metadata": {
    "execution": {
     "iopub.execute_input": "2021-03-15T03:00:06.731976Z",
     "iopub.status.busy": "2021-03-15T03:00:06.731127Z",
     "iopub.status.idle": "2021-03-15T03:00:06.734337Z",
     "shell.execute_reply": "2021-03-15T03:00:06.733496Z"
    },
    "papermill": {
     "duration": 0.357309,
     "end_time": "2021-03-15T03:00:06.734471",
     "exception": false,
     "start_time": "2021-03-15T03:00:06.377162",
     "status": "completed"
    },
    "tags": []
   },
   "outputs": [],
   "source": [
    "class CFG:\n",
    "    lr = 0.005\n",
    "    min_lr = 1e-6\n",
    "    weight_decay = 0.001\n",
    "    epochs = 1200\n",
    "    device = torch.device('cuda' if torch.cuda.is_available() else 'cpu')\n",
    "    seed = 42\n",
    "    NFOLD = 5\n",
    "    batch_size = 128\n",
    "    DATA_ROOT = r'../input/2nd-solution-reproduce-feature-part/test'\n",
    "    OUTPUT_DIR = r'./'\n",
    "    scheduler='CosineAnnealingWarmRestarts'#\n",
    "    target_col = 'time_to_eruption_normalize'\n",
    "    model_name = '2nd_model'\n",
    "    # for warm start\n",
    "    T_0 = 10\n",
    "    # for normal cosine\n",
    "    T_max = 10\n",
    "    num_workers = 1\n",
    "    \n",
    "    EARLY_STOP = True\n",
    "    early_stop = 20\n",
    "    \n",
    "    gradient_accumulation_steps=1\n",
    "    max_grad_norm = 1000\n",
    "    print_freq = 20"
   ]
  },
  {
   "cell_type": "code",
   "execution_count": 4,
   "metadata": {
    "execution": {
     "iopub.execute_input": "2021-03-15T03:00:06.756322Z",
     "iopub.status.busy": "2021-03-15T03:00:06.755724Z",
     "iopub.status.idle": "2021-03-15T03:00:06.761333Z",
     "shell.execute_reply": "2021-03-15T03:00:06.760862Z"
    },
    "papermill": {
     "duration": 0.017963,
     "end_time": "2021-03-15T03:00:06.761445",
     "exception": false,
     "start_time": "2021-03-15T03:00:06.743482",
     "status": "completed"
    },
    "tags": []
   },
   "outputs": [],
   "source": [
    "def seed_everything(seed):\n",
    "    random.seed(seed)\n",
    "    os.environ['PYTHONHASHSEED'] = str(seed)\n",
    "    np.random.seed(seed)\n",
    "    torch.manual_seed(seed)\n",
    "    torch.cuda.manual_seed(seed)\n",
    "    torch.backends.cudnn.deterministic = True\n",
    "    torch.backends.cudnn.benchmark = True\n",
    "\n",
    "seed_everything(CFG.seed)"
   ]
  },
  {
   "cell_type": "code",
   "execution_count": 5,
   "metadata": {
    "execution": {
     "iopub.execute_input": "2021-03-15T03:00:06.788183Z",
     "iopub.status.busy": "2021-03-15T03:00:06.787063Z",
     "iopub.status.idle": "2021-03-15T03:00:06.789806Z",
     "shell.execute_reply": "2021-03-15T03:00:06.789420Z"
    },
    "papermill": {
     "duration": 0.020887,
     "end_time": "2021-03-15T03:00:06.789910",
     "exception": false,
     "start_time": "2021-03-15T03:00:06.769023",
     "status": "completed"
    },
    "tags": []
   },
   "outputs": [],
   "source": [
    "class MyModel(nn.Module):\n",
    "    def __init__(self, in_channels=340, out_channels=128, pool_features=64):\n",
    "        super(MyModel, self).__init__()\n",
    "        self.bn1 = nn.BatchNorm1d(in_channels)\n",
    "        self.stem1 = nn.Sequential(nn.Conv1d(in_channels, out_channels, 3, padding=1), \n",
    "                                   nn.BatchNorm1d(out_channels), \n",
    "                                   # N,C,L => N,C,Lout\n",
    "                                   nn.MaxPool1d(2,2))\n",
    "        self.stem2 = nn.Sequential(nn.Conv1d(out_channels, out_channels, 3, padding=1), \n",
    "                                   nn.BatchNorm1d(out_channels), \n",
    "                                   nn.MaxPool1d(2,2))\n",
    "        self.inceptiona = InceptionA(in_channels=out_channels, pool_features=pool_features)\n",
    "        self.inceptionc = InceptionC(in_channels=out_channels, channels_7x7=out_channels)\n",
    "        \n",
    "        self.SE_Block = SE_Block(928)\n",
    "        # (N, C, L)\n",
    "        self.Bi_LSTM = nn.LSTM(input_size=928, \n",
    "                               hidden_size=128,\n",
    "                               batch_first=True, \n",
    "                               bidirectional=True)\n",
    "        self.adaptive_pooling = nn.AdaptiveAvgPool1d(1)\n",
    "        self.fc = nn.Linear(29, 1)\n",
    "        \n",
    "    def forward(self, x):\n",
    "        x = self.bn1(x)\n",
    "        x = F.leaky_relu(x)\n",
    "        x = self.stem1(x)\n",
    "        x = F.leaky_relu(x)\n",
    "        x = self.stem2(x)\n",
    "        x = F.leaky_relu(x)\n",
    "        x1 = self.inceptiona(x)\n",
    "        x2 = self.inceptionc(x)\n",
    "        x = torch.cat([x, x1, x2], dim=1)\n",
    "        x = F.leaky_relu(x)\n",
    "        x = self.SE_Block(x)\n",
    "        x = F.leaky_relu(x)\n",
    "        x = self.Bi_LSTM(x.permute(0,2,1))\n",
    "        x = self.adaptive_pooling(x[0])\n",
    "        x = F.relu(x)\n",
    "        x = self.fc(x.squeeze(-1))\n",
    "        \n",
    "        return x"
   ]
  },
  {
   "cell_type": "code",
   "execution_count": 6,
   "metadata": {
    "execution": {
     "iopub.execute_input": "2021-03-15T03:00:06.812345Z",
     "iopub.status.busy": "2021-03-15T03:00:06.811725Z",
     "iopub.status.idle": "2021-03-15T03:00:06.814478Z",
     "shell.execute_reply": "2021-03-15T03:00:06.813969Z"
    },
    "papermill": {
     "duration": 0.016989,
     "end_time": "2021-03-15T03:00:06.814578",
     "exception": false,
     "start_time": "2021-03-15T03:00:06.797589",
     "status": "completed"
    },
    "tags": []
   },
   "outputs": [],
   "source": [
    "class INGVDataset(Dataset):\n",
    "    def __init__(self, df, data_root, transforms=None, output_label=True):\n",
    "        super().__init__()\n",
    "        self.df = df\n",
    "        self.data_root = data_root\n",
    "        self.transforms = transforms\n",
    "        self.output_label = output_label\n",
    "    \n",
    "    def __len__(self):\n",
    "        return self.df.shape[0]\n",
    "    \n",
    "    def __getitem__(self, index: int):\n",
    "        \n",
    "        # get labels\n",
    "        if self.output_label:\n",
    "            #target = self.df.iloc[index]['label']\n",
    "            target = [self.df.loc[index, 'time_to_eruption_normalize'].astype('float32')]\n",
    "          \n",
    "        path = os.path.join(self.data_root, str(self.df.loc[index, 'segment_id'])+'.npz')\n",
    "        \n",
    "        # (10, 256, 256)\n",
    "        img = np.load(path)['arr_0'].astype('float32')\n",
    "            \n",
    "        # do label smoothing\n",
    "        if self.output_label == True:\n",
    "            return torch.tensor(img), torch.tensor(target)\n",
    "        else:\n",
    "            return torch.tensor(img)"
   ]
  },
  {
   "cell_type": "code",
   "execution_count": 7,
   "metadata": {
    "execution": {
     "iopub.execute_input": "2021-03-15T03:00:06.839675Z",
     "iopub.status.busy": "2021-03-15T03:00:06.839190Z",
     "iopub.status.idle": "2021-03-15T03:00:06.873876Z",
     "shell.execute_reply": "2021-03-15T03:00:06.873386Z"
    },
    "papermill": {
     "duration": 0.051686,
     "end_time": "2021-03-15T03:00:06.873986",
     "exception": false,
     "start_time": "2021-03-15T03:00:06.822300",
     "status": "completed"
    },
    "tags": []
   },
   "outputs": [],
   "source": [
    "df = pd.read_csv(r'../input/predict-volcanic-eruptions-ingv-oe/train.csv')\n",
    "time2eruption_mean = df['time_to_eruption'].mean(axis=0)\n",
    "test = pd.read_csv(r'../input/predict-volcanic-eruptions-ingv-oe/sample_submission.csv')"
   ]
  },
  {
   "cell_type": "code",
   "execution_count": 8,
   "metadata": {
    "execution": {
     "iopub.execute_input": "2021-03-15T03:00:06.893802Z",
     "iopub.status.busy": "2021-03-15T03:00:06.893321Z",
     "iopub.status.idle": "2021-03-15T03:00:11.924776Z",
     "shell.execute_reply": "2021-03-15T03:00:11.924252Z"
    },
    "papermill": {
     "duration": 5.042549,
     "end_time": "2021-03-15T03:00:11.924930",
     "exception": false,
     "start_time": "2021-03-15T03:00:06.882381",
     "status": "completed"
    },
    "tags": []
   },
   "outputs": [
    {
     "data": {
      "text/plain": [
       "MyModel(\n",
       "  (bn1): BatchNorm1d(340, eps=1e-05, momentum=0.1, affine=True, track_running_stats=True)\n",
       "  (stem1): Sequential(\n",
       "    (0): Conv1d(340, 128, kernel_size=(3,), stride=(1,), padding=(1,))\n",
       "    (1): BatchNorm1d(128, eps=1e-05, momentum=0.1, affine=True, track_running_stats=True)\n",
       "    (2): MaxPool1d(kernel_size=2, stride=2, padding=0, dilation=1, ceil_mode=False)\n",
       "  )\n",
       "  (stem2): Sequential(\n",
       "    (0): Conv1d(128, 128, kernel_size=(3,), stride=(1,), padding=(1,))\n",
       "    (1): BatchNorm1d(128, eps=1e-05, momentum=0.1, affine=True, track_running_stats=True)\n",
       "    (2): MaxPool1d(kernel_size=2, stride=2, padding=0, dilation=1, ceil_mode=False)\n",
       "  )\n",
       "  (inceptiona): InceptionA(\n",
       "    (branch1x1): BasicConv1d(\n",
       "      (conv): Conv1d(128, 64, kernel_size=(1,), stride=(1,), bias=False)\n",
       "      (bn): BatchNorm1d(64, eps=0.001, momentum=0.1, affine=True, track_running_stats=True)\n",
       "    )\n",
       "    (branch5x5_1): BasicConv1d(\n",
       "      (conv): Conv1d(128, 48, kernel_size=(1,), stride=(1,), bias=False)\n",
       "      (bn): BatchNorm1d(48, eps=0.001, momentum=0.1, affine=True, track_running_stats=True)\n",
       "    )\n",
       "    (branch5x5_2): BasicConv1d(\n",
       "      (conv): Conv1d(48, 64, kernel_size=(5,), stride=(1,), padding=(2,), bias=False)\n",
       "      (bn): BatchNorm1d(64, eps=0.001, momentum=0.1, affine=True, track_running_stats=True)\n",
       "    )\n",
       "    (branch3x3dbl_1): BasicConv1d(\n",
       "      (conv): Conv1d(128, 64, kernel_size=(1,), stride=(1,), bias=False)\n",
       "      (bn): BatchNorm1d(64, eps=0.001, momentum=0.1, affine=True, track_running_stats=True)\n",
       "    )\n",
       "    (branch3x3dbl_2): BasicConv1d(\n",
       "      (conv): Conv1d(64, 96, kernel_size=(3,), stride=(1,), padding=(1,), bias=False)\n",
       "      (bn): BatchNorm1d(96, eps=0.001, momentum=0.1, affine=True, track_running_stats=True)\n",
       "    )\n",
       "    (branch3x3dbl_3): BasicConv1d(\n",
       "      (conv): Conv1d(96, 96, kernel_size=(3,), stride=(1,), padding=(1,), bias=False)\n",
       "      (bn): BatchNorm1d(96, eps=0.001, momentum=0.1, affine=True, track_running_stats=True)\n",
       "    )\n",
       "    (branch_pool): BasicConv1d(\n",
       "      (conv): Conv1d(128, 64, kernel_size=(1,), stride=(1,), bias=False)\n",
       "      (bn): BatchNorm1d(64, eps=0.001, momentum=0.1, affine=True, track_running_stats=True)\n",
       "    )\n",
       "  )\n",
       "  (inceptionc): InceptionC(\n",
       "    (branch1x1): BasicConv1d(\n",
       "      (conv): Conv1d(128, 128, kernel_size=(1,), stride=(1,), bias=False)\n",
       "      (bn): BatchNorm1d(128, eps=0.001, momentum=0.1, affine=True, track_running_stats=True)\n",
       "    )\n",
       "    (branch7x7_1): BasicConv1d(\n",
       "      (conv): Conv1d(128, 128, kernel_size=(1,), stride=(1,), bias=False)\n",
       "      (bn): BatchNorm1d(128, eps=0.001, momentum=0.1, affine=True, track_running_stats=True)\n",
       "    )\n",
       "    (branch7x7_2): BasicConv1d(\n",
       "      (conv): Conv1d(128, 128, kernel_size=(1,), stride=(1,), bias=False)\n",
       "      (bn): BatchNorm1d(128, eps=0.001, momentum=0.1, affine=True, track_running_stats=True)\n",
       "    )\n",
       "    (branch7x7_3): BasicConv1d(\n",
       "      (conv): Conv1d(128, 128, kernel_size=(7,), stride=(1,), padding=(3,), bias=False)\n",
       "      (bn): BatchNorm1d(128, eps=0.001, momentum=0.1, affine=True, track_running_stats=True)\n",
       "    )\n",
       "    (branch7x7dbl_1): BasicConv1d(\n",
       "      (conv): Conv1d(128, 128, kernel_size=(1,), stride=(1,), bias=False)\n",
       "      (bn): BatchNorm1d(128, eps=0.001, momentum=0.1, affine=True, track_running_stats=True)\n",
       "    )\n",
       "    (branch7x7dbl_2): BasicConv1d(\n",
       "      (conv): Conv1d(128, 128, kernel_size=(7,), stride=(1,), padding=(3,), bias=False)\n",
       "      (bn): BatchNorm1d(128, eps=0.001, momentum=0.1, affine=True, track_running_stats=True)\n",
       "    )\n",
       "    (branch7x7dbl_3): BasicConv1d(\n",
       "      (conv): Conv1d(128, 128, kernel_size=(1,), stride=(1,), bias=False)\n",
       "      (bn): BatchNorm1d(128, eps=0.001, momentum=0.1, affine=True, track_running_stats=True)\n",
       "    )\n",
       "    (branch7x7dbl_4): BasicConv1d(\n",
       "      (conv): Conv1d(128, 128, kernel_size=(7,), stride=(1,), padding=(3,), bias=False)\n",
       "      (bn): BatchNorm1d(128, eps=0.001, momentum=0.1, affine=True, track_running_stats=True)\n",
       "    )\n",
       "    (branch7x7dbl_5): BasicConv1d(\n",
       "      (conv): Conv1d(128, 128, kernel_size=(1,), stride=(1,), bias=False)\n",
       "      (bn): BatchNorm1d(128, eps=0.001, momentum=0.1, affine=True, track_running_stats=True)\n",
       "    )\n",
       "    (branch_pool): BasicConv1d(\n",
       "      (conv): Conv1d(128, 128, kernel_size=(1,), stride=(1,), bias=False)\n",
       "      (bn): BatchNorm1d(128, eps=0.001, momentum=0.1, affine=True, track_running_stats=True)\n",
       "    )\n",
       "  )\n",
       "  (SE_Block): SE_Block(\n",
       "    (squeeze): AdaptiveAvgPool1d(output_size=1)\n",
       "    (excitation): Sequential(\n",
       "      (0): Linear(in_features=928, out_features=58, bias=False)\n",
       "      (1): ReLU(inplace=True)\n",
       "      (2): Linear(in_features=58, out_features=928, bias=False)\n",
       "      (3): Sigmoid()\n",
       "    )\n",
       "  )\n",
       "  (Bi_LSTM): LSTM(928, 128, batch_first=True, bidirectional=True)\n",
       "  (adaptive_pooling): AdaptiveAvgPool1d(output_size=1)\n",
       "  (fc): Linear(in_features=29, out_features=1, bias=True)\n",
       ")"
      ]
     },
     "execution_count": 8,
     "metadata": {},
     "output_type": "execute_result"
    }
   ],
   "source": [
    "check_point = torch.load(r'../input/2nd-solution-reproduce-train-part/2nd_model_best.pth')\n",
    "model = MyModel()\n",
    "model.load_state_dict(check_point['model'])\n",
    "model.to(CFG.device)"
   ]
  },
  {
   "cell_type": "code",
   "execution_count": 9,
   "metadata": {
    "execution": {
     "iopub.execute_input": "2021-03-15T03:00:11.950318Z",
     "iopub.status.busy": "2021-03-15T03:00:11.948651Z",
     "iopub.status.idle": "2021-03-15T03:00:11.950871Z",
     "shell.execute_reply": "2021-03-15T03:00:11.951270Z"
    },
    "papermill": {
     "duration": 0.016701,
     "end_time": "2021-03-15T03:00:11.951388",
     "exception": false,
     "start_time": "2021-03-15T03:00:11.934687",
     "status": "completed"
    },
    "tags": []
   },
   "outputs": [],
   "source": [
    "def inference(model, test):\n",
    "    test_dataset = INGVDataset(test, CFG.DATA_ROOT, output_label=False)\n",
    "    test_loader = DataLoader(test_dataset, batch_size=CFG.batch_size, num_workers=CFG.num_workers, shuffle=False)\n",
    "    model.eval()\n",
    "    preds = []\n",
    "    for image in tqdm(test_loader):\n",
    "        image = image.to(CFG.device)\n",
    "        preds.append(model(image).detach().to('cpu').numpy()*time2eruption_mean)\n",
    "    preds = np.concatenate(preds)\n",
    "    \n",
    "    return preds"
   ]
  },
  {
   "cell_type": "code",
   "execution_count": 10,
   "metadata": {
    "execution": {
     "iopub.execute_input": "2021-03-15T03:00:11.972590Z",
     "iopub.status.busy": "2021-03-15T03:00:11.972045Z",
     "iopub.status.idle": "2021-03-15T03:01:01.815627Z",
     "shell.execute_reply": "2021-03-15T03:01:01.816828Z"
    },
    "papermill": {
     "duration": 49.857219,
     "end_time": "2021-03-15T03:01:01.817075",
     "exception": false,
     "start_time": "2021-03-15T03:00:11.959856",
     "status": "completed"
    },
    "tags": []
   },
   "outputs": [
    {
     "name": "stderr",
     "output_type": "stream",
     "text": [
      "100%|██████████| 36/36 [00:49<00:00,  1.38s/it]\n"
     ]
    }
   ],
   "source": [
    "preds = inference(model, test)"
   ]
  },
  {
   "cell_type": "code",
   "execution_count": 11,
   "metadata": {
    "execution": {
     "iopub.execute_input": "2021-03-15T03:01:01.897300Z",
     "iopub.status.busy": "2021-03-15T03:01:01.896537Z",
     "iopub.status.idle": "2021-03-15T03:01:01.899882Z",
     "shell.execute_reply": "2021-03-15T03:01:01.900467Z"
    },
    "papermill": {
     "duration": 0.042043,
     "end_time": "2021-03-15T03:01:01.900668",
     "exception": false,
     "start_time": "2021-03-15T03:01:01.858625",
     "status": "completed"
    },
    "tags": []
   },
   "outputs": [],
   "source": [
    "test['time_to_eruption'] = preds"
   ]
  },
  {
   "cell_type": "code",
   "execution_count": 12,
   "metadata": {
    "execution": {
     "iopub.execute_input": "2021-03-15T03:01:01.983942Z",
     "iopub.status.busy": "2021-03-15T03:01:01.983165Z",
     "iopub.status.idle": "2021-03-15T03:01:02.221293Z",
     "shell.execute_reply": "2021-03-15T03:01:02.220423Z"
    },
    "papermill": {
     "duration": 0.289961,
     "end_time": "2021-03-15T03:01:02.221465",
     "exception": false,
     "start_time": "2021-03-15T03:01:01.931504",
     "status": "completed"
    },
    "tags": []
   },
   "outputs": [],
   "source": [
    "test.to_csv('submission.csv', index=None)"
   ]
  },
  {
   "cell_type": "code",
   "execution_count": null,
   "metadata": {
    "papermill": {
     "duration": 0.030072,
     "end_time": "2021-03-15T03:01:02.282201",
     "exception": false,
     "start_time": "2021-03-15T03:01:02.252129",
     "status": "completed"
    },
    "tags": []
   },
   "outputs": [],
   "source": []
  }
 ],
 "metadata": {
  "kernelspec": {
   "display_name": "Python 3",
   "language": "python",
   "name": "python3"
  },
  "language_info": {
   "codemirror_mode": {
    "name": "ipython",
    "version": 3
   },
   "file_extension": ".py",
   "mimetype": "text/x-python",
   "name": "python",
   "nbconvert_exporter": "python",
   "pygments_lexer": "ipython3",
   "version": "3.7.9"
  },
  "papermill": {
   "default_parameters": {},
   "duration": 65.691395,
   "end_time": "2021-03-15T03:01:04.858103",
   "environment_variables": {},
   "exception": null,
   "input_path": "__notebook__.ipynb",
   "output_path": "__notebook__.ipynb",
   "parameters": {},
   "start_time": "2021-03-15T02:59:59.166708",
   "version": "2.2.2"
  }
 },
 "nbformat": 4,
 "nbformat_minor": 4
}

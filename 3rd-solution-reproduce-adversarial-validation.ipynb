{
 "cells": [
  {
   "cell_type": "code",
   "execution_count": 1,
   "metadata": {
    "execution": {
     "iopub.execute_input": "2021-03-15T02:31:44.666890Z",
     "iopub.status.busy": "2021-03-15T02:31:44.665349Z",
     "iopub.status.idle": "2021-03-15T02:31:46.104700Z",
     "shell.execute_reply": "2021-03-15T02:31:46.103874Z"
    },
    "papermill": {
     "duration": 1.449786,
     "end_time": "2021-03-15T02:31:46.104923",
     "exception": false,
     "start_time": "2021-03-15T02:31:44.655137",
     "status": "completed"
    },
    "tags": []
   },
   "outputs": [
    {
     "data": {
      "text/html": [
       "<style type='text/css'>\n",
       ".datatable table.frame { margin-bottom: 0; }\n",
       ".datatable table.frame thead { border-bottom: none; }\n",
       ".datatable table.frame tr.coltypes td {  color: #FFFFFF;  line-height: 6px;  padding: 0 0.5em;}\n",
       ".datatable .bool    { background: #DDDD99; }\n",
       ".datatable .object  { background: #565656; }\n",
       ".datatable .int     { background: #5D9E5D; }\n",
       ".datatable .float   { background: #4040CC; }\n",
       ".datatable .str     { background: #CC4040; }\n",
       ".datatable .row_index {  background: var(--jp-border-color3);  border-right: 1px solid var(--jp-border-color0);  color: var(--jp-ui-font-color3);  font-size: 9px;}\n",
       ".datatable .frame tr.coltypes .row_index {  background: var(--jp-border-color0);}\n",
       ".datatable th:nth-child(2) { padding-left: 12px; }\n",
       ".datatable .hellipsis {  color: var(--jp-cell-editor-border-color);}\n",
       ".datatable .vellipsis {  background: var(--jp-layout-color0);  color: var(--jp-cell-editor-border-color);}\n",
       ".datatable .na {  color: var(--jp-cell-editor-border-color);  font-size: 80%;}\n",
       ".datatable .footer { font-size: 9px; }\n",
       ".datatable .frame_dimensions {  background: var(--jp-border-color3);  border-top: 1px solid var(--jp-border-color0);  color: var(--jp-ui-font-color3);  display: inline-block;  opacity: 0.6;  padding: 1px 10px 1px 5px;}\n",
       "</style>\n"
      ],
      "text/plain": [
       "<IPython.core.display.HTML object>"
      ]
     },
     "metadata": {},
     "output_type": "display_data"
    }
   ],
   "source": [
    "import numpy as np\n",
    "import pandas as pd\n",
    "import lightgbm as lgb\n",
    "import seaborn as sns"
   ]
  },
  {
   "cell_type": "code",
   "execution_count": 2,
   "metadata": {
    "execution": {
     "iopub.execute_input": "2021-03-15T02:31:46.124664Z",
     "iopub.status.busy": "2021-03-15T02:31:46.123817Z",
     "iopub.status.idle": "2021-03-15T02:31:50.084799Z",
     "shell.execute_reply": "2021-03-15T02:31:50.085535Z"
    },
    "papermill": {
     "duration": 3.973004,
     "end_time": "2021-03-15T02:31:50.085768",
     "exception": false,
     "start_time": "2021-03-15T02:31:46.112764",
     "status": "completed"
    },
    "tags": []
   },
   "outputs": [],
   "source": [
    "train = pd.read_pickle(r'../input/tree-model-with-time-and-freq-domain-feature/train.pkl')\n",
    "test = pd.read_pickle(r'../input/tree-model-with-time-and-freq-domain-feature/test.pkl')"
   ]
  },
  {
   "cell_type": "code",
   "execution_count": 3,
   "metadata": {
    "execution": {
     "iopub.execute_input": "2021-03-15T02:31:50.207751Z",
     "iopub.status.busy": "2021-03-15T02:31:50.206547Z",
     "iopub.status.idle": "2021-03-15T02:31:50.244481Z",
     "shell.execute_reply": "2021-03-15T02:31:50.243810Z"
    },
    "papermill": {
     "duration": 0.151171,
     "end_time": "2021-03-15T02:31:50.244647",
     "exception": false,
     "start_time": "2021-03-15T02:31:50.093476",
     "status": "completed"
    },
    "tags": []
   },
   "outputs": [
    {
     "data": {
      "text/html": [
       "<div>\n",
       "<style scoped>\n",
       "    .dataframe tbody tr th:only-of-type {\n",
       "        vertical-align: middle;\n",
       "    }\n",
       "\n",
       "    .dataframe tbody tr th {\n",
       "        vertical-align: top;\n",
       "    }\n",
       "\n",
       "    .dataframe thead th {\n",
       "        text-align: right;\n",
       "    }\n",
       "</style>\n",
       "<table border=\"1\" class=\"dataframe\">\n",
       "  <thead>\n",
       "    <tr style=\"text-align: right;\">\n",
       "      <th></th>\n",
       "      <th>segment_id</th>\n",
       "      <th>time_to_eruption</th>\n",
       "      <th>sensor_1_mean</th>\n",
       "      <th>sensor_2_mean</th>\n",
       "      <th>sensor_3_mean</th>\n",
       "      <th>sensor_4_mean</th>\n",
       "      <th>sensor_5_mean</th>\n",
       "      <th>sensor_6_mean</th>\n",
       "      <th>sensor_7_mean</th>\n",
       "      <th>sensor_8_mean</th>\n",
       "      <th>...</th>\n",
       "      <th>sensor_10_A_pow</th>\n",
       "      <th>sensor_10_A_num</th>\n",
       "      <th>sensor_10_BH_pow</th>\n",
       "      <th>sensor_10_BH_num</th>\n",
       "      <th>sensor_10_BL_pow</th>\n",
       "      <th>sensor_10_BL_num</th>\n",
       "      <th>sensor_10_C_pow</th>\n",
       "      <th>sensor_10_C_num</th>\n",
       "      <th>sensor_10_D_pow</th>\n",
       "      <th>sensor_10_D_num</th>\n",
       "    </tr>\n",
       "  </thead>\n",
       "  <tbody>\n",
       "    <tr>\n",
       "      <th>0</th>\n",
       "      <td>1000213997</td>\n",
       "      <td>0</td>\n",
       "      <td>4.462476</td>\n",
       "      <td>NaN</td>\n",
       "      <td>3.584690</td>\n",
       "      <td>-3.677255</td>\n",
       "      <td>0.932501</td>\n",
       "      <td>-0.119815</td>\n",
       "      <td>-0.801103</td>\n",
       "      <td>-0.580557</td>\n",
       "      <td>...</td>\n",
       "      <td>0.000000</td>\n",
       "      <td>12220.0</td>\n",
       "      <td>0.000000</td>\n",
       "      <td>3290.0</td>\n",
       "      <td>0.000000</td>\n",
       "      <td>940.0</td>\n",
       "      <td>0.000000</td>\n",
       "      <td>470.0</td>\n",
       "      <td>0.000000</td>\n",
       "      <td>2350.0</td>\n",
       "    </tr>\n",
       "    <tr>\n",
       "      <th>1</th>\n",
       "      <td>100023368</td>\n",
       "      <td>0</td>\n",
       "      <td>0.838103</td>\n",
       "      <td>NaN</td>\n",
       "      <td>1.009217</td>\n",
       "      <td>-0.757037</td>\n",
       "      <td>0.340894</td>\n",
       "      <td>1.764721</td>\n",
       "      <td>-8.099515</td>\n",
       "      <td>1.104198</td>\n",
       "      <td>...</td>\n",
       "      <td>0.000000</td>\n",
       "      <td>0.0</td>\n",
       "      <td>75226.889831</td>\n",
       "      <td>1254.0</td>\n",
       "      <td>98537.747734</td>\n",
       "      <td>865.0</td>\n",
       "      <td>51207.652288</td>\n",
       "      <td>437.0</td>\n",
       "      <td>235808.139324</td>\n",
       "      <td>2130.0</td>\n",
       "    </tr>\n",
       "    <tr>\n",
       "      <th>2</th>\n",
       "      <td>1000488999</td>\n",
       "      <td>0</td>\n",
       "      <td>0.794903</td>\n",
       "      <td>-4.740871</td>\n",
       "      <td>2.116098</td>\n",
       "      <td>-0.380610</td>\n",
       "      <td>NaN</td>\n",
       "      <td>12.569107</td>\n",
       "      <td>1.533874</td>\n",
       "      <td>2.943134</td>\n",
       "      <td>...</td>\n",
       "      <td>0.000000</td>\n",
       "      <td>12220.0</td>\n",
       "      <td>0.000000</td>\n",
       "      <td>3290.0</td>\n",
       "      <td>0.000000</td>\n",
       "      <td>940.0</td>\n",
       "      <td>0.000000</td>\n",
       "      <td>470.0</td>\n",
       "      <td>0.000000</td>\n",
       "      <td>2350.0</td>\n",
       "    </tr>\n",
       "    <tr>\n",
       "      <th>3</th>\n",
       "      <td>1001028887</td>\n",
       "      <td>0</td>\n",
       "      <td>1.953717</td>\n",
       "      <td>NaN</td>\n",
       "      <td>0.404360</td>\n",
       "      <td>-0.522891</td>\n",
       "      <td>-0.576881</td>\n",
       "      <td>-1.218796</td>\n",
       "      <td>-1.544341</td>\n",
       "      <td>1.841369</td>\n",
       "      <td>...</td>\n",
       "      <td>0.000000</td>\n",
       "      <td>12220.0</td>\n",
       "      <td>0.000000</td>\n",
       "      <td>3290.0</td>\n",
       "      <td>0.000000</td>\n",
       "      <td>940.0</td>\n",
       "      <td>0.000000</td>\n",
       "      <td>470.0</td>\n",
       "      <td>0.000000</td>\n",
       "      <td>2350.0</td>\n",
       "    </tr>\n",
       "    <tr>\n",
       "      <th>4</th>\n",
       "      <td>1001857862</td>\n",
       "      <td>0</td>\n",
       "      <td>-3.984584</td>\n",
       "      <td>-3.306728</td>\n",
       "      <td>0.898585</td>\n",
       "      <td>-2.389910</td>\n",
       "      <td>-0.001767</td>\n",
       "      <td>2.661156</td>\n",
       "      <td>0.937434</td>\n",
       "      <td>1.873502</td>\n",
       "      <td>...</td>\n",
       "      <td>2422.908929</td>\n",
       "      <td>53.0</td>\n",
       "      <td>110397.073637</td>\n",
       "      <td>1609.0</td>\n",
       "      <td>86562.863146</td>\n",
       "      <td>825.0</td>\n",
       "      <td>36972.642171</td>\n",
       "      <td>410.0</td>\n",
       "      <td>236747.975470</td>\n",
       "      <td>2110.0</td>\n",
       "    </tr>\n",
       "  </tbody>\n",
       "</table>\n",
       "<p>5 rows × 4792 columns</p>\n",
       "</div>"
      ],
      "text/plain": [
       "   segment_id  time_to_eruption  sensor_1_mean  sensor_2_mean  sensor_3_mean  \\\n",
       "0  1000213997                 0       4.462476            NaN       3.584690   \n",
       "1   100023368                 0       0.838103            NaN       1.009217   \n",
       "2  1000488999                 0       0.794903      -4.740871       2.116098   \n",
       "3  1001028887                 0       1.953717            NaN       0.404360   \n",
       "4  1001857862                 0      -3.984584      -3.306728       0.898585   \n",
       "\n",
       "   sensor_4_mean  sensor_5_mean  sensor_6_mean  sensor_7_mean  sensor_8_mean  \\\n",
       "0      -3.677255       0.932501      -0.119815      -0.801103      -0.580557   \n",
       "1      -0.757037       0.340894       1.764721      -8.099515       1.104198   \n",
       "2      -0.380610            NaN      12.569107       1.533874       2.943134   \n",
       "3      -0.522891      -0.576881      -1.218796      -1.544341       1.841369   \n",
       "4      -2.389910      -0.001767       2.661156       0.937434       1.873502   \n",
       "\n",
       "   ...  sensor_10_A_pow  sensor_10_A_num  sensor_10_BH_pow  sensor_10_BH_num  \\\n",
       "0  ...         0.000000          12220.0          0.000000            3290.0   \n",
       "1  ...         0.000000              0.0      75226.889831            1254.0   \n",
       "2  ...         0.000000          12220.0          0.000000            3290.0   \n",
       "3  ...         0.000000          12220.0          0.000000            3290.0   \n",
       "4  ...      2422.908929             53.0     110397.073637            1609.0   \n",
       "\n",
       "   sensor_10_BL_pow  sensor_10_BL_num  sensor_10_C_pow  sensor_10_C_num  \\\n",
       "0          0.000000             940.0         0.000000            470.0   \n",
       "1      98537.747734             865.0     51207.652288            437.0   \n",
       "2          0.000000             940.0         0.000000            470.0   \n",
       "3          0.000000             940.0         0.000000            470.0   \n",
       "4      86562.863146             825.0     36972.642171            410.0   \n",
       "\n",
       "   sensor_10_D_pow  sensor_10_D_num  \n",
       "0         0.000000           2350.0  \n",
       "1    235808.139324           2130.0  \n",
       "2         0.000000           2350.0  \n",
       "3         0.000000           2350.0  \n",
       "4    236747.975470           2110.0  \n",
       "\n",
       "[5 rows x 4792 columns]"
      ]
     },
     "execution_count": 3,
     "metadata": {},
     "output_type": "execute_result"
    }
   ],
   "source": [
    "test.head()"
   ]
  },
  {
   "cell_type": "code",
   "execution_count": 4,
   "metadata": {
    "execution": {
     "iopub.execute_input": "2021-03-15T02:31:50.270163Z",
     "iopub.status.busy": "2021-03-15T02:31:50.268802Z",
     "iopub.status.idle": "2021-03-15T02:32:54.529737Z",
     "shell.execute_reply": "2021-03-15T02:32:54.530238Z"
    },
    "papermill": {
     "duration": 64.278781,
     "end_time": "2021-03-15T02:32:54.530555",
     "exception": false,
     "start_time": "2021-03-15T02:31:50.251774",
     "status": "completed"
    },
    "tags": []
   },
   "outputs": [
    {
     "data": {
      "text/plain": [
       "LGBMClassifier()"
      ]
     },
     "execution_count": 4,
     "metadata": {},
     "output_type": "execute_result"
    }
   ],
   "source": [
    "## adversarial validation\n",
    "train['ad_valid'] = 0\n",
    "test['ad_valid'] = 1\n",
    "data = pd.concat([train, test], axis=0)\n",
    "# shuffle\n",
    "data = data.sample(frac=1).reset_index(drop=True)\n",
    "params = {}\n",
    "model_adv = lgb.LGBMClassifier(**params)\n",
    "model_adv.fit(data.drop(['ad_valid', 'segment_id', 'time_to_eruption'], \n",
    "                        axis=1), data.loc[:, 'ad_valid'])"
   ]
  },
  {
   "cell_type": "code",
   "execution_count": 5,
   "metadata": {
    "execution": {
     "iopub.execute_input": "2021-03-15T02:32:54.604117Z",
     "iopub.status.busy": "2021-03-15T02:32:54.603422Z",
     "iopub.status.idle": "2021-03-15T02:32:55.103268Z",
     "shell.execute_reply": "2021-03-15T02:32:55.104207Z"
    },
    "papermill": {
     "duration": 0.566477,
     "end_time": "2021-03-15T02:32:55.104514",
     "exception": false,
     "start_time": "2021-03-15T02:32:54.538037",
     "status": "completed"
    },
    "tags": []
   },
   "outputs": [],
   "source": [
    "test_pred = model_adv.predict_proba(test.drop(['ad_valid', 'segment_id', 'time_to_eruption'], axis=1))"
   ]
  },
  {
   "cell_type": "code",
   "execution_count": 6,
   "metadata": {
    "execution": {
     "iopub.execute_input": "2021-03-15T02:32:55.129737Z",
     "iopub.status.busy": "2021-03-15T02:32:55.128909Z",
     "iopub.status.idle": "2021-03-15T02:32:55.414623Z",
     "shell.execute_reply": "2021-03-15T02:32:55.414051Z"
    },
    "papermill": {
     "duration": 0.301071,
     "end_time": "2021-03-15T02:32:55.414779",
     "exception": false,
     "start_time": "2021-03-15T02:32:55.113708",
     "status": "completed"
    },
    "tags": []
   },
   "outputs": [
    {
     "name": "stderr",
     "output_type": "stream",
     "text": [
      "/opt/conda/lib/python3.7/site-packages/seaborn/distributions.py:2557: FutureWarning: `distplot` is a deprecated function and will be removed in a future version. Please adapt your code to use either `displot` (a figure-level function with similar flexibility) or `histplot` (an axes-level function for histograms).\n",
      "  warnings.warn(msg, FutureWarning)\n"
     ]
    },
    {
     "data": {
      "text/plain": [
       "<AxesSubplot:ylabel='Density'>"
      ]
     },
     "execution_count": 6,
     "metadata": {},
     "output_type": "execute_result"
    },
    {
     "data": {
      "image/png": "[encoded data removed]",
      "text/plain": [
       "<Figure size 432x288 with 1 Axes>"
      ]
     },
     "metadata": {
      "needs_background": "light"
     },
     "output_type": "display_data"
    }
   ],
   "source": [
    "# distribution\n",
    "# 2 types as https://www.kaggle.com/c/predict-volcanic-eruptions-ingv-oe/discussion/215463\n",
    "sns.distplot(test_pred[:, 1])"
   ]
  }
 ],
 "metadata": {
  "kernelspec": {
   "display_name": "Python 3",
   "language": "python",
   "name": "python3"
  },
  "language_info": {
   "codemirror_mode": {
    "name": "ipython",
    "version": 3
   },
   "file_extension": ".py",
   "mimetype": "text/x-python",
   "name": "python",
   "nbconvert_exporter": "python",
   "pygments_lexer": "ipython3",
   "version": "3.7.9"
  },
  "papermill": {
   "default_parameters": {},
   "duration": 78.148217,
   "end_time": "2021-03-15T02:32:56.135670",
   "environment_variables": {},
   "exception": null,
   "input_path": "__notebook__.ipynb",
   "output_path": "__notebook__.ipynb",
   "parameters": {},
   "start_time": "2021-03-15T02:31:37.987453",
   "version": "2.2.2"
  }
 },
 "nbformat": 4,
 "nbformat_minor": 4
}

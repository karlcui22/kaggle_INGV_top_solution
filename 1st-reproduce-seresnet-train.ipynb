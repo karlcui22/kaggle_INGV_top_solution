{
 "cells": [
  {
   "cell_type": "code",
   "execution_count": 1,
   "metadata": {
    "execution": {
     "iopub.execute_input": "2021-03-08T02:54:27.141121Z",
     "iopub.status.busy": "2021-03-08T02:54:27.140184Z",
     "iopub.status.idle": "2021-03-08T02:54:27.143459Z",
     "shell.execute_reply": "2021-03-08T02:54:27.142823Z"
    },
    "papermill": {
     "duration": 0.024125,
     "end_time": "2021-03-08T02:54:27.143650",
     "exception": false,
     "start_time": "2021-03-08T02:54:27.119525",
     "status": "completed"
    },
    "tags": []
   },
   "outputs": [],
   "source": [
    "# v1: lr = 5e-1;  factor=0.3, patience=5,\n",
    "# v2: lr = 1e-1;  factor=0.3, patience=5,\n",
    "# v3: lr = 8e-1;  factor=0.3, patience=5, 没改上\n",
    "# v4: lr = 8e-1;  factor=0.3, patience=5,\n",
    "# v5: lr = 1.5;  factor=0.2, patience=5,\n",
    "# v6: lr = 8e-1;  cosnealling warm\n",
    "# v7: 'seresnet152d' lr=8e-1 factor=0.3, patience=5\n",
    "# v8: 'seresnet152d' lr=1e-1 factor=0.3, patience=5\n",
    "# v11: 'seresnet152d' lr=1 factor=0.3, patience=5\n",
    "# v12: 'seresnet152d' lr=1.5 factor=0.3, patience=5\n",
    "# v13: normalize( *std + mean) label lr=1e-4\n",
    "# v14: normalize(/mean) label lr=1e-4"
   ]
  },
  {
   "cell_type": "code",
   "execution_count": 2,
   "metadata": {
    "execution": {
     "iopub.execute_input": "2021-03-08T02:54:27.178720Z",
     "iopub.status.busy": "2021-03-08T02:54:27.178003Z",
     "iopub.status.idle": "2021-03-08T02:54:30.149687Z",
     "shell.execute_reply": "2021-03-08T02:54:30.148375Z"
    },
    "papermill": {
     "duration": 2.992084,
     "end_time": "2021-03-08T02:54:30.149832",
     "exception": false,
     "start_time": "2021-03-08T02:54:27.157748",
     "status": "completed"
    },
    "tags": []
   },
   "outputs": [],
   "source": [
    "import numpy as np\n",
    "import pandas as pd\n",
    "import os\n",
    "from sklearn.model_selection import train_test_split\n",
    "import torch\n",
    "import time\n",
    "import copy\n",
    "import sys\n",
    "sys.path.append(r'../input/pytorch-image-models/pytorch-image-models-master/')\n",
    "import timm\n",
    "import torch\n",
    "import torch.nn as nn\n",
    "import random\n",
    "import torch.nn.functional as F\n",
    "from torch.utils.data import Dataset, DataLoader\n",
    "from torch.optim.lr_scheduler import CosineAnnealingLR, CosineAnnealingWarmRestarts, ReduceLROnPlateau\n",
    "from sklearn.metrics import mean_absolute_error\n",
    "from logging import getLogger, INFO, FileHandler, Formatter, StreamHandler"
   ]
  },
  {
   "cell_type": "markdown",
   "metadata": {
    "papermill": {
     "duration": 0.014223,
     "end_time": "2021-03-08T02:54:30.178436",
     "exception": false,
     "start_time": "2021-03-08T02:54:30.164213",
     "status": "completed"
    },
    "tags": []
   },
   "source": [
    "## CFG"
   ]
  },
  {
   "cell_type": "code",
   "execution_count": 3,
   "metadata": {
    "execution": {
     "iopub.execute_input": "2021-03-08T02:54:30.588473Z",
     "iopub.status.busy": "2021-03-08T02:54:30.587518Z",
     "iopub.status.idle": "2021-03-08T02:54:30.592323Z",
     "shell.execute_reply": "2021-03-08T02:54:30.591324Z"
    },
    "papermill": {
     "duration": 0.400279,
     "end_time": "2021-03-08T02:54:30.592489",
     "exception": false,
     "start_time": "2021-03-08T02:54:30.192210",
     "status": "completed"
    },
    "tags": []
   },
   "outputs": [],
   "source": [
    "# ====================================================\n",
    "# CFG\n",
    "# ====================================================\n",
    "class CFG:\n",
    "    \n",
    "    # 路径\n",
    "    OUTPUT_DIR = './'\n",
    "    DATA_ROOT = '../input/1st-reproduce-mel-spectrogram/train'\n",
    "    \n",
    "    model_name='seresnet152d'#'resnext50_32x4d'\n",
    "    target_size = 1\n",
    "    seed = 22\n",
    "    split_ratio = 0.33\n",
    "    num_workers = 1\n",
    "    epochs = 300\n",
    "    EARLY_STOP = True\n",
    "    early_stop = 20\n",
    "    lr = 1e-4\n",
    "    min_lr = 1e-5\n",
    "    weight_decay = 1e-6\n",
    "    batch_size = 32\n",
    "    \n",
    "    scheduler='ReduceLROnPlateau'#'CosineAnnealingWarmRestarts'#\n",
    "    target_col = 'time_to_eruption_normalize'\n",
    "    # for warm start\n",
    "    T_0 = 10\n",
    "    # for normal cosine\n",
    "    T_max = 10\n",
    "    \n",
    "    gradient_accumulation_steps=1\n",
    "    max_grad_norm = 1000\n",
    "    print_freq = 20\n",
    "    \n",
    "    device = torch.device('cuda' if torch.cuda.is_available() else 'cpu')"
   ]
  },
  {
   "cell_type": "code",
   "execution_count": 4,
   "metadata": {
    "execution": {
     "iopub.execute_input": "2021-03-08T02:54:30.629155Z",
     "iopub.status.busy": "2021-03-08T02:54:30.627466Z",
     "iopub.status.idle": "2021-03-08T02:54:30.630222Z",
     "shell.execute_reply": "2021-03-08T02:54:30.630736Z"
    },
    "papermill": {
     "duration": 0.02361,
     "end_time": "2021-03-08T02:54:30.630894",
     "exception": false,
     "start_time": "2021-03-08T02:54:30.607284",
     "status": "completed"
    },
    "tags": []
   },
   "outputs": [],
   "source": [
    "def seed_everything(seed):\n",
    "    random.seed(seed)\n",
    "    os.environ['PYTHONHASHSEED'] = str(seed)\n",
    "    np.random.seed(seed)\n",
    "    torch.manual_seed(seed)\n",
    "    torch.cuda.manual_seed(seed)\n",
    "    torch.backends.cudnn.deterministic = True\n",
    "    torch.backends.cudnn.benchmark = True"
   ]
  },
  {
   "cell_type": "code",
   "execution_count": 5,
   "metadata": {
    "execution": {
     "iopub.execute_input": "2021-03-08T02:54:30.664023Z",
     "iopub.status.busy": "2021-03-08T02:54:30.663245Z",
     "iopub.status.idle": "2021-03-08T02:54:30.669032Z",
     "shell.execute_reply": "2021-03-08T02:54:30.668516Z"
    },
    "papermill": {
     "duration": 0.024001,
     "end_time": "2021-03-08T02:54:30.669157",
     "exception": false,
     "start_time": "2021-03-08T02:54:30.645156",
     "status": "completed"
    },
    "tags": []
   },
   "outputs": [],
   "source": [
    "seed_everything(CFG.seed)"
   ]
  },
  {
   "cell_type": "code",
   "execution_count": 6,
   "metadata": {
    "execution": {
     "iopub.execute_input": "2021-03-08T02:54:30.706401Z",
     "iopub.status.busy": "2021-03-08T02:54:30.705633Z",
     "iopub.status.idle": "2021-03-08T02:54:30.709844Z",
     "shell.execute_reply": "2021-03-08T02:54:30.709307Z"
    },
    "papermill": {
     "duration": 0.02645,
     "end_time": "2021-03-08T02:54:30.709995",
     "exception": false,
     "start_time": "2021-03-08T02:54:30.683545",
     "status": "completed"
    },
    "tags": []
   },
   "outputs": [],
   "source": [
    "# model_name设置\n",
    "# resnet: 'resnet50'\n",
    "# resnext: 'resnext50_32x4d'\n",
    "# resnest: 'resnest50d'\n",
    "# seresnet: 'seresnet50'\n",
    "\n",
    "class MyResNet(nn.Module):\n",
    "    def __init__(self, target_size, model_name, pretrained=False):\n",
    "        super(MyResNet, self).__init__()\n",
    "        self.model = timm.create_model(model_name, pretrained=pretrained)\n",
    "        self.model.conv1 = nn.Conv2d(10, 64, kernel_size=(7, 7), stride=(2, 2), padding=(3, 3), bias=False)\n",
    "        n_features = self.model.fc.in_features\n",
    "        # 改成自己任务的图像类别数\n",
    "        self.model.fc = nn.Linear(n_features, target_size)\n",
    "\n",
    "    def forward(self, x):\n",
    "        x = self.model(x)\n",
    "        return x"
   ]
  },
  {
   "cell_type": "code",
   "execution_count": 7,
   "metadata": {
    "execution": {
     "iopub.execute_input": "2021-03-08T02:54:30.748815Z",
     "iopub.status.busy": "2021-03-08T02:54:30.748085Z",
     "iopub.status.idle": "2021-03-08T02:54:31.139021Z",
     "shell.execute_reply": "2021-03-08T02:54:31.137837Z"
    },
    "papermill": {
     "duration": 0.414514,
     "end_time": "2021-03-08T02:54:31.139207",
     "exception": false,
     "start_time": "2021-03-08T02:54:30.724693",
     "status": "completed"
    },
    "tags": []
   },
   "outputs": [],
   "source": [
    "# train valid split\n",
    "file = os.listdir(r'../input/1st-reproduce-mel-spectrogram/train')\n",
    "\n",
    "X_train, X_test, y_train, y_test = train_test_split(np.arange(len(file)).reshape(-1,1), \n",
    "                                                    np.arange(len(file)).reshape(-1,1), test_size=CFG.split_ratio, random_state=CFG.seed)\n",
    "\n",
    "# train和valid的file名字\n",
    "# train_file = [file[i] for i in X_train.ravel().astype(int)]\n",
    "# valid_file = [file[i] for i in X_test.ravel().astype(int)]\n",
    "\n",
    "# # id2filename的字典，用于快速索引\n",
    "# trainidx2file = dict(zip(list(range(len(train_file))), train_file))\n",
    "# valididx2file = dict(zip(list(range(len(valid_file))), valid_file))\n",
    "\n",
    "df = pd.read_csv(r'../input/predict-volcanic-eruptions-ingv-oe/train.csv')\n",
    "time2eruption_mean = df['time_to_eruption'].mean()\n",
    "# time2eruption_std = df['time_to_eruption'].std()\n",
    "# df['time_to_eruption_normalize'] = (df['time_to_eruption'] - time2eruption_mean) / time2eruption_std\n",
    "df['time_to_eruption_normalize'] = df['time_to_eruption'] / time2eruption_mean\n",
    "# # segmentid\n",
    "# train_name = [int(i[:-9]) for i in train_file]\n",
    "# valid_name = [int(i[:-9]) for i in valid_file]\n",
    "\n",
    "# segment_id和time组成的两列，target df\n",
    "train_df = df.loc[X_train.ravel()].reset_index(drop=True)\n",
    "valid_df = df.loc[X_test.ravel()].reset_index(drop=True)\n",
    "# # train_df = df.loc[df['segment_id'].isin(train_name)].reset_index(drop=True)\n",
    "# # valid_df = df.loc[df['segment_id'].isin(valid_name)].reset_index(drop=True)\n",
    "\n",
    "# tmp1 = pd.DataFrame({'idx': trainidx2file.keys(), 'file': trainidx2file.values()})\n",
    "# tmp1['segment_id'] = tmp1['file'].map(lambda x: int(x[:-9]))\n",
    "\n",
    "# tmp2 = pd.DataFrame({'idx': valididx2file.keys(), 'file': valididx2file.values()})\n",
    "# tmp2['segment_id'] = tmp2['file'].map(lambda x: int(x[:-9]))\n",
    "\n",
    "# train_df = pd.merge(train_df, tmp1, on='segment_id', how='left')\n",
    "# valid_df = pd.merge(valid_df, tmp2, on='segment_id', how='left')\n",
    "\n",
    "# train_df.sort_values(by='idx', ascending=True, inplace=True)\n",
    "# valid_df.sort_values(by='idx', ascending=True, inplace=True)\n",
    "\n",
    "# # idx 对应的 df\n",
    "# train_df = train_df[['segment_id', 'time_to_eruption']].reset_index(drop=True)\n",
    "# valid_df = valid_df[['segment_id', 'time_to_eruption']].reset_index(drop=True)"
   ]
  },
  {
   "cell_type": "code",
   "execution_count": 8,
   "metadata": {
    "execution": {
     "iopub.execute_input": "2021-03-08T02:54:31.208445Z",
     "iopub.status.busy": "2021-03-08T02:54:31.205037Z",
     "iopub.status.idle": "2021-03-08T02:54:31.216507Z",
     "shell.execute_reply": "2021-03-08T02:54:31.217955Z"
    },
    "papermill": {
     "duration": 0.052871,
     "end_time": "2021-03-08T02:54:31.218191",
     "exception": false,
     "start_time": "2021-03-08T02:54:31.165320",
     "status": "completed"
    },
    "tags": []
   },
   "outputs": [],
   "source": [
    "class INGVDataset(Dataset):\n",
    "    def __init__(self, df, data_root, transforms=None, output_label=True):\n",
    "        super().__init__()\n",
    "        self.df = df\n",
    "        self.data_root = data_root\n",
    "        self.transforms = transforms\n",
    "        self.output_label = output_label\n",
    "    \n",
    "    def __len__(self):\n",
    "        return self.df.shape[0]\n",
    "    \n",
    "    def __getitem__(self, index: int):\n",
    "        \n",
    "        # get labels\n",
    "        if self.output_label:\n",
    "            #target = self.df.iloc[index]['label']\n",
    "            target = [self.df.loc[index, 'time_to_eruption_normalize'].astype('float32')]\n",
    "          \n",
    "        path = os.path.join(self.data_root, str(self.df.loc[index, 'segment_id'])+'-spec.npz')\n",
    "        \n",
    "        # (10, 256, 256)\n",
    "        img = np.load(path)['arr_0'].astype('float32')\n",
    "            \n",
    "        # do label smoothing\n",
    "        if self.output_label == True:\n",
    "            return torch.tensor(img), torch.tensor(target)\n",
    "        else:\n",
    "            return torch.tensor(img)"
   ]
  },
  {
   "cell_type": "code",
   "execution_count": 9,
   "metadata": {
    "execution": {
     "iopub.execute_input": "2021-03-08T02:54:31.282969Z",
     "iopub.status.busy": "2021-03-08T02:54:31.282043Z",
     "iopub.status.idle": "2021-03-08T02:54:31.287175Z",
     "shell.execute_reply": "2021-03-08T02:54:31.288331Z"
    },
    "papermill": {
     "duration": 0.045664,
     "end_time": "2021-03-08T02:54:31.288556",
     "exception": false,
     "start_time": "2021-03-08T02:54:31.242892",
     "status": "completed"
    },
    "tags": []
   },
   "outputs": [],
   "source": [
    "# 记录训练过程\n",
    "class AverageMeter(object):\n",
    "    \"\"\"Computes and stores the average and current value\"\"\"\n",
    "    def __init__(self):\n",
    "        self.reset()\n",
    "\n",
    "    def reset(self):\n",
    "        self.val = 0\n",
    "        self.avg = 0\n",
    "        self.sum = 0\n",
    "        \n",
    "        self.true_val = 0\n",
    "        self.true_avg = 0\n",
    "        self.true_sum = 0\n",
    "        self.count = 0\n",
    "\n",
    "    def update(self, val, n=1):\n",
    "        self.val = val\n",
    "        self.sum += val * n\n",
    "        self.count += n\n",
    "        self.avg = self.sum / self.count\n",
    "        \n",
    "    def true_update(self, val, n=1):\n",
    "        self.true_val = val * time2eruption_mean\n",
    "        self.true_sum += self.true_val * n\n",
    "        self.count += n\n",
    "        self.true_avg = self.true_sum / self.count"
   ]
  },
  {
   "cell_type": "code",
   "execution_count": 10,
   "metadata": {
    "execution": {
     "iopub.execute_input": "2021-03-08T02:54:31.342185Z",
     "iopub.status.busy": "2021-03-08T02:54:31.341106Z",
     "iopub.status.idle": "2021-03-08T02:54:31.346071Z",
     "shell.execute_reply": "2021-03-08T02:54:31.346773Z"
    },
    "papermill": {
     "duration": 0.035627,
     "end_time": "2021-03-08T02:54:31.346989",
     "exception": false,
     "start_time": "2021-03-08T02:54:31.311362",
     "status": "completed"
    },
    "tags": []
   },
   "outputs": [],
   "source": [
    "def asMinutes(s):\n",
    "    m = s // 60\n",
    "    s -= m * 60\n",
    "    return '%dm %ds' % (m, s)\n",
    "\n",
    "def timeSince(since, percent):\n",
    "    now = time.time()\n",
    "    s = now - since\n",
    "    es = s / (percent)\n",
    "    rs = es - s\n",
    "    return '%s (remain %s)' % (asMinutes(s), asMinutes(rs))"
   ]
  },
  {
   "cell_type": "code",
   "execution_count": 11,
   "metadata": {
    "execution": {
     "iopub.execute_input": "2021-03-08T02:54:31.402812Z",
     "iopub.status.busy": "2021-03-08T02:54:31.401902Z",
     "iopub.status.idle": "2021-03-08T02:54:31.428561Z",
     "shell.execute_reply": "2021-03-08T02:54:31.429265Z"
    },
    "papermill": {
     "duration": 0.058576,
     "end_time": "2021-03-08T02:54:31.429463",
     "exception": false,
     "start_time": "2021-03-08T02:54:31.370887",
     "status": "completed"
    },
    "tags": []
   },
   "outputs": [],
   "source": [
    "def train_fn(train_loader, model, epoch, criterion, optimizer, scheduler, device):\n",
    "    batch_time = AverageMeter()\n",
    "    data_time = AverageMeter()\n",
    "    losses = AverageMeter()\n",
    "    scores = AverageMeter()\n",
    "    \n",
    "    # switch to train mode\n",
    "    model.train()\n",
    "    \n",
    "    start = end = time.time()\n",
    "    global_step = 0\n",
    "    for step, (images, labels) in enumerate(train_loader):\n",
    "        # measure data loading time\n",
    "        data_time.update(time.time() - end)\n",
    "        # torch.Size([32, 10, 256, 256])\n",
    "        # print(images.shape)\n",
    "        # torch.Size([32, 1])\n",
    "        # print(labels.shape)\n",
    "        images = images.to(device)\n",
    "        labels = labels.to(device)\n",
    "        batch_size = labels.size(0)\n",
    "        y_preds = model(images)\n",
    "        # torch.Size([32, 1])\n",
    "        # print(y_preds.shape)\n",
    "        loss = criterion(y_preds, labels)\n",
    "        # record loss\n",
    "        losses.update(loss.item(), batch_size)\n",
    "        losses.true_update(loss.item(), batch_size)\n",
    "        if CFG.gradient_accumulation_steps > 1:\n",
    "            loss = loss / CFG.gradient_accumulation_steps\n",
    "        loss.backward()\n",
    "        \n",
    "        grad_norm = torch.nn.utils.clip_grad_norm_(model.parameters(), CFG.max_grad_norm)\n",
    "        if (step + 1) % CFG.gradient_accumulation_steps == 0:\n",
    "            optimizer.step()\n",
    "            optimizer.zero_grad()\n",
    "            global_step += 1\n",
    "            \n",
    "        # measure elapsed time\n",
    "        batch_time.update(time.time() - end)\n",
    "        end = time.time()\n",
    "        \n",
    "        if step % CFG.print_freq == 0 or step == (len(train_loader)-1):\n",
    "            print('Epoch: [{0}][{1}/{2}] '\n",
    "                  'Data {data_time.val:.3f} ({data_time.avg:.3f}) '\n",
    "                  'Elapsed {remain:s} '\n",
    "                  'Loss: {loss.val:.4f}({loss.avg:.4f}) {loss.true_val:.4f}({loss.true_avg:.4f})'\n",
    "                  'Grad: {grad_norm:.4f}  '\n",
    "                  #'LR: {lr:.6f}  '\n",
    "                  .format(\n",
    "                   epoch+1, step, len(train_loader), batch_time=batch_time,\n",
    "                   data_time=data_time, loss=losses,\n",
    "                   remain=timeSince(start, float(step+1)/len(train_loader)),\n",
    "                   grad_norm=grad_norm,\n",
    "                   #lr=scheduler.get_lr()[0],\n",
    "                   ))\n",
    "    return losses.avg\n",
    "\n",
    "\n",
    "def valid_fn(valid_loader, model, criterion, device):\n",
    "    batch_time = AverageMeter()\n",
    "    data_time = AverageMeter()\n",
    "    losses = AverageMeter()\n",
    "    scores = AverageMeter()\n",
    "    # switch to evaluation mode\n",
    "    model.eval()\n",
    "    preds = []\n",
    "    start = end = time.time()\n",
    "    for step, (images, labels) in enumerate(valid_loader):\n",
    "        # measure data loading time\n",
    "        data_time.update(time.time() - end)\n",
    "        images = images.to(device)\n",
    "        labels = labels.to(device)\n",
    "        batch_size = labels.size(0)\n",
    "        # compute loss\n",
    "        with torch.no_grad():\n",
    "            y_preds = model(images)\n",
    "        loss = criterion(y_preds, labels)\n",
    "        losses.update(loss.item(), batch_size)\n",
    "        losses.true_update(loss.item(), batch_size)\n",
    "        # record accuracy\n",
    "        # preds.append(y_preds.softmax(1).to('cpu').numpy())\n",
    "        preds.append(y_preds.to('cpu').numpy())\n",
    "        if CFG.gradient_accumulation_steps > 1:\n",
    "            loss = loss / CFG.gradient_accumulation_steps\n",
    "        # measure elapsed time\n",
    "        batch_time.update(time.time() - end)\n",
    "        end = time.time()\n",
    "        if step % CFG.print_freq == 0 or step == (len(valid_loader)-1):\n",
    "            print('EVAL: [{0}/{1}] '\n",
    "                  'Data {data_time.val:.3f} ({data_time.avg:.3f}) '\n",
    "                  'Elapsed {remain:s} '\n",
    "                  'Loss: {loss.val:.4f}({loss.avg:.4f}) {loss.true_val:.4f}({loss.true_avg:.4f})'\n",
    "                  .format(\n",
    "                   step, len(valid_loader), batch_time=batch_time,\n",
    "                   data_time=data_time, loss=losses,\n",
    "                   remain=timeSince(start, float(step+1)/len(valid_loader)),\n",
    "                   ))\n",
    "    predictions = np.concatenate(preds)\n",
    "    \n",
    "    return losses.avg, predictions"
   ]
  },
  {
   "cell_type": "code",
   "execution_count": 12,
   "metadata": {
    "execution": {
     "iopub.execute_input": "2021-03-08T02:54:31.478670Z",
     "iopub.status.busy": "2021-03-08T02:54:31.477889Z",
     "iopub.status.idle": "2021-03-08T02:54:31.482188Z",
     "shell.execute_reply": "2021-03-08T02:54:31.483543Z"
    },
    "papermill": {
     "duration": 0.033256,
     "end_time": "2021-03-08T02:54:31.483741",
     "exception": false,
     "start_time": "2021-03-08T02:54:31.450485",
     "status": "completed"
    },
    "tags": []
   },
   "outputs": [],
   "source": [
    "def init_logger(log_file=CFG.OUTPUT_DIR+'train.log'):\n",
    "    logger = getLogger(__name__)\n",
    "    logger.setLevel(INFO)\n",
    "    handler1 = StreamHandler()\n",
    "    handler1.setFormatter(Formatter(\"%(message)s\"))\n",
    "    handler2 = FileHandler(filename=log_file)\n",
    "    handler2.setFormatter(Formatter(\"%(message)s\"))\n",
    "    logger.addHandler(handler1)\n",
    "    logger.addHandler(handler2)\n",
    "    return logger"
   ]
  },
  {
   "cell_type": "code",
   "execution_count": 13,
   "metadata": {
    "execution": {
     "iopub.execute_input": "2021-03-08T02:54:31.534846Z",
     "iopub.status.busy": "2021-03-08T02:54:31.533528Z",
     "iopub.status.idle": "2021-03-08T02:54:31.536487Z",
     "shell.execute_reply": "2021-03-08T02:54:31.535707Z"
    },
    "papermill": {
     "duration": 0.03142,
     "end_time": "2021-03-08T02:54:31.536670",
     "exception": false,
     "start_time": "2021-03-08T02:54:31.505250",
     "status": "completed"
    },
    "tags": []
   },
   "outputs": [],
   "source": [
    "def get_score(y_true, y_pred):\n",
    "    return mean_absolute_error(y_true, y_pred)"
   ]
  },
  {
   "cell_type": "code",
   "execution_count": 14,
   "metadata": {
    "execution": {
     "iopub.execute_input": "2021-03-08T02:54:31.594843Z",
     "iopub.status.busy": "2021-03-08T02:54:31.593982Z",
     "iopub.status.idle": "2021-03-08T02:54:31.609788Z",
     "shell.execute_reply": "2021-03-08T02:54:31.610539Z"
    },
    "papermill": {
     "duration": 0.05218,
     "end_time": "2021-03-08T02:54:31.610728",
     "exception": false,
     "start_time": "2021-03-08T02:54:31.558548",
     "status": "completed"
    },
    "tags": []
   },
   "outputs": [],
   "source": [
    "# ====================================================\n",
    "# Train loop\n",
    "# ====================================================\n",
    "\n",
    "LOGGER = init_logger()\n",
    "\n",
    "def train_loop(train_df, valid_df):\n",
    "\n",
    "    LOGGER.info(f\"========== start training ==========\")\n",
    "    \n",
    "    # 存储结果\n",
    "    res_valid_df = copy.deepcopy(valid_df)\n",
    "    # ====================================================\n",
    "    # loader\n",
    "    # ====================================================\n",
    "\n",
    "    train_dataset = INGVDataset(train_df, CFG.DATA_ROOT)\n",
    "    valid_dataset = INGVDataset(valid_df, CFG.DATA_ROOT)\n",
    "\n",
    "    train_loader = DataLoader(train_dataset, batch_size=CFG.batch_size, num_workers=CFG.num_workers, shuffle=True)\n",
    "    valid_loader = DataLoader(valid_dataset, batch_size=CFG.batch_size, num_workers=CFG.num_workers, shuffle=False)\n",
    "    \n",
    "    # model\n",
    "    model = MyResNet(CFG.target_size, CFG.model_name, True)\n",
    "    model.to(CFG.device)\n",
    "    \n",
    "    # optimizer\n",
    "    optimizer = torch.optim.AdamW(model.parameters(), lr=CFG.lr, weight_decay=CFG.weight_decay)\n",
    "    \n",
    "    # ====================================================\n",
    "    # scheduler \n",
    "    # ====================================================\n",
    "    if CFG.scheduler=='CosineAnnealingLR':\n",
    "        scheduler = CosineAnnealingLR(optimizer, T_max=CFG.T_max, eta_min=CFG.min_lr, last_epoch=-1)\n",
    "    elif CFG.scheduler=='CosineAnnealingWarmRestarts':\n",
    "        scheduler = CosineAnnealingWarmRestarts(optimizer, T_0=CFG.T_0, T_mult=2, eta_min=CFG.min_lr, last_epoch=-1)\n",
    "    elif CFG.scheduler=='ReduceLROnPlateau':\n",
    "        scheduler = ReduceLROnPlateau(optimizer, mode='min', factor=0.5, patience=10, verbose=True)\n",
    "    else:\n",
    "        raise Exception('scheduler not set')\n",
    "\n",
    "\n",
    "    # ====================================================\n",
    "    # loop\n",
    "    # ====================================================\n",
    "    criterion = nn.L1Loss()\n",
    "\n",
    "    best_score = float('inf')\n",
    "    best_loss = np.inf\n",
    "    early_round = 0\n",
    "    \n",
    "    for epoch in range(CFG.epochs):\n",
    "        \n",
    "        start_time = time.time()\n",
    "        \n",
    "        # =================================================\n",
    "        # train\n",
    "        avg_loss = train_fn(train_loader, model, epoch, criterion, optimizer, scheduler, CFG.device)\n",
    "\n",
    "        # eval\n",
    "        avg_val_loss, preds = valid_fn(valid_loader, model, criterion, CFG.device)\n",
    "        valid_labels = valid_df[CFG.target_col].values\n",
    "        \n",
    "        if isinstance(scheduler, torch.optim.lr_scheduler.CosineAnnealingLR):\n",
    "            scheduler.step()\n",
    "        elif isinstance(scheduler, torch.optim.lr_scheduler.CosineAnnealingWarmRestarts):\n",
    "            scheduler.step()\n",
    "        elif isinstance(scheduler, torch.optim.lr_scheduler.ReduceLROnPlateau):\n",
    "            scheduler.step(avg_val_loss)\n",
    "\n",
    "        # scoring\n",
    "        score = get_score(valid_labels, preds)\n",
    "\n",
    "        elapsed = time.time() - start_time\n",
    "\n",
    "        LOGGER.info(f'Epoch {epoch+1} - avg_train_loss: {avg_loss:.4f}  avg_val_loss: {avg_val_loss:.4f}  time: {elapsed:.0f}s')\n",
    "        LOGGER.info(f'Epoch {epoch+1} - MAE: {score}')\n",
    "        \n",
    "#         save_checkpoint(model, optimizer, scheduler, epoch, fold)\n",
    "#         print('===================== checkpoint saved =======================')\n",
    "        \n",
    "        if score < best_score:\n",
    "            best_score = score\n",
    "            LOGGER.info(f'Epoch {epoch+1} - Save Best Score: {best_score:.4f} Model')\n",
    "            torch.save({'model': model.state_dict(), \n",
    "                        'preds': preds},\n",
    "                        CFG.OUTPUT_DIR+f'{CFG.model_name}_best.pth')\n",
    "            early_round = 0\n",
    "            \n",
    "        else:\n",
    "            if CFG.EARLY_STOP:\n",
    "                early_round += 1\n",
    "                if early_round == CFG.early_stop:\n",
    "                    LOGGER.info('===================== Early Stop =====================')\n",
    "                    break\n",
    "    \n",
    "    check_point = torch.load(CFG.OUTPUT_DIR+f'{CFG.model_name}_best.pth')\n",
    "    res_valid_df['preds'] = check_point['preds']\n",
    "\n",
    "    return res_valid_df"
   ]
  },
  {
   "cell_type": "code",
   "execution_count": 15,
   "metadata": {
    "execution": {
     "iopub.execute_input": "2021-03-08T02:54:31.662727Z",
     "iopub.status.busy": "2021-03-08T02:54:31.661764Z",
     "iopub.status.idle": "2021-03-08T09:34:17.456762Z",
     "shell.execute_reply": "2021-03-08T09:34:17.456170Z"
    },
    "papermill": {
     "duration": 23985.822962,
     "end_time": "2021-03-08T09:34:17.456939",
     "exception": false,
     "start_time": "2021-03-08T02:54:31.633977",
     "status": "completed"
    },
    "tags": []
   },
   "outputs": [
    {
     "name": "stderr",
     "output_type": "stream",
     "text": [
      "========== start training ==========\n"
     ]
    },
    {
     "name": "stdout",
     "output_type": "stream",
     "text": [
      "Epoch: [1][0/93] Data 1.110 (1.110) Elapsed 0m 4s (remain 6m 37s) Loss: 0.6758(0.6758) 15442050.3982(7721025.1991)Grad: 11.3421  \n",
      "Epoch: [1][20/93] Data 0.015 (0.068) Elapsed 0m 21s (remain 1m 13s) Loss: 0.4255(0.2627) 9722374.0917(5859445.0745)Grad: 4.2857  \n",
      "Epoch: [1][40/93] Data 0.021 (0.043) Elapsed 0m 38s (remain 0m 49s) Loss: 0.3249(0.2379) 7423321.1364(5368940.2184)Grad: 6.3193  \n",
      "Epoch: [1][60/93] Data 0.015 (0.034) Elapsed 0m 56s (remain 0m 29s) Loss: 0.4119(0.2245) 9410412.9686(5088533.6242)Grad: 7.3536  \n",
      "Epoch: [1][80/93] Data 0.014 (0.030) Elapsed 1m 13s (remain 0m 10s) Loss: 0.3149(0.2173) 7195994.6684(4935552.7995)Grad: 7.5141  \n",
      "Epoch: [1][92/93] Data 0.015 (0.028) Elapsed 1m 25s (remain 0m 0s) Loss: 0.3755(0.2143) 8579471.5599(4877177.3611)Grad: 10.5113  \n",
      "EVAL: [0/46] Data 0.970 (0.970) Elapsed 0m 1s (remain 0m 52s) Loss: 0.3228(0.3228) 7374667.9050(3687333.9525)\n",
      "EVAL: [20/46] Data 0.529 (0.578) Elapsed 0m 16s (remain 0m 19s) Loss: 0.3054(0.1893) 6978045.5697(4223008.8094)\n",
      "EVAL: [40/46] Data 0.416 (0.520) Elapsed 0m 29s (remain 0m 3s) Loss: 0.3447(0.1873) 7875918.9637(4226990.1620)\n"
     ]
    },
    {
     "name": "stderr",
     "output_type": "stream",
     "text": [
      "Epoch 1 - avg_train_loss: 0.2143  avg_val_loss: 0.1859  time: 118s\n",
      "Epoch 1 - MAE: 0.3687935446147274\n",
      "Epoch 1 - Save Best Score: 0.3688 Model\n"
     ]
    },
    {
     "name": "stdout",
     "output_type": "stream",
     "text": [
      "EVAL: [45/46] Data 0.320 (0.515) Elapsed 0m 33s (remain 0m 0s) Loss: 0.2843(0.1859) 6495031.7269(4213264.6925)\n",
      "Epoch: [2][0/93] Data 0.368 (0.368) Elapsed 0m 1s (remain 1m 51s) Loss: 0.3406(0.3406) 7783282.4593(3891641.2297)Grad: 5.7537  \n",
      "Epoch: [2][20/93] Data 0.014 (0.032) Elapsed 0m 18s (remain 1m 1s) Loss: 0.3744(0.1855) 8554834.0903(4137338.5744)Grad: 5.2144  \n",
      "Epoch: [2][40/93] Data 0.015 (0.024) Elapsed 0m 34s (remain 0m 43s) Loss: 0.3638(0.1833) 8312723.5063(4136695.9197)Grad: 4.6810  \n",
      "Epoch: [2][60/93] Data 0.014 (0.021) Elapsed 0m 51s (remain 0m 26s) Loss: 0.3573(0.1797) 8164355.2903(4073242.6845)Grad: 8.3575  \n",
      "Epoch: [2][80/93] Data 0.014 (0.019) Elapsed 1m 7s (remain 0m 10s) Loss: 0.3200(0.1764) 7310723.2494(4005819.5712)Grad: 6.4013  \n",
      "Epoch: [2][92/93] Data 0.016 (0.019) Elapsed 1m 17s (remain 0m 0s) Loss: 0.4056(0.1745) 9266447.0975(3971584.1855)Grad: 7.9338  \n",
      "EVAL: [0/46] Data 0.364 (0.364) Elapsed 0m 0s (remain 0m 25s) Loss: 0.2702(0.2702) 6173241.7645(3086620.8822)\n",
      "EVAL: [20/46] Data 0.258 (0.130) Elapsed 0m 6s (remain 0m 8s) Loss: 0.3175(0.1700) 7255406.2366(3791543.5022)\n",
      "EVAL: [40/46] Data 0.113 (0.127) Elapsed 0m 13s (remain 0m 1s) Loss: 0.3030(0.1707) 6924153.1052(3851643.6015)\n"
     ]
    },
    {
     "name": "stderr",
     "output_type": "stream",
     "text": [
      "Epoch 2 - avg_train_loss: 0.1745  avg_val_loss: 0.1697  time: 92s\n",
      "Epoch 2 - MAE: 0.336798385022828\n",
      "Epoch 2 - Save Best Score: 0.3368 Model\n"
     ]
    },
    {
     "name": "stdout",
     "output_type": "stream",
     "text": [
      "EVAL: [45/46] Data 0.035 (0.124) Elapsed 0m 14s (remain 0m 0s) Loss: 0.2169(0.1697) 4956234.7959(3847737.4604)\n",
      "Epoch: [3][0/93] Data 0.352 (0.352) Elapsed 0m 1s (remain 1m 46s) Loss: 0.3652(0.3652) 8344661.4461(4172330.7231)Grad: 8.5535  \n",
      "Epoch: [3][20/93] Data 0.014 (0.031) Elapsed 0m 17s (remain 1m 0s) Loss: 0.3075(0.1636) 7026791.4103(3649301.2059)Grad: 4.2936  \n",
      "Epoch: [3][40/93] Data 0.014 (0.023) Elapsed 0m 34s (remain 0m 43s) Loss: 0.3750(0.1569) 8567360.8555(3541737.6866)Grad: 11.5090  \n",
      "Epoch: [3][60/93] Data 0.014 (0.020) Elapsed 0m 50s (remain 0m 26s) Loss: 0.3460(0.1554) 7904947.2020(3521636.0461)Grad: 5.7868  \n",
      "Epoch: [3][80/93] Data 0.014 (0.019) Elapsed 1m 7s (remain 0m 9s) Loss: 0.2925(0.1582) 6682173.9447(3592476.4125)Grad: 5.8071  \n",
      "Epoch: [3][92/93] Data 0.013 (0.018) Elapsed 1m 16s (remain 0m 0s) Loss: 0.4835(0.1598) 11048492.4808(3636373.4021)Grad: 9.4482  \n",
      "EVAL: [0/46] Data 0.344 (0.344) Elapsed 0m 0s (remain 0m 24s) Loss: 0.3212(0.3212) 7339525.4122(3669762.7061)\n",
      "EVAL: [20/46] Data 0.100 (0.146) Elapsed 0m 7s (remain 0m 8s) Loss: 0.3868(0.2051) 8838003.2649(4575373.5622)\n",
      "EVAL: [40/46] Data 0.104 (0.137) Elapsed 0m 13s (remain 0m 1s) Loss: 0.3534(0.2041) 8075070.4243(4606420.3161)\n"
     ]
    },
    {
     "name": "stderr",
     "output_type": "stream",
     "text": [
      "Epoch 3 - avg_train_loss: 0.1598  avg_val_loss: 0.2025  time: 92s\n",
      "Epoch 3 - MAE: 0.4018318843601466\n"
     ]
    },
    {
     "name": "stdout",
     "output_type": "stream",
     "text": [
      "EVAL: [45/46] Data 0.026 (0.132) Elapsed 0m 15s (remain 0m 0s) Loss: 0.3362(0.2025) 7682366.2780(4590709.6583)\n",
      "Epoch: [4][0/93] Data 0.351 (0.351) Elapsed 0m 1s (remain 1m 46s) Loss: 0.3031(0.3031) 6924573.2517(3462286.6258)Grad: 5.0042  \n",
      "Epoch: [4][20/93] Data 0.013 (0.030) Elapsed 0m 17s (remain 0m 59s) Loss: 0.3233(0.1769) 7387595.0690(3945113.0937)Grad: 9.6045  \n",
      "Epoch: [4][40/93] Data 0.013 (0.022) Elapsed 0m 33s (remain 0m 42s) Loss: 0.2662(0.1657) 6081463.2578(3739569.6312)Grad: 7.0842  \n",
      "Epoch: [4][60/93] Data 0.014 (0.019) Elapsed 0m 50s (remain 0m 26s) Loss: 0.3068(0.1592) 7009861.6193(3608335.2957)Grad: 6.5405  \n",
      "Epoch: [4][80/93] Data 0.014 (0.018) Elapsed 1m 6s (remain 0m 9s) Loss: 0.3199(0.1554) 7310352.1314(3527803.0433)Grad: 9.8070  \n",
      "Epoch: [4][92/93] Data 0.013 (0.018) Elapsed 1m 16s (remain 0m 0s) Loss: 0.2610(0.1554) 5963820.2087(3536313.6582)Grad: 6.0074  \n",
      "EVAL: [0/46] Data 0.346 (0.346) Elapsed 0m 0s (remain 0m 24s) Loss: 0.2721(0.2721) 6216446.0301(3108223.0150)\n",
      "EVAL: [20/46] Data 0.097 (0.115) Elapsed 0m 6s (remain 0m 7s) Loss: 0.2516(0.1339) 5749437.9285(2986559.9585)\n",
      "EVAL: [40/46] Data 0.103 (0.126) Elapsed 0m 13s (remain 0m 1s) Loss: 0.3046(0.1334) 6958674.5711(3010225.8775)\n"
     ]
    },
    {
     "name": "stderr",
     "output_type": "stream",
     "text": [
      "Epoch 4 - avg_train_loss: 0.1554  avg_val_loss: 0.1339  time: 91s\n",
      "Epoch 4 - MAE: 0.26579283908413204\n",
      "Epoch 4 - Save Best Score: 0.2658 Model\n"
     ]
    },
    {
     "name": "stdout",
     "output_type": "stream",
     "text": [
      "EVAL: [45/46] Data 0.023 (0.121) Elapsed 0m 14s (remain 0m 0s) Loss: 0.2703(0.1339) 6175200.8590(3036537.9269)\n",
      "Epoch: [5][0/93] Data 0.501 (0.501) Elapsed 0m 1s (remain 2m 3s) Loss: 0.3482(0.3482) 7955207.4766(3977603.7383)Grad: 5.0873  \n",
      "Epoch: [5][20/93] Data 0.014 (0.037) Elapsed 0m 17s (remain 1m 0s) Loss: 0.3149(0.1486) 7195805.3642(3314743.6245)Grad: 9.4102  \n",
      "Epoch: [5][40/93] Data 0.013 (0.026) Elapsed 0m 34s (remain 0m 43s) Loss: 0.2790(0.1487) 6375680.8540(3356877.0391)Grad: 7.1440  \n",
      "Epoch: [5][60/93] Data 0.013 (0.022) Elapsed 0m 50s (remain 0m 26s) Loss: 0.2382(0.1434) 5443303.6988(3248682.1754)Grad: 4.6157  \n",
      "Epoch: [5][80/93] Data 0.014 (0.020) Elapsed 1m 6s (remain 0m 9s) Loss: 0.3286(0.1427) 7507233.3031(3239519.9095)Grad: 7.3726  \n",
      "Epoch: [5][92/93] Data 0.014 (0.020) Elapsed 1m 16s (remain 0m 0s) Loss: 0.2875(0.1423) 6568970.0118(3238219.5357)Grad: 5.8831  \n",
      "EVAL: [0/46] Data 0.364 (0.364) Elapsed 0m 0s (remain 0m 25s) Loss: 0.2456(0.2456) 5612298.9265(2806149.4633)\n",
      "EVAL: [20/46] Data 0.137 (0.141) Elapsed 0m 7s (remain 0m 8s) Loss: 0.3260(0.1610) 7448092.0723(3591233.4125)\n",
      "EVAL: [40/46] Data 0.161 (0.145) Elapsed 0m 14s (remain 0m 1s) Loss: 0.2599(0.1634) 5938253.2417(3688186.6727)\n"
     ]
    },
    {
     "name": "stderr",
     "output_type": "stream",
     "text": [
      "Epoch 5 - avg_train_loss: 0.1423  avg_val_loss: 0.1630  time: 93s\n",
      "Epoch 5 - MAE: 0.3233879940621742\n"
     ]
    },
    {
     "name": "stdout",
     "output_type": "stream",
     "text": [
      "EVAL: [45/46] Data 0.142 (0.146) Elapsed 0m 16s (remain 0m 0s) Loss: 0.2558(0.1630) 5845387.9380(3694531.0550)\n",
      "Epoch: [6][0/93] Data 0.372 (0.372) Elapsed 0m 1s (remain 1m 49s) Loss: 0.3375(0.3375) 7710663.8565(3855331.9282)Grad: 10.5292  \n",
      "Epoch: [6][20/93] Data 0.014 (0.032) Elapsed 0m 17s (remain 1m 0s) Loss: 0.3239(0.1457) 7400178.3531(3249214.6647)Grad: 7.0148  \n",
      "Epoch: [6][40/93] Data 0.016 (0.024) Elapsed 0m 34s (remain 0m 43s) Loss: 0.2059(0.1407) 4703644.7244(3175847.0578)Grad: 5.0126  \n",
      "Epoch: [6][60/93] Data 0.014 (0.021) Elapsed 0m 51s (remain 0m 26s) Loss: 0.2466(0.1414) 5635191.4605(3203766.7091)Grad: 4.3288  \n",
      "Epoch: [6][80/93] Data 0.016 (0.020) Elapsed 1m 7s (remain 0m 10s) Loss: 0.3023(0.1410) 6906837.8962(3202286.7243)Grad: 7.7055  \n",
      "Epoch: [6][92/93] Data 0.014 (0.019) Elapsed 1m 17s (remain 0m 0s) Loss: 0.4338(0.1392) 9912914.2524(3167187.8714)Grad: 12.0388  \n",
      "EVAL: [0/46] Data 0.368 (0.368) Elapsed 0m 0s (remain 0m 25s) Loss: 0.2429(0.2429) 5549268.7875(2774634.3937)\n",
      "EVAL: [20/46] Data 0.107 (0.122) Elapsed 0m 6s (remain 0m 8s) Loss: 0.2792(0.1349) 6380135.6321(3008050.0831)\n",
      "EVAL: [40/46] Data 0.108 (0.122) Elapsed 0m 13s (remain 0m 1s) Loss: 0.2657(0.1342) 6070369.8934(3029117.5242)\n"
     ]
    },
    {
     "name": "stderr",
     "output_type": "stream",
     "text": [
      "Epoch 6 - avg_train_loss: 0.1392  avg_val_loss: 0.1322  time: 92s\n",
      "Epoch 6 - MAE: 0.2623400610226862\n",
      "Epoch 6 - Save Best Score: 0.2623 Model\n"
     ]
    },
    {
     "name": "stdout",
     "output_type": "stream",
     "text": [
      "EVAL: [45/46] Data 0.047 (0.119) Elapsed 0m 14s (remain 0m 0s) Loss: 0.1794(0.1322) 4098392.4382(2997091.8017)\n",
      "Epoch: [7][0/93] Data 0.448 (0.448) Elapsed 0m 1s (remain 1m 55s) Loss: 0.2795(0.2795) 6385210.7561(3192605.3780)Grad: 8.7711  \n",
      "Epoch: [7][20/93] Data 0.014 (0.035) Elapsed 0m 17s (remain 1m 0s) Loss: 0.2829(0.1377) 6464247.3173(3070887.9428)Grad: 6.3526  \n",
      "Epoch: [7][40/93] Data 0.015 (0.025) Elapsed 0m 34s (remain 0m 43s) Loss: 0.3325(0.1353) 7596235.5747(3053949.4010)Grad: 11.0110  \n",
      "Epoch: [7][60/93] Data 0.014 (0.022) Elapsed 0m 50s (remain 0m 26s) Loss: 0.2582(0.1353) 5899376.4164(3065268.0583)Grad: 7.9643  \n",
      "Epoch: [7][80/93] Data 0.014 (0.020) Elapsed 1m 7s (remain 0m 9s) Loss: 0.2482(0.1328) 5671270.9411(3015371.5153)Grad: 5.4120  \n",
      "Epoch: [7][92/93] Data 0.013 (0.019) Elapsed 1m 17s (remain 0m 0s) Loss: 0.2736(0.1319) 6251879.9696(3002220.4126)Grad: 7.8697  \n",
      "EVAL: [0/46] Data 0.351 (0.351) Elapsed 0m 0s (remain 0m 24s) Loss: 0.3672(0.3672) 8390023.6438(4195011.8219)\n",
      "EVAL: [20/46] Data 0.099 (0.127) Elapsed 0m 6s (remain 0m 8s) Loss: 0.3417(0.1896) 7808072.4619(4228427.5215)\n",
      "EVAL: [40/46] Data 0.101 (0.117) Elapsed 0m 13s (remain 0m 1s) Loss: 0.3265(0.1828) 7461000.1697(4126236.6614)\n"
     ]
    },
    {
     "name": "stderr",
     "output_type": "stream",
     "text": [
      "Epoch 7 - avg_train_loss: 0.1319  avg_val_loss: 0.1831  time: 92s\n",
      "Epoch 7 - MAE: 0.3632687933845668\n"
     ]
    },
    {
     "name": "stdout",
     "output_type": "stream",
     "text": [
      "EVAL: [45/46] Data 0.024 (0.113) Elapsed 0m 14s (remain 0m 0s) Loss: 0.3670(0.1831) 8386014.8883(4150147.4542)\n",
      "Epoch: [8][0/93] Data 0.368 (0.368) Elapsed 0m 1s (remain 1m 49s) Loss: 0.2687(0.2687) 6138676.7177(3069338.3589)Grad: 6.9454  \n",
      "Epoch: [8][20/93] Data 0.014 (0.031) Elapsed 0m 17s (remain 1m 0s) Loss: 0.2182(0.1458) 4984863.6567(3252373.5778)Grad: 6.9355  \n",
      "Epoch: [8][40/93] Data 0.013 (0.023) Elapsed 0m 33s (remain 0m 43s) Loss: 0.2299(0.1409) 5252326.7083(3180654.7883)Grad: 3.7164  \n",
      "Epoch: [8][60/93] Data 0.013 (0.020) Elapsed 0m 50s (remain 0m 26s) Loss: 0.2212(0.1373) 5054729.5173(3111047.3381)Grad: 4.9566  \n",
      "Epoch: [8][80/93] Data 0.013 (0.018) Elapsed 1m 6s (remain 0m 9s) Loss: 0.3893(0.1360) 8895715.1806(3087520.1026)Grad: 7.2287  \n",
      "Epoch: [8][92/93] Data 0.013 (0.018) Elapsed 1m 16s (remain 0m 0s) Loss: 0.2503(0.1348) 5719224.8364(3068337.0074)Grad: 4.4623  \n",
      "EVAL: [0/46] Data 0.351 (0.351) Elapsed 0m 0s (remain 0m 24s) Loss: 0.3199(0.3199) 7309963.9897(3654981.9948)\n",
      "EVAL: [20/46] Data 0.111 (0.125) Elapsed 0m 6s (remain 0m 8s) Loss: 0.3163(0.1659) 7226277.2176(3700876.2986)\n",
      "EVAL: [40/46] Data 0.116 (0.114) Elapsed 0m 12s (remain 0m 1s) Loss: 0.2599(0.1644) 5938654.3215(3710026.3327)\n"
     ]
    },
    {
     "name": "stderr",
     "output_type": "stream",
     "text": [
      "Epoch 8 - avg_train_loss: 0.1348  avg_val_loss: 0.1662  time: 91s\n",
      "Epoch 8 - MAE: 0.32978930407666585\n"
     ]
    },
    {
     "name": "stdout",
     "output_type": "stream",
     "text": [
      "EVAL: [45/46] Data 0.046 (0.116) Elapsed 0m 14s (remain 0m 0s) Loss: 0.4197(0.1662) 9590361.6254(3767662.5637)\n",
      "Epoch: [9][0/93] Data 0.353 (0.353) Elapsed 0m 1s (remain 1m 45s) Loss: 0.2388(0.2388) 5455321.1130(2727660.5565)Grad: 4.7519  \n",
      "Epoch: [9][20/93] Data 0.013 (0.030) Elapsed 0m 17s (remain 1m 0s) Loss: 0.2784(0.1260) 6361101.7041(2809429.9828)Grad: 9.8050  \n",
      "Epoch: [9][40/93] Data 0.014 (0.022) Elapsed 0m 34s (remain 0m 43s) Loss: 0.2205(0.1264) 5037118.0948(2852281.8409)Grad: 11.2456  \n",
      "Epoch: [9][60/93] Data 0.014 (0.019) Elapsed 0m 50s (remain 0m 26s) Loss: 0.2982(0.1272) 6813676.3791(2882900.4979)Grad: 8.5994  \n",
      "Epoch: [9][80/93] Data 0.015 (0.018) Elapsed 1m 6s (remain 0m 9s) Loss: 0.2869(0.1254) 6555477.6589(2846896.3761)Grad: 5.4694  \n",
      "Epoch: [9][92/93] Data 0.013 (0.018) Elapsed 1m 16s (remain 0m 0s) Loss: 0.2897(0.1248) 6618217.0320(2839568.2918)Grad: 9.6868  \n",
      "EVAL: [0/46] Data 0.343 (0.343) Elapsed 0m 0s (remain 0m 24s) Loss: 0.2672(0.2672) 6104826.6690(3052413.3345)\n",
      "EVAL: [20/46] Data 0.103 (0.115) Elapsed 0m 6s (remain 0m 7s) Loss: 0.2876(0.1634) 6570898.4636(3645318.4481)\n",
      "EVAL: [40/46] Data 0.108 (0.117) Elapsed 0m 13s (remain 0m 1s) Loss: 0.2794(0.1575) 6384448.7725(3555772.6450)\n"
     ]
    },
    {
     "name": "stderr",
     "output_type": "stream",
     "text": [
      "Epoch 9 - avg_train_loss: 0.1248  avg_val_loss: 0.1568  time: 91s\n",
      "Epoch 9 - MAE: 0.3112278012325981\n"
     ]
    },
    {
     "name": "stdout",
     "output_type": "stream",
     "text": [
      "EVAL: [45/46] Data 0.028 (0.114) Elapsed 0m 14s (remain 0m 0s) Loss: 0.2965(0.1568) 6774849.9441(3555607.5217)\n",
      "Epoch: [10][0/93] Data 0.354 (0.354) Elapsed 0m 1s (remain 1m 46s) Loss: 0.3291(0.3291) 7519021.9179(3759510.9590)Grad: 10.9027  \n",
      "Epoch: [10][20/93] Data 0.013 (0.030) Elapsed 0m 17s (remain 1m 0s) Loss: 0.2803(0.1228) 6404825.5349(2738980.0045)Grad: 5.1644  \n",
      "Epoch: [10][40/93] Data 0.015 (0.022) Elapsed 0m 33s (remain 0m 43s) Loss: 0.2605(0.1219) 5952400.6690(2750839.3180)Grad: 6.3285  \n",
      "Epoch: [10][60/93] Data 0.013 (0.020) Elapsed 0m 50s (remain 0m 26s) Loss: 0.2696(0.1244) 6159138.5989(2819229.6793)Grad: 10.0043  \n",
      "Epoch: [10][80/93] Data 0.013 (0.018) Elapsed 1m 6s (remain 0m 9s) Loss: 0.2657(0.1251) 6071344.3335(2841604.5606)Grad: 9.0669  \n",
      "Epoch: [10][92/93] Data 0.013 (0.018) Elapsed 1m 16s (remain 0m 0s) Loss: 0.2773(0.1233) 6336917.7475(2806492.2727)Grad: 4.0789  \n",
      "EVAL: [0/46] Data 0.349 (0.349) Elapsed 0m 0s (remain 0m 24s) Loss: 0.3406(0.3406) 7783276.3308(3891638.1654)\n",
      "EVAL: [20/46] Data 0.198 (0.140) Elapsed 0m 7s (remain 0m 8s) Loss: 0.2814(0.1635) 6430805.1579(3647140.0393)\n",
      "EVAL: [40/46] Data 0.095 (0.123) Elapsed 0m 13s (remain 0m 1s) Loss: 0.3155(0.1593) 7209450.2501(3595986.5123)\n"
     ]
    },
    {
     "name": "stderr",
     "output_type": "stream",
     "text": [
      "Epoch 10 - avg_train_loss: 0.1233  avg_val_loss: 0.1592  time: 91s\n",
      "Epoch 10 - MAE: 0.31598313912020076\n"
     ]
    },
    {
     "name": "stdout",
     "output_type": "stream",
     "text": [
      "EVAL: [45/46] Data 0.035 (0.120) Elapsed 0m 14s (remain 0m 0s) Loss: 0.2800(0.1592) 6398327.2244(3609934.6399)\n",
      "Epoch: [11][0/93] Data 0.348 (0.348) Elapsed 0m 1s (remain 1m 45s) Loss: 0.2625(0.2625) 5998348.4841(2999174.2420)Grad: 4.4887  \n",
      "Epoch: [11][20/93] Data 0.013 (0.030) Elapsed 0m 17s (remain 1m 0s) Loss: 0.2855(0.1318) 6523733.7900(2939708.7410)Grad: 9.9240  \n",
      "Epoch: [11][40/93] Data 0.013 (0.022) Elapsed 0m 33s (remain 0m 43s) Loss: 0.2200(0.1298) 5026903.1565(2929602.1868)Grad: 9.8114  \n",
      "Epoch: [11][60/93] Data 0.014 (0.020) Elapsed 0m 50s (remain 0m 26s) Loss: 0.3209(0.1244) 7332123.4804(2819625.9255)Grad: 7.3584  \n",
      "Epoch: [11][80/93] Data 0.017 (0.019) Elapsed 1m 6s (remain 0m 9s) Loss: 0.2554(0.1239) 5834554.0157(2813729.4888)Grad: 6.0932  \n",
      "Epoch: [11][92/93] Data 0.014 (0.018) Elapsed 1m 16s (remain 0m 0s) Loss: 0.2722(0.1231) 6220471.8094(2800592.6122)Grad: 8.3857  \n",
      "EVAL: [0/46] Data 0.358 (0.358) Elapsed 0m 0s (remain 0m 25s) Loss: 0.1929(0.1929) 4406805.1283(2203402.5641)\n",
      "EVAL: [20/46] Data 0.127 (0.134) Elapsed 0m 7s (remain 0m 8s) Loss: 0.2201(0.1208) 5028605.8732(2694929.8201)\n",
      "EVAL: [40/46] Data 0.104 (0.133) Elapsed 0m 13s (remain 0m 1s) Loss: 0.1906(0.1193) 4355896.9293(2693735.2170)\n"
     ]
    },
    {
     "name": "stderr",
     "output_type": "stream",
     "text": [
      "Epoch 11 - avg_train_loss: 0.1231  avg_val_loss: 0.1185  time: 92s\n",
      "Epoch 11 - MAE: 0.2352221853698409\n",
      "Epoch 11 - Save Best Score: 0.2352 Model\n"
     ]
    },
    {
     "name": "stdout",
     "output_type": "stream",
     "text": [
      "EVAL: [45/46] Data 0.025 (0.133) Elapsed 0m 15s (remain 0m 0s) Loss: 0.2123(0.1185) 4850143.3908(2687284.9190)\n",
      "Epoch: [12][0/93] Data 0.358 (0.358) Elapsed 0m 1s (remain 1m 48s) Loss: 0.2138(0.2138) 4884632.1711(2442316.0856)Grad: 7.1447  \n",
      "Epoch: [12][20/93] Data 0.014 (0.030) Elapsed 0m 17s (remain 1m 0s) Loss: 0.2692(0.1210) 6151922.5666(2698097.6828)Grad: 5.9653  \n",
      "Epoch: [12][40/93] Data 0.013 (0.022) Elapsed 0m 33s (remain 0m 43s) Loss: 0.3121(0.1265) 7130212.8085(2856111.6517)Grad: 7.5291  \n",
      "Epoch: [12][60/93] Data 0.014 (0.020) Elapsed 0m 50s (remain 0m 26s) Loss: 0.2708(0.1231) 6186853.2838(2790192.8816)Grad: 8.4588  \n",
      "Epoch: [12][80/93] Data 0.013 (0.018) Elapsed 1m 6s (remain 0m 9s) Loss: 0.2033(0.1227) 4644879.0378(2785940.6203)Grad: 5.4539  \n",
      "Epoch: [12][92/93] Data 0.014 (0.018) Elapsed 1m 16s (remain 0m 0s) Loss: 0.2747(0.1212) 6275968.5931(2758831.7956)Grad: 6.9082  \n",
      "EVAL: [0/46] Data 0.346 (0.346) Elapsed 0m 0s (remain 0m 24s) Loss: 0.2536(0.2536) 5795000.3257(2897500.1628)\n",
      "EVAL: [20/46] Data 0.108 (0.121) Elapsed 0m 6s (remain 0m 8s) Loss: 0.2850(0.1311) 6511017.0396(2924369.6584)\n",
      "EVAL: [40/46] Data 0.115 (0.130) Elapsed 0m 13s (remain 0m 1s) Loss: 0.2285(0.1308) 5221183.4378(2952842.8857)\n"
     ]
    },
    {
     "name": "stderr",
     "output_type": "stream",
     "text": [
      "Epoch 12 - avg_train_loss: 0.1212  avg_val_loss: 0.1296  time: 92s\n",
      "Epoch 12 - MAE: 0.2572274213179872\n"
     ]
    },
    {
     "name": "stdout",
     "output_type": "stream",
     "text": [
      "EVAL: [45/46] Data 0.032 (0.126) Elapsed 0m 15s (remain 0m 0s) Loss: 0.2483(0.1296) 5673033.9219(2938682.7358)\n",
      "Epoch: [13][0/93] Data 0.375 (0.375) Elapsed 0m 1s (remain 1m 48s) Loss: 0.1762(0.1762) 4025357.0936(2012678.5468)Grad: 4.3806  \n",
      "Epoch: [13][20/93] Data 0.014 (0.032) Elapsed 0m 17s (remain 1m 0s) Loss: 0.2619(0.1215) 5983989.9621(2710343.0858)Grad: 11.2887  \n",
      "Epoch: [13][40/93] Data 0.014 (0.024) Elapsed 0m 34s (remain 0m 43s) Loss: 0.2389(0.1207) 5458198.8097(2724905.4723)Grad: 10.2209  \n",
      "Epoch: [13][60/93] Data 0.020 (0.021) Elapsed 0m 50s (remain 0m 26s) Loss: 0.2562(0.1198) 5853319.6492(2713746.6226)Grad: 5.5986  \n",
      "Epoch: [13][80/93] Data 0.014 (0.019) Elapsed 1m 7s (remain 0m 9s) Loss: 0.1973(0.1198) 4508025.6944(2720902.5138)Grad: 6.9120  \n",
      "Epoch: [13][92/93] Data 0.015 (0.019) Elapsed 1m 17s (remain 0m 0s) Loss: 0.1948(0.1187) 4452059.0548(2701349.8429)Grad: 4.6204  \n",
      "EVAL: [0/46] Data 0.360 (0.360) Elapsed 0m 0s (remain 0m 25s) Loss: 0.2830(0.2830) 6466066.1360(3233033.0680)\n",
      "EVAL: [20/46] Data 0.104 (0.129) Elapsed 0m 6s (remain 0m 8s) Loss: 0.2933(0.1591) 6702136.6892(3548861.5035)\n",
      "EVAL: [40/46] Data 0.101 (0.119) Elapsed 0m 13s (remain 0m 1s) Loss: 0.2884(0.1546) 6588659.0142(3488393.6821)\n"
     ]
    },
    {
     "name": "stderr",
     "output_type": "stream",
     "text": [
      "Epoch 13 - avg_train_loss: 0.1187  avg_val_loss: 0.1537  time: 92s\n",
      "Epoch 13 - MAE: 0.30490870550314303\n"
     ]
    },
    {
     "name": "stdout",
     "output_type": "stream",
     "text": [
      "EVAL: [45/46] Data 0.155 (0.123) Elapsed 0m 14s (remain 0m 0s) Loss: 0.2888(0.1537) 6599251.1991(3483415.2774)\n",
      "Epoch: [14][0/93] Data 0.361 (0.361) Elapsed 0m 1s (remain 1m 51s) Loss: 0.2816(0.2816) 6434422.3669(3217211.1834)Grad: 11.2084  \n",
      "Epoch: [14][20/93] Data 0.014 (0.031) Elapsed 0m 17s (remain 1m 0s) Loss: 0.2151(0.1163) 4915093.8103(2593041.0307)Grad: 7.1533  \n",
      "Epoch: [14][40/93] Data 0.015 (0.023) Elapsed 0m 34s (remain 0m 43s) Loss: 0.2203(0.1133) 5032642.2072(2557620.9085)Grad: 6.6454  \n",
      "Epoch: [14][60/93] Data 0.014 (0.020) Elapsed 0m 50s (remain 0m 26s) Loss: 0.2154(0.1104) 4922494.3802(2500983.9776)Grad: 8.6925  \n",
      "Epoch: [14][80/93] Data 0.013 (0.019) Elapsed 1m 6s (remain 0m 9s) Loss: 0.2205(0.1091) 5038996.1562(2476463.3902)Grad: 7.0071  \n",
      "Epoch: [14][92/93] Data 0.014 (0.018) Elapsed 1m 16s (remain 0m 0s) Loss: 0.2292(0.1085) 5237395.8475(2469741.6051)Grad: 8.4149  \n",
      "EVAL: [0/46] Data 0.369 (0.369) Elapsed 0m 0s (remain 0m 25s) Loss: 0.1970(0.1970) 4500894.1000(2250447.0500)\n",
      "EVAL: [20/46] Data 0.103 (0.131) Elapsed 0m 6s (remain 0m 8s) Loss: 0.2262(0.1059) 5169304.8844(2361825.6302)\n",
      "EVAL: [40/46] Data 0.188 (0.125) Elapsed 0m 13s (remain 0m 1s) Loss: 0.1885(0.1035) 4306238.2745(2336390.0768)\n"
     ]
    },
    {
     "name": "stderr",
     "output_type": "stream",
     "text": [
      "Epoch 14 - avg_train_loss: 0.1085  avg_val_loss: 0.1035  time: 92s\n",
      "Epoch 14 - MAE: 0.2054420965642904\n",
      "Epoch 14 - Save Best Score: 0.2054 Model\n"
     ]
    },
    {
     "name": "stdout",
     "output_type": "stream",
     "text": [
      "EVAL: [45/46] Data 0.025 (0.121) Elapsed 0m 14s (remain 0m 0s) Loss: 0.1679(0.1035) 3836651.4135(2347063.6508)\n",
      "Epoch: [15][0/93] Data 0.353 (0.353) Elapsed 0m 1s (remain 1m 48s) Loss: 0.1487(0.1487) 3398167.6470(1699083.8235)Grad: 6.5621  \n",
      "Epoch: [15][20/93] Data 0.014 (0.030) Elapsed 0m 17s (remain 1m 0s) Loss: 0.2183(0.1022) 4988762.4388(2280563.5121)Grad: 9.5191  \n",
      "Epoch: [15][40/93] Data 0.015 (0.023) Elapsed 0m 34s (remain 0m 43s) Loss: 0.1880(0.1013) 4295289.2717(2285844.8328)Grad: 5.9138  \n",
      "Epoch: [15][60/93] Data 0.013 (0.020) Elapsed 0m 50s (remain 0m 26s) Loss: 0.3146(0.1042) 7188208.6806(2361219.1245)Grad: 7.8764  \n",
      "Epoch: [15][80/93] Data 0.019 (0.018) Elapsed 1m 6s (remain 0m 9s) Loss: 0.2598(0.1034) 5935602.9824(2348530.1767)Grad: 5.3220  \n",
      "Epoch: [15][92/93] Data 0.014 (0.018) Elapsed 1m 16s (remain 0m 0s) Loss: 0.1856(0.1042) 4241323.9455(2371280.0713)Grad: 5.6272  \n",
      "EVAL: [0/46] Data 0.369 (0.369) Elapsed 0m 0s (remain 0m 25s) Loss: 0.2072(0.2072) 4733788.0191(2366894.0096)\n",
      "EVAL: [20/46] Data 0.112 (0.133) Elapsed 0m 6s (remain 0m 8s) Loss: 0.2226(0.1108) 5086850.6327(2471694.6243)\n",
      "EVAL: [40/46] Data 0.132 (0.134) Elapsed 0m 13s (remain 0m 1s) Loss: 0.1714(0.1092) 3916211.2852(2464997.0349)\n"
     ]
    },
    {
     "name": "stderr",
     "output_type": "stream",
     "text": [
      "Epoch 15 - avg_train_loss: 0.1042  avg_val_loss: 0.1088  time: 92s\n",
      "Epoch 15 - MAE: 0.21586339550797892\n"
     ]
    },
    {
     "name": "stdout",
     "output_type": "stream",
     "text": [
      "EVAL: [45/46] Data 0.037 (0.131) Elapsed 0m 15s (remain 0m 0s) Loss: 0.1994(0.1088) 4556902.2776(2466121.3017)\n",
      "Epoch: [16][0/93] Data 0.370 (0.370) Elapsed 0m 1s (remain 1m 48s) Loss: 0.2150(0.2150) 4911944.7547(2455972.3774)Grad: 5.4344  \n",
      "Epoch: [16][20/93] Data 0.014 (0.032) Elapsed 0m 17s (remain 1m 0s) Loss: 0.1857(0.1038) 4243383.8207(2316030.4048)Grad: 4.8419  \n",
      "Epoch: [16][40/93] Data 0.014 (0.023) Elapsed 0m 34s (remain 0m 43s) Loss: 0.1545(0.0991) 3531204.2628(2235804.8457)Grad: 4.8385  \n",
      "Epoch: [16][60/93] Data 0.014 (0.021) Elapsed 0m 50s (remain 0m 26s) Loss: 0.1471(0.0972) 3361705.4722(2201932.4674)Grad: 6.6896  \n",
      "Epoch: [16][80/93] Data 0.014 (0.019) Elapsed 1m 6s (remain 0m 9s) Loss: 0.1746(0.0985) 3989561.5693(2235848.4467)Grad: 6.4191  \n",
      "Epoch: [16][92/93] Data 0.014 (0.018) Elapsed 1m 16s (remain 0m 0s) Loss: 0.2211(0.0987) 5052784.0417(2245198.1552)Grad: 9.3999  \n",
      "EVAL: [0/46] Data 0.355 (0.355) Elapsed 0m 0s (remain 0m 25s) Loss: 0.2157(0.2157) 4929591.9271(2464795.9635)\n",
      "EVAL: [20/46] Data 0.105 (0.131) Elapsed 0m 6s (remain 0m 8s) Loss: 0.1941(0.1208) 4434955.6214(2695175.0109)\n",
      "EVAL: [40/46] Data 0.120 (0.120) Elapsed 0m 13s (remain 0m 1s) Loss: 0.2235(0.1193) 5106915.1793(2693060.6484)\n"
     ]
    },
    {
     "name": "stderr",
     "output_type": "stream",
     "text": [
      "Epoch 16 - avg_train_loss: 0.0987  avg_val_loss: 0.1191  time: 92s\n",
      "Epoch 16 - MAE: 0.23627661749930373\n"
     ]
    },
    {
     "name": "stdout",
     "output_type": "stream",
     "text": [
      "EVAL: [45/46] Data 0.031 (0.117) Elapsed 0m 14s (remain 0m 0s) Loss: 0.1934(0.1191) 4418653.3263(2699331.2204)\n",
      "Epoch: [17][0/93] Data 0.375 (0.375) Elapsed 0m 1s (remain 1m 58s) Loss: 0.1861(0.1861) 4252530.6882(2126265.3441)Grad: 4.9317  \n",
      "Epoch: [17][20/93] Data 0.014 (0.032) Elapsed 0m 17s (remain 1m 1s) Loss: 0.1506(0.0943) 3440255.1538(2103952.1368)Grad: 4.9048  \n",
      "Epoch: [17][40/93] Data 0.014 (0.023) Elapsed 0m 34s (remain 0m 43s) Loss: 0.1910(0.0944) 4364385.6581(2130636.7306)Grad: 11.0120  \n",
      "Epoch: [17][60/93] Data 0.014 (0.020) Elapsed 0m 50s (remain 0m 26s) Loss: 0.1961(0.0943) 4480237.4670(2136797.0248)Grad: 8.2548  \n",
      "Epoch: [17][80/93] Data 0.014 (0.019) Elapsed 1m 6s (remain 0m 9s) Loss: 0.2420(0.0946) 5529674.4372(2148134.2539)Grad: 9.1391  \n",
      "Epoch: [17][92/93] Data 0.019 (0.018) Elapsed 1m 16s (remain 0m 0s) Loss: 0.2063(0.0944) 4713908.3506(2147229.7856)Grad: 11.8601  \n",
      "EVAL: [0/46] Data 0.379 (0.379) Elapsed 0m 0s (remain 0m 26s) Loss: 0.1650(0.1650) 3771194.7074(1885597.3537)\n",
      "EVAL: [20/46] Data 0.110 (0.132) Elapsed 0m 7s (remain 0m 8s) Loss: 0.1876(0.0952) 4286498.5413(2123746.9622)\n",
      "EVAL: [40/46] Data 0.094 (0.127) Elapsed 0m 13s (remain 0m 1s) Loss: 0.1678(0.0942) 3833228.2754(2127188.3185)\n"
     ]
    },
    {
     "name": "stderr",
     "output_type": "stream",
     "text": [
      "Epoch 17 - avg_train_loss: 0.0944  avg_val_loss: 0.0931  time: 92s\n",
      "Epoch 17 - MAE: 0.1848166885819656\n",
      "Epoch 17 - Save Best Score: 0.1848 Model\n"
     ]
    },
    {
     "name": "stdout",
     "output_type": "stream",
     "text": [
      "EVAL: [45/46] Data 0.036 (0.123) Elapsed 0m 14s (remain 0m 0s) Loss: 0.1347(0.0931) 3078407.9384(2111429.6701)\n",
      "Epoch: [18][0/93] Data 0.349 (0.349) Elapsed 0m 1s (remain 1m 45s) Loss: 0.1715(0.1715) 3919563.9449(1959781.9724)Grad: 4.3971  \n",
      "Epoch: [18][20/93] Data 0.013 (0.030) Elapsed 0m 17s (remain 1m 0s) Loss: 0.2014(0.1002) 4602318.9513(2236004.7711)Grad: 9.2449  \n",
      "Epoch: [18][40/93] Data 0.013 (0.022) Elapsed 0m 33s (remain 0m 42s) Loss: 0.1993(0.0950) 4554011.3023(2143533.3433)Grad: 10.9790  \n",
      "Epoch: [18][60/93] Data 0.013 (0.019) Elapsed 0m 50s (remain 0m 26s) Loss: 0.1872(0.0963) 4278235.5476(2181743.3878)Grad: 5.8951  \n",
      "Epoch: [18][80/93] Data 0.013 (0.018) Elapsed 1m 6s (remain 0m 9s) Loss: 0.1382(0.0960) 3158086.2954(2180625.9914)Grad: 4.6250  \n",
      "Epoch: [18][92/93] Data 0.013 (0.018) Elapsed 1m 16s (remain 0m 0s) Loss: 0.2228(0.0958) 5090326.8849(2179275.8203)Grad: 5.0201  \n",
      "EVAL: [0/46] Data 0.350 (0.350) Elapsed 0m 0s (remain 0m 24s) Loss: 0.1858(0.1858) 4245840.6901(2122920.3450)\n",
      "EVAL: [20/46] Data 0.105 (0.130) Elapsed 0m 6s (remain 0m 8s) Loss: 0.1977(0.1001) 4518330.5182(2232601.6724)\n",
      "EVAL: [40/46] Data 0.096 (0.122) Elapsed 0m 13s (remain 0m 1s) Loss: 0.1961(0.0963) 4480449.2426(2173257.0065)\n"
     ]
    },
    {
     "name": "stderr",
     "output_type": "stream",
     "text": [
      "Epoch 18 - avg_train_loss: 0.0958  avg_val_loss: 0.0959  time: 91s\n",
      "Epoch 18 - MAE: 0.19024554964452614\n"
     ]
    },
    {
     "name": "stdout",
     "output_type": "stream",
     "text": [
      "EVAL: [45/46] Data 0.024 (0.118) Elapsed 0m 14s (remain 0m 0s) Loss: 0.1594(0.0959) 3641746.3602(2173451.4247)\n",
      "Epoch: [19][0/93] Data 0.340 (0.340) Elapsed 0m 1s (remain 1m 44s) Loss: 0.1754(0.1754) 4008052.0989(2004026.0494)Grad: 6.8115  \n",
      "Epoch: [19][20/93] Data 0.013 (0.029) Elapsed 0m 17s (remain 0m 59s) Loss: 0.2203(0.0894) 5034264.9122(1994189.6629)Grad: 4.5968  \n",
      "Epoch: [19][40/93] Data 0.013 (0.022) Elapsed 0m 33s (remain 0m 42s) Loss: 0.1811(0.0906) 4136840.9455(2044219.9450)Grad: 6.6503  \n",
      "Epoch: [19][60/93] Data 0.013 (0.019) Elapsed 0m 50s (remain 0m 26s) Loss: 0.2374(0.0920) 5425412.4057(2084862.3293)Grad: 10.2262  \n",
      "Epoch: [19][80/93] Data 0.013 (0.018) Elapsed 1m 6s (remain 0m 9s) Loss: 0.2053(0.0933) 4691289.8992(2119521.7853)Grad: 6.4586  \n",
      "Epoch: [19][92/93] Data 0.016 (0.018) Elapsed 1m 16s (remain 0m 0s) Loss: 0.1842(0.0930) 4208539.2438(2116955.1504)Grad: 12.4701  \n",
      "EVAL: [0/46] Data 0.356 (0.356) Elapsed 0m 0s (remain 0m 25s) Loss: 0.1916(0.1916) 4377958.0228(2188979.0114)\n",
      "EVAL: [20/46] Data 0.104 (0.130) Elapsed 0m 6s (remain 0m 8s) Loss: 0.1990(0.0874) 4547918.1573(1948970.6026)\n",
      "EVAL: [40/46] Data 0.096 (0.126) Elapsed 0m 13s (remain 0m 1s) Loss: 0.1396(0.0844) 3189475.3891(1904365.8356)\n"
     ]
    },
    {
     "name": "stderr",
     "output_type": "stream",
     "text": [
      "Epoch 19 - avg_train_loss: 0.0930  avg_val_loss: 0.0836  time: 91s\n",
      "Epoch 19 - MAE: 0.16590688896942868\n",
      "Epoch 19 - Save Best Score: 0.1659 Model\n"
     ]
    },
    {
     "name": "stdout",
     "output_type": "stream",
     "text": [
      "EVAL: [45/46] Data 0.026 (0.122) Elapsed 0m 14s (remain 0m 0s) Loss: 0.1262(0.0836) 2884120.1667(1895395.5416)\n",
      "Epoch: [20][0/93] Data 0.471 (0.471) Elapsed 0m 1s (remain 1m 57s) Loss: 0.1667(0.1667) 3809715.3956(1904857.6978)Grad: 4.0440  \n",
      "Epoch: [20][20/93] Data 0.013 (0.036) Elapsed 0m 17s (remain 1m 0s) Loss: 0.1722(0.0999) 3935393.6604(2228513.3835)Grad: 3.9217  \n",
      "Epoch: [20][40/93] Data 0.019 (0.025) Elapsed 0m 34s (remain 0m 43s) Loss: 0.1690(0.0984) 3861603.1418(2220465.7343)Grad: 4.9403  \n",
      "Epoch: [20][60/93] Data 0.013 (0.021) Elapsed 0m 50s (remain 0m 26s) Loss: 0.1813(0.0950) 4141502.7326(2152748.4183)Grad: 10.6071  \n",
      "Epoch: [20][80/93] Data 0.013 (0.020) Elapsed 1m 6s (remain 0m 9s) Loss: 0.1938(0.0922) 4427286.0761(2093537.6793)Grad: 10.5606  \n",
      "Epoch: [20][92/93] Data 0.013 (0.019) Elapsed 1m 16s (remain 0m 0s) Loss: 0.1637(0.0906) 3740274.1077(2060829.8493)Grad: 6.6898  \n",
      "EVAL: [0/46] Data 0.348 (0.348) Elapsed 0m 0s (remain 0m 24s) Loss: 0.1684(0.1684) 3848223.4861(1924111.7431)\n",
      "EVAL: [20/46] Data 0.098 (0.132) Elapsed 0m 7s (remain 0m 8s) Loss: 0.1612(0.0785) 3684183.8755(1750356.6836)\n",
      "EVAL: [40/46] Data 0.100 (0.131) Elapsed 0m 13s (remain 0m 1s) Loss: 0.1305(0.0783) 2982844.3684(1767180.5186)\n"
     ]
    },
    {
     "name": "stderr",
     "output_type": "stream",
     "text": [
      "Epoch 20 - avg_train_loss: 0.0906  avg_val_loss: 0.0777  time: 91s\n",
      "Epoch 20 - MAE: 0.1541294991316762\n",
      "Epoch 20 - Save Best Score: 0.1541 Model\n"
     ]
    },
    {
     "name": "stdout",
     "output_type": "stream",
     "text": [
      "EVAL: [45/46] Data 0.022 (0.126) Elapsed 0m 15s (remain 0m 0s) Loss: 0.1061(0.0777) 2425234.6128(1760845.2770)\n",
      "Epoch: [21][0/93] Data 0.344 (0.344) Elapsed 0m 1s (remain 1m 44s) Loss: 0.1235(0.1235) 2822266.7101(1411133.3551)Grad: 3.1034  \n",
      "Epoch: [21][20/93] Data 0.013 (0.029) Elapsed 0m 17s (remain 0m 59s) Loss: 0.1494(0.0779) 3413954.1221(1738109.3634)Grad: 6.7351  \n",
      "Epoch: [21][40/93] Data 0.013 (0.022) Elapsed 0m 33s (remain 0m 43s) Loss: 0.1737(0.0829) 3967999.9531(1871784.0904)Grad: 4.1328  \n",
      "Epoch: [21][60/93] Data 0.014 (0.019) Elapsed 0m 50s (remain 0m 26s) Loss: 0.1753(0.0829) 4005233.9853(1879378.4031)Grad: 9.6344  \n",
      "Epoch: [21][80/93] Data 0.014 (0.018) Elapsed 1m 6s (remain 0m 9s) Loss: 0.1735(0.0834) 3964810.0405(1893302.1403)Grad: 4.0498  \n",
      "Epoch: [21][92/93] Data 0.015 (0.017) Elapsed 1m 16s (remain 0m 0s) Loss: 0.1820(0.0841) 4158226.1956(1913620.5261)Grad: 7.2408  \n",
      "EVAL: [0/46] Data 0.399 (0.399) Elapsed 0m 0s (remain 0m 26s) Loss: 0.1725(0.1725) 3941797.3188(1970898.6594)\n",
      "EVAL: [20/46] Data 0.102 (0.120) Elapsed 0m 6s (remain 0m 7s) Loss: 0.1946(0.0930) 4445883.5148(2074979.9634)\n",
      "EVAL: [40/46] Data 0.102 (0.119) Elapsed 0m 13s (remain 0m 1s) Loss: 0.1623(0.0867) 3708201.3397(1956825.2937)\n"
     ]
    },
    {
     "name": "stderr",
     "output_type": "stream",
     "text": [
      "Epoch 21 - avg_train_loss: 0.0841  avg_val_loss: 0.0869  time: 91s\n",
      "Epoch 21 - MAE: 0.17251788097638368\n"
     ]
    },
    {
     "name": "stdout",
     "output_type": "stream",
     "text": [
      "EVAL: [45/46] Data 0.026 (0.117) Elapsed 0m 14s (remain 0m 0s) Loss: 0.1346(0.0869) 3075749.1672(1970922.4835)\n",
      "Epoch: [22][0/93] Data 0.346 (0.346) Elapsed 0m 1s (remain 1m 45s) Loss: 0.2196(0.2196) 5017341.9307(2508670.9654)Grad: 11.8485  \n",
      "Epoch: [22][20/93] Data 0.013 (0.030) Elapsed 0m 17s (remain 1m 0s) Loss: 0.1194(0.0887) 2727219.4708(1977629.9887)Grad: 7.3353  \n",
      "Epoch: [22][40/93] Data 0.013 (0.022) Elapsed 0m 33s (remain 0m 42s) Loss: 0.1596(0.0859) 3646578.3849(1939429.8468)Grad: 2.5968  \n",
      "Epoch: [22][60/93] Data 0.013 (0.019) Elapsed 0m 50s (remain 0m 26s) Loss: 0.1974(0.0866) 4510748.1345(1962372.1141)Grad: 11.1889  \n",
      "Epoch: [22][80/93] Data 0.022 (0.018) Elapsed 1m 6s (remain 0m 9s) Loss: 0.1633(0.0852) 3730718.6700(1935001.6546)Grad: 3.2535  \n",
      "Epoch: [22][92/93] Data 0.013 (0.018) Elapsed 1m 16s (remain 0m 0s) Loss: 0.1444(0.0851) 3298365.5006(1936236.5786)Grad: 3.5505  \n",
      "EVAL: [0/46] Data 0.343 (0.343) Elapsed 0m 0s (remain 0m 24s) Loss: 0.1929(0.1929) 4406990.3468(2203495.1734)\n",
      "EVAL: [20/46] Data 0.096 (0.129) Elapsed 0m 6s (remain 0m 8s) Loss: 0.2089(0.0988) 4773574.9347(2203924.8613)\n",
      "EVAL: [40/46] Data 0.104 (0.116) Elapsed 0m 12s (remain 0m 1s) Loss: 0.1821(0.0971) 4161008.5593(2190513.7326)\n"
     ]
    },
    {
     "name": "stderr",
     "output_type": "stream",
     "text": [
      "Epoch 22 - avg_train_loss: 0.0851  avg_val_loss: 0.0973  time: 91s\n",
      "Epoch 22 - MAE: 0.19311515597950615\n"
     ]
    },
    {
     "name": "stdout",
     "output_type": "stream",
     "text": [
      "EVAL: [45/46] Data 0.027 (0.112) Elapsed 0m 14s (remain 0m 0s) Loss: 0.1796(0.0973) 4103132.8750(2206235.0979)\n",
      "Epoch: [23][0/93] Data 0.349 (0.349) Elapsed 0m 1s (remain 1m 53s) Loss: 0.1953(0.1953) 4462626.0445(2231313.0222)Grad: 10.4339  \n",
      "Epoch: [23][20/93] Data 0.013 (0.030) Elapsed 0m 17s (remain 1m 0s) Loss: 0.1752(0.0812) 4003993.9744(1812172.8865)Grad: 7.2807  \n",
      "Epoch: [23][40/93] Data 0.013 (0.022) Elapsed 0m 34s (remain 0m 43s) Loss: 0.1888(0.0821) 4314653.4607(1853914.3386)Grad: 5.6441  \n",
      "Epoch: [23][60/93] Data 0.013 (0.020) Elapsed 0m 50s (remain 0m 26s) Loss: 0.1618(0.0794) 3696069.8663(1799528.9810)Grad: 3.6558  \n",
      "Epoch: [23][80/93] Data 0.013 (0.018) Elapsed 1m 6s (remain 0m 9s) Loss: 0.1828(0.0819) 4176715.0228(1859312.6397)Grad: 4.8519  \n",
      "Epoch: [23][92/93] Data 0.013 (0.018) Elapsed 1m 16s (remain 0m 0s) Loss: 0.1670(0.0817) 3815713.5479(1859759.1835)Grad: 9.8024  \n",
      "EVAL: [0/46] Data 0.358 (0.358) Elapsed 0m 0s (remain 0m 25s) Loss: 0.2276(0.2276) 5200527.1452(2600263.5726)\n",
      "EVAL: [20/46] Data 0.098 (0.125) Elapsed 0m 6s (remain 0m 8s) Loss: 0.1814(0.0970) 4143854.3951(2164217.0738)\n",
      "EVAL: [40/46] Data 0.226 (0.118) Elapsed 0m 13s (remain 0m 1s) Loss: 0.2155(0.0931) 4924464.3699(2100681.7395)\n"
     ]
    },
    {
     "name": "stderr",
     "output_type": "stream",
     "text": [
      "Epoch 23 - avg_train_loss: 0.0817  avg_val_loss: 0.0932  time: 91s\n",
      "Epoch 23 - MAE: 0.18488427632068982\n"
     ]
    },
    {
     "name": "stdout",
     "output_type": "stream",
     "text": [
      "EVAL: [45/46] Data 0.031 (0.117) Elapsed 0m 14s (remain 0m 0s) Loss: 0.1362(0.0932) 3111431.3133(2112201.7963)\n",
      "Epoch: [24][0/93] Data 0.347 (0.347) Elapsed 0m 1s (remain 1m 46s) Loss: 0.1573(0.1573) 3593875.2004(1796937.6002)Grad: 4.2747  \n",
      "Epoch: [24][20/93] Data 0.016 (0.030) Elapsed 0m 17s (remain 1m 0s) Loss: 0.1196(0.0824) 2733419.0143(1837029.4276)Grad: 5.1865  \n",
      "Epoch: [24][40/93] Data 0.014 (0.022) Elapsed 0m 33s (remain 0m 42s) Loss: 0.1675(0.0811) 3827051.0331(1830377.9970)Grad: 6.0190  \n",
      "Epoch: [24][60/93] Data 0.013 (0.019) Elapsed 0m 50s (remain 0m 26s) Loss: 0.1742(0.0827) 3980384.3996(1875090.0421)Grad: 4.5629  \n",
      "Epoch: [24][80/93] Data 0.013 (0.018) Elapsed 1m 6s (remain 0m 9s) Loss: 0.2596(0.0845) 5931498.2128(1919705.6256)Grad: 15.5248  \n",
      "Epoch: [24][92/93] Data 0.013 (0.017) Elapsed 1m 16s (remain 0m 0s) Loss: 0.2196(0.0855) 5018152.6023(1945767.6457)Grad: 5.2353  \n",
      "EVAL: [0/46] Data 0.355 (0.355) Elapsed 0m 0s (remain 0m 25s) Loss: 0.1511(0.1511) 3451978.3974(1725989.1987)\n",
      "EVAL: [20/46] Data 0.101 (0.135) Elapsed 0m 7s (remain 0m 8s) Loss: 0.2303(0.0886) 5262455.5064(1975285.9666)\n",
      "EVAL: [40/46] Data 0.106 (0.126) Elapsed 0m 13s (remain 0m 1s) Loss: 0.2055(0.0892) 4696554.3274(2013716.0579)\n"
     ]
    },
    {
     "name": "stderr",
     "output_type": "stream",
     "text": [
      "Epoch 24 - avg_train_loss: 0.0855  avg_val_loss: 0.0883  time: 91s\n",
      "Epoch 24 - MAE: 0.17511622054974268\n"
     ]
    },
    {
     "name": "stdout",
     "output_type": "stream",
     "text": [
      "EVAL: [45/46] Data 0.034 (0.122) Elapsed 0m 14s (remain 0m 0s) Loss: 0.1359(0.0883) 3105419.5419(2000607.1129)\n",
      "Epoch: [25][0/93] Data 0.353 (0.353) Elapsed 0m 1s (remain 1m 46s) Loss: 0.1999(0.1999) 4567946.6136(2283973.3068)Grad: 6.0047  \n",
      "Epoch: [25][20/93] Data 0.019 (0.031) Elapsed 0m 17s (remain 1m 0s) Loss: 0.2610(0.0835) 5963955.0369(1862797.7857)Grad: 16.3234  \n",
      "Epoch: [25][40/93] Data 0.014 (0.022) Elapsed 0m 33s (remain 0m 43s) Loss: 0.1712(0.0820) 3911825.9640(1850110.6405)Grad: 4.4373  \n",
      "Epoch: [25][60/93] Data 0.016 (0.020) Elapsed 0m 50s (remain 0m 26s) Loss: 0.1458(0.0815) 3331885.9694(1847024.0733)Grad: 3.4335  \n",
      "Epoch: [25][80/93] Data 0.014 (0.018) Elapsed 1m 6s (remain 0m 9s) Loss: 0.1408(0.0791) 3216690.9373(1795367.0520)Grad: 4.4601  \n",
      "Epoch: [25][92/93] Data 0.014 (0.018) Elapsed 1m 16s (remain 0m 0s) Loss: 0.2062(0.0783) 4710460.6983(1781582.9243)Grad: 8.5392  \n",
      "EVAL: [0/46] Data 0.363 (0.363) Elapsed 0m 0s (remain 0m 25s) Loss: 0.1585(0.1585) 3622252.7906(1811126.3953)\n",
      "EVAL: [20/46] Data 0.160 (0.134) Elapsed 0m 7s (remain 0m 8s) Loss: 0.1625(0.0798) 3713526.7130(1780546.5302)\n",
      "EVAL: [40/46] Data 0.097 (0.131) Elapsed 0m 13s (remain 0m 1s) Loss: 0.1447(0.0768) 3305682.3136(1733277.8581)\n"
     ]
    },
    {
     "name": "stderr",
     "output_type": "stream",
     "text": [
      "Epoch 25 - avg_train_loss: 0.0783  avg_val_loss: 0.0765  time: 92s\n",
      "Epoch 25 - MAE: 0.15174310165171756\n",
      "Epoch 25 - Save Best Score: 0.1517 Model\n"
     ]
    },
    {
     "name": "stdout",
     "output_type": "stream",
     "text": [
      "EVAL: [45/46] Data 0.025 (0.126) Elapsed 0m 15s (remain 0m 0s) Loss: 0.1143(0.0765) 2612341.5914(1733581.9838)\n",
      "Epoch: [26][0/93] Data 0.355 (0.355) Elapsed 0m 1s (remain 1m 53s) Loss: 0.1666(0.1666) 3805700.8520(1902850.4260)Grad: 8.0507  \n",
      "Epoch: [26][20/93] Data 0.013 (0.031) Elapsed 0m 17s (remain 1m 0s) Loss: 0.1357(0.0772) 3099585.4986(1722959.8850)Grad: 4.5285  \n",
      "Epoch: [26][40/93] Data 0.014 (0.023) Elapsed 0m 34s (remain 0m 43s) Loss: 0.1181(0.0759) 2697883.6131(1713612.9692)Grad: 9.9583  \n",
      "Epoch: [26][60/93] Data 0.014 (0.020) Elapsed 0m 50s (remain 0m 26s) Loss: 0.1311(0.0778) 2994383.0744(1763337.3794)Grad: 6.9757  \n",
      "Epoch: [26][80/93] Data 0.014 (0.019) Elapsed 1m 7s (remain 0m 9s) Loss: 0.1805(0.0780) 4124953.5929(1770494.5820)Grad: 5.9528  \n",
      "Epoch: [26][92/93] Data 0.014 (0.018) Elapsed 1m 16s (remain 0m 0s) Loss: 0.1186(0.0773) 2709547.4438(1758338.7999)Grad: 5.0072  \n",
      "EVAL: [0/46] Data 0.361 (0.361) Elapsed 0m 0s (remain 0m 25s) Loss: 0.1288(0.1288) 2944011.1240(1472005.5620)\n",
      "EVAL: [20/46] Data 0.104 (0.135) Elapsed 0m 7s (remain 0m 8s) Loss: 0.1755(0.0851) 4010982.5693(1897067.4783)\n",
      "EVAL: [40/46] Data 0.100 (0.136) Elapsed 0m 13s (remain 0m 1s) Loss: 0.1537(0.0827) 3512967.0468(1867370.7132)\n"
     ]
    },
    {
     "name": "stderr",
     "output_type": "stream",
     "text": [
      "Epoch 26 - avg_train_loss: 0.0773  avg_val_loss: 0.0821  time: 92s\n",
      "Epoch 26 - MAE: 0.16282741359909728\n"
     ]
    },
    {
     "name": "stdout",
     "output_type": "stream",
     "text": [
      "EVAL: [45/46] Data 0.052 (0.132) Elapsed 0m 15s (remain 0m 0s) Loss: 0.1327(0.0821) 3031366.5168(1860214.2117)\n",
      "Epoch: [27][0/93] Data 0.360 (0.360) Elapsed 0m 1s (remain 1m 46s) Loss: 0.1888(0.1888) 4312921.8036(2156460.9018)Grad: 4.8955  \n",
      "Epoch: [27][20/93] Data 0.013 (0.030) Elapsed 0m 17s (remain 0m 59s) Loss: 0.2038(0.0769) 4657007.1064(1716338.4968)Grad: 12.8471  \n",
      "Epoch: [27][40/93] Data 0.013 (0.023) Elapsed 0m 33s (remain 0m 43s) Loss: 0.2602(0.0770) 5945520.3453(1738309.1023)Grad: 11.6314  \n",
      "Epoch: [27][60/93] Data 0.013 (0.020) Elapsed 0m 50s (remain 0m 26s) Loss: 0.1256(0.0768) 2870047.6439(1741522.1593)Grad: 8.3077  \n",
      "Epoch: [27][80/93] Data 0.014 (0.019) Elapsed 1m 6s (remain 0m 9s) Loss: 0.1685(0.0760) 3850734.1506(1726726.6302)Grad: 12.2278  \n",
      "Epoch: [27][92/93] Data 0.013 (0.018) Elapsed 1m 16s (remain 0m 0s) Loss: 0.1676(0.0745) 3828753.7498(1694677.7168)Grad: 8.8494  \n",
      "EVAL: [0/46] Data 0.348 (0.348) Elapsed 0m 0s (remain 0m 24s) Loss: 0.1319(0.1319) 3012816.4041(1506408.2021)\n",
      "EVAL: [20/46] Data 0.109 (0.117) Elapsed 0m 6s (remain 0m 7s) Loss: 0.1465(0.0700) 3346997.6226(1561189.6352)\n",
      "EVAL: [40/46] Data 0.099 (0.119) Elapsed 0m 13s (remain 0m 1s) Loss: 0.1339(0.0679) 3059400.2270(1531566.9828)\n"
     ]
    },
    {
     "name": "stderr",
     "output_type": "stream",
     "text": [
      "Epoch 27 - avg_train_loss: 0.0745  avg_val_loss: 0.0682  time: 91s\n",
      "Epoch 27 - MAE: 0.135404721221319\n",
      "Epoch 27 - Save Best Score: 0.1354 Model\n"
     ]
    },
    {
     "name": "stdout",
     "output_type": "stream",
     "text": [
      "EVAL: [45/46] Data 0.027 (0.117) Elapsed 0m 14s (remain 0m 0s) Loss: 0.1249(0.0682) 2854147.1096(1546924.9310)\n",
      "Epoch: [28][0/93] Data 0.410 (0.410) Elapsed 0m 1s (remain 2m 7s) Loss: 0.1213(0.1213) 2770647.9393(1385323.9697)Grad: 8.0014  \n",
      "Epoch: [28][20/93] Data 0.013 (0.033) Elapsed 0m 17s (remain 1m 1s) Loss: 0.1177(0.0617) 2690036.5099(1376307.6259)Grad: 4.1970  \n",
      "Epoch: [28][40/93] Data 0.013 (0.024) Elapsed 0m 34s (remain 0m 43s) Loss: 0.1478(0.0646) 3376984.9797(1458626.9049)Grad: 9.2049  \n",
      "Epoch: [28][60/93] Data 0.014 (0.021) Elapsed 0m 50s (remain 0m 26s) Loss: 0.1556(0.0664) 3555246.5817(1503670.4378)Grad: 9.8525  \n",
      "Epoch: [28][80/93] Data 0.013 (0.019) Elapsed 1m 7s (remain 0m 9s) Loss: 0.0982(0.0682) 2244180.9436(1548381.0338)Grad: 5.7421  \n",
      "Epoch: [28][92/93] Data 0.014 (0.019) Elapsed 1m 16s (remain 0m 0s) Loss: 0.1373(0.0693) 3138139.8938(1577764.5081)Grad: 5.1974  \n",
      "EVAL: [0/46] Data 0.350 (0.350) Elapsed 0m 0s (remain 0m 24s) Loss: 0.1740(0.1740) 3975996.6951(1987998.3476)\n",
      "EVAL: [20/46] Data 0.104 (0.130) Elapsed 0m 6s (remain 0m 8s) Loss: 0.1559(0.0827) 3562246.7527(1845053.3469)\n",
      "EVAL: [40/46] Data 0.103 (0.117) Elapsed 0m 13s (remain 0m 1s) Loss: 0.1577(0.0819) 3603325.7718(1849061.7878)\n"
     ]
    },
    {
     "name": "stderr",
     "output_type": "stream",
     "text": [
      "Epoch 28 - avg_train_loss: 0.0693  avg_val_loss: 0.0812  time: 91s\n",
      "Epoch 28 - MAE: 0.1611495392726042\n"
     ]
    },
    {
     "name": "stdout",
     "output_type": "stream",
     "text": [
      "EVAL: [45/46] Data 0.029 (0.114) Elapsed 0m 14s (remain 0m 0s) Loss: 0.1548(0.0812) 3538044.0700(1841045.4001)\n",
      "Epoch: [29][0/93] Data 0.393 (0.393) Elapsed 0m 1s (remain 1m 59s) Loss: 0.1598(0.1598) 3650626.9760(1825313.4880)Grad: 12.3861  \n",
      "Epoch: [29][20/93] Data 0.013 (0.033) Elapsed 0m 17s (remain 1m 0s) Loss: 0.1715(0.0789) 3919341.2741(1760080.1093)Grad: 16.2920  \n",
      "Epoch: [29][40/93] Data 0.021 (0.024) Elapsed 0m 34s (remain 0m 43s) Loss: 0.1682(0.0744) 3843744.1938(1678173.5260)Grad: 8.0510  \n",
      "Epoch: [29][60/93] Data 0.013 (0.021) Elapsed 0m 50s (remain 0m 26s) Loss: 0.1972(0.0751) 4506074.0904(1700984.6075)Grad: 11.5587  \n",
      "Epoch: [29][80/93] Data 0.013 (0.019) Elapsed 1m 6s (remain 0m 9s) Loss: 0.1393(0.0735) 3182699.2508(1668921.1700)Grad: 4.0734  \n",
      "Epoch: [29][92/93] Data 0.013 (0.019) Elapsed 1m 16s (remain 0m 0s) Loss: 0.1219(0.0722) 2785752.6128(1643321.7831)Grad: 11.3005  \n",
      "EVAL: [0/46] Data 0.368 (0.368) Elapsed 0m 0s (remain 0m 26s) Loss: 0.1330(0.1330) 3039742.8888(1519871.4444)\n",
      "EVAL: [20/46] Data 0.106 (0.136) Elapsed 0m 7s (remain 0m 8s) Loss: 0.1596(0.0713) 3646145.9813(1589405.6982)\n",
      "EVAL: [40/46] Data 0.095 (0.128) Elapsed 0m 13s (remain 0m 1s) Loss: 0.1358(0.0708) 3101910.2635(1598668.4792)\n"
     ]
    },
    {
     "name": "stderr",
     "output_type": "stream",
     "text": [
      "Epoch 29 - avg_train_loss: 0.0722  avg_val_loss: 0.0708  time: 92s\n",
      "Epoch 29 - MAE: 0.14050213290246058\n"
     ]
    },
    {
     "name": "stdout",
     "output_type": "stream",
     "text": [
      "EVAL: [45/46] Data 0.029 (0.124) Elapsed 0m 14s (remain 0m 0s) Loss: 0.1280(0.0708) 2925795.0175(1605160.0742)\n",
      "Epoch: [30][0/93] Data 0.391 (0.391) Elapsed 0m 1s (remain 1m 50s) Loss: 0.1120(0.1120) 2558849.5258(1279424.7629)Grad: 4.6154  \n",
      "Epoch: [30][20/93] Data 0.013 (0.033) Elapsed 0m 17s (remain 1m 0s) Loss: 0.1043(0.0720) 2383623.2607(1606181.4809)Grad: 9.9828  \n",
      "Epoch: [30][40/93] Data 0.013 (0.024) Elapsed 0m 34s (remain 0m 43s) Loss: 0.0900(0.0673) 2056394.5467(1519139.8856)Grad: 7.2101  \n",
      "Epoch: [30][60/93] Data 0.013 (0.021) Elapsed 0m 50s (remain 0m 26s) Loss: 0.1402(0.0668) 3203040.6038(1513743.9184)Grad: 4.4971  \n",
      "Epoch: [30][80/93] Data 0.014 (0.019) Elapsed 1m 6s (remain 0m 9s) Loss: 0.1281(0.0660) 2926861.3860(1498300.2391)Grad: 5.2923  \n",
      "Epoch: [30][92/93] Data 0.019 (0.019) Elapsed 1m 16s (remain 0m 0s) Loss: 0.1661(0.0655) 3795303.4190(1491193.2876)Grad: 10.5448  \n",
      "EVAL: [0/46] Data 0.361 (0.361) Elapsed 0m 0s (remain 0m 25s) Loss: 0.1642(0.1642) 3752636.4233(1876318.2117)\n",
      "EVAL: [20/46] Data 0.131 (0.132) Elapsed 0m 6s (remain 0m 8s) Loss: 0.1621(0.0780) 3702996.4947(1739034.4063)\n",
      "EVAL: [40/46] Data 0.099 (0.125) Elapsed 0m 13s (remain 0m 1s) Loss: 0.1359(0.0780) 3106158.3732(1760366.1640)\n"
     ]
    },
    {
     "name": "stderr",
     "output_type": "stream",
     "text": [
      "Epoch 30 - avg_train_loss: 0.0655  avg_val_loss: 0.0784  time: 92s\n",
      "Epoch 30 - MAE: 0.15552663250953805\n"
     ]
    },
    {
     "name": "stdout",
     "output_type": "stream",
     "text": [
      "EVAL: [45/46] Data 0.029 (0.122) Elapsed 0m 14s (remain 0m 0s) Loss: 0.1940(0.0784) 4432640.0493(1776806.7703)\n",
      "Epoch: [31][0/93] Data 0.350 (0.350) Elapsed 0m 1s (remain 1m 45s) Loss: 0.1172(0.1172) 2676815.1752(1338407.5876)Grad: 3.4565  \n",
      "Epoch: [31][20/93] Data 0.013 (0.030) Elapsed 0m 17s (remain 1m 0s) Loss: 0.1298(0.0693) 2966066.4293(1545810.6197)Grad: 9.5899  \n",
      "Epoch: [31][40/93] Data 0.013 (0.022) Elapsed 0m 34s (remain 0m 43s) Loss: 0.2801(0.0702) 6398912.1608(1585229.2217)Grad: 13.6542  \n",
      "Epoch: [31][60/93] Data 0.014 (0.020) Elapsed 0m 50s (remain 0m 26s) Loss: 0.1671(0.0735) 3817527.6000(1664747.7156)Grad: 7.1931  \n",
      "Epoch: [31][80/93] Data 0.013 (0.019) Elapsed 1m 7s (remain 0m 9s) Loss: 0.1196(0.0723) 2732729.2114(1641316.3262)Grad: 12.4452  \n",
      "Epoch: [31][92/93] Data 0.014 (0.018) Elapsed 1m 16s (remain 0m 0s) Loss: 0.1019(0.0718) 2327642.6616(1634744.2212)Grad: 6.8402  \n",
      "EVAL: [0/46] Data 0.399 (0.399) Elapsed 0m 0s (remain 0m 26s) Loss: 0.1251(0.1251) 2858679.8565(1429339.9282)\n",
      "EVAL: [20/46] Data 0.103 (0.148) Elapsed 0m 7s (remain 0m 8s) Loss: 0.1594(0.0795) 3642469.5296(1772628.9446)\n",
      "EVAL: [40/46] Data 0.108 (0.129) Elapsed 0m 13s (remain 0m 1s) Loss: 0.1474(0.0758) 3367559.9440(1711610.4267)\n"
     ]
    },
    {
     "name": "stderr",
     "output_type": "stream",
     "text": [
      "Epoch 31 - avg_train_loss: 0.0718  avg_val_loss: 0.0760  time: 92s\n",
      "Epoch 31 - MAE: 0.15079369675409335\n"
     ]
    },
    {
     "name": "stdout",
     "output_type": "stream",
     "text": [
      "EVAL: [45/46] Data 0.125 (0.128) Elapsed 0m 15s (remain 0m 0s) Loss: 0.1628(0.0760) 3718663.4630(1722735.5585)\n",
      "Epoch: [32][0/93] Data 0.396 (0.396) Elapsed 0m 1s (remain 1m 50s) Loss: 0.0871(0.0871) 1990745.8125(995372.9063)Grad: 3.9566  \n",
      "Epoch: [32][20/93] Data 0.013 (0.032) Elapsed 0m 17s (remain 1m 0s) Loss: 0.1528(0.0645) 3490739.4610(1437963.1569)Grad: 4.4082  \n",
      "Epoch: [32][40/93] Data 0.016 (0.024) Elapsed 0m 34s (remain 0m 43s) Loss: 0.1117(0.0689) 2552903.4662(1555456.2705)Grad: 4.2137  \n",
      "Epoch: [32][60/93] Data 0.014 (0.021) Elapsed 0m 50s (remain 0m 26s) Loss: 0.0916(0.0659) 2092123.3378(1494081.3838)Grad: 6.7894  \n",
      "Epoch: [32][80/93] Data 0.019 (0.019) Elapsed 1m 7s (remain 0m 9s) Loss: 0.1320(0.0646) 3015454.4063(1466361.8622)Grad: 5.8305  \n",
      "Epoch: [32][92/93] Data 0.014 (0.018) Elapsed 1m 16s (remain 0m 0s) Loss: 0.1453(0.0648) 3320420.8060(1475420.8178)Grad: 9.0486  \n",
      "EVAL: [0/46] Data 0.415 (0.415) Elapsed 0m 0s (remain 0m 27s) Loss: 0.1270(0.1270) 2902512.9798(1451256.4899)\n",
      "EVAL: [20/46] Data 0.113 (0.140) Elapsed 0m 7s (remain 0m 8s) Loss: 0.1539(0.0695) 3516385.7587(1550229.7979)\n",
      "EVAL: [40/46] Data 0.100 (0.130) Elapsed 0m 13s (remain 0m 1s) Loss: 0.1197(0.0714) 2736076.7640(1611467.3837)\n"
     ]
    },
    {
     "name": "stderr",
     "output_type": "stream",
     "text": [
      "Epoch 32 - avg_train_loss: 0.0648  avg_val_loss: 0.0715  time: 92s\n",
      "Epoch 32 - MAE: 0.1419525339737311\n"
     ]
    },
    {
     "name": "stdout",
     "output_type": "stream",
     "text": [
      "EVAL: [45/46] Data 0.029 (0.125) Elapsed 0m 15s (remain 0m 0s) Loss: 0.1809(0.0715) 4132518.2718(1621730.1092)\n",
      "Epoch: [33][0/93] Data 0.363 (0.363) Elapsed 0m 1s (remain 1m 46s) Loss: 0.1310(0.1310) 2993769.8785(1496884.9392)Grad: 10.8239  \n",
      "Epoch: [33][20/93] Data 0.014 (0.031) Elapsed 0m 17s (remain 1m 0s) Loss: 0.1949(0.0672) 4452530.9535(1498179.0411)Grad: 13.5593  \n",
      "Epoch: [33][40/93] Data 0.015 (0.023) Elapsed 0m 33s (remain 0m 43s) Loss: 0.1607(0.0693) 3672122.8805(1563923.4082)Grad: 4.6876  \n",
      "Epoch: [33][60/93] Data 0.014 (0.020) Elapsed 0m 50s (remain 0m 26s) Loss: 0.1220(0.0689) 2788583.4942(1561183.3025)Grad: 7.5595  \n",
      "Epoch: [33][80/93] Data 0.014 (0.019) Elapsed 1m 6s (remain 0m 9s) Loss: 0.1202(0.0668) 2746836.2925(1517987.9332)Grad: 7.3258  \n",
      "Epoch: [33][92/93] Data 0.015 (0.018) Elapsed 1m 16s (remain 0m 0s) Loss: 0.1162(0.0659) 2655871.3513(1499093.7820)Grad: 4.0974  \n",
      "EVAL: [0/46] Data 0.358 (0.358) Elapsed 0m 0s (remain 0m 25s) Loss: 0.1115(0.1115) 2548519.5069(1274259.7535)\n",
      "EVAL: [20/46] Data 0.105 (0.125) Elapsed 0m 6s (remain 0m 8s) Loss: 0.1248(0.0593) 2850838.3711(1323584.0778)\n",
      "EVAL: [40/46] Data 0.101 (0.134) Elapsed 0m 13s (remain 0m 1s) Loss: 0.1143(0.0580) 2611704.2217(1309067.0504)\n"
     ]
    },
    {
     "name": "stderr",
     "output_type": "stream",
     "text": [
      "Epoch 33 - avg_train_loss: 0.0659  avg_val_loss: 0.0581  time: 92s\n",
      "Epoch 33 - MAE: 0.11524021118174765\n",
      "Epoch 33 - Save Best Score: 0.1152 Model\n"
     ]
    },
    {
     "name": "stdout",
     "output_type": "stream",
     "text": [
      "EVAL: [45/46] Data 0.036 (0.130) Elapsed 0m 15s (remain 0m 0s) Loss: 0.1072(0.0581) 2448831.0794(1316556.4368)\n",
      "Epoch: [34][0/93] Data 0.350 (0.350) Elapsed 0m 1s (remain 1m 45s) Loss: 0.1388(0.1388) 3171371.6395(1585685.8197)Grad: 13.4046  \n",
      "Epoch: [34][20/93] Data 0.015 (0.031) Elapsed 0m 17s (remain 1m 0s) Loss: 0.1254(0.0614) 2864990.5651(1369590.9856)Grad: 5.8719  \n",
      "Epoch: [34][40/93] Data 0.013 (0.023) Elapsed 0m 34s (remain 0m 43s) Loss: 0.0918(0.0578) 2097361.8899(1304149.8862)Grad: 12.1545  \n",
      "Epoch: [34][60/93] Data 0.013 (0.020) Elapsed 0m 50s (remain 0m 26s) Loss: 0.1071(0.0583) 2447382.1870(1320393.1401)Grad: 6.4745  \n",
      "Epoch: [34][80/93] Data 0.014 (0.019) Elapsed 1m 7s (remain 0m 9s) Loss: 0.1074(0.0605) 2453713.4944(1372877.9076)Grad: 5.1189  \n",
      "Epoch: [34][92/93] Data 0.013 (0.018) Elapsed 1m 16s (remain 0m 0s) Loss: 0.1330(0.0620) 3038032.6816(1409815.9352)Grad: 9.3901  \n",
      "EVAL: [0/46] Data 0.363 (0.363) Elapsed 0m 0s (remain 0m 25s) Loss: 0.1337(0.1337) 3055210.3386(1527605.1693)\n",
      "EVAL: [20/46] Data 0.108 (0.138) Elapsed 0m 7s (remain 0m 8s) Loss: 0.1568(0.0834) 3582808.7336(1860134.2317)\n",
      "EVAL: [40/46] Data 0.285 (0.127) Elapsed 0m 13s (remain 0m 1s) Loss: 0.1883(0.0785) 4302609.4894(1771306.3997)\n"
     ]
    },
    {
     "name": "stderr",
     "output_type": "stream",
     "text": [
      "Epoch 34 - avg_train_loss: 0.0620  avg_val_loss: 0.0770  time: 92s\n",
      "Epoch 34 - MAE: 0.152820270924442\n"
     ]
    },
    {
     "name": "stdout",
     "output_type": "stream",
     "text": [
      "EVAL: [45/46] Data 0.029 (0.131) Elapsed 0m 15s (remain 0m 0s) Loss: 0.1240(0.0770) 2832982.4875(1745888.0775)\n",
      "Epoch: [35][0/93] Data 0.343 (0.343) Elapsed 0m 1s (remain 1m 45s) Loss: 0.1362(0.1362) 3112853.1379(1556426.5689)Grad: 6.1042  \n",
      "Epoch: [35][20/93] Data 0.014 (0.030) Elapsed 0m 17s (remain 1m 0s) Loss: 0.1342(0.0708) 3066943.1155(1580262.7625)Grad: 13.8953  \n",
      "Epoch: [35][40/93] Data 0.013 (0.023) Elapsed 0m 34s (remain 0m 43s) Loss: 0.1269(0.0656) 2898998.9349(1480067.1355)Grad: 7.1157  \n",
      "Epoch: [35][60/93] Data 0.015 (0.020) Elapsed 0m 50s (remain 0m 26s) Loss: 0.1560(0.0637) 3564888.8406(1443148.9050)Grad: 14.1527  \n",
      "Epoch: [35][80/93] Data 0.014 (0.019) Elapsed 1m 7s (remain 0m 9s) Loss: 0.1299(0.0626) 2968169.8854(1420479.3921)Grad: 5.9973  \n",
      "Epoch: [35][92/93] Data 0.013 (0.018) Elapsed 1m 16s (remain 0m 0s) Loss: 0.1439(0.0626) 3287600.0139(1424428.5944)Grad: 10.7556  \n",
      "EVAL: [0/46] Data 0.355 (0.355) Elapsed 0m 0s (remain 0m 25s) Loss: 0.1418(0.1418) 3240080.9056(1620040.4528)\n",
      "EVAL: [20/46] Data 0.113 (0.119) Elapsed 0m 6s (remain 0m 7s) Loss: 0.1628(0.0757) 3720833.9927(1688290.6002)\n",
      "EVAL: [40/46] Data 0.110 (0.121) Elapsed 0m 13s (remain 0m 1s) Loss: 0.1314(0.0717) 3001557.2283(1619394.8827)\n"
     ]
    },
    {
     "name": "stderr",
     "output_type": "stream",
     "text": [
      "Epoch 35 - avg_train_loss: 0.0626  avg_val_loss: 0.0720  time: 91s\n",
      "Epoch 35 - MAE: 0.1428873080441387\n"
     ]
    },
    {
     "name": "stdout",
     "output_type": "stream",
     "text": [
      "EVAL: [45/46] Data 0.027 (0.118) Elapsed 0m 14s (remain 0m 0s) Loss: 0.1399(0.0720) 3197172.1725(1632409.3801)\n",
      "Epoch: [36][0/93] Data 0.368 (0.368) Elapsed 0m 1s (remain 1m 48s) Loss: 0.1268(0.1268) 2898033.3471(1449016.6735)Grad: 7.2682  \n",
      "Epoch: [36][20/93] Data 0.013 (0.032) Elapsed 0m 17s (remain 1m 0s) Loss: 0.0805(0.0603) 1838897.9395(1345492.4802)Grad: 6.6636  \n",
      "Epoch: [36][40/93] Data 0.014 (0.023) Elapsed 0m 34s (remain 0m 43s) Loss: 0.0920(0.0612) 2102866.8639(1382005.2184)Grad: 5.7389  \n",
      "Epoch: [36][60/93] Data 0.014 (0.020) Elapsed 0m 50s (remain 0m 26s) Loss: 0.1187(0.0588) 2712473.3178(1333165.0042)Grad: 7.0931  \n",
      "Epoch: [36][80/93] Data 0.014 (0.019) Elapsed 1m 7s (remain 0m 9s) Loss: 0.0999(0.0591) 2283412.0333(1343081.3575)Grad: 5.6079  \n",
      "Epoch: [36][92/93] Data 0.014 (0.018) Elapsed 1m 17s (remain 0m 0s) Loss: 0.1164(0.0583) 2659011.3843(1326887.0053)Grad: 4.1010  \n",
      "EVAL: [0/46] Data 0.362 (0.362) Elapsed 0m 0s (remain 0m 25s) Loss: 0.1395(0.1395) 3187880.6031(1593940.3015)\n",
      "EVAL: [20/46] Data 0.106 (0.136) Elapsed 0m 7s (remain 0m 8s) Loss: 0.1344(0.0679) 3071984.8729(1514672.1847)\n",
      "EVAL: [40/46] Data 0.110 (0.125) Elapsed 0m 13s (remain 0m 1s) Loss: 0.0986(0.0666) 2253315.8944(1502581.5966)\n"
     ]
    },
    {
     "name": "stderr",
     "output_type": "stream",
     "text": [
      "Epoch 36 - avg_train_loss: 0.0583  avg_val_loss: 0.0662  time: 92s\n",
      "Epoch 36 - MAE: 0.1313951641190242\n"
     ]
    },
    {
     "name": "stdout",
     "output_type": "stream",
     "text": [
      "EVAL: [45/46] Data 0.028 (0.122) Elapsed 0m 14s (remain 0m 0s) Loss: 0.1486(0.0662) 3394611.0426(1501117.9384)\n",
      "Epoch: [37][0/93] Data 0.367 (0.367) Elapsed 0m 1s (remain 1m 56s) Loss: 0.1056(0.1056) 2412726.7440(1206363.3720)Grad: 5.7849  \n",
      "Epoch: [37][20/93] Data 0.014 (0.032) Elapsed 0m 17s (remain 1m 0s) Loss: 0.1067(0.0545) 2438867.7523(1216503.4219)Grad: 6.5969  \n",
      "Epoch: [37][40/93] Data 0.015 (0.024) Elapsed 0m 34s (remain 0m 43s) Loss: 0.1390(0.0547) 3176088.2430(1235332.0023)Grad: 6.8232  \n",
      "Epoch: [37][60/93] Data 0.013 (0.021) Elapsed 0m 50s (remain 0m 26s) Loss: 0.1063(0.0547) 2428371.7517(1239860.8084)Grad: 6.5482  \n",
      "Epoch: [37][80/93] Data 0.014 (0.019) Elapsed 1m 7s (remain 0m 9s) Loss: 0.1220(0.0555) 2788383.6353(1259513.7591)Grad: 7.1073  \n",
      "Epoch: [37][92/93] Data 0.014 (0.019) Elapsed 1m 17s (remain 0m 0s) Loss: 0.0800(0.0557) 1828817.8294(1266405.3544)Grad: 4.2034  \n",
      "EVAL: [0/46] Data 0.367 (0.367) Elapsed 0m 0s (remain 0m 25s) Loss: 0.1279(0.1279) 2922580.2502(1461290.1251)\n",
      "EVAL: [20/46] Data 0.100 (0.140) Elapsed 0m 7s (remain 0m 8s) Loss: 0.1321(0.0618) 3018811.4922(1377380.6944)\n",
      "EVAL: [40/46] Data 0.108 (0.131) Elapsed 0m 13s (remain 0m 1s) Loss: 0.1015(0.0577) 2318221.0306(1302915.1610)\n"
     ]
    },
    {
     "name": "stderr",
     "output_type": "stream",
     "text": [
      "Epoch 37 - avg_train_loss: 0.0557  avg_val_loss: 0.0573  time: 92s\n",
      "Epoch 37 - MAE: 0.11371011193587094\n",
      "Epoch 37 - Save Best Score: 0.1137 Model\n"
     ]
    },
    {
     "name": "stdout",
     "output_type": "stream",
     "text": [
      "EVAL: [45/46] Data 0.026 (0.127) Elapsed 0m 15s (remain 0m 0s) Loss: 0.0752(0.0573) 1717961.6436(1299075.8769)\n",
      "Epoch: [38][0/93] Data 0.354 (0.354) Elapsed 0m 1s (remain 1m 46s) Loss: 0.0982(0.0982) 2244858.4893(1122429.2447)Grad: 4.7778  \n",
      "Epoch: [38][20/93] Data 0.014 (0.031) Elapsed 0m 17s (remain 1m 0s) Loss: 0.1160(0.0584) 2651445.8541(1303671.4683)Grad: 8.0522  \n",
      "Epoch: [38][40/93] Data 0.014 (0.023) Elapsed 0m 34s (remain 0m 43s) Loss: 0.1135(0.0548) 2593727.4693(1237441.7467)Grad: 3.7525  \n",
      "Epoch: [38][60/93] Data 0.013 (0.020) Elapsed 0m 50s (remain 0m 26s) Loss: 0.0786(0.0546) 1795760.7475(1237964.5371)Grad: 6.0332  \n",
      "Epoch: [38][80/93] Data 0.014 (0.019) Elapsed 1m 7s (remain 0m 9s) Loss: 0.1177(0.0538) 2689128.6327(1222397.5009)Grad: 3.2033  \n",
      "Epoch: [38][92/93] Data 0.014 (0.018) Elapsed 1m 17s (remain 0m 0s) Loss: 0.1157(0.0540) 2642803.4008(1227753.3890)Grad: 4.7855  \n",
      "EVAL: [0/46] Data 0.370 (0.370) Elapsed 0m 0s (remain 0m 25s) Loss: 0.1234(0.1234) 2819598.7461(1409799.3730)\n",
      "EVAL: [20/46] Data 0.106 (0.121) Elapsed 0m 6s (remain 0m 8s) Loss: 0.1303(0.0619) 2976604.8191(1381381.2785)\n",
      "EVAL: [40/46] Data 0.106 (0.120) Elapsed 0m 13s (remain 0m 1s) Loss: 0.1150(0.0613) 2627597.2657(1384610.3066)\n"
     ]
    },
    {
     "name": "stderr",
     "output_type": "stream",
     "text": [
      "Epoch 38 - avg_train_loss: 0.0540  avg_val_loss: 0.0612  time: 92s\n",
      "Epoch 38 - MAE: 0.12144194135333122\n"
     ]
    },
    {
     "name": "stdout",
     "output_type": "stream",
     "text": [
      "EVAL: [45/46] Data 0.033 (0.117) Elapsed 0m 14s (remain 0m 0s) Loss: 0.1044(0.0612) 2384388.8193(1387407.8097)\n",
      "Epoch: [39][0/93] Data 0.377 (0.377) Elapsed 0m 1s (remain 1m 48s) Loss: 0.0774(0.0774) 1769164.1834(884582.0917)Grad: 7.4169  \n",
      "Epoch: [39][20/93] Data 0.014 (0.032) Elapsed 0m 17s (remain 1m 1s) Loss: 0.1179(0.0521) 2693602.3071(1163173.8968)Grad: 10.6859  \n",
      "Epoch: [39][40/93] Data 0.014 (0.023) Elapsed 0m 34s (remain 0m 43s) Loss: 0.0811(0.0558) 1853684.7793(1259557.6650)Grad: 2.9567  \n",
      "Epoch: [39][60/93] Data 0.015 (0.021) Elapsed 0m 50s (remain 0m 26s) Loss: 0.1265(0.0566) 2889795.8890(1283545.7811)Grad: 15.7260  \n",
      "Epoch: [39][80/93] Data 0.014 (0.019) Elapsed 1m 7s (remain 0m 9s) Loss: 0.0897(0.0557) 2050287.6125(1265615.0308)Grad: 7.9155  \n",
      "Epoch: [39][92/93] Data 0.016 (0.019) Elapsed 1m 17s (remain 0m 0s) Loss: 0.1340(0.0557) 3061487.3402(1266773.6894)Grad: 12.0163  \n",
      "EVAL: [0/46] Data 0.375 (0.375) Elapsed 0m 0s (remain 0m 25s) Loss: 0.1047(0.1047) 2393266.2005(1196633.1003)\n",
      "EVAL: [20/46] Data 0.114 (0.153) Elapsed 0m 7s (remain 0m 8s) Loss: 0.1133(0.0531) 2589514.9394(1183975.2075)\n",
      "EVAL: [40/46] Data 0.104 (0.133) Elapsed 0m 13s (remain 0m 1s) Loss: 0.0983(0.0496) 2246839.2041(1120355.7702)\n"
     ]
    },
    {
     "name": "stderr",
     "output_type": "stream",
     "text": [
      "Epoch 39 - avg_train_loss: 0.0557  avg_val_loss: 0.0493  time: 93s\n",
      "Epoch 39 - MAE: 0.09789515426469017\n",
      "Epoch 39 - Save Best Score: 0.0979 Model\n"
     ]
    },
    {
     "name": "stdout",
     "output_type": "stream",
     "text": [
      "EVAL: [45/46] Data 0.043 (0.134) Elapsed 0m 15s (remain 0m 0s) Loss: 0.1020(0.0493) 2330498.2274(1118398.6077)\n",
      "Epoch: [40][0/93] Data 0.354 (0.354) Elapsed 0m 1s (remain 1m 46s) Loss: 0.0879(0.0879) 2009449.3094(1004724.6547)Grad: 2.9932  \n",
      "Epoch: [40][20/93] Data 0.020 (0.032) Elapsed 0m 17s (remain 1m 0s) Loss: 0.1491(0.0561) 3407187.5171(1250339.8314)Grad: 13.0870  \n",
      "Epoch: [40][40/93] Data 0.015 (0.024) Elapsed 0m 34s (remain 0m 43s) Loss: 0.1045(0.0537) 2387407.9835(1212965.0853)Grad: 5.6356  \n",
      "Epoch: [40][60/93] Data 0.015 (0.021) Elapsed 0m 50s (remain 0m 26s) Loss: 0.1072(0.0540) 2450322.3609(1224403.7137)Grad: 6.6562  \n",
      "Epoch: [40][80/93] Data 0.015 (0.019) Elapsed 1m 7s (remain 0m 9s) Loss: 0.0950(0.0529) 2171333.2009(1200688.1898)Grad: 5.6342  \n",
      "Epoch: [40][92/93] Data 0.013 (0.019) Elapsed 1m 17s (remain 0m 0s) Loss: 0.0692(0.0523) 1581191.5465(1190962.3011)Grad: 5.7681  \n",
      "EVAL: [0/46] Data 0.354 (0.354) Elapsed 0m 0s (remain 0m 24s) Loss: 0.1498(0.1498) 3423141.5061(1711570.7531)\n",
      "EVAL: [20/46] Data 0.111 (0.139) Elapsed 0m 7s (remain 0m 8s) Loss: 0.1326(0.0749) 3029088.3970(1670362.2561)\n",
      "EVAL: [40/46] Data 0.100 (0.130) Elapsed 0m 13s (remain 0m 1s) Loss: 0.1048(0.0711) 2395609.6916(1605643.7664)\n"
     ]
    },
    {
     "name": "stderr",
     "output_type": "stream",
     "text": [
      "Epoch 40 - avg_train_loss: 0.0523  avg_val_loss: 0.0713  time: 92s\n",
      "Epoch 40 - MAE: 0.14153219526871505\n"
     ]
    },
    {
     "name": "stdout",
     "output_type": "stream",
     "text": [
      "EVAL: [45/46] Data 0.029 (0.126) Elapsed 0m 15s (remain 0m 0s) Loss: 0.1336(0.0713) 3051482.8157(1616927.9577)\n",
      "Epoch: [41][0/93] Data 0.356 (0.356) Elapsed 0m 1s (remain 1m 46s) Loss: 0.0787(0.0787) 1798359.2546(899179.6273)Grad: 4.1176  \n",
      "Epoch: [41][20/93] Data 0.015 (0.031) Elapsed 0m 17s (remain 1m 0s) Loss: 0.1041(0.0501) 2378347.5968(1116708.9687)Grad: 12.1994  \n",
      "Epoch: [41][40/93] Data 0.014 (0.023) Elapsed 0m 34s (remain 0m 43s) Loss: 0.1521(0.0519) 3474821.5624(1172307.9918)Grad: 14.2863  \n",
      "Epoch: [41][60/93] Data 0.014 (0.021) Elapsed 0m 50s (remain 0m 26s) Loss: 0.0824(0.0508) 1883107.6285(1150273.9059)Grad: 3.6277  \n",
      "Epoch: [41][80/93] Data 0.014 (0.019) Elapsed 1m 7s (remain 0m 9s) Loss: 0.0987(0.0518) 2255185.9547(1176125.6395)Grad: 8.9609  \n",
      "Epoch: [41][92/93] Data 0.014 (0.019) Elapsed 1m 17s (remain 0m 0s) Loss: 0.1709(0.0520) 3905449.8841(1183755.2881)Grad: 10.9381  \n",
      "EVAL: [0/46] Data 0.351 (0.351) Elapsed 0m 0s (remain 0m 24s) Loss: 0.1188(0.1188) 2713919.6566(1356959.8283)\n",
      "EVAL: [20/46] Data 0.126 (0.130) Elapsed 0m 6s (remain 0m 8s) Loss: 0.1319(0.0669) 3012748.9900(1491986.1490)\n",
      "EVAL: [40/46] Data 0.102 (0.130) Elapsed 0m 13s (remain 0m 1s) Loss: 0.1236(0.0644) 2823535.1506(1452602.6501)\n"
     ]
    },
    {
     "name": "stderr",
     "output_type": "stream",
     "text": [
      "Epoch 41 - avg_train_loss: 0.0520  avg_val_loss: 0.0644  time: 92s\n",
      "Epoch 41 - MAE: 0.1277454993628973\n"
     ]
    },
    {
     "name": "stdout",
     "output_type": "stream",
     "text": [
      "EVAL: [45/46] Data 0.034 (0.126) Elapsed 0m 15s (remain 0m 0s) Loss: 0.1190(0.0644) 2718408.8227(1459422.5356)\n",
      "Epoch: [42][0/93] Data 0.405 (0.405) Elapsed 0m 1s (remain 1m 57s) Loss: 0.0911(0.0911) 2082192.8666(1041096.4333)Grad: 3.9289  \n",
      "Epoch: [42][20/93] Data 0.014 (0.033) Elapsed 0m 17s (remain 1m 0s) Loss: 0.0942(0.0455) 2152698.3099(1015066.5780)Grad: 8.7862  \n",
      "Epoch: [42][40/93] Data 0.028 (0.025) Elapsed 0m 34s (remain 0m 43s) Loss: 0.0887(0.0506) 2026357.3100(1142414.4917)Grad: 5.0882  \n",
      "Epoch: [42][60/93] Data 0.014 (0.021) Elapsed 0m 50s (remain 0m 26s) Loss: 0.1051(0.0524) 2400881.9508(1186373.7230)Grad: 5.9509  \n",
      "Epoch: [42][80/93] Data 0.022 (0.020) Elapsed 1m 7s (remain 0m 9s) Loss: 0.1168(0.0526) 2669742.6532(1194741.7582)Grad: 11.7551  \n",
      "Epoch: [42][92/93] Data 0.013 (0.019) Elapsed 1m 17s (remain 0m 0s) Loss: 0.0935(0.0526) 2135677.2715(1197476.5286)Grad: 7.3081  \n",
      "EVAL: [0/46] Data 0.441 (0.441) Elapsed 0m 0s (remain 0m 29s) Loss: 0.0916(0.0916) 2091884.3242(1045942.1621)\n",
      "EVAL: [20/46] Data 0.113 (0.134) Elapsed 0m 7s (remain 0m 8s) Loss: 0.1204(0.0565) 2750680.7687(1260118.6979)\n",
      "EVAL: [40/46] Data 0.105 (0.129) Elapsed 0m 13s (remain 0m 1s) Loss: 0.0980(0.0537) 2239626.2360(1211545.0419)\n"
     ]
    },
    {
     "name": "stderr",
     "output_type": "stream",
     "text": [
      "Epoch 42 - avg_train_loss: 0.0526  avg_val_loss: 0.0537  time: 93s\n",
      "Epoch 42 - MAE: 0.1065617845192121\n"
     ]
    },
    {
     "name": "stdout",
     "output_type": "stream",
     "text": [
      "EVAL: [45/46] Data 0.033 (0.133) Elapsed 0m 15s (remain 0m 0s) Loss: 0.0969(0.0537) 2213677.7665(1217410.1377)\n",
      "Epoch: [43][0/93] Data 0.344 (0.344) Elapsed 0m 1s (remain 1m 47s) Loss: 0.1104(0.1104) 2522765.2786(1261382.6393)Grad: 9.4318  \n",
      "Epoch: [43][20/93] Data 0.014 (0.030) Elapsed 0m 17s (remain 1m 0s) Loss: 0.0943(0.0506) 2153813.1961(1129083.3591)Grad: 6.7346  \n",
      "Epoch: [43][40/93] Data 0.014 (0.023) Elapsed 0m 34s (remain 0m 43s) Loss: 0.0813(0.0498) 1857285.6455(1124150.3014)Grad: 5.2134  \n",
      "Epoch: [43][60/93] Data 0.015 (0.020) Elapsed 0m 50s (remain 0m 26s) Loss: 0.1354(0.0496) 3093377.6135(1122936.3714)Grad: 12.4491  \n",
      "Epoch: [43][80/93] Data 0.014 (0.019) Elapsed 1m 7s (remain 0m 9s) Loss: 0.1184(0.0510) 2705198.8939(1158723.1543)Grad: 4.2184  \n",
      "Epoch: [43][92/93] Data 0.014 (0.018) Elapsed 1m 16s (remain 0m 0s) Loss: 0.1786(0.0511) 4080815.0632(1163446.3941)Grad: 11.7170  \n",
      "EVAL: [0/46] Data 0.351 (0.351) Elapsed 0m 0s (remain 0m 24s) Loss: 0.1368(0.1368) 3124801.4356(1562400.7178)\n",
      "EVAL: [20/46] Data 0.103 (0.123) Elapsed 0m 6s (remain 0m 8s) Loss: 0.1279(0.0666) 2921569.3792(1484634.4495)\n",
      "EVAL: [40/46] Data 0.107 (0.123) Elapsed 0m 13s (remain 0m 1s) Loss: 0.1527(0.0640) 3488410.6103(1444283.2933)\n"
     ]
    },
    {
     "name": "stderr",
     "output_type": "stream",
     "text": [
      "Epoch 43 - avg_train_loss: 0.0511  avg_val_loss: 0.0638  time: 92s\n",
      "Epoch 43 - MAE: 0.12652205572349404\n"
     ]
    },
    {
     "name": "stdout",
     "output_type": "stream",
     "text": [
      "EVAL: [45/46] Data 0.027 (0.120) Elapsed 0m 14s (remain 0m 0s) Loss: 0.0957(0.0638) 2187579.8284(1445445.3261)\n",
      "Epoch: [44][0/93] Data 0.367 (0.367) Elapsed 0m 1s (remain 1m 47s) Loss: 0.0967(0.0967) 2210584.5489(1105292.2745)Grad: 8.4096  \n",
      "Epoch: [44][20/93] Data 0.014 (0.032) Elapsed 0m 17s (remain 1m 0s) Loss: 0.1026(0.0466) 2343343.3369(1040184.1664)Grad: 11.8509  \n",
      "Epoch: [44][40/93] Data 0.014 (0.024) Elapsed 0m 34s (remain 0m 43s) Loss: 0.0846(0.0477) 1933131.2727(1077069.9535)Grad: 2.9953  \n",
      "Epoch: [44][60/93] Data 0.014 (0.021) Elapsed 0m 51s (remain 0m 26s) Loss: 0.1323(0.0491) 3023499.8363(1111848.8397)Grad: 12.4668  \n",
      "Epoch: [44][80/93] Data 0.014 (0.020) Elapsed 1m 7s (remain 0m 10s) Loss: 0.1048(0.0489) 2394199.2729(1110421.6759)Grad: 11.2454  \n",
      "Epoch: [44][92/93] Data 0.014 (0.019) Elapsed 1m 17s (remain 0m 0s) Loss: 0.0865(0.0489) 1977253.9703(1112155.5150)Grad: 3.0538  \n",
      "EVAL: [0/46] Data 0.359 (0.359) Elapsed 0m 0s (remain 0m 25s) Loss: 0.1161(0.1161) 2651674.9939(1325837.4970)\n",
      "EVAL: [20/46] Data 0.114 (0.134) Elapsed 0m 7s (remain 0m 8s) Loss: 0.1089(0.0577) 2488881.8632(1287956.5091)\n",
      "EVAL: [40/46] Data 0.110 (0.123) Elapsed 0m 13s (remain 0m 1s) Loss: 0.1173(0.0570) 2679080.5273(1286984.7002)\n"
     ]
    },
    {
     "name": "stderr",
     "output_type": "stream",
     "text": [
      "Epoch 44 - avg_train_loss: 0.0489  avg_val_loss: 0.0566  time: 92s\n",
      "Epoch 44 - MAE: 0.11232084448602195\n"
     ]
    },
    {
     "name": "stdout",
     "output_type": "stream",
     "text": [
      "EVAL: [45/46] Data 0.034 (0.124) Elapsed 0m 14s (remain 0m 0s) Loss: 0.1162(0.0566) 2654922.2766(1283204.2755)\n",
      "Epoch: [45][0/93] Data 0.354 (0.354) Elapsed 0m 1s (remain 1m 46s) Loss: 0.0885(0.0885) 2022096.7730(1011048.3865)Grad: 4.9336  \n",
      "Epoch: [45][20/93] Data 0.015 (0.031) Elapsed 0m 17s (remain 1m 0s) Loss: 0.1536(0.0528) 3509065.8815(1177843.4997)Grad: 10.2839  \n",
      "Epoch: [45][40/93] Data 0.014 (0.023) Elapsed 0m 34s (remain 0m 43s) Loss: 0.0864(0.0506) 1974555.8742(1142051.5907)Grad: 5.8832  \n",
      "Epoch: [45][60/93] Data 0.014 (0.021) Elapsed 0m 50s (remain 0m 26s) Loss: 0.0768(0.0504) 1753976.4340(1143120.2169)Grad: 2.5353  \n",
      "Epoch: [45][80/93] Data 0.014 (0.019) Elapsed 1m 7s (remain 0m 9s) Loss: 0.1141(0.0498) 2606234.8274(1130766.4840)Grad: 4.8213  \n",
      "Epoch: [45][92/93] Data 0.013 (0.019) Elapsed 1m 17s (remain 0m 0s) Loss: 0.0744(0.0492) 1700936.3493(1120690.8487)Grad: 6.2125  \n",
      "EVAL: [0/46] Data 0.381 (0.381) Elapsed 0m 0s (remain 0m 26s) Loss: 0.1062(0.1062) 2426138.7448(1213069.3724)\n",
      "EVAL: [20/46] Data 0.109 (0.126) Elapsed 0m 6s (remain 0m 8s) Loss: 0.1315(0.0536) 3004957.5545(1196550.6201)\n",
      "EVAL: [40/46] Data 0.114 (0.129) Elapsed 0m 13s (remain 0m 1s) Loss: 0.0985(0.0510) 2251592.4087(1150202.4373)\n"
     ]
    },
    {
     "name": "stderr",
     "output_type": "stream",
     "text": [
      "Epoch 45 - avg_train_loss: 0.0492  avg_val_loss: 0.0510  time: 92s\n",
      "Epoch 45 - MAE: 0.10118499568889783\n"
     ]
    },
    {
     "name": "stdout",
     "output_type": "stream",
     "text": [
      "EVAL: [45/46] Data 0.041 (0.125) Elapsed 0m 14s (remain 0m 0s) Loss: 0.0777(0.0510) 1775839.7113(1155983.2751)\n",
      "Epoch: [46][0/93] Data 0.383 (0.383) Elapsed 0m 1s (remain 1m 49s) Loss: 0.0613(0.0613) 1399557.7075(699778.8537)Grad: 2.5618  \n",
      "Epoch: [46][20/93] Data 0.020 (0.032) Elapsed 0m 17s (remain 1m 0s) Loss: 0.0860(0.0457) 1964227.8982(1019837.1348)Grad: 4.8921  \n",
      "Epoch: [46][40/93] Data 0.014 (0.024) Elapsed 0m 34s (remain 0m 43s) Loss: 0.1095(0.0477) 2502826.1971(1075694.1512)Grad: 15.1252  \n",
      "Epoch: [46][60/93] Data 0.020 (0.021) Elapsed 0m 50s (remain 0m 26s) Loss: 0.1106(0.0481) 2526171.3929(1091003.5583)Grad: 6.8529  \n",
      "Epoch: [46][80/93] Data 0.015 (0.019) Elapsed 1m 7s (remain 0m 9s) Loss: 0.0662(0.0489) 1512680.7775(1110648.6625)Grad: 4.2161  \n",
      "Epoch: [46][92/93] Data 0.014 (0.019) Elapsed 1m 16s (remain 0m 0s) Loss: 0.0822(0.0479) 1879013.4137(1090673.6395)Grad: 8.7024  \n",
      "EVAL: [0/46] Data 0.365 (0.365) Elapsed 0m 0s (remain 0m 25s) Loss: 0.0913(0.0913) 2084994.1267(1042497.0633)\n",
      "EVAL: [20/46] Data 0.117 (0.165) Elapsed 0m 7s (remain 0m 9s) Loss: 0.1047(0.0479) 2391350.1761(1068406.2080)\n",
      "EVAL: [40/46] Data 0.107 (0.140) Elapsed 0m 14s (remain 0m 1s) Loss: 0.1062(0.0463) 2426415.7214(1044780.5893)\n"
     ]
    },
    {
     "name": "stderr",
     "output_type": "stream",
     "text": [
      "Epoch 46 - avg_train_loss: 0.0479  avg_val_loss: 0.0457  time: 93s\n",
      "Epoch 46 - MAE: 0.09072549002596944\n",
      "Epoch 46 - Save Best Score: 0.0907 Model\n"
     ]
    },
    {
     "name": "stdout",
     "output_type": "stream",
     "text": [
      "EVAL: [45/46] Data 0.031 (0.135) Elapsed 0m 15s (remain 0m 0s) Loss: 0.0649(0.0457) 1483298.1044(1036489.1280)\n",
      "Epoch: [47][0/93] Data 0.514 (0.514) Elapsed 0m 1s (remain 2m 9s) Loss: 0.0993(0.0993) 2267914.4514(1133957.2257)Grad: 7.6626  \n",
      "Epoch: [47][20/93] Data 0.014 (0.038) Elapsed 0m 17s (remain 1m 1s) Loss: 0.0816(0.0422) 1864162.5645(940615.3550)Grad: 6.8032  \n",
      "Epoch: [47][40/93] Data 0.019 (0.027) Elapsed 0m 34s (remain 0m 43s) Loss: 0.0816(0.0443) 1865316.7756(999522.8137)Grad: 3.8238  \n",
      "Epoch: [47][60/93] Data 0.019 (0.023) Elapsed 0m 50s (remain 0m 26s) Loss: 0.0709(0.0432) 1620298.7033(978993.2465)Grad: 4.2622  \n",
      "Epoch: [47][80/93] Data 0.020 (0.021) Elapsed 1m 7s (remain 0m 9s) Loss: 0.0825(0.0435) 1884223.3659(987074.6834)Grad: 3.2352  \n",
      "Epoch: [47][92/93] Data 0.013 (0.020) Elapsed 1m 16s (remain 0m 0s) Loss: 0.0859(0.0435) 1961944.6712(989232.7197)Grad: 4.0476  \n",
      "EVAL: [0/46] Data 0.426 (0.426) Elapsed 0m 0s (remain 0m 29s) Loss: 0.1231(0.1231) 2813816.4550(1406908.2275)\n",
      "EVAL: [20/46] Data 0.106 (0.153) Elapsed 0m 7s (remain 0m 8s) Loss: 0.0958(0.0548) 2188134.2923(1222319.2214)\n",
      "EVAL: [40/46] Data 0.100 (0.139) Elapsed 0m 13s (remain 0m 1s) Loss: 0.1365(0.0538) 3119406.6054(1214644.1742)\n"
     ]
    },
    {
     "name": "stderr",
     "output_type": "stream",
     "text": [
      "Epoch 47 - avg_train_loss: 0.0435  avg_val_loss: 0.0532  time: 92s\n",
      "Epoch 47 - MAE: 0.10559551561557391\n"
     ]
    },
    {
     "name": "stdout",
     "output_type": "stream",
     "text": [
      "EVAL: [45/46] Data 0.026 (0.134) Elapsed 0m 15s (remain 0m 0s) Loss: 0.0818(0.0532) 1869840.8404(1206371.0745)\n",
      "Epoch: [48][0/93] Data 0.354 (0.354) Elapsed 0m 1s (remain 1m 47s) Loss: 0.0890(0.0890) 2034297.3629(1017148.6814)Grad: 4.6473  \n",
      "Epoch: [48][20/93] Data 0.013 (0.030) Elapsed 0m 17s (remain 1m 0s) Loss: 0.1297(0.0432) 2963212.5658(963904.8831)Grad: 13.8888  \n",
      "Epoch: [48][40/93] Data 0.013 (0.023) Elapsed 0m 34s (remain 0m 43s) Loss: 0.0759(0.0457) 1733554.8991(1031713.3072)Grad: 3.0942  \n",
      "Epoch: [48][60/93] Data 0.013 (0.020) Elapsed 0m 50s (remain 0m 26s) Loss: 0.1189(0.0449) 2716169.1765(1017721.0427)Grad: 12.3981  \n",
      "Epoch: [48][80/93] Data 0.014 (0.019) Elapsed 1m 7s (remain 0m 9s) Loss: 0.0971(0.0433) 2219005.5231(984123.7760)Grad: 12.3215  \n",
      "Epoch: [48][92/93] Data 0.013 (0.018) Elapsed 1m 16s (remain 0m 0s) Loss: 0.0699(0.0428) 1596577.6228(974857.3291)Grad: 3.6879  \n",
      "EVAL: [0/46] Data 0.369 (0.369) Elapsed 0m 0s (remain 0m 25s) Loss: 0.0881(0.0881) 2013607.7037(1006803.8519)\n",
      "EVAL: [20/46] Data 0.106 (0.122) Elapsed 0m 6s (remain 0m 8s) Loss: 0.1114(0.0494) 2545773.2336(1101371.1427)\n",
      "EVAL: [40/46] Data 0.107 (0.129) Elapsed 0m 13s (remain 0m 1s) Loss: 0.0830(0.0476) 1895791.6932(1074117.7881)\n"
     ]
    },
    {
     "name": "stderr",
     "output_type": "stream",
     "text": [
      "Epoch 48 - avg_train_loss: 0.0428  avg_val_loss: 0.0471  time: 92s\n",
      "Epoch 48 - MAE: 0.09353490764194576\n"
     ]
    },
    {
     "name": "stdout",
     "output_type": "stream",
     "text": [
      "EVAL: [45/46] Data 0.027 (0.125) Elapsed 0m 14s (remain 0m 0s) Loss: 0.0829(0.0471) 1895045.0310(1068585.2035)\n",
      "Epoch: [49][0/93] Data 0.365 (0.365) Elapsed 0m 1s (remain 1m 47s) Loss: 0.0686(0.0686) 1567271.2162(783635.6081)Grad: 4.8574  \n",
      "Epoch: [49][20/93] Data 0.013 (0.031) Elapsed 0m 17s (remain 1m 0s) Loss: 0.0565(0.0459) 1290518.4678(1023451.1417)Grad: 3.9555  \n",
      "Epoch: [49][40/93] Data 0.015 (0.024) Elapsed 0m 34s (remain 0m 43s) Loss: 0.0602(0.0490) 1374805.0721(1104909.0872)Grad: 3.1034  \n",
      "Epoch: [49][60/93] Data 0.014 (0.021) Elapsed 0m 51s (remain 0m 26s) Loss: 0.0619(0.0475) 1415096.8274(1076667.2265)Grad: 7.7481  \n",
      "Epoch: [49][80/93] Data 0.015 (0.020) Elapsed 1m 7s (remain 0m 10s) Loss: 0.0856(0.0452) 1954896.8336(1027407.8557)Grad: 7.3251  \n",
      "Epoch: [49][92/93] Data 0.015 (0.020) Elapsed 1m 17s (remain 0m 0s) Loss: 0.0528(0.0442) 1207109.6938(1005787.8568)Grad: 7.7884  \n",
      "EVAL: [0/46] Data 0.409 (0.409) Elapsed 0m 0s (remain 0m 27s) Loss: 0.1065(0.1065) 2433080.6946(1216540.3473)\n",
      "EVAL: [20/46] Data 0.126 (0.156) Elapsed 0m 7s (remain 0m 8s) Loss: 0.1161(0.0528) 2651828.3780(1177886.4969)\n",
      "EVAL: [40/46] Data 0.199 (0.161) Elapsed 0m 14s (remain 0m 1s) Loss: 0.1063(0.0498) 2428178.8725(1122964.2641)\n"
     ]
    },
    {
     "name": "stderr",
     "output_type": "stream",
     "text": [
      "Epoch 49 - avg_train_loss: 0.0442  avg_val_loss: 0.0494  time: 94s\n",
      "Epoch 49 - MAE: 0.09806223148961814\n"
     ]
    },
    {
     "name": "stdout",
     "output_type": "stream",
     "text": [
      "EVAL: [45/46] Data 0.041 (0.154) Elapsed 0m 16s (remain 0m 0s) Loss: 0.0986(0.0494) 2252481.0491(1120307.3950)\n",
      "Epoch: [50][0/93] Data 0.363 (0.363) Elapsed 0m 1s (remain 1m 48s) Loss: 0.0619(0.0619) 1414921.6529(707460.8264)Grad: 2.4913  \n",
      "Epoch: [50][20/93] Data 0.016 (0.032) Elapsed 0m 17s (remain 1m 0s) Loss: 0.0817(0.0431) 1866977.2733(961011.9663)Grad: 4.9066  \n",
      "Epoch: [50][40/93] Data 0.014 (0.024) Elapsed 0m 34s (remain 0m 43s) Loss: 0.1233(0.0444) 2817977.0625(1001929.0218)Grad: 4.9072  \n",
      "Epoch: [50][60/93] Data 0.014 (0.021) Elapsed 0m 50s (remain 0m 26s) Loss: 0.0889(0.0448) 2032143.8570(1015091.5461)Grad: 4.3698  \n",
      "Epoch: [50][80/93] Data 0.015 (0.019) Elapsed 1m 7s (remain 0m 10s) Loss: 0.1214(0.0446) 2773943.3992(1011848.1923)Grad: 9.5984  \n",
      "Epoch: [50][92/93] Data 0.013 (0.019) Elapsed 1m 17s (remain 0m 0s) Loss: 0.0862(0.0442) 1969732.1912(1006071.2737)Grad: 4.6410  \n",
      "EVAL: [0/46] Data 0.394 (0.394) Elapsed 0m 0s (remain 0m 26s) Loss: 0.1215(0.1215) 2775397.5690(1387698.7845)\n",
      "EVAL: [20/46] Data 0.117 (0.130) Elapsed 0m 6s (remain 0m 8s) Loss: 0.1321(0.0566) 3018635.4665(1261431.2624)\n",
      "EVAL: [40/46] Data 0.115 (0.132) Elapsed 0m 13s (remain 0m 1s) Loss: 0.1028(0.0558) 2347871.3172(1260511.5437)\n"
     ]
    },
    {
     "name": "stderr",
     "output_type": "stream",
     "text": [
      "Epoch 50 - avg_train_loss: 0.0442  avg_val_loss: 0.0558  time: 93s\n",
      "Epoch 50 - MAE: 0.11080370428002886\n"
     ]
    },
    {
     "name": "stdout",
     "output_type": "stream",
     "text": [
      "EVAL: [45/46] Data 0.034 (0.129) Elapsed 0m 15s (remain 0m 0s) Loss: 0.0947(0.0558) 2162704.0261(1265871.7481)\n",
      "Epoch: [51][0/93] Data 0.382 (0.382) Elapsed 0m 1s (remain 1m 49s) Loss: 0.1005(0.1005) 2295435.7463(1147717.8732)Grad: 7.3622  \n",
      "Epoch: [51][20/93] Data 0.016 (0.033) Elapsed 0m 17s (remain 1m 1s) Loss: 0.1199(0.0481) 2740408.9710(1072825.2605)Grad: 14.7358  \n",
      "Epoch: [51][40/93] Data 0.014 (0.024) Elapsed 0m 34s (remain 0m 43s) Loss: 0.0857(0.0476) 1958706.4112(1073838.7292)Grad: 7.1265  \n",
      "Epoch: [51][60/93] Data 0.014 (0.021) Elapsed 0m 51s (remain 0m 26s) Loss: 0.0853(0.0446) 1949343.1717(1009742.2851)Grad: 4.3790  \n",
      "Epoch: [51][80/93] Data 0.014 (0.020) Elapsed 1m 7s (remain 0m 10s) Loss: 0.0731(0.0445) 1669965.6997(1011274.8094)Grad: 3.6302  \n",
      "Epoch: [51][92/93] Data 0.014 (0.019) Elapsed 1m 17s (remain 0m 0s) Loss: 0.0869(0.0449) 1985817.7739(1022818.4308)Grad: 3.3191  \n",
      "EVAL: [0/46] Data 0.369 (0.369) Elapsed 0m 0s (remain 0m 25s) Loss: 0.0935(0.0935) 2136643.1998(1068321.5999)\n",
      "EVAL: [20/46] Data 0.107 (0.137) Elapsed 0m 7s (remain 0m 8s) Loss: 0.0930(0.0444) 2126075.8696(989554.5735)\n",
      "EVAL: [40/46] Data 0.229 (0.132) Elapsed 0m 13s (remain 0m 1s) Loss: 0.0779(0.0426) 1780630.1979(961344.2814)\n"
     ]
    },
    {
     "name": "stderr",
     "output_type": "stream",
     "text": [
      "Epoch 51 - avg_train_loss: 0.0449  avg_val_loss: 0.0425  time: 93s\n",
      "Epoch 51 - MAE: 0.0843270778963367\n",
      "Epoch 51 - Save Best Score: 0.0843 Model\n"
     ]
    },
    {
     "name": "stdout",
     "output_type": "stream",
     "text": [
      "EVAL: [45/46] Data 0.033 (0.130) Elapsed 0m 15s (remain 0m 0s) Loss: 0.0724(0.0425) 1654577.2401(963390.7637)\n",
      "Epoch: [52][0/93] Data 0.378 (0.378) Elapsed 0m 1s (remain 1m 48s) Loss: 0.0667(0.0667) 1524308.1773(762154.0886)Grad: 2.5887  \n",
      "Epoch: [52][20/93] Data 0.014 (0.033) Elapsed 0m 17s (remain 1m 0s) Loss: 0.0859(0.0404) 1963232.6890(901722.7504)Grad: 11.3561  \n",
      "Epoch: [52][40/93] Data 0.013 (0.024) Elapsed 0m 34s (remain 0m 43s) Loss: 0.0780(0.0401) 1781801.2625(904296.4076)Grad: 2.6060  \n",
      "Epoch: [52][60/93] Data 0.014 (0.021) Elapsed 0m 50s (remain 0m 26s) Loss: 0.0636(0.0402) 1452887.0259(911945.2791)Grad: 8.3792  \n",
      "Epoch: [52][80/93] Data 0.014 (0.020) Elapsed 1m 7s (remain 0m 9s) Loss: 0.1011(0.0408) 2309047.6061(926647.4376)Grad: 7.7897  \n",
      "Epoch: [52][92/93] Data 0.013 (0.019) Elapsed 1m 17s (remain 0m 0s) Loss: 0.1135(0.0415) 2592656.6747(944770.2724)Grad: 3.8383  \n",
      "EVAL: [0/46] Data 0.362 (0.362) Elapsed 0m 0s (remain 0m 25s) Loss: 0.0765(0.0765) 1748268.1963(874134.0981)\n",
      "EVAL: [20/46] Data 0.118 (0.128) Elapsed 0m 6s (remain 0m 8s) Loss: 0.1034(0.0549) 2362585.2953(1224201.6158)\n",
      "EVAL: [40/46] Data 0.122 (0.128) Elapsed 0m 13s (remain 0m 1s) Loss: 0.1009(0.0533) 2306441.2681(1203156.4046)\n"
     ]
    },
    {
     "name": "stderr",
     "output_type": "stream",
     "text": [
      "Epoch 52 - avg_train_loss: 0.0415  avg_val_loss: 0.0530  time: 92s\n",
      "Epoch 52 - MAE: 0.10508032006142419\n"
     ]
    },
    {
     "name": "stdout",
     "output_type": "stream",
     "text": [
      "EVAL: [45/46] Data 0.038 (0.125) Elapsed 0m 14s (remain 0m 0s) Loss: 0.0885(0.0530) 2021008.4439(1200485.2208)\n",
      "Epoch: [53][0/93] Data 0.366 (0.366) Elapsed 0m 1s (remain 1m 48s) Loss: 0.0943(0.0943) 2155095.2556(1077547.6278)Grad: 3.2433  \n",
      "Epoch: [53][20/93] Data 0.014 (0.031) Elapsed 0m 17s (remain 1m 0s) Loss: 0.0726(0.0424) 1657792.0073(946463.0437)Grad: 4.7477  \n",
      "Epoch: [53][40/93] Data 0.014 (0.023) Elapsed 0m 34s (remain 0m 43s) Loss: 0.0880(0.0417) 2010337.7795(940317.3909)Grad: 6.6649  \n",
      "Epoch: [53][60/93] Data 0.015 (0.021) Elapsed 0m 50s (remain 0m 26s) Loss: 0.0848(0.0402) 1937995.9830(911463.2520)Grad: 4.5488  \n",
      "Epoch: [53][80/93] Data 0.014 (0.019) Elapsed 1m 7s (remain 0m 9s) Loss: 0.0551(0.0400) 1259342.0009(907202.1146)Grad: 7.0087  \n",
      "Epoch: [53][92/93] Data 0.014 (0.019) Elapsed 1m 17s (remain 0m 0s) Loss: 0.0888(0.0401) 2029142.9082(912886.9523)Grad: 8.9796  \n",
      "EVAL: [0/46] Data 0.362 (0.362) Elapsed 0m 0s (remain 0m 25s) Loss: 0.0721(0.0721) 1646275.0917(823137.5459)\n",
      "EVAL: [20/46] Data 0.109 (0.162) Elapsed 0m 7s (remain 0m 9s) Loss: 0.0923(0.0422) 2108326.5547(940949.4869)\n",
      "EVAL: [40/46] Data 0.113 (0.140) Elapsed 0m 14s (remain 0m 1s) Loss: 0.0746(0.0395) 1705108.8734(892083.1703)\n"
     ]
    },
    {
     "name": "stderr",
     "output_type": "stream",
     "text": [
      "Epoch 53 - avg_train_loss: 0.0401  avg_val_loss: 0.0396  time: 93s\n",
      "Epoch 53 - MAE: 0.07849617362905574\n",
      "Epoch 53 - Save Best Score: 0.0785 Model\n"
     ]
    },
    {
     "name": "stdout",
     "output_type": "stream",
     "text": [
      "EVAL: [45/46] Data 0.037 (0.141) Elapsed 0m 15s (remain 0m 0s) Loss: 0.0610(0.0396) 1392649.6350(896775.8951)\n",
      "Epoch: [54][0/93] Data 0.391 (0.391) Elapsed 0m 1s (remain 1m 50s) Loss: 0.0713(0.0713) 1630000.3751(815000.1875)Grad: 9.5595  \n",
      "Epoch: [54][20/93] Data 0.021 (0.033) Elapsed 0m 17s (remain 1m 1s) Loss: 0.0563(0.0370) 1286845.7613(824865.2287)Grad: 4.7202  \n",
      "Epoch: [54][40/93] Data 0.015 (0.025) Elapsed 0m 34s (remain 0m 43s) Loss: 0.1273(0.0371) 2907942.5386(836741.9598)Grad: 9.6327  \n",
      "Epoch: [54][60/93] Data 0.015 (0.022) Elapsed 0m 51s (remain 0m 26s) Loss: 0.0726(0.0384) 1659849.4992(869425.3841)Grad: 4.0926  \n",
      "Epoch: [54][80/93] Data 0.016 (0.020) Elapsed 1m 8s (remain 0m 10s) Loss: 0.0763(0.0398) 1743187.9651(903499.4217)Grad: 2.5770  \n",
      "Epoch: [54][92/93] Data 0.013 (0.020) Elapsed 1m 17s (remain 0m 0s) Loss: 0.0805(0.0399) 1839712.8670(908434.1930)Grad: 8.1107  \n",
      "EVAL: [0/46] Data 0.515 (0.515) Elapsed 0m 0s (remain 0m 32s) Loss: 0.0710(0.0710) 1623255.0498(811627.5249)\n",
      "EVAL: [20/46] Data 0.112 (0.152) Elapsed 0m 7s (remain 0m 8s) Loss: 0.0990(0.0497) 2261594.8904(1109323.0150)\n",
      "EVAL: [40/46] Data 0.127 (0.138) Elapsed 0m 14s (remain 0m 1s) Loss: 0.0999(0.0485) 2281936.5839(1095209.4614)\n"
     ]
    },
    {
     "name": "stderr",
     "output_type": "stream",
     "text": [
      "Epoch 54 - avg_train_loss: 0.0399  avg_val_loss: 0.0485  time: 93s\n",
      "Epoch 54 - MAE: 0.0961767781076423\n"
     ]
    },
    {
     "name": "stdout",
     "output_type": "stream",
     "text": [
      "EVAL: [45/46] Data 0.043 (0.134) Elapsed 0m 15s (remain 0m 0s) Loss: 0.0672(0.0485) 1536486.1256(1098767.1410)\n",
      "Epoch: [55][0/93] Data 0.522 (0.522) Elapsed 0m 1s (remain 2m 5s) Loss: 0.0713(0.0713) 1629437.2290(814718.6145)Grad: 3.1950  \n",
      "Epoch: [55][20/93] Data 0.015 (0.039) Elapsed 0m 17s (remain 1m 1s) Loss: 0.0851(0.0429) 1943824.7490(957659.5863)Grad: 4.0043  \n",
      "Epoch: [55][40/93] Data 0.015 (0.027) Elapsed 0m 34s (remain 0m 43s) Loss: 0.0790(0.0409) 1805929.2109(923345.9176)Grad: 7.1654  \n",
      "Epoch: [55][60/93] Data 0.016 (0.024) Elapsed 0m 51s (remain 0m 26s) Loss: 0.1055(0.0398) 2410397.0422(902415.1468)Grad: 10.7076  \n",
      "Epoch: [55][80/93] Data 0.015 (0.022) Elapsed 1m 7s (remain 0m 10s) Loss: 0.0923(0.0396) 2108090.6053(898891.4124)Grad: 9.6541  \n",
      "Epoch: [55][92/93] Data 0.016 (0.021) Elapsed 1m 17s (remain 0m 0s) Loss: 0.1253(0.0397) 2862629.0288(902981.4785)Grad: 4.3871  \n",
      "EVAL: [0/46] Data 0.390 (0.390) Elapsed 0m 0s (remain 0m 26s) Loss: 0.1288(0.1288) 2943499.0492(1471749.5246)\n",
      "EVAL: [20/46] Data 0.296 (0.176) Elapsed 0m 8s (remain 0m 9s) Loss: 0.1201(0.0569) 2744728.9209(1269028.0311)\n",
      "EVAL: [40/46] Data 0.137 (0.166) Elapsed 0m 15s (remain 0m 1s) Loss: 0.0988(0.0570) 2258508.8228(1287018.2307)\n"
     ]
    },
    {
     "name": "stderr",
     "output_type": "stream",
     "text": [
      "Epoch 55 - avg_train_loss: 0.0397  avg_val_loss: 0.0567  time: 95s\n",
      "Epoch 55 - MAE: 0.11246728824180373\n"
     ]
    },
    {
     "name": "stdout",
     "output_type": "stream",
     "text": [
      "EVAL: [45/46] Data 0.047 (0.160) Elapsed 0m 16s (remain 0m 0s) Loss: 0.1054(0.0567) 2409128.4314(1284877.2849)\n",
      "Epoch: [56][0/93] Data 0.389 (0.389) Elapsed 0m 1s (remain 1m 52s) Loss: 0.0793(0.0793) 1811130.4810(905565.2405)Grad: 4.5037  \n",
      "Epoch: [56][20/93] Data 0.015 (0.033) Elapsed 0m 17s (remain 1m 1s) Loss: 0.0706(0.0401) 1613287.4668(895269.7008)Grad: 3.0414  \n",
      "Epoch: [56][40/93] Data 0.016 (0.025) Elapsed 0m 34s (remain 0m 44s) Loss: 0.0630(0.0403) 1440410.9915(909100.4936)Grad: 2.5252  \n",
      "Epoch: [56][60/93] Data 0.015 (0.022) Elapsed 0m 51s (remain 0m 27s) Loss: 0.0717(0.0395) 1638515.6609(894728.6510)Grad: 5.5590  \n",
      "Epoch: [56][80/93] Data 0.016 (0.021) Elapsed 1m 8s (remain 0m 10s) Loss: 0.0665(0.0386) 1520367.0061(875665.4759)Grad: 4.6140  \n",
      "Epoch: [56][92/93] Data 0.016 (0.020) Elapsed 1m 18s (remain 0m 0s) Loss: 0.1003(0.0382) 2292429.3499(869980.2823)Grad: 9.6351  \n",
      "EVAL: [0/46] Data 0.375 (0.375) Elapsed 0m 0s (remain 0m 25s) Loss: 0.0848(0.0848) 1938042.7984(969021.3992)\n",
      "EVAL: [20/46] Data 0.208 (0.154) Elapsed 0m 7s (remain 0m 8s) Loss: 0.1011(0.0507) 2310243.5254(1131729.9907)\n",
      "EVAL: [40/46] Data 0.115 (0.148) Elapsed 0m 14s (remain 0m 1s) Loss: 0.1146(0.0485) 2617345.7263(1094477.4167)\n"
     ]
    },
    {
     "name": "stderr",
     "output_type": "stream",
     "text": [
      "Epoch 56 - avg_train_loss: 0.0382  avg_val_loss: 0.0474  time: 94s\n",
      "Epoch 56 - MAE: 0.09414077241245468\n"
     ]
    },
    {
     "name": "stdout",
     "output_type": "stream",
     "text": [
      "EVAL: [45/46] Data 0.039 (0.143) Elapsed 0m 15s (remain 0m 0s) Loss: 0.0719(0.0474) 1641975.4001(1075506.8608)\n",
      "Epoch: [57][0/93] Data 0.371 (0.371) Elapsed 0m 1s (remain 1m 49s) Loss: 0.0783(0.0783) 1789124.5446(894562.2723)Grad: 3.6481  \n",
      "Epoch: [57][20/93] Data 0.014 (0.032) Elapsed 0m 17s (remain 1m 1s) Loss: 0.1077(0.0388) 2459859.4130(864701.5781)Grad: 11.2523  \n",
      "Epoch: [57][40/93] Data 0.015 (0.024) Elapsed 0m 34s (remain 0m 43s) Loss: 0.0636(0.0396) 1454291.8267(893274.9510)Grad: 8.5078  \n",
      "Epoch: [57][60/93] Data 0.015 (0.022) Elapsed 0m 51s (remain 0m 26s) Loss: 0.0467(0.0376) 1068116.4635(851768.5222)Grad: 4.7010  \n",
      "Epoch: [57][80/93] Data 0.016 (0.020) Elapsed 1m 7s (remain 0m 10s) Loss: 0.0929(0.0367) 2121841.7195(833566.8616)Grad: 6.1664  \n",
      "Epoch: [57][92/93] Data 0.014 (0.020) Elapsed 1m 17s (remain 0m 0s) Loss: 0.0601(0.0365) 1373942.1376(831559.5760)Grad: 3.6420  \n",
      "EVAL: [0/46] Data 0.372 (0.372) Elapsed 0m 0s (remain 0m 25s) Loss: 0.0820(0.0820) 1873921.4362(936960.7181)\n",
      "EVAL: [20/46] Data 0.136 (0.151) Elapsed 0m 7s (remain 0m 8s) Loss: 0.0922(0.0499) 2105808.0593(1113446.0080)\n",
      "EVAL: [40/46] Data 0.273 (0.154) Elapsed 0m 14s (remain 0m 1s) Loss: 0.0913(0.0492) 2087192.5753(1109597.4531)\n"
     ]
    },
    {
     "name": "stderr",
     "output_type": "stream",
     "text": [
      "Epoch 57 - avg_train_loss: 0.0365  avg_val_loss: 0.0491  time: 94s\n",
      "Epoch 57 - MAE: 0.09740588993143749\n"
     ]
    },
    {
     "name": "stdout",
     "output_type": "stream",
     "text": [
      "EVAL: [45/46] Data 0.041 (0.151) Elapsed 0m 16s (remain 0m 0s) Loss: 0.0897(0.0491) 2048981.2090(1112809.0393)\n",
      "Epoch: [58][0/93] Data 0.378 (0.378) Elapsed 0m 1s (remain 1m 50s) Loss: 0.0842(0.0842) 1923468.5853(961734.2927)Grad: 9.2196  \n",
      "Epoch: [58][20/93] Data 0.014 (0.032) Elapsed 0m 17s (remain 1m 0s) Loss: 0.1086(0.0391) 2481162.4383(871551.0239)Grad: 5.2050  \n",
      "Epoch: [58][40/93] Data 0.016 (0.024) Elapsed 0m 34s (remain 0m 43s) Loss: 0.0717(0.0372) 1637366.5570(840235.8213)Grad: 9.9033  \n",
      "Epoch: [58][60/93] Data 0.023 (0.022) Elapsed 0m 51s (remain 0m 26s) Loss: 0.0798(0.0372) 1824112.4616(843946.6951)Grad: 10.1187  \n",
      "Epoch: [58][80/93] Data 0.015 (0.020) Elapsed 1m 7s (remain 0m 10s) Loss: 0.0785(0.0362) 1794312.3659(822497.1288)Grad: 8.8305  \n",
      "Epoch: [58][92/93] Data 0.016 (0.020) Elapsed 1m 17s (remain 0m 0s) Loss: 0.0538(0.0355) 1228607.3006(807130.5226)Grad: 3.9344  \n",
      "EVAL: [0/46] Data 0.368 (0.368) Elapsed 0m 0s (remain 0m 25s) Loss: 0.0718(0.0718) 1640012.0496(820006.0248)\n",
      "EVAL: [20/46] Data 0.130 (0.146) Elapsed 0m 7s (remain 0m 8s) Loss: 0.0789(0.0384) 1802458.9170(855459.8437)\n",
      "EVAL: [40/46] Data 0.124 (0.137) Elapsed 0m 13s (remain 0m 1s) Loss: 0.0607(0.0365) 1386356.9716(822712.5456)\n"
     ]
    },
    {
     "name": "stderr",
     "output_type": "stream",
     "text": [
      "Epoch 58 - avg_train_loss: 0.0355  avg_val_loss: 0.0365  time: 93s\n",
      "Epoch 58 - MAE: 0.07249195955222222\n",
      "Epoch 58 - Save Best Score: 0.0725 Model\n"
     ]
    },
    {
     "name": "stdout",
     "output_type": "stream",
     "text": [
      "EVAL: [45/46] Data 0.039 (0.135) Elapsed 0m 15s (remain 0m 0s) Loss: 0.0668(0.0365) 1526731.5098(828181.0185)\n",
      "Epoch: [59][0/93] Data 0.481 (0.481) Elapsed 0m 1s (remain 2m 8s) Loss: 0.0673(0.0673) 1537141.1999(768570.6000)Grad: 6.8040  \n",
      "Epoch: [59][20/93] Data 0.015 (0.039) Elapsed 0m 18s (remain 1m 2s) Loss: 0.0758(0.0322) 1731375.8575(719035.9957)Grad: 9.4781  \n",
      "Epoch: [59][40/93] Data 0.021 (0.028) Elapsed 0m 35s (remain 0m 44s) Loss: 0.0812(0.0335) 1855052.8089(756149.2638)Grad: 4.8145  \n",
      "Epoch: [59][60/93] Data 0.014 (0.024) Elapsed 0m 51s (remain 0m 27s) Loss: 0.0503(0.0336) 1149429.6976(761417.4474)Grad: 3.2390  \n",
      "Epoch: [59][80/93] Data 0.016 (0.022) Elapsed 1m 8s (remain 0m 10s) Loss: 0.0519(0.0343) 1186272.4386(779078.4568)Grad: 2.5240  \n",
      "Epoch: [59][92/93] Data 0.021 (0.021) Elapsed 1m 18s (remain 0m 0s) Loss: 0.0794(0.0346) 1813222.7014(786479.4055)Grad: 4.5745  \n",
      "EVAL: [0/46] Data 0.371 (0.371) Elapsed 0m 0s (remain 0m 25s) Loss: 0.1216(0.1216) 2779279.8380(1389639.9190)\n",
      "EVAL: [20/46] Data 0.112 (0.133) Elapsed 0m 7s (remain 0m 8s) Loss: 0.1080(0.0519) 2468467.9890(1157273.5257)\n",
      "EVAL: [40/46] Data 0.111 (0.134) Elapsed 0m 13s (remain 0m 1s) Loss: 0.0877(0.0477) 2004669.0369(1075981.3379)\n"
     ]
    },
    {
     "name": "stderr",
     "output_type": "stream",
     "text": [
      "Epoch 59 - avg_train_loss: 0.0346  avg_val_loss: 0.0470  time: 94s\n",
      "Epoch 59 - MAE: 0.09324434852108815\n"
     ]
    },
    {
     "name": "stdout",
     "output_type": "stream",
     "text": [
      "EVAL: [45/46] Data 0.041 (0.131) Elapsed 0m 15s (remain 0m 0s) Loss: 0.0793(0.0470) 1810790.3462(1065265.7144)\n",
      "Epoch: [60][0/93] Data 0.364 (0.364) Elapsed 0m 1s (remain 1m 48s) Loss: 0.0580(0.0580) 1325602.9095(662801.4548)Grad: 3.5541  \n",
      "Epoch: [60][20/93] Data 0.023 (0.033) Elapsed 0m 17s (remain 1m 1s) Loss: 0.0787(0.0421) 1797469.4226(940100.9618)Grad: 3.7329  \n",
      "Epoch: [60][40/93] Data 0.015 (0.024) Elapsed 0m 34s (remain 0m 43s) Loss: 0.0569(0.0387) 1299811.5693(873595.2909)Grad: 3.0512  \n",
      "Epoch: [60][60/93] Data 0.015 (0.022) Elapsed 0m 51s (remain 0m 26s) Loss: 0.0682(0.0368) 1557332.0628(834505.8266)Grad: 6.5298  \n",
      "Epoch: [60][80/93] Data 0.015 (0.020) Elapsed 1m 7s (remain 0m 10s) Loss: 0.0695(0.0365) 1588910.9715(828624.3612)Grad: 5.5715  \n",
      "Epoch: [60][92/93] Data 0.014 (0.020) Elapsed 1m 17s (remain 0m 0s) Loss: 0.0585(0.0373) 1336385.7605(849084.6957)Grad: 4.2224  \n",
      "EVAL: [0/46] Data 0.366 (0.366) Elapsed 0m 0s (remain 0m 25s) Loss: 0.1063(0.1063) 2428459.5943(1214229.7972)\n",
      "EVAL: [20/46] Data 0.121 (0.142) Elapsed 0m 7s (remain 0m 8s) Loss: 0.1031(0.0575) 2356213.9821(1281465.0568)\n",
      "EVAL: [40/46] Data 0.119 (0.129) Elapsed 0m 13s (remain 0m 1s) Loss: 0.1031(0.0543) 2355558.9077(1225575.6613)\n"
     ]
    },
    {
     "name": "stderr",
     "output_type": "stream",
     "text": [
      "Epoch 60 - avg_train_loss: 0.0373  avg_val_loss: 0.0538  time: 93s\n",
      "Epoch 60 - MAE: 0.10681781456612519\n"
     ]
    },
    {
     "name": "stdout",
     "output_type": "stream",
     "text": [
      "EVAL: [45/46] Data 0.033 (0.126) Elapsed 0m 15s (remain 0m 0s) Loss: 0.0807(0.0538) 1843188.6085(1220335.1474)\n",
      "Epoch: [61][0/93] Data 0.373 (0.373) Elapsed 0m 1s (remain 2m 4s) Loss: 0.0587(0.0587) 1340724.2663(670362.1331)Grad: 2.8561  \n",
      "Epoch: [61][20/93] Data 0.015 (0.034) Elapsed 0m 18s (remain 1m 1s) Loss: 0.0748(0.0400) 1709237.6464(891252.7941)Grad: 2.5076  \n",
      "Epoch: [61][40/93] Data 0.025 (0.025) Elapsed 0m 34s (remain 0m 43s) Loss: 0.0859(0.0383) 1963083.2204(865371.4207)Grad: 7.1889  \n",
      "Epoch: [61][60/93] Data 0.015 (0.022) Elapsed 0m 51s (remain 0m 26s) Loss: 0.0679(0.0364) 1552468.7145(825577.0601)Grad: 2.9134  \n",
      "Epoch: [61][80/93] Data 0.020 (0.020) Elapsed 1m 7s (remain 0m 10s) Loss: 0.0981(0.0365) 2240809.5577(828363.8918)Grad: 5.8970  \n",
      "Epoch: [61][92/93] Data 0.015 (0.020) Elapsed 1m 17s (remain 0m 0s) Loss: 0.0907(0.0366) 2072046.1936(833355.3901)Grad: 8.3830  \n",
      "EVAL: [0/46] Data 0.514 (0.514) Elapsed 0m 0s (remain 0m 32s) Loss: 0.1016(0.1016) 2321537.2595(1160768.6297)\n",
      "EVAL: [20/46] Data 0.116 (0.139) Elapsed 0m 7s (remain 0m 8s) Loss: 0.1068(0.0471) 2440576.2571(1050184.0986)\n",
      "EVAL: [40/46] Data 0.127 (0.139) Elapsed 0m 14s (remain 0m 1s) Loss: 0.0873(0.0454) 1995629.5894(1024433.3444)\n"
     ]
    },
    {
     "name": "stderr",
     "output_type": "stream",
     "text": [
      "Epoch 61 - avg_train_loss: 0.0366  avg_val_loss: 0.0453  time: 93s\n",
      "Epoch 61 - MAE: 0.08995537792046826\n"
     ]
    },
    {
     "name": "stdout",
     "output_type": "stream",
     "text": [
      "EVAL: [45/46] Data 0.047 (0.136) Elapsed 0m 15s (remain 0m 0s) Loss: 0.0795(0.0453) 1817111.9501(1027691.0360)\n",
      "Epoch: [62][0/93] Data 0.370 (0.370) Elapsed 0m 1s (remain 1m 49s) Loss: 0.0789(0.0789) 1802440.8718(901220.4359)Grad: 7.2197  \n",
      "Epoch: [62][20/93] Data 0.014 (0.032) Elapsed 0m 17s (remain 1m 1s) Loss: 0.0798(0.0380) 1823423.6802(847266.2117)Grad: 4.2293  \n",
      "Epoch: [62][40/93] Data 0.015 (0.024) Elapsed 0m 34s (remain 0m 43s) Loss: 0.0640(0.0362) 1462478.7242(815960.2416)Grad: 3.6962  \n",
      "Epoch: [62][60/93] Data 0.015 (0.021) Elapsed 0m 51s (remain 0m 26s) Loss: 0.0441(0.0353) 1008639.0134(800613.1180)Grad: 5.4611  \n",
      "Epoch: [62][80/93] Data 0.015 (0.020) Elapsed 1m 7s (remain 0m 10s) Loss: 0.0526(0.0339) 1202467.3138(770423.5340)Grad: 5.0360  \n",
      "Epoch: [62][92/93] Data 0.014 (0.019) Elapsed 1m 17s (remain 0m 0s) Loss: 0.1005(0.0337) 2296775.8569(767531.2392)Grad: 3.8007  \n",
      "EVAL: [0/46] Data 0.376 (0.376) Elapsed 0m 0s (remain 0m 26s) Loss: 0.0907(0.0907) 2071358.0932(1035679.0466)\n",
      "EVAL: [20/46] Data 0.127 (0.146) Elapsed 0m 7s (remain 0m 8s) Loss: 0.1010(0.0487) 2308059.5470(1085243.0898)\n",
      "EVAL: [40/46] Data 0.112 (0.134) Elapsed 0m 13s (remain 0m 1s) Loss: 0.0801(0.0484) 1829668.6771(1092073.1217)\n"
     ]
    },
    {
     "name": "stderr",
     "output_type": "stream",
     "text": [
      "Epoch 62 - avg_train_loss: 0.0337  avg_val_loss: 0.0483  time: 93s\n",
      "Epoch 62 - MAE: 0.09574538208856759\n"
     ]
    },
    {
     "name": "stdout",
     "output_type": "stream",
     "text": [
      "EVAL: [45/46] Data 0.035 (0.131) Elapsed 0m 15s (remain 0m 0s) Loss: 0.0846(0.0483) 1933545.9716(1093838.6745)\n",
      "Epoch: [63][0/93] Data 0.376 (0.376) Elapsed 0m 1s (remain 1m 49s) Loss: 0.0564(0.0564) 1289120.4764(644560.2382)Grad: 7.3737  \n",
      "Epoch: [63][20/93] Data 0.015 (0.034) Elapsed 0m 18s (remain 1m 1s) Loss: 0.0851(0.0381) 1944318.2678(849285.8602)Grad: 11.7422  \n",
      "Epoch: [63][40/93] Data 0.016 (0.025) Elapsed 0m 34s (remain 0m 44s) Loss: 0.0505(0.0361) 1153357.1646(814189.5482)Grad: 2.8216  \n",
      "Epoch: [63][60/93] Data 0.016 (0.022) Elapsed 0m 51s (remain 0m 27s) Loss: 0.0810(0.0353) 1851187.2232(799596.1191)Grad: 6.8313  \n",
      "Epoch: [63][80/93] Data 0.022 (0.021) Elapsed 1m 8s (remain 0m 10s) Loss: 0.0765(0.0350) 1747028.8664(795533.3505)Grad: 4.4066  \n",
      "Epoch: [63][92/93] Data 0.015 (0.020) Elapsed 1m 18s (remain 0m 0s) Loss: 0.0663(0.0350) 1515533.4493(796437.7184)Grad: 9.9492  \n",
      "EVAL: [0/46] Data 0.497 (0.497) Elapsed 0m 0s (remain 0m 32s) Loss: 0.0831(0.0831) 1897748.0640(948874.0320)\n",
      "EVAL: [20/46] Data 0.128 (0.169) Elapsed 0m 7s (remain 0m 9s) Loss: 0.0954(0.0445) 2180615.2370(991506.7450)\n",
      "EVAL: [40/46] Data 0.137 (0.161) Elapsed 0m 14s (remain 0m 1s) Loss: 0.0812(0.0423) 1855053.1494(954145.5552)\n"
     ]
    },
    {
     "name": "stderr",
     "output_type": "stream",
     "text": [
      "Epoch 63 - avg_train_loss: 0.0350  avg_val_loss: 0.0420  time: 95s\n",
      "Epoch 63 - MAE: 0.08333200242221937\n"
     ]
    },
    {
     "name": "stdout",
     "output_type": "stream",
     "text": [
      "EVAL: [45/46] Data 0.047 (0.156) Elapsed 0m 16s (remain 0m 0s) Loss: 0.0741(0.0420) 1692062.2025(952022.5900)\n",
      "Epoch: [64][0/93] Data 0.388 (0.388) Elapsed 0m 1s (remain 1m 51s) Loss: 0.0790(0.0790) 1805069.5109(902534.7555)Grad: 10.0714  \n",
      "Epoch: [64][20/93] Data 0.020 (0.033) Elapsed 0m 18s (remain 1m 2s) Loss: 0.0528(0.0323) 1206109.3775(720786.1155)Grad: 5.8556  \n",
      "Epoch: [64][40/93] Data 0.015 (0.025) Elapsed 0m 34s (remain 0m 44s) Loss: 0.0559(0.0325) 1276931.1222(733315.4971)Grad: 7.2473  \n",
      "Epoch: [64][60/93] Data 0.021 (0.022) Elapsed 0m 51s (remain 0m 27s) Loss: 0.0743(0.0335) 1697652.1251(758785.3066)Grad: 8.9730  \n",
      "Epoch: [64][80/93] Data 0.015 (0.020) Elapsed 1m 8s (remain 0m 10s) Loss: 0.0649(0.0341) 1482824.5033(774923.1445)Grad: 2.8085  \n",
      "Epoch: [64][92/93] Data 0.015 (0.020) Elapsed 1m 18s (remain 0m 0s) Loss: 0.1115(0.0346) 2548655.0161(787130.9714)Grad: 5.8295  \n",
      "EVAL: [0/46] Data 0.387 (0.387) Elapsed 0m 0s (remain 0m 26s) Loss: 0.1075(0.1075) 2456863.5713(1228431.7857)\n",
      "EVAL: [20/46] Data 0.117 (0.169) Elapsed 0m 7s (remain 0m 9s) Loss: 0.1088(0.0533) 2486763.2560(1187810.9570)\n",
      "EVAL: [40/46] Data 0.123 (0.148) Elapsed 0m 14s (remain 0m 1s) Loss: 0.1171(0.0508) 2676102.0498(1145985.4874)\n"
     ]
    },
    {
     "name": "stderr",
     "output_type": "stream",
     "text": [
      "Epoch 64 - avg_train_loss: 0.0346  avg_val_loss: 0.0506  time: 94s\n",
      "Epoch 64 - MAE: 0.10043915784582902\n"
     ]
    },
    {
     "name": "stdout",
     "output_type": "stream",
     "text": [
      "EVAL: [45/46] Data 0.129 (0.147) Elapsed 0m 16s (remain 0m 0s) Loss: 0.0864(0.0506) 1973734.4777(1147462.4808)\n",
      "Epoch: [65][0/93] Data 0.385 (0.385) Elapsed 0m 1s (remain 1m 50s) Loss: 0.0709(0.0709) 1620274.0188(810137.0094)Grad: 9.1892  \n",
      "Epoch: [65][20/93] Data 0.015 (0.033) Elapsed 0m 17s (remain 1m 0s) Loss: 0.0744(0.0327) 1700243.4822(730044.8229)Grad: 3.0578  \n",
      "Epoch: [65][40/93] Data 0.014 (0.025) Elapsed 0m 34s (remain 0m 43s) Loss: 0.0884(0.0343) 2019555.4658(774091.2005)Grad: 10.5601  \n",
      "Epoch: [65][60/93] Data 0.015 (0.022) Elapsed 0m 51s (remain 0m 26s) Loss: 0.0705(0.0342) 1610297.7537(775516.3333)Grad: 7.6611  \n",
      "Epoch: [65][80/93] Data 0.015 (0.021) Elapsed 1m 8s (remain 0m 10s) Loss: 0.0863(0.0340) 1971862.3746(773037.0236)Grad: 9.3567  \n",
      "Epoch: [65][92/93] Data 0.016 (0.020) Elapsed 1m 18s (remain 0m 0s) Loss: 0.0542(0.0338) 1239432.7110(768366.3336)Grad: 8.8484  \n",
      "EVAL: [0/46] Data 0.379 (0.379) Elapsed 0m 0s (remain 0m 26s) Loss: 0.0777(0.0777) 1775151.1001(887575.5500)\n",
      "EVAL: [20/46] Data 0.125 (0.139) Elapsed 0m 7s (remain 0m 8s) Loss: 0.1055(0.0490) 2410580.0476(1093762.4816)\n",
      "EVAL: [40/46] Data 0.116 (0.150) Elapsed 0m 14s (remain 0m 1s) Loss: 0.1029(0.0468) 2352158.9220(1056669.5135)\n"
     ]
    },
    {
     "name": "stderr",
     "output_type": "stream",
     "text": [
      "Epoch 65 - avg_train_loss: 0.0338  avg_val_loss: 0.0464  time: 94s\n",
      "Epoch 65 - MAE: 0.09210159266977841\n"
     ]
    },
    {
     "name": "stdout",
     "output_type": "stream",
     "text": [
      "EVAL: [45/46] Data 0.039 (0.145) Elapsed 0m 15s (remain 0m 0s) Loss: 0.0724(0.0464) 1653635.6558(1052210.3578)\n",
      "Epoch: [66][0/93] Data 0.386 (0.386) Elapsed 0m 1s (remain 1m 51s) Loss: 0.0577(0.0577) 1317420.8638(658710.4319)Grad: 2.1248  \n",
      "Epoch: [66][20/93] Data 0.015 (0.033) Elapsed 0m 17s (remain 1m 1s) Loss: 0.0480(0.0321) 1097700.6980(715063.7602)Grad: 2.0888  \n",
      "Epoch: [66][40/93] Data 0.016 (0.025) Elapsed 0m 34s (remain 0m 43s) Loss: 0.0568(0.0325) 1297463.1413(733439.8982)Grad: 5.8839  \n",
      "Epoch: [66][60/93] Data 0.016 (0.022) Elapsed 0m 51s (remain 0m 26s) Loss: 0.0727(0.0321) 1660572.3282(727607.0306)Grad: 2.7172  \n",
      "Epoch: [66][80/93] Data 0.016 (0.021) Elapsed 1m 7s (remain 0m 10s) Loss: 0.0671(0.0322) 1533506.7969(731626.4709)Grad: 9.4704  \n",
      "Epoch: [66][92/93] Data 0.015 (0.020) Elapsed 1m 17s (remain 0m 0s) Loss: 0.0558(0.0322) 1275104.3023(732089.4480)Grad: 3.2448  \n",
      "EVAL: [0/46] Data 0.375 (0.375) Elapsed 0m 0s (remain 0m 25s) Loss: 0.0595(0.0595) 1359512.2861(679756.1430)\n",
      "EVAL: [20/46] Data 0.130 (0.151) Elapsed 0m 7s (remain 0m 8s) Loss: 0.0864(0.0385) 1974002.6020(859107.9954)\n",
      "EVAL: [40/46] Data 0.118 (0.148) Elapsed 0m 14s (remain 0m 1s) Loss: 0.0540(0.0360) 1234935.7991(811925.0888)\n"
     ]
    },
    {
     "name": "stderr",
     "output_type": "stream",
     "text": [
      "Epoch 66 - avg_train_loss: 0.0322  avg_val_loss: 0.0361  time: 94s\n",
      "Epoch 66 - MAE: 0.07160919374835145\n",
      "Epoch 66 - Save Best Score: 0.0716 Model\n"
     ]
    },
    {
     "name": "stdout",
     "output_type": "stream",
     "text": [
      "EVAL: [45/46] Data 0.040 (0.149) Elapsed 0m 16s (remain 0m 0s) Loss: 0.0696(0.0361) 1590656.2476(818095.9049)\n",
      "Epoch: [67][0/93] Data 0.372 (0.372) Elapsed 0m 1s (remain 1m 49s) Loss: 0.0594(0.0594) 1357075.8452(678537.9226)Grad: 4.7431  \n",
      "Epoch: [67][20/93] Data 0.015 (0.032) Elapsed 0m 17s (remain 1m 0s) Loss: 0.0791(0.0349) 1806776.4836(777545.2376)Grad: 3.6594  \n",
      "Epoch: [67][40/93] Data 0.015 (0.024) Elapsed 0m 34s (remain 0m 43s) Loss: 0.0699(0.0355) 1597628.1591(800746.4998)Grad: 10.3685  \n",
      "Epoch: [67][60/93] Data 0.016 (0.022) Elapsed 0m 51s (remain 0m 26s) Loss: 0.1174(0.0356) 2682164.5520(805728.1264)Grad: 13.6053  \n",
      "Epoch: [67][80/93] Data 0.014 (0.020) Elapsed 1m 7s (remain 0m 10s) Loss: 0.0912(0.0355) 2084540.6137(807229.2210)Grad: 9.8027  \n",
      "Epoch: [67][92/93] Data 0.014 (0.020) Elapsed 1m 17s (remain 0m 0s) Loss: 0.0850(0.0354) 1942180.9345(804621.0404)Grad: 8.6638  \n",
      "EVAL: [0/46] Data 0.372 (0.372) Elapsed 0m 0s (remain 0m 25s) Loss: 0.0583(0.0583) 1332898.1023(666449.0512)\n",
      "EVAL: [20/46] Data 0.120 (0.135) Elapsed 0m 7s (remain 0m 8s) Loss: 0.0675(0.0395) 1541801.4548(880941.6331)\n",
      "EVAL: [40/46] Data 0.187 (0.148) Elapsed 0m 14s (remain 0m 1s) Loss: 0.0743(0.0386) 1697735.2010(870599.5779)\n"
     ]
    },
    {
     "name": "stderr",
     "output_type": "stream",
     "text": [
      "Epoch 67 - avg_train_loss: 0.0354  avg_val_loss: 0.0381  time: 94s\n",
      "Epoch 67 - MAE: 0.07566093189573214\n"
     ]
    },
    {
     "name": "stdout",
     "output_type": "stream",
     "text": [
      "EVAL: [45/46] Data 0.040 (0.143) Elapsed 0m 15s (remain 0m 0s) Loss: 0.0624(0.0381) 1426560.9693(864384.7933)\n",
      "Epoch: [68][0/93] Data 0.376 (0.376) Elapsed 0m 1s (remain 1m 49s) Loss: 0.0831(0.0831) 1899683.6657(949841.8329)Grad: 9.0789  \n",
      "Epoch: [68][20/93] Data 0.015 (0.033) Elapsed 0m 17s (remain 1m 1s) Loss: 0.0719(0.0359) 1642731.7659(800811.3844)Grad: 2.3393  \n",
      "Epoch: [68][40/93] Data 0.014 (0.024) Elapsed 0m 34s (remain 0m 43s) Loss: 0.0549(0.0340) 1254788.1445(766401.1125)Grad: 7.5513  \n",
      "Epoch: [68][60/93] Data 0.015 (0.022) Elapsed 0m 51s (remain 0m 26s) Loss: 0.0678(0.0333) 1549131.8868(754982.6425)Grad: 2.3227  \n",
      "Epoch: [68][80/93] Data 0.016 (0.020) Elapsed 1m 7s (remain 0m 10s) Loss: 0.0528(0.0337) 1206303.7037(766344.7241)Grad: 9.1677  \n",
      "Epoch: [68][92/93] Data 0.015 (0.020) Elapsed 1m 17s (remain 0m 0s) Loss: 0.0549(0.0340) 1254885.0097(774345.7165)Grad: 2.1666  \n",
      "EVAL: [0/46] Data 0.378 (0.378) Elapsed 0m 0s (remain 0m 26s) Loss: 0.0861(0.0861) 1967011.6238(983505.8119)\n",
      "EVAL: [20/46] Data 0.123 (0.148) Elapsed 0m 7s (remain 0m 8s) Loss: 0.0748(0.0392) 1710165.2712(875097.1506)\n",
      "EVAL: [40/46] Data 0.114 (0.140) Elapsed 0m 14s (remain 0m 1s) Loss: 0.0564(0.0372) 1288189.0213(838654.9688)\n"
     ]
    },
    {
     "name": "stderr",
     "output_type": "stream",
     "text": [
      "Epoch 68 - avg_train_loss: 0.0340  avg_val_loss: 0.0375  time: 94s\n",
      "Epoch 68 - MAE: 0.07443308392633821\n"
     ]
    },
    {
     "name": "stdout",
     "output_type": "stream",
     "text": [
      "EVAL: [45/46] Data 0.133 (0.140) Elapsed 0m 15s (remain 0m 0s) Loss: 0.0651(0.0375) 1488246.0609(850357.2810)\n",
      "Epoch: [69][0/93] Data 0.449 (0.449) Elapsed 0m 1s (remain 1m 56s) Loss: 0.0545(0.0545) 1244799.7074(622399.8537)Grad: 7.2454  \n",
      "Epoch: [69][20/93] Data 0.015 (0.036) Elapsed 0m 17s (remain 1m 1s) Loss: 0.0408(0.0309) 932095.2417(689608.3232)Grad: 2.5370  \n",
      "Epoch: [69][40/93] Data 0.015 (0.026) Elapsed 0m 34s (remain 0m 43s) Loss: 0.0448(0.0320) 1023085.9739(723351.5877)Grad: 2.5132  \n",
      "Epoch: [69][60/93] Data 0.016 (0.023) Elapsed 0m 51s (remain 0m 26s) Loss: 0.0673(0.0331) 1537400.6421(750388.4719)Grad: 6.9192  \n",
      "Epoch: [69][80/93] Data 0.014 (0.021) Elapsed 1m 8s (remain 0m 10s) Loss: 0.0607(0.0341) 1386725.6211(774776.0902)Grad: 7.4751  \n",
      "Epoch: [69][92/93] Data 0.015 (0.020) Elapsed 1m 17s (remain 0m 0s) Loss: 0.0604(0.0340) 1380017.4928(774280.4141)Grad: 4.3999  \n",
      "EVAL: [0/46] Data 0.378 (0.378) Elapsed 0m 0s (remain 0m 26s) Loss: 0.0824(0.0824) 1882785.7091(941392.8546)\n",
      "EVAL: [20/46] Data 0.183 (0.142) Elapsed 0m 7s (remain 0m 8s) Loss: 0.0870(0.0398) 1987262.7508(887583.2006)\n",
      "EVAL: [40/46] Data 0.114 (0.139) Elapsed 0m 14s (remain 0m 1s) Loss: 0.0781(0.0378) 1785313.2647(852536.4507)\n"
     ]
    },
    {
     "name": "stderr",
     "output_type": "stream",
     "text": [
      "Epoch 69 - avg_train_loss: 0.0340  avg_val_loss: 0.0375  time: 93s\n",
      "Epoch 69 - MAE: 0.07447008119575874\n"
     ]
    },
    {
     "name": "stdout",
     "output_type": "stream",
     "text": [
      "EVAL: [45/46] Data 0.040 (0.136) Elapsed 0m 15s (remain 0m 0s) Loss: 0.0710(0.0375) 1623183.5500(850779.9766)\n",
      "Epoch: [70][0/93] Data 0.372 (0.372) Elapsed 0m 1s (remain 1m 51s) Loss: 0.0631(0.0631) 1441686.2415(720843.1208)Grad: 11.1982  \n",
      "Epoch: [70][20/93] Data 0.016 (0.033) Elapsed 0m 18s (remain 1m 1s) Loss: 0.0647(0.0357) 1478361.8943(795635.5547)Grad: 4.8749  \n",
      "Epoch: [70][40/93] Data 0.015 (0.025) Elapsed 0m 34s (remain 0m 43s) Loss: 0.0584(0.0355) 1334553.5781(801886.6060)Grad: 4.9427  \n",
      "Epoch: [70][60/93] Data 0.014 (0.022) Elapsed 0m 51s (remain 0m 26s) Loss: 0.0697(0.0358) 1592202.5159(812022.7099)Grad: 2.9852  \n",
      "Epoch: [70][80/93] Data 0.015 (0.020) Elapsed 1m 7s (remain 0m 10s) Loss: 0.0484(0.0347) 1106110.7769(787390.4752)Grad: 2.4112  \n",
      "Epoch: [70][92/93] Data 0.014 (0.020) Elapsed 1m 18s (remain 0m 0s) Loss: 0.0615(0.0338) 1404856.6939(769773.9514)Grad: 4.2547  \n",
      "EVAL: [0/46] Data 0.370 (0.370) Elapsed 0m 0s (remain 0m 25s) Loss: 0.0811(0.0811) 1852263.2952(926131.6476)\n",
      "EVAL: [20/46] Data 0.115 (0.139) Elapsed 0m 7s (remain 0m 8s) Loss: 0.0827(0.0383) 1889443.0216(854012.5300)\n",
      "EVAL: [40/46] Data 0.119 (0.136) Elapsed 0m 13s (remain 0m 1s) Loss: 0.0530(0.0360) 1211690.4477(813143.7016)\n"
     ]
    },
    {
     "name": "stderr",
     "output_type": "stream",
     "text": [
      "Epoch 70 - avg_train_loss: 0.0338  avg_val_loss: 0.0361  time: 94s\n",
      "Epoch 70 - MAE: 0.071639453338734\n"
     ]
    },
    {
     "name": "stdout",
     "output_type": "stream",
     "text": [
      "EVAL: [45/46] Data 0.044 (0.132) Elapsed 0m 15s (remain 0m 0s) Loss: 0.0785(0.0361) 1792682.3406(818441.6084)\n",
      "Epoch: [71][0/93] Data 0.372 (0.372) Elapsed 0m 1s (remain 1m 48s) Loss: 0.0575(0.0575) 1312898.5014(656449.2507)Grad: 3.9763  \n",
      "Epoch: [71][20/93] Data 0.014 (0.032) Elapsed 0m 17s (remain 1m 1s) Loss: 0.0625(0.0320) 1428355.9548(713083.2178)Grad: 3.3324  \n",
      "Epoch: [71][40/93] Data 0.015 (0.024) Elapsed 0m 34s (remain 0m 43s) Loss: 0.0570(0.0323) 1302425.8234(729172.2777)Grad: 7.9076  \n",
      "Epoch: [71][60/93] Data 0.014 (0.021) Elapsed 0m 50s (remain 0m 26s) Loss: 0.0732(0.0312) 1673177.7431(707145.4605)Grad: 10.8953  \n",
      "Epoch: [71][80/93] Data 0.016 (0.020) Elapsed 1m 7s (remain 0m 10s) Loss: 0.0604(0.0307) 1380953.2890(697669.2513)Grad: 2.9560  \n",
      "Epoch: [71][92/93] Data 0.015 (0.019) Elapsed 1m 17s (remain 0m 0s) Loss: 0.0652(0.0304) 1489544.6335(690718.4689)Grad: 2.8454  \n",
      "EVAL: [0/46] Data 0.368 (0.368) Elapsed 0m 0s (remain 0m 25s) Loss: 0.0693(0.0693) 1582338.0969(791169.0484)\n",
      "EVAL: [20/46] Data 0.126 (0.130) Elapsed 0m 6s (remain 0m 8s) Loss: 0.0828(0.0383) 1891145.5680(855344.8482)\n",
      "EVAL: [40/46] Data 0.109 (0.131) Elapsed 0m 13s (remain 0m 1s) Loss: 0.0516(0.0372) 1178475.8960(838886.5065)\n"
     ]
    },
    {
     "name": "stderr",
     "output_type": "stream",
     "text": [
      "Epoch 71 - avg_train_loss: 0.0304  avg_val_loss: 0.0371  time: 93s\n",
      "Epoch 71 - MAE: 0.07367376711674893\n"
     ]
    },
    {
     "name": "stdout",
     "output_type": "stream",
     "text": [
      "EVAL: [45/46] Data 0.036 (0.127) Elapsed 0m 15s (remain 0m 0s) Loss: 0.0726(0.0371) 1658819.7319(841682.5337)\n",
      "Epoch: [72][0/93] Data 0.381 (0.381) Elapsed 0m 1s (remain 1m 49s) Loss: 0.0749(0.0749) 1711417.8797(855708.9398)Grad: 4.7682  \n",
      "Epoch: [72][20/93] Data 0.014 (0.032) Elapsed 0m 17s (remain 1m 0s) Loss: 0.0369(0.0303) 842934.1384(676916.4316)Grad: 4.7750  \n",
      "Epoch: [72][40/93] Data 0.014 (0.024) Elapsed 0m 34s (remain 0m 43s) Loss: 0.0660(0.0293) 1509008.0710(660262.0669)Grad: 2.9253  \n",
      "Epoch: [72][60/93] Data 0.014 (0.021) Elapsed 0m 50s (remain 0m 26s) Loss: 0.0579(0.0299) 1323446.5096(678438.4787)Grad: 3.8646  \n",
      "Epoch: [72][80/93] Data 0.014 (0.019) Elapsed 1m 7s (remain 0m 9s) Loss: 0.0678(0.0296) 1548023.4697(672818.7382)Grad: 2.5789  \n",
      "Epoch: [72][92/93] Data 0.015 (0.019) Elapsed 1m 17s (remain 0m 0s) Loss: 0.0794(0.0295) 1813746.0118(670758.6374)Grad: 4.8689  \n",
      "EVAL: [0/46] Data 0.379 (0.379) Elapsed 0m 0s (remain 0m 26s) Loss: 0.0602(0.0602) 1375374.1765(687687.0883)\n",
      "EVAL: [20/46] Data 0.127 (0.152) Elapsed 0m 7s (remain 0m 8s) Loss: 0.0838(0.0364) 1914472.2080(812398.3629)\n",
      "EVAL: [40/46] Data 0.288 (0.144) Elapsed 0m 14s (remain 0m 1s) Loss: 0.0562(0.0346) 1284700.0864(781588.9989)\n"
     ]
    },
    {
     "name": "stderr",
     "output_type": "stream",
     "text": [
      "Epoch 72 - avg_train_loss: 0.0295  avg_val_loss: 0.0347  time: 93s\n",
      "Epoch 72 - MAE: 0.06875616128582629\n",
      "Epoch 72 - Save Best Score: 0.0688 Model\n"
     ]
    },
    {
     "name": "stdout",
     "output_type": "stream",
     "text": [
      "EVAL: [45/46] Data 0.046 (0.143) Elapsed 0m 15s (remain 0m 0s) Loss: 0.0611(0.0347) 1396537.0111(785501.5714)\n",
      "Epoch: [73][0/93] Data 0.385 (0.385) Elapsed 0m 1s (remain 1m 51s) Loss: 0.0543(0.0543) 1240224.1457(620112.0729)Grad: 5.4835  \n",
      "Epoch: [73][20/93] Data 0.015 (0.034) Elapsed 0m 18s (remain 1m 1s) Loss: 0.0923(0.0348) 2109236.3045(776753.6651)Grad: 11.4485  \n",
      "Epoch: [73][40/93] Data 0.015 (0.025) Elapsed 0m 34s (remain 0m 44s) Loss: 0.0542(0.0329) 1238759.7617(742553.2039)Grad: 6.2266  \n",
      "Epoch: [73][60/93] Data 0.015 (0.022) Elapsed 0m 51s (remain 0m 26s) Loss: 0.0568(0.0313) 1297464.3330(708689.7634)Grad: 3.9414  \n",
      "Epoch: [73][80/93] Data 0.015 (0.021) Elapsed 1m 8s (remain 0m 10s) Loss: 0.0488(0.0308) 1115797.2976(699524.3348)Grad: 2.4964  \n",
      "Epoch: [73][92/93] Data 0.024 (0.020) Elapsed 1m 18s (remain 0m 0s) Loss: 0.0756(0.0308) 1726924.8246(700202.6745)Grad: 7.5902  \n",
      "EVAL: [0/46] Data 0.432 (0.432) Elapsed 0m 0s (remain 0m 28s) Loss: 0.0947(0.0947) 2164866.7248(1082433.3624)\n",
      "EVAL: [20/46] Data 0.264 (0.147) Elapsed 0m 7s (remain 0m 8s) Loss: 0.1101(0.0495) 2515131.8236(1103661.2846)\n",
      "EVAL: [40/46] Data 0.117 (0.139) Elapsed 0m 14s (remain 0m 1s) Loss: 0.0850(0.0480) 1942087.4740(1083346.2970)\n"
     ]
    },
    {
     "name": "stderr",
     "output_type": "stream",
     "text": [
      "Epoch 73 - avg_train_loss: 0.0308  avg_val_loss: 0.0470  time: 94s\n",
      "Epoch 73 - MAE: 0.09332761167812917\n"
     ]
    },
    {
     "name": "stdout",
     "output_type": "stream",
     "text": [
      "EVAL: [45/46] Data 0.039 (0.135) Elapsed 0m 15s (remain 0m 0s) Loss: 0.0613(0.0470) 1400848.6194(1066216.9389)\n",
      "Epoch: [74][0/93] Data 0.374 (0.374) Elapsed 0m 1s (remain 1m 48s) Loss: 0.0524(0.0524) 1197379.4220(598689.7110)Grad: 2.8347  \n",
      "Epoch: [74][20/93] Data 0.015 (0.033) Elapsed 0m 17s (remain 1m 1s) Loss: 0.1022(0.0325) 2335159.3335(724630.2006)Grad: 10.5990  \n",
      "Epoch: [74][40/93] Data 0.014 (0.024) Elapsed 0m 34s (remain 0m 43s) Loss: 0.0921(0.0343) 2104357.8050(773650.5778)Grad: 7.9871  \n",
      "Epoch: [74][60/93] Data 0.015 (0.022) Elapsed 0m 51s (remain 0m 26s) Loss: 0.0640(0.0338) 1463241.2185(765321.0798)Grad: 3.2691  \n",
      "Epoch: [74][80/93] Data 0.015 (0.020) Elapsed 1m 7s (remain 0m 10s) Loss: 0.0431(0.0347) 983836.9241(788784.5248)Grad: 2.2472  \n",
      "Epoch: [74][92/93] Data 0.015 (0.019) Elapsed 1m 17s (remain 0m 0s) Loss: 0.0644(0.0346) 1471081.5122(787244.7342)Grad: 7.4215  \n",
      "EVAL: [0/46] Data 0.373 (0.373) Elapsed 0m 0s (remain 0m 25s) Loss: 0.0947(0.0947) 2164179.3053(1082089.6527)\n",
      "EVAL: [20/46] Data 0.117 (0.159) Elapsed 0m 7s (remain 0m 9s) Loss: 0.0799(0.0428) 1826150.2059(954800.7190)\n",
      "EVAL: [40/46] Data 0.111 (0.143) Elapsed 0m 14s (remain 0m 1s) Loss: 0.0771(0.0423) 1760819.1352(955703.7713)\n"
     ]
    },
    {
     "name": "stderr",
     "output_type": "stream",
     "text": [
      "Epoch 74 - avg_train_loss: 0.0346  avg_val_loss: 0.0423  time: 94s\n",
      "Epoch 74 - MAE: 0.08402289125189047\n"
     ]
    },
    {
     "name": "stdout",
     "output_type": "stream",
     "text": [
      "EVAL: [45/46] Data 0.033 (0.139) Elapsed 0m 15s (remain 0m 0s) Loss: 0.0658(0.0423) 1503826.3783(959915.6130)\n",
      "Epoch: [75][0/93] Data 0.375 (0.375) Elapsed 0m 1s (remain 1m 49s) Loss: 0.0635(0.0635) 1450504.8908(725252.4454)Grad: 6.7883  \n",
      "Epoch: [75][20/93] Data 0.014 (0.032) Elapsed 0m 17s (remain 1m 0s) Loss: 0.0576(0.0296) 1317004.4626(660258.0155)Grad: 4.5885  \n",
      "Epoch: [75][40/93] Data 0.015 (0.025) Elapsed 0m 34s (remain 0m 44s) Loss: 0.0589(0.0314) 1345331.8327(709554.8779)Grad: 4.4434  \n",
      "Epoch: [75][60/93] Data 0.014 (0.021) Elapsed 0m 51s (remain 0m 26s) Loss: 0.0445(0.0310) 1016871.8751(703068.7153)Grad: 3.8766  \n",
      "Epoch: [75][80/93] Data 0.014 (0.020) Elapsed 1m 8s (remain 0m 10s) Loss: 0.0522(0.0309) 1192905.2368(701814.9204)Grad: 2.6307  \n",
      "Epoch: [75][92/93] Data 0.015 (0.019) Elapsed 1m 17s (remain 0m 0s) Loss: 0.0731(0.0308) 1670922.7756(701406.1724)Grad: 5.8270  \n",
      "EVAL: [0/46] Data 0.375 (0.375) Elapsed 0m 0s (remain 0m 25s) Loss: 0.0758(0.0758) 1731799.7492(865899.8746)\n",
      "EVAL: [20/46] Data 0.227 (0.139) Elapsed 0m 7s (remain 0m 8s) Loss: 0.0914(0.0394) 2087777.5118(877852.0229)\n",
      "EVAL: [40/46] Data 0.109 (0.147) Elapsed 0m 14s (remain 0m 1s) Loss: 0.0732(0.0376) 1672196.4935(849677.5797)\n"
     ]
    },
    {
     "name": "stderr",
     "output_type": "stream",
     "text": [
      "Epoch 75 - avg_train_loss: 0.0308  avg_val_loss: 0.0374  time: 94s\n",
      "Epoch 75 - MAE: 0.0742186711213535\n"
     ]
    },
    {
     "name": "stdout",
     "output_type": "stream",
     "text": [
      "EVAL: [45/46] Data 0.038 (0.142) Elapsed 0m 15s (remain 0m 0s) Loss: 0.0757(0.0374) 1730013.2756(847907.7495)\n",
      "Epoch: [76][0/93] Data 0.382 (0.382) Elapsed 0m 1s (remain 1m 50s) Loss: 0.0755(0.0755) 1724389.3055(862194.6528)Grad: 9.2532  \n",
      "Epoch: [76][20/93] Data 0.015 (0.033) Elapsed 0m 17s (remain 1m 1s) Loss: 0.0517(0.0316) 1182060.5896(705778.6862)Grad: 3.6087  \n",
      "Epoch: [76][40/93] Data 0.014 (0.025) Elapsed 0m 34s (remain 0m 43s) Loss: 0.0728(0.0307) 1664330.3237(693567.1746)Grad: 4.5569  \n",
      "Epoch: [76][60/93] Data 0.015 (0.022) Elapsed 0m 51s (remain 0m 26s) Loss: 0.0460(0.0306) 1051562.6423(693497.7483)Grad: 4.5508  \n",
      "Epoch: [76][80/93] Data 0.016 (0.020) Elapsed 1m 8s (remain 0m 10s) Loss: 0.0503(0.0300) 1150099.4975(680653.9200)Grad: 3.7361  \n",
      "Epoch: [76][92/93] Data 0.015 (0.020) Elapsed 1m 17s (remain 0m 0s) Loss: 0.0584(0.0296) 1335321.4349(673618.5868)Grad: 3.4266  \n",
      "EVAL: [0/46] Data 0.360 (0.360) Elapsed 0m 0s (remain 0m 25s) Loss: 0.1149(0.1149) 2624764.8521(1312382.4260)\n",
      "EVAL: [20/46] Data 0.117 (0.153) Elapsed 0m 7s (remain 0m 8s) Loss: 0.0903(0.0458) 2063052.1996(1022345.0937)\n",
      "EVAL: [40/46] Data 0.119 (0.151) Elapsed 0m 14s (remain 0m 1s) Loss: 0.0752(0.0443) 1719156.2010(999511.6818)\n"
     ]
    },
    {
     "name": "stderr",
     "output_type": "stream",
     "text": [
      "Epoch 76 - avg_train_loss: 0.0296  avg_val_loss: 0.0444  time: 94s\n",
      "Epoch 76 - MAE: 0.08812629252001504\n"
     ]
    },
    {
     "name": "stdout",
     "output_type": "stream",
     "text": [
      "EVAL: [45/46] Data 0.045 (0.146) Elapsed 0m 15s (remain 0m 0s) Loss: 0.0741(0.0444) 1693523.5223(1006794.7140)\n",
      "Epoch: [77][0/93] Data 0.369 (0.369) Elapsed 0m 1s (remain 1m 48s) Loss: 0.0480(0.0480) 1097238.3326(548619.1663)Grad: 3.3432  \n",
      "Epoch: [77][20/93] Data 0.014 (0.032) Elapsed 0m 17s (remain 1m 0s) Loss: 0.0531(0.0310) 1213595.2364(692561.9439)Grad: 4.7977  \n",
      "Epoch: [77][40/93] Data 0.014 (0.025) Elapsed 0m 34s (remain 0m 43s) Loss: 0.0604(0.0303) 1380160.4924(684433.6926)Grad: 3.8903  \n",
      "Epoch: [77][60/93] Data 0.014 (0.022) Elapsed 0m 51s (remain 0m 26s) Loss: 0.0606(0.0304) 1384609.1419(688282.4504)Grad: 2.2224  \n",
      "Epoch: [77][80/93] Data 0.016 (0.020) Elapsed 1m 8s (remain 0m 10s) Loss: 0.1002(0.0309) 2290093.5195(701298.0853)Grad: 6.2958  \n",
      "Epoch: [77][92/93] Data 0.015 (0.020) Elapsed 1m 17s (remain 0m 0s) Loss: 0.0888(0.0308) 2028056.7921(701111.4920)Grad: 6.2459  \n",
      "EVAL: [0/46] Data 0.364 (0.364) Elapsed 0m 0s (remain 0m 25s) Loss: 0.0849(0.0849) 1939609.4952(969804.7476)\n",
      "EVAL: [20/46] Data 0.123 (0.149) Elapsed 0m 7s (remain 0m 8s) Loss: 0.0828(0.0401) 1892446.5240(894828.7631)\n",
      "EVAL: [40/46] Data 0.131 (0.140) Elapsed 0m 14s (remain 0m 1s) Loss: 0.0543(0.0376) 1241114.9992(849136.7898)\n"
     ]
    },
    {
     "name": "stderr",
     "output_type": "stream",
     "text": [
      "Epoch 77 - avg_train_loss: 0.0308  avg_val_loss: 0.0376  time: 94s\n",
      "Epoch 77 - MAE: 0.07469159341124122\n"
     ]
    },
    {
     "name": "stdout",
     "output_type": "stream",
     "text": [
      "EVAL: [45/46] Data 0.045 (0.136) Elapsed 0m 15s (remain 0m 0s) Loss: 0.0745(0.0376) 1702882.5058(853310.6375)\n",
      "Epoch: [78][0/93] Data 0.402 (0.402) Elapsed 0m 1s (remain 1m 52s) Loss: 0.1027(0.1027) 2346182.5600(1173091.2800)Grad: 7.3115  \n",
      "Epoch: [78][20/93] Data 0.015 (0.036) Elapsed 0m 18s (remain 1m 2s) Loss: 0.0432(0.0305) 987666.5896(680338.6557)Grad: 1.9680  \n",
      "Epoch: [78][40/93] Data 0.016 (0.026) Elapsed 0m 34s (remain 0m 44s) Loss: 0.0546(0.0279) 1247741.4986(629416.1765)Grad: 3.1300  \n",
      "Epoch: [78][60/93] Data 0.015 (0.023) Elapsed 0m 51s (remain 0m 27s) Loss: 0.0601(0.0284) 1372605.7723(643472.1540)Grad: 9.7025  \n",
      "Epoch: [78][80/93] Data 0.026 (0.021) Elapsed 1m 8s (remain 0m 10s) Loss: 0.0656(0.0289) 1498104.1811(656954.6310)Grad: 8.9796  \n",
      "Epoch: [78][92/93] Data 0.015 (0.020) Elapsed 1m 18s (remain 0m 0s) Loss: 0.0556(0.0285) 1271287.2344(648656.2194)Grad: 3.5674  \n",
      "EVAL: [0/46] Data 0.419 (0.419) Elapsed 0m 0s (remain 0m 27s) Loss: 0.0696(0.0696) 1591058.5191(795529.2595)\n",
      "EVAL: [20/46] Data 0.116 (0.134) Elapsed 0m 7s (remain 0m 8s) Loss: 0.0563(0.0356) 1287368.9015(794330.6712)\n",
      "EVAL: [40/46] Data 0.116 (0.133) Elapsed 0m 13s (remain 0m 1s) Loss: 0.0570(0.0342) 1302817.4550(772749.9284)\n"
     ]
    },
    {
     "name": "stderr",
     "output_type": "stream",
     "text": [
      "Epoch 78 - avg_train_loss: 0.0285  avg_val_loss: 0.0340  time: 94s\n",
      "Epoch 78 - MAE: 0.06741699891333545\n",
      "Epoch 78 - Save Best Score: 0.0674 Model\n"
     ]
    },
    {
     "name": "stdout",
     "output_type": "stream",
     "text": [
      "EVAL: [45/46] Data 0.044 (0.130) Elapsed 0m 15s (remain 0m 0s) Loss: 0.0542(0.0340) 1238163.0788(770202.3742)\n",
      "Epoch: [79][0/93] Data 0.364 (0.364) Elapsed 0m 1s (remain 1m 47s) Loss: 0.0477(0.0477) 1088872.5154(544436.2577)Grad: 5.2680  \n",
      "Epoch: [79][20/93] Data 0.021 (0.033) Elapsed 0m 17s (remain 1m 1s) Loss: 0.0634(0.0276) 1449405.8367(616382.2720)Grad: 3.4057  \n",
      "Epoch: [79][40/93] Data 0.015 (0.024) Elapsed 0m 34s (remain 0m 43s) Loss: 0.0623(0.0287) 1423629.8179(646844.8250)Grad: 2.7067  \n",
      "Epoch: [79][60/93] Data 0.015 (0.022) Elapsed 0m 51s (remain 0m 26s) Loss: 0.0668(0.0289) 1526755.1729(655748.6224)Grad: 9.6863  \n",
      "Epoch: [79][80/93] Data 0.015 (0.020) Elapsed 1m 7s (remain 0m 10s) Loss: 0.0594(0.0289) 1357640.5234(657226.2047)Grad: 3.3928  \n",
      "Epoch: [79][92/93] Data 0.014 (0.020) Elapsed 1m 17s (remain 0m 0s) Loss: 0.0740(0.0288) 1689862.3920(654653.4747)Grad: 2.7823  \n",
      "EVAL: [0/46] Data 0.378 (0.378) Elapsed 0m 0s (remain 0m 26s) Loss: 0.0661(0.0661) 1510191.9034(755095.9517)\n",
      "EVAL: [20/46] Data 0.132 (0.143) Elapsed 0m 7s (remain 0m 8s) Loss: 0.0861(0.0403) 1967084.3152(899109.1895)\n",
      "EVAL: [40/46] Data 0.113 (0.136) Elapsed 0m 13s (remain 0m 1s) Loss: 0.0677(0.0383) 1547660.0124(863855.0830)\n"
     ]
    },
    {
     "name": "stderr",
     "output_type": "stream",
     "text": [
      "Epoch 79 - avg_train_loss: 0.0288  avg_val_loss: 0.0377  time: 93s\n",
      "Epoch 79 - MAE: 0.07480141030951823\n"
     ]
    },
    {
     "name": "stdout",
     "output_type": "stream",
     "text": [
      "EVAL: [45/46] Data 0.035 (0.132) Elapsed 0m 15s (remain 0m 0s) Loss: 0.0488(0.0377) 1114777.6594(854565.2219)\n",
      "Epoch: [80][0/93] Data 0.390 (0.390) Elapsed 0m 1s (remain 1m 58s) Loss: 0.0763(0.0763) 1742909.9671(871454.9836)Grad: 7.4902  \n",
      "Epoch: [80][20/93] Data 0.014 (0.034) Elapsed 0m 18s (remain 1m 1s) Loss: 0.0394(0.0280) 900316.8146(624439.9064)Grad: 7.3304  \n",
      "Epoch: [80][40/93] Data 0.021 (0.025) Elapsed 0m 34s (remain 0m 43s) Loss: 0.0662(0.0277) 1512932.0482(625150.0601)Grad: 6.7000  \n",
      "Epoch: [80][60/93] Data 0.015 (0.022) Elapsed 0m 51s (remain 0m 26s) Loss: 0.0546(0.0280) 1246760.7597(635109.5064)Grad: 5.5662  \n",
      "Epoch: [80][80/93] Data 0.020 (0.020) Elapsed 1m 7s (remain 0m 10s) Loss: 0.1061(0.0294) 2424853.7913(666644.9211)Grad: 11.9991  \n",
      "Epoch: [80][92/93] Data 0.014 (0.020) Elapsed 1m 17s (remain 0m 0s) Loss: 0.0660(0.0300) 1508322.5241(682642.7177)Grad: 6.9007  \n",
      "EVAL: [0/46] Data 0.400 (0.400) Elapsed 0m 0s (remain 0m 27s) Loss: 0.0654(0.0654) 1494637.4622(747318.7311)\n",
      "EVAL: [20/46] Data 0.121 (0.142) Elapsed 0m 7s (remain 0m 8s) Loss: 0.0832(0.0366) 1901395.2348(815561.0658)\n",
      "EVAL: [40/46] Data 0.115 (0.138) Elapsed 0m 13s (remain 0m 1s) Loss: 0.0560(0.0356) 1278800.1611(802771.9548)\n"
     ]
    },
    {
     "name": "stderr",
     "output_type": "stream",
     "text": [
      "Epoch 80 - avg_train_loss: 0.0300  avg_val_loss: 0.0352  time: 93s\n",
      "Epoch 80 - MAE: 0.06974974849552787\n"
     ]
    },
    {
     "name": "stdout",
     "output_type": "stream",
     "text": [
      "EVAL: [45/46] Data 0.043 (0.135) Elapsed 0m 15s (remain 0m 0s) Loss: 0.0759(0.0352) 1733610.3965(796852.7549)\n",
      "Epoch: [81][0/93] Data 0.374 (0.374) Elapsed 0m 1s (remain 1m 49s) Loss: 0.0604(0.0604) 1379130.2994(689565.1497)Grad: 2.5260  \n",
      "Epoch: [81][20/93] Data 0.021 (0.033) Elapsed 0m 17s (remain 1m 1s) Loss: 0.0722(0.0327) 1650023.5539(728379.5991)Grad: 3.6708  \n",
      "Epoch: [81][40/93] Data 0.015 (0.024) Elapsed 0m 34s (remain 0m 43s) Loss: 0.0731(0.0312) 1670448.1531(704225.9161)Grad: 4.7027  \n",
      "Epoch: [81][60/93] Data 0.021 (0.021) Elapsed 0m 51s (remain 0m 26s) Loss: 0.0429(0.0302) 979443.5166(683710.7051)Grad: 4.2189  \n",
      "Epoch: [81][80/93] Data 0.015 (0.020) Elapsed 1m 7s (remain 0m 10s) Loss: 0.0538(0.0296) 1230019.3366(671668.8840)Grad: 5.4257  \n",
      "Epoch: [81][92/93] Data 0.015 (0.019) Elapsed 1m 17s (remain 0m 0s) Loss: 0.0473(0.0299) 1080946.5922(679420.3552)Grad: 2.9641  \n",
      "EVAL: [0/46] Data 0.382 (0.382) Elapsed 0m 0s (remain 0m 26s) Loss: 0.0875(0.0875) 1998313.3856(999156.6928)\n",
      "EVAL: [20/46] Data 0.123 (0.147) Elapsed 0m 7s (remain 0m 8s) Loss: 0.0821(0.0424) 1875954.7543(945212.7902)\n",
      "EVAL: [40/46] Data 0.126 (0.148) Elapsed 0m 14s (remain 0m 1s) Loss: 0.0566(0.0415) 1293626.8365(937567.9692)\n"
     ]
    },
    {
     "name": "stderr",
     "output_type": "stream",
     "text": [
      "Epoch 81 - avg_train_loss: 0.0299  avg_val_loss: 0.0419  time: 94s\n",
      "Epoch 81 - MAE: 0.08312249204731341\n"
     ]
    },
    {
     "name": "stdout",
     "output_type": "stream",
     "text": [
      "EVAL: [45/46] Data 0.041 (0.145) Elapsed 0m 15s (remain 0m 0s) Loss: 0.0942(0.0419) 2151680.1187(949629.0329)\n",
      "Epoch: [82][0/93] Data 0.509 (0.509) Elapsed 0m 1s (remain 2m 7s) Loss: 0.0756(0.0756) 1728172.3259(864086.1630)Grad: 11.5443  \n",
      "Epoch: [82][20/93] Data 0.016 (0.039) Elapsed 0m 18s (remain 1m 2s) Loss: 0.0454(0.0301) 1037949.1653(671309.8359)Grad: 2.5443  \n",
      "Epoch: [82][40/93] Data 0.016 (0.028) Elapsed 0m 34s (remain 0m 44s) Loss: 0.0506(0.0282) 1156663.9453(635729.5716)Grad: 6.5803  \n",
      "Epoch: [82][60/93] Data 0.015 (0.024) Elapsed 0m 51s (remain 0m 27s) Loss: 0.0477(0.0287) 1090020.0872(649643.8420)Grad: 3.0073  \n",
      "Epoch: [82][80/93] Data 0.015 (0.022) Elapsed 1m 8s (remain 0m 10s) Loss: 0.0823(0.0289) 1879847.4078(656792.9578)Grad: 8.7777  \n",
      "Epoch: [82][92/93] Data 0.020 (0.021) Elapsed 1m 18s (remain 0m 0s) Loss: 0.0694(0.0292) 1585642.0687(664553.6402)Grad: 5.7985  \n",
      "EVAL: [0/46] Data 0.482 (0.482) Elapsed 0m 0s (remain 0m 31s) Loss: 0.0654(0.0654) 1493338.2086(746669.1043)\n",
      "EVAL: [20/46] Data 0.128 (0.142) Elapsed 0m 7s (remain 0m 8s) Loss: 0.0693(0.0343) 1582456.2418(764859.6063)\n",
      "EVAL: [40/46] Data 0.124 (0.138) Elapsed 0m 13s (remain 0m 1s) Loss: 0.0584(0.0331) 1334950.2318(747586.5481)\n"
     ]
    },
    {
     "name": "stderr",
     "output_type": "stream",
     "text": [
      "Epoch 82 - avg_train_loss: 0.0292  avg_val_loss: 0.0330  time: 94s\n",
      "Epoch 82 - MAE: 0.06540963105197303\n",
      "Epoch 82 - Save Best Score: 0.0654 Model\n"
     ]
    },
    {
     "name": "stdout",
     "output_type": "stream",
     "text": [
      "EVAL: [45/46] Data 0.039 (0.134) Elapsed 0m 15s (remain 0m 0s) Loss: 0.0587(0.0330) 1341804.5942(747269.2755)\n",
      "Epoch: [83][0/93] Data 0.387 (0.387) Elapsed 0m 1s (remain 1m 51s) Loss: 0.0589(0.0589) 1345375.6688(672687.8344)Grad: 4.4300  \n",
      "Epoch: [83][20/93] Data 0.016 (0.035) Elapsed 0m 18s (remain 1m 2s) Loss: 0.0598(0.0322) 1365353.0538(718135.2543)Grad: 7.1020  \n",
      "Epoch: [83][40/93] Data 0.015 (0.025) Elapsed 0m 34s (remain 0m 44s) Loss: 0.0606(0.0315) 1384671.7042(712009.0920)Grad: 2.4851  \n",
      "Epoch: [83][60/93] Data 0.015 (0.023) Elapsed 0m 51s (remain 0m 27s) Loss: 0.0633(0.0316) 1446626.3671(716378.9838)Grad: 9.9250  \n",
      "Epoch: [83][80/93] Data 0.014 (0.021) Elapsed 1m 8s (remain 0m 10s) Loss: 0.0496(0.0304) 1133322.1543(690693.9087)Grad: 4.1852  \n",
      "Epoch: [83][92/93] Data 0.016 (0.020) Elapsed 1m 18s (remain 0m 0s) Loss: 0.0431(0.0296) 984549.7941(673646.1273)Grad: 3.1571  \n",
      "EVAL: [0/46] Data 0.375 (0.375) Elapsed 0m 0s (remain 0m 25s) Loss: 0.0673(0.0673) 1537025.7788(768512.8894)\n",
      "EVAL: [20/46] Data 0.126 (0.169) Elapsed 0m 7s (remain 0m 9s) Loss: 0.0744(0.0341) 1699204.1815(760865.1061)\n",
      "EVAL: [40/46] Data 0.236 (0.158) Elapsed 0m 14s (remain 0m 1s) Loss: 0.0433(0.0326) 988301.2355(736688.8116)\n"
     ]
    },
    {
     "name": "stderr",
     "output_type": "stream",
     "text": [
      "Epoch 83 - avg_train_loss: 0.0296  avg_val_loss: 0.0323  time: 95s\n",
      "Epoch 83 - MAE: 0.06407031062211901\n",
      "Epoch 83 - Save Best Score: 0.0641 Model\n"
     ]
    },
    {
     "name": "stdout",
     "output_type": "stream",
     "text": [
      "EVAL: [45/46] Data 0.035 (0.154) Elapsed 0m 16s (remain 0m 0s) Loss: 0.0530(0.0323) 1210892.4588(731968.2720)\n",
      "Epoch: [84][0/93] Data 0.382 (0.382) Elapsed 0m 1s (remain 1m 50s) Loss: 0.0404(0.0404) 923307.7459(461653.8730)Grad: 2.5070  \n",
      "Epoch: [84][20/93] Data 0.015 (0.033) Elapsed 0m 17s (remain 1m 1s) Loss: 0.0493(0.0261) 1127172.2351(582587.8605)Grad: 2.6032  \n",
      "Epoch: [84][40/93] Data 0.015 (0.025) Elapsed 0m 34s (remain 0m 44s) Loss: 0.0604(0.0272) 1380695.2939(613662.6278)Grad: 4.1437  \n",
      "Epoch: [84][60/93] Data 0.021 (0.022) Elapsed 0m 51s (remain 0m 27s) Loss: 0.0427(0.0278) 975890.2319(630445.1302)Grad: 3.8013  \n",
      "Epoch: [84][80/93] Data 0.015 (0.021) Elapsed 1m 8s (remain 0m 10s) Loss: 0.0522(0.0274) 1193354.4939(622617.1736)Grad: 2.0110  \n",
      "Epoch: [84][92/93] Data 0.014 (0.020) Elapsed 1m 18s (remain 0m 0s) Loss: 0.0526(0.0273) 1201799.6418(620492.6845)Grad: 10.7072  \n",
      "EVAL: [0/46] Data 0.378 (0.378) Elapsed 0m 0s (remain 0m 26s) Loss: 0.0927(0.0927) 2117943.6184(1058971.8092)\n",
      "EVAL: [20/46] Data 0.122 (0.166) Elapsed 0m 7s (remain 0m 9s) Loss: 0.1086(0.0465) 2481806.4472(1036452.0997)\n",
      "EVAL: [40/46] Data 0.117 (0.143) Elapsed 0m 14s (remain 0m 1s) Loss: 0.0783(0.0444) 1788597.1484(1001478.1651)\n"
     ]
    },
    {
     "name": "stderr",
     "output_type": "stream",
     "text": [
      "Epoch 84 - avg_train_loss: 0.0273  avg_val_loss: 0.0438  time: 94s\n",
      "Epoch 84 - MAE: 0.08700568227188137\n"
     ]
    },
    {
     "name": "stdout",
     "output_type": "stream",
     "text": [
      "EVAL: [45/46] Data 0.039 (0.139) Elapsed 0m 15s (remain 0m 0s) Loss: 0.0604(0.0438) 1380463.3451(993992.3766)\n",
      "Epoch: [85][0/93] Data 0.382 (0.382) Elapsed 0m 1s (remain 1m 50s) Loss: 0.0397(0.0397) 906143.7079(453071.8540)Grad: 9.4044  \n",
      "Epoch: [85][20/93] Data 0.015 (0.033) Elapsed 0m 17s (remain 1m 1s) Loss: 0.0470(0.0289) 1074698.4458(645674.2834)Grad: 10.7565  \n",
      "Epoch: [85][40/93] Data 0.015 (0.024) Elapsed 0m 34s (remain 0m 43s) Loss: 0.0579(0.0285) 1322758.7496(642327.7742)Grad: 7.3422  \n",
      "Epoch: [85][60/93] Data 0.015 (0.021) Elapsed 0m 51s (remain 0m 26s) Loss: 0.0386(0.0283) 882324.7408(641661.9622)Grad: 2.9467  \n",
      "Epoch: [85][80/93] Data 0.014 (0.020) Elapsed 1m 7s (remain 0m 10s) Loss: 0.0489(0.0281) 1117232.5710(637171.9911)Grad: 5.2383  \n",
      "Epoch: [85][92/93] Data 0.014 (0.019) Elapsed 1m 17s (remain 0m 0s) Loss: 0.0707(0.0276) 1614513.8586(627772.0012)Grad: 2.8699  \n",
      "EVAL: [0/46] Data 0.365 (0.365) Elapsed 0m 0s (remain 0m 25s) Loss: 0.0512(0.0512) 1169480.5400(584740.2700)\n",
      "EVAL: [20/46] Data 0.279 (0.153) Elapsed 0m 7s (remain 0m 8s) Loss: 0.0564(0.0330) 1287734.7422(736439.7019)\n",
      "EVAL: [40/46] Data 0.135 (0.151) Elapsed 0m 14s (remain 0m 1s) Loss: 0.0551(0.0319) 1259404.3079(718934.1923)\n"
     ]
    },
    {
     "name": "stderr",
     "output_type": "stream",
     "text": [
      "Epoch 85 - avg_train_loss: 0.0276  avg_val_loss: 0.0315  time: 94s\n",
      "Epoch 85 - MAE: 0.062489578839550926\n",
      "Epoch 85 - Save Best Score: 0.0625 Model\n"
     ]
    },
    {
     "name": "stdout",
     "output_type": "stream",
     "text": [
      "EVAL: [45/46] Data 0.046 (0.146) Elapsed 0m 16s (remain 0m 0s) Loss: 0.0564(0.0315) 1288879.4200(713909.2799)\n",
      "Epoch: [86][0/93] Data 0.384 (0.384) Elapsed 0m 1s (remain 1m 51s) Loss: 0.0504(0.0504) 1152191.1220(576095.5610)Grad: 8.1386  \n",
      "Epoch: [86][20/93] Data 0.020 (0.033) Elapsed 0m 17s (remain 1m 1s) Loss: 0.0620(0.0282) 1416428.0856(628263.7859)Grad: 5.4430  \n",
      "Epoch: [86][40/93] Data 0.014 (0.025) Elapsed 0m 34s (remain 0m 43s) Loss: 0.0466(0.0287) 1063759.2316(647529.8052)Grad: 12.7019  \n",
      "Epoch: [86][60/93] Data 0.021 (0.022) Elapsed 0m 51s (remain 0m 26s) Loss: 0.0691(0.0286) 1579438.4395(649038.9054)Grad: 2.0956  \n",
      "Epoch: [86][80/93] Data 0.015 (0.020) Elapsed 1m 8s (remain 0m 10s) Loss: 0.0313(0.0279) 714631.7458(633144.9193)Grad: 4.4168  \n",
      "Epoch: [86][92/93] Data 0.014 (0.020) Elapsed 1m 17s (remain 0m 0s) Loss: 0.0621(0.0276) 1419892.3361(628150.6295)Grad: 4.0006  \n",
      "EVAL: [0/46] Data 0.370 (0.370) Elapsed 0m 0s (remain 0m 25s) Loss: 0.0613(0.0613) 1399885.1595(699942.5798)\n",
      "EVAL: [20/46] Data 0.119 (0.142) Elapsed 0m 7s (remain 0m 8s) Loss: 0.0699(0.0333) 1597212.6091(742527.8087)\n",
      "EVAL: [40/46] Data 0.120 (0.140) Elapsed 0m 14s (remain 0m 1s) Loss: 0.0444(0.0318) 1013921.0612(716975.8742)\n"
     ]
    },
    {
     "name": "stderr",
     "output_type": "stream",
     "text": [
      "Epoch 86 - avg_train_loss: 0.0276  avg_val_loss: 0.0316  time: 94s\n",
      "Epoch 86 - MAE: 0.06268182215374692\n"
     ]
    },
    {
     "name": "stdout",
     "output_type": "stream",
     "text": [
      "EVAL: [45/46] Data 0.034 (0.136) Elapsed 0m 15s (remain 0m 0s) Loss: 0.0556(0.0316) 1269567.4088(716105.5494)\n",
      "Epoch: [87][0/93] Data 0.424 (0.424) Elapsed 0m 1s (remain 2m 6s) Loss: 0.0380(0.0380) 868130.3279(434065.1640)Grad: 3.5006  \n",
      "Epoch: [87][20/93] Data 0.016 (0.034) Elapsed 0m 17s (remain 1m 1s) Loss: 0.0563(0.0271) 1287284.0381(603703.5900)Grad: 2.3899  \n",
      "Epoch: [87][40/93] Data 0.022 (0.026) Elapsed 0m 34s (remain 0m 44s) Loss: 0.0473(0.0262) 1081683.2955(591962.1724)Grad: 1.9831  \n",
      "Epoch: [87][60/93] Data 0.015 (0.022) Elapsed 0m 51s (remain 0m 26s) Loss: 0.0655(0.0265) 1497519.4149(599432.2767)Grad: 9.8391  \n",
      "Epoch: [87][80/93] Data 0.016 (0.021) Elapsed 1m 8s (remain 0m 10s) Loss: 0.0396(0.0268) 904913.9114(607573.4176)Grad: 3.4711  \n",
      "Epoch: [87][92/93] Data 0.019 (0.020) Elapsed 1m 18s (remain 0m 0s) Loss: 0.0614(0.0266) 1402137.4884(605881.0178)Grad: 3.7329  \n",
      "EVAL: [0/46] Data 0.394 (0.394) Elapsed 0m 0s (remain 0m 26s) Loss: 0.0743(0.0743) 1698198.4176(849099.2088)\n",
      "EVAL: [20/46] Data 0.128 (0.143) Elapsed 0m 7s (remain 0m 8s) Loss: 0.0755(0.0393) 1725780.1469(877324.8862)\n",
      "EVAL: [40/46] Data 0.123 (0.157) Elapsed 0m 14s (remain 0m 1s) Loss: 0.0525(0.0386) 1198523.5891(871403.4182)\n"
     ]
    },
    {
     "name": "stderr",
     "output_type": "stream",
     "text": [
      "Epoch 87 - avg_train_loss: 0.0266  avg_val_loss: 0.0389  time: 95s\n",
      "Epoch 87 - MAE: 0.07712638921543914\n"
     ]
    },
    {
     "name": "stdout",
     "output_type": "stream",
     "text": [
      "EVAL: [45/46] Data 0.045 (0.153) Elapsed 0m 16s (remain 0m 0s) Loss: 0.0612(0.0389) 1399260.2172(881126.8172)\n",
      "Epoch: [88][0/93] Data 0.386 (0.386) Elapsed 0m 1s (remain 1m 51s) Loss: 0.0463(0.0463) 1057544.1965(528772.0983)Grad: 4.8851  \n",
      "Epoch: [88][20/93] Data 0.015 (0.033) Elapsed 0m 17s (remain 1m 1s) Loss: 0.0497(0.0271) 1134488.0266(603562.0516)Grad: 5.4477  \n",
      "Epoch: [88][40/93] Data 0.015 (0.025) Elapsed 0m 34s (remain 0m 44s) Loss: 0.0610(0.0281) 1392789.9108(633188.2395)Grad: 3.0066  \n",
      "Epoch: [88][60/93] Data 0.015 (0.022) Elapsed 0m 51s (remain 0m 26s) Loss: 0.0478(0.0284) 1092688.9875(643980.6775)Grad: 5.0332  \n",
      "Epoch: [88][80/93] Data 0.015 (0.021) Elapsed 1m 8s (remain 0m 10s) Loss: 0.0472(0.0280) 1078922.6371(635681.8547)Grad: 3.1671  \n",
      "Epoch: [88][92/93] Data 0.014 (0.020) Elapsed 1m 18s (remain 0m 0s) Loss: 0.0379(0.0277) 866464.7230(630159.0111)Grad: 3.5459  \n",
      "EVAL: [0/46] Data 0.382 (0.382) Elapsed 0m 0s (remain 0m 26s) Loss: 0.0650(0.0650) 1484785.6407(742392.8204)\n",
      "EVAL: [20/46] Data 0.136 (0.152) Elapsed 0m 7s (remain 0m 8s) Loss: 0.0515(0.0370) 1176472.7099(824249.2462)\n",
      "EVAL: [40/46] Data 0.117 (0.148) Elapsed 0m 14s (remain 0m 1s) Loss: 0.0535(0.0352) 1221853.5486(794368.9666)\n"
     ]
    },
    {
     "name": "stderr",
     "output_type": "stream",
     "text": [
      "Epoch 88 - avg_train_loss: 0.0277  avg_val_loss: 0.0356  time: 94s\n",
      "Epoch 88 - MAE: 0.07067649736282526\n"
     ]
    },
    {
     "name": "stdout",
     "output_type": "stream",
     "text": [
      "EVAL: [45/46] Data 0.047 (0.148) Elapsed 0m 16s (remain 0m 0s) Loss: 0.0894(0.0356) 2043176.9572(807440.3589)\n",
      "Epoch: [89][0/93] Data 0.404 (0.404) Elapsed 0m 1s (remain 1m 53s) Loss: 0.0471(0.0471) 1076143.5079(538071.7539)Grad: 3.1197  \n",
      "Epoch: [89][20/93] Data 0.016 (0.034) Elapsed 0m 17s (remain 1m 1s) Loss: 0.0435(0.0265) 993239.6586(592097.0463)Grad: 4.6023  \n",
      "Epoch: [89][40/93] Data 0.015 (0.025) Elapsed 0m 34s (remain 0m 43s) Loss: 0.0724(0.0271) 1653375.3625(611470.4219)Grad: 5.8014  \n",
      "Epoch: [89][60/93] Data 0.014 (0.022) Elapsed 0m 51s (remain 0m 26s) Loss: 0.0548(0.0267) 1251652.1122(604673.1518)Grad: 7.2430  \n",
      "Epoch: [89][80/93] Data 0.016 (0.020) Elapsed 1m 8s (remain 0m 10s) Loss: 0.0684(0.0266) 1563209.6870(604879.5226)Grad: 2.8566  \n",
      "Epoch: [89][92/93] Data 0.014 (0.020) Elapsed 1m 17s (remain 0m 0s) Loss: 0.0530(0.0268) 1210328.8021(609984.6352)Grad: 8.3177  \n",
      "EVAL: [0/46] Data 0.386 (0.386) Elapsed 0m 0s (remain 0m 26s) Loss: 0.0551(0.0551) 1258688.9694(629344.4847)\n",
      "EVAL: [20/46] Data 0.126 (0.137) Elapsed 0m 7s (remain 0m 8s) Loss: 0.0960(0.0337) 2193652.3746(751980.3823)\n",
      "EVAL: [40/46] Data 0.125 (0.146) Elapsed 0m 14s (remain 0m 1s) Loss: 0.0581(0.0318) 1328507.9294(717573.4083)\n"
     ]
    },
    {
     "name": "stderr",
     "output_type": "stream",
     "text": [
      "Epoch 89 - avg_train_loss: 0.0268  avg_val_loss: 0.0323  time: 94s\n",
      "Epoch 89 - MAE: 0.0641591508316485\n"
     ]
    },
    {
     "name": "stdout",
     "output_type": "stream",
     "text": [
      "EVAL: [45/46] Data 0.081 (0.148) Elapsed 0m 16s (remain 0m 0s) Loss: 0.0691(0.0323) 1579501.5976(732983.2269)\n",
      "Epoch: [90][0/93] Data 0.377 (0.377) Elapsed 0m 1s (remain 1m 50s) Loss: 0.0599(0.0599) 1369289.4583(684644.7292)Grad: 5.9629  \n",
      "Epoch: [90][20/93] Data 0.014 (0.033) Elapsed 0m 17s (remain 1m 1s) Loss: 0.0464(0.0260) 1060518.4180(578997.2086)Grad: 2.4336  \n",
      "Epoch: [90][40/93] Data 0.015 (0.024) Elapsed 0m 34s (remain 0m 43s) Loss: 0.0550(0.0255) 1256715.9153(575615.9259)Grad: 3.1772  \n",
      "Epoch: [90][60/93] Data 0.015 (0.021) Elapsed 0m 51s (remain 0m 26s) Loss: 0.0478(0.0255) 1091837.7143(577883.3334)Grad: 2.6979  \n",
      "Epoch: [90][80/93] Data 0.015 (0.020) Elapsed 1m 7s (remain 0m 10s) Loss: 0.0750(0.0255) 1713775.6707(579759.3744)Grad: 2.6557  \n",
      "Epoch: [90][92/93] Data 0.014 (0.019) Elapsed 1m 17s (remain 0m 0s) Loss: 0.0599(0.0252) 1367557.9714(572488.5097)Grad: 3.9375  \n",
      "EVAL: [0/46] Data 0.377 (0.377) Elapsed 0m 0s (remain 0m 26s) Loss: 0.0623(0.0623) 1424065.3709(712032.6854)\n",
      "EVAL: [20/46] Data 0.120 (0.145) Elapsed 0m 7s (remain 0m 8s) Loss: 0.0589(0.0308) 1346074.4943(687822.9521)\n",
      "EVAL: [40/46] Data 0.210 (0.135) Elapsed 0m 13s (remain 0m 1s) Loss: 0.0427(0.0300) 975079.9859(676095.7695)\n"
     ]
    },
    {
     "name": "stderr",
     "output_type": "stream",
     "text": [
      "Epoch 90 - avg_train_loss: 0.0252  avg_val_loss: 0.0298  time: 93s\n",
      "Epoch 90 - MAE: 0.059220148626873956\n",
      "Epoch 90 - Save Best Score: 0.0592 Model\n"
     ]
    },
    {
     "name": "stdout",
     "output_type": "stream",
     "text": [
      "EVAL: [45/46] Data 0.041 (0.135) Elapsed 0m 15s (remain 0m 0s) Loss: 0.0504(0.0298) 1150849.4793(676557.8174)\n",
      "Epoch: [91][0/93] Data 0.369 (0.369) Elapsed 0m 1s (remain 2m 8s) Loss: 0.0556(0.0556) 1269504.4209(634752.2104)Grad: 5.6516  \n",
      "Epoch: [91][20/93] Data 0.015 (0.032) Elapsed 0m 18s (remain 1m 1s) Loss: 0.0408(0.0249) 931191.0246(555188.2450)Grad: 1.8666  \n",
      "Epoch: [91][40/93] Data 0.014 (0.024) Elapsed 0m 34s (remain 0m 44s) Loss: 0.0692(0.0250) 1581863.6446(564755.2524)Grad: 2.8782  \n",
      "Epoch: [91][60/93] Data 0.015 (0.021) Elapsed 0m 51s (remain 0m 26s) Loss: 0.0630(0.0254) 1439528.3094(575583.7210)Grad: 7.4631  \n",
      "Epoch: [91][80/93] Data 0.015 (0.020) Elapsed 1m 8s (remain 0m 10s) Loss: 0.0436(0.0249) 995872.2132(565464.1199)Grad: 3.2878  \n",
      "Epoch: [91][92/93] Data 0.014 (0.019) Elapsed 1m 18s (remain 0m 0s) Loss: 0.0592(0.0250) 1351519.5446(567936.2451)Grad: 4.2926  \n",
      "EVAL: [0/46] Data 0.386 (0.386) Elapsed 0m 0s (remain 0m 26s) Loss: 0.0683(0.0683) 1559872.3486(779936.1743)\n",
      "EVAL: [20/46] Data 0.137 (0.137) Elapsed 0m 7s (remain 0m 8s) Loss: 0.0896(0.0377) 2047780.1825(841476.6632)\n",
      "EVAL: [40/46] Data 0.119 (0.140) Elapsed 0m 14s (remain 0m 1s) Loss: 0.0667(0.0356) 1524622.2657(804057.7191)\n"
     ]
    },
    {
     "name": "stderr",
     "output_type": "stream",
     "text": [
      "Epoch 91 - avg_train_loss: 0.0250  avg_val_loss: 0.0350  time: 94s\n",
      "Epoch 91 - MAE: 0.06953507462716813\n"
     ]
    },
    {
     "name": "stdout",
     "output_type": "stream",
     "text": [
      "EVAL: [45/46] Data 0.044 (0.136) Elapsed 0m 15s (remain 0m 0s) Loss: 0.0538(0.0350) 1230028.2741(794400.2250)\n",
      "Epoch: [92][0/93] Data 0.386 (0.386) Elapsed 0m 1s (remain 1m 52s) Loss: 0.0658(0.0658) 1504231.2033(752115.6017)Grad: 9.2159  \n",
      "Epoch: [92][20/93] Data 0.015 (0.033) Elapsed 0m 17s (remain 1m 1s) Loss: 0.0386(0.0248) 882706.4987(554259.2866)Grad: 4.0055  \n",
      "Epoch: [92][40/93] Data 0.015 (0.024) Elapsed 0m 34s (remain 0m 43s) Loss: 0.0473(0.0248) 1080234.4031(559007.9680)Grad: 7.0115  \n",
      "Epoch: [92][60/93] Data 0.015 (0.022) Elapsed 0m 51s (remain 0m 27s) Loss: 0.0442(0.0235) 1010358.9241(533249.4695)Grad: 7.4347  \n",
      "Epoch: [92][80/93] Data 0.021 (0.021) Elapsed 1m 8s (remain 0m 10s) Loss: 0.0478(0.0237) 1092794.9604(537519.2454)Grad: 5.2119  \n",
      "Epoch: [92][92/93] Data 0.015 (0.020) Elapsed 1m 18s (remain 0m 0s) Loss: 0.0615(0.0239) 1406140.2856(544742.2630)Grad: 4.7670  \n",
      "EVAL: [0/46] Data 0.387 (0.387) Elapsed 0m 0s (remain 0m 26s) Loss: 0.0723(0.0723) 1651524.0283(825762.0142)\n",
      "EVAL: [20/46] Data 0.142 (0.147) Elapsed 0m 7s (remain 0m 8s) Loss: 0.0745(0.0350) 1701239.7127(780139.7603)\n",
      "EVAL: [40/46] Data 0.124 (0.140) Elapsed 0m 14s (remain 0m 1s) Loss: 0.0476(0.0327) 1088050.1825(738000.6627)\n"
     ]
    },
    {
     "name": "stderr",
     "output_type": "stream",
     "text": [
      "Epoch 92 - avg_train_loss: 0.0239  avg_val_loss: 0.0321  time: 94s\n",
      "Epoch 92 - MAE: 0.06367939594093289\n"
     ]
    },
    {
     "name": "stdout",
     "output_type": "stream",
     "text": [
      "EVAL: [45/46] Data 0.038 (0.137) Elapsed 0m 15s (remain 0m 0s) Loss: 0.0474(0.0321) 1083528.6713(727502.2850)\n",
      "Epoch: [93][0/93] Data 0.382 (0.382) Elapsed 0m 1s (remain 1m 50s) Loss: 0.0378(0.0378) 862932.9733(431466.4867)Grad: 3.0384  \n",
      "Epoch: [93][20/93] Data 0.016 (0.033) Elapsed 0m 17s (remain 1m 0s) Loss: 0.0367(0.0278) 839535.6848(620181.4265)Grad: 1.6008  \n",
      "Epoch: [93][40/93] Data 0.016 (0.025) Elapsed 0m 34s (remain 0m 43s) Loss: 0.0475(0.0251) 1085148.3971(565530.4232)Grad: 3.8184  \n",
      "Epoch: [93][60/93] Data 0.015 (0.022) Elapsed 0m 51s (remain 0m 26s) Loss: 0.0452(0.0245) 1031905.3892(554808.4683)Grad: 2.5971  \n",
      "Epoch: [93][80/93] Data 0.014 (0.020) Elapsed 1m 7s (remain 0m 10s) Loss: 0.0393(0.0244) 897061.1903(552995.4853)Grad: 4.6402  \n",
      "Epoch: [93][92/93] Data 0.015 (0.020) Elapsed 1m 17s (remain 0m 0s) Loss: 0.0728(0.0248) 1664292.3607(563849.4219)Grad: 5.2158  \n",
      "EVAL: [0/46] Data 0.385 (0.385) Elapsed 0m 0s (remain 0m 26s) Loss: 0.0872(0.0872) 1992674.0941(996337.0470)\n",
      "EVAL: [20/46] Data 0.217 (0.143) Elapsed 0m 7s (remain 0m 8s) Loss: 0.0816(0.0387) 1864700.1749(862764.8292)\n",
      "EVAL: [40/46] Data 0.118 (0.137) Elapsed 0m 13s (remain 0m 1s) Loss: 0.0751(0.0370) 1715275.8047(836009.2280)\n"
     ]
    },
    {
     "name": "stderr",
     "output_type": "stream",
     "text": [
      "Epoch 93 - avg_train_loss: 0.0248  avg_val_loss: 0.0367  time: 93s\n",
      "Epoch 93 - MAE: 0.0728468896765891\n"
     ]
    },
    {
     "name": "stdout",
     "output_type": "stream",
     "text": [
      "EVAL: [45/46] Data 0.039 (0.133) Elapsed 0m 15s (remain 0m 0s) Loss: 0.0405(0.0367) 926033.5056(832235.9007)\n",
      "Epoch: [94][0/93] Data 0.373 (0.373) Elapsed 0m 1s (remain 1m 49s) Loss: 0.0572(0.0572) 1306031.3711(653015.6855)Grad: 11.7659  \n",
      "Epoch: [94][20/93] Data 0.014 (0.033) Elapsed 0m 18s (remain 1m 1s) Loss: 0.0619(0.0274) 1413705.8158(611028.9473)Grad: 6.6462  \n",
      "Epoch: [94][40/93] Data 0.015 (0.024) Elapsed 0m 34s (remain 0m 43s) Loss: 0.0453(0.0267) 1036112.7269(602850.3849)Grad: 3.1152  \n",
      "Epoch: [94][60/93] Data 0.015 (0.022) Elapsed 0m 51s (remain 0m 26s) Loss: 0.0507(0.0263) 1157805.2183(595664.2682)Grad: 3.7168  \n",
      "Epoch: [94][80/93] Data 0.016 (0.020) Elapsed 1m 8s (remain 0m 10s) Loss: 0.0454(0.0262) 1036273.5164(594842.5068)Grad: 4.5375  \n",
      "Epoch: [94][92/93] Data 0.021 (0.020) Elapsed 1m 18s (remain 0m 0s) Loss: 0.0472(0.0260) 1078067.0228(591935.8481)Grad: 6.0120  \n",
      "EVAL: [0/46] Data 0.377 (0.377) Elapsed 0m 0s (remain 0m 26s) Loss: 0.0739(0.0739) 1688648.7680(844324.3840)\n",
      "EVAL: [20/46] Data 0.125 (0.147) Elapsed 0m 7s (remain 0m 8s) Loss: 0.0649(0.0336) 1483819.3720(750183.5263)\n",
      "EVAL: [40/46] Data 0.122 (0.142) Elapsed 0m 14s (remain 0m 1s) Loss: 0.0504(0.0319) 1151423.1801(721068.6264)\n"
     ]
    },
    {
     "name": "stderr",
     "output_type": "stream",
     "text": [
      "Epoch 94 - avg_train_loss: 0.0260  avg_val_loss: 0.0320  time: 94s\n",
      "Epoch 94 - MAE: 0.0635594347160776\n"
     ]
    },
    {
     "name": "stdout",
     "output_type": "stream",
     "text": [
      "EVAL: [45/46] Data 0.038 (0.138) Elapsed 0m 15s (remain 0m 0s) Loss: 0.0728(0.0320) 1663758.6657(726131.8023)\n",
      "Epoch: [95][0/93] Data 0.382 (0.382) Elapsed 0m 1s (remain 1m 50s) Loss: 0.0632(0.0632) 1444085.0599(722042.5299)Grad: 10.2641  \n",
      "Epoch: [95][20/93] Data 0.022 (0.033) Elapsed 0m 17s (remain 1m 1s) Loss: 0.0966(0.0310) 2206901.7985(690792.2610)Grad: 14.6345  \n",
      "Epoch: [95][40/93] Data 0.015 (0.025) Elapsed 0m 34s (remain 0m 43s) Loss: 0.0538(0.0294) 1230148.1214(663229.1145)Grad: 4.5310  \n",
      "Epoch: [95][60/93] Data 0.014 (0.022) Elapsed 0m 51s (remain 0m 27s) Loss: 0.0584(0.0284) 1334821.7024(644261.8431)Grad: 4.7611  \n",
      "Epoch: [95][80/93] Data 0.015 (0.021) Elapsed 1m 8s (remain 0m 10s) Loss: 0.0409(0.0275) 934412.5162(624914.0642)Grad: 2.8153  \n",
      "Epoch: [95][92/93] Data 0.015 (0.020) Elapsed 1m 18s (remain 0m 0s) Loss: 0.0471(0.0269) 1076416.3988(611856.1163)Grad: 5.5549  \n",
      "EVAL: [0/46] Data 0.382 (0.382) Elapsed 0m 0s (remain 0m 26s) Loss: 0.0618(0.0618) 1410946.6044(705473.3022)\n",
      "EVAL: [20/46] Data 0.125 (0.174) Elapsed 0m 7s (remain 0m 9s) Loss: 0.0721(0.0313) 1648259.3815(699148.6847)\n",
      "EVAL: [40/46] Data 0.123 (0.155) Elapsed 0m 14s (remain 0m 1s) Loss: 0.0539(0.0310) 1232515.4457(700383.0551)\n"
     ]
    },
    {
     "name": "stderr",
     "output_type": "stream",
     "text": [
      "Epoch 95 - avg_train_loss: 0.0269  avg_val_loss: 0.0311  time: 94s\n",
      "Epoch 95 - MAE: 0.061700804766604715\n"
     ]
    },
    {
     "name": "stdout",
     "output_type": "stream",
     "text": [
      "EVAL: [45/46] Data 0.039 (0.150) Elapsed 0m 16s (remain 0m 0s) Loss: 0.0590(0.0311) 1348044.9096(704897.9694)\n",
      "Epoch: [96][0/93] Data 0.365 (0.365) Elapsed 0m 1s (remain 1m 59s) Loss: 0.0420(0.0420) 959942.6268(479971.3134)Grad: 5.8282  \n",
      "Epoch: [96][20/93] Data 0.015 (0.032) Elapsed 0m 17s (remain 1m 1s) Loss: 0.0460(0.0223) 1051387.6380(498035.5517)Grad: 2.0706  \n",
      "Epoch: [96][40/93] Data 0.016 (0.024) Elapsed 0m 34s (remain 0m 43s) Loss: 0.0517(0.0230) 1181503.4870(519589.5297)Grad: 2.9894  \n",
      "Epoch: [96][60/93] Data 0.015 (0.021) Elapsed 0m 51s (remain 0m 26s) Loss: 0.0561(0.0234) 1282964.8543(529888.6554)Grad: 5.7260  \n",
      "Epoch: [96][80/93] Data 0.022 (0.020) Elapsed 1m 8s (remain 0m 10s) Loss: 0.0425(0.0242) 971004.1568(549636.3361)Grad: 5.5263  \n",
      "Epoch: [96][92/93] Data 0.015 (0.020) Elapsed 1m 18s (remain 0m 0s) Loss: 0.0377(0.0242) 861628.3573(549595.6205)Grad: 7.4925  \n",
      "EVAL: [0/46] Data 0.456 (0.456) Elapsed 0m 0s (remain 0m 29s) Loss: 0.0618(0.0618) 1412470.2311(706235.1155)\n",
      "EVAL: [20/46] Data 0.122 (0.141) Elapsed 0m 7s (remain 0m 8s) Loss: 0.0538(0.0319) 1228228.6922(711817.6855)\n",
      "EVAL: [40/46] Data 0.125 (0.147) Elapsed 0m 14s (remain 0m 1s) Loss: 0.0564(0.0310) 1289407.8375(698688.6915)\n"
     ]
    },
    {
     "name": "stderr",
     "output_type": "stream",
     "text": [
      "Epoch 96 - avg_train_loss: 0.0242  avg_val_loss: 0.0309  time: 94s\n",
      "Epoch 96 - MAE: 0.061320178439572125\n"
     ]
    },
    {
     "name": "stdout",
     "output_type": "stream",
     "text": [
      "EVAL: [45/46] Data 0.048 (0.144) Elapsed 0m 15s (remain 0m 0s) Loss: 0.0606(0.0309) 1383940.7890(700549.5105)\n",
      "Epoch: [97][0/93] Data 0.384 (0.384) Elapsed 0m 1s (remain 1m 51s) Loss: 0.0468(0.0468) 1069980.0548(534990.0274)Grad: 4.0661  \n",
      "Epoch: [97][20/93] Data 0.021 (0.033) Elapsed 0m 17s (remain 1m 1s) Loss: 0.0536(0.0241) 1225201.3565(537430.8539)Grad: 13.5704  \n",
      "Epoch: [97][40/93] Data 0.015 (0.025) Elapsed 0m 34s (remain 0m 44s) Loss: 0.0508(0.0255) 1160278.6007(576494.7143)Grad: 6.6761  \n",
      "Epoch: [97][60/93] Data 0.027 (0.022) Elapsed 0m 51s (remain 0m 26s) Loss: 0.0414(0.0250) 945434.3808(567653.8750)Grad: 7.9995  \n",
      "Epoch: [97][80/93] Data 0.014 (0.020) Elapsed 1m 8s (remain 0m 10s) Loss: 0.0498(0.0248) 1138269.3447(563191.7658)Grad: 13.6378  \n",
      "Epoch: [97][92/93] Data 0.014 (0.020) Elapsed 1m 17s (remain 0m 0s) Loss: 0.0473(0.0244) 1081186.1165(554270.2851)Grad: 10.0285  \n",
      "EVAL: [0/46] Data 0.384 (0.384) Elapsed 0m 0s (remain 0m 26s) Loss: 0.0566(0.0566) 1293881.5971(646940.7986)\n",
      "EVAL: [20/46] Data 0.134 (0.148) Elapsed 0m 7s (remain 0m 8s) Loss: 0.0924(0.0324) 2111091.8946(722145.2420)\n",
      "EVAL: [40/46] Data 0.252 (0.150) Elapsed 0m 14s (remain 0m 1s) Loss: 0.0437(0.0298) 997806.9638(672150.8873)\n"
     ]
    },
    {
     "name": "stderr",
     "output_type": "stream",
     "text": [
      "Epoch 97 - avg_train_loss: 0.0244  avg_val_loss: 0.0295  time: 94s\n",
      "Epoch 97 - MAE: 0.05850508392014775\n",
      "Epoch 97 - Save Best Score: 0.0585 Model\n"
     ]
    },
    {
     "name": "stdout",
     "output_type": "stream",
     "text": [
      "EVAL: [45/46] Data 0.131 (0.148) Elapsed 0m 16s (remain 0m 0s) Loss: 0.0375(0.0295) 855897.2226(668388.6036)\n",
      "Epoch: [98][0/93] Data 0.385 (0.385) Elapsed 0m 1s (remain 1m 50s) Loss: 0.0535(0.0535) 1223314.4427(611657.2214)Grad: 5.5673  \n",
      "Epoch: [98][20/93] Data 0.014 (0.033) Elapsed 0m 17s (remain 1m 0s) Loss: 0.0480(0.0267) 1096143.5344(596290.3434)Grad: 5.0651  \n",
      "Epoch: [98][40/93] Data 0.015 (0.025) Elapsed 0m 34s (remain 0m 43s) Loss: 0.0741(0.0270) 1693098.2687(609764.9160)Grad: 9.8875  \n",
      "Epoch: [98][60/93] Data 0.015 (0.022) Elapsed 0m 51s (remain 0m 26s) Loss: 0.0322(0.0260) 736516.2177(588128.8038)Grad: 4.5449  \n",
      "Epoch: [98][80/93] Data 0.016 (0.020) Elapsed 1m 8s (remain 0m 10s) Loss: 0.0508(0.0258) 1161004.4088(586149.9515)Grad: 2.0465  \n",
      "Epoch: [98][92/93] Data 0.015 (0.020) Elapsed 1m 18s (remain 0m 0s) Loss: 0.0653(0.0261) 1491473.9364(593704.5369)Grad: 6.5771  \n",
      "EVAL: [0/46] Data 0.384 (0.384) Elapsed 0m 0s (remain 0m 26s) Loss: 0.0759(0.0759) 1734195.6735(867097.8367)\n",
      "EVAL: [20/46] Data 0.124 (0.141) Elapsed 0m 7s (remain 0m 8s) Loss: 0.0538(0.0388) 1229404.7788(864740.1875)\n",
      "EVAL: [40/46] Data 0.145 (0.143) Elapsed 0m 14s (remain 0m 1s) Loss: 0.0611(0.0375) 1395660.2874(846033.9237)\n"
     ]
    },
    {
     "name": "stderr",
     "output_type": "stream",
     "text": [
      "Epoch 98 - avg_train_loss: 0.0261  avg_val_loss: 0.0377  time: 94s\n",
      "Epoch 98 - MAE: 0.07485533205194865\n"
     ]
    },
    {
     "name": "stdout",
     "output_type": "stream",
     "text": [
      "EVAL: [45/46] Data 0.056 (0.139) Elapsed 0m 15s (remain 0m 0s) Loss: 0.0780(0.0377) 1781205.2606(855181.2439)\n",
      "Epoch: [99][0/93] Data 0.394 (0.394) Elapsed 0m 1s (remain 2m 2s) Loss: 0.0537(0.0537) 1227855.0206(613927.5103)Grad: 11.4004  \n",
      "Epoch: [99][20/93] Data 0.014 (0.034) Elapsed 0m 18s (remain 1m 2s) Loss: 0.0573(0.0277) 1308369.7551(618318.8181)Grad: 3.2360  \n",
      "Epoch: [99][40/93] Data 0.015 (0.025) Elapsed 0m 34s (remain 0m 44s) Loss: 0.0504(0.0259) 1151484.6359(584560.9932)Grad: 3.4534  \n",
      "Epoch: [99][60/93] Data 0.015 (0.022) Elapsed 0m 51s (remain 0m 26s) Loss: 0.0464(0.0255) 1060866.3837(578686.1109)Grad: 8.1876  \n",
      "Epoch: [99][80/93] Data 0.021 (0.020) Elapsed 1m 8s (remain 0m 10s) Loss: 0.0530(0.0263) 1211256.6822(596736.2511)Grad: 9.6805  \n",
      "Epoch: [99][92/93] Data 0.015 (0.020) Elapsed 1m 18s (remain 0m 0s) Loss: 0.0638(0.0260) 1458193.3325(590862.6302)Grad: 8.9885  \n",
      "EVAL: [0/46] Data 0.383 (0.383) Elapsed 0m 0s (remain 0m 26s) Loss: 0.0755(0.0755) 1724038.9565(862019.4782)\n",
      "EVAL: [20/46] Data 0.126 (0.153) Elapsed 0m 7s (remain 0m 8s) Loss: 0.0662(0.0345) 1511646.4137(770459.4837)\n",
      "EVAL: [40/46] Data 0.253 (0.150) Elapsed 0m 14s (remain 0m 1s) Loss: 0.0582(0.0342) 1330579.3808(771616.9690)\n"
     ]
    },
    {
     "name": "stderr",
     "output_type": "stream",
     "text": [
      "Epoch 99 - avg_train_loss: 0.0260  avg_val_loss: 0.0346  time: 94s\n",
      "Epoch 99 - MAE: 0.06859721249001399\n"
     ]
    },
    {
     "name": "stdout",
     "output_type": "stream",
     "text": [
      "EVAL: [45/46] Data 0.043 (0.145) Elapsed 0m 15s (remain 0m 0s) Loss: 0.0864(0.0346) 1973696.3445(783685.6513)\n",
      "Epoch: [100][0/93] Data 0.387 (0.387) Elapsed 0m 1s (remain 1m 50s) Loss: 0.0583(0.0583) 1331734.6984(665867.3492)Grad: 10.4551  \n",
      "Epoch: [100][20/93] Data 0.015 (0.033) Elapsed 0m 17s (remain 1m 1s) Loss: 0.0536(0.0233) 1225271.9200(519129.2881)Grad: 4.2245  \n",
      "Epoch: [100][40/93] Data 0.016 (0.025) Elapsed 0m 34s (remain 0m 43s) Loss: 0.0394(0.0239) 900344.2229(539892.8491)Grad: 3.2441  \n",
      "Epoch: [100][60/93] Data 0.015 (0.022) Elapsed 0m 51s (remain 0m 26s) Loss: 0.0539(0.0245) 1230446.5479(555693.9035)Grad: 8.6310  \n",
      "Epoch: [100][80/93] Data 0.015 (0.020) Elapsed 1m 7s (remain 0m 10s) Loss: 0.0483(0.0248) 1103065.2259(563058.9142)Grad: 6.8164  \n",
      "Epoch: [100][92/93] Data 0.015 (0.020) Elapsed 1m 18s (remain 0m 0s) Loss: 0.0302(0.0247) 690163.7477(561580.0475)Grad: 5.2191  \n",
      "EVAL: [0/46] Data 0.385 (0.385) Elapsed 0m 0s (remain 0m 26s) Loss: 0.0701(0.0701) 1602308.1616(801154.0808)\n",
      "EVAL: [20/46] Data 0.118 (0.137) Elapsed 0m 7s (remain 0m 8s) Loss: 0.0677(0.0367) 1546554.3190(818412.2501)\n",
      "EVAL: [40/46] Data 0.124 (0.137) Elapsed 0m 13s (remain 0m 1s) Loss: 0.0675(0.0357) 1543123.6904(804662.5007)\n"
     ]
    },
    {
     "name": "stderr",
     "output_type": "stream",
     "text": [
      "Epoch 100 - avg_train_loss: 0.0247  avg_val_loss: 0.0356  time: 94s\n",
      "Epoch 100 - MAE: 0.07055578373426002\n"
     ]
    },
    {
     "name": "stdout",
     "output_type": "stream",
     "text": [
      "EVAL: [45/46] Data 0.040 (0.133) Elapsed 0m 15s (remain 0m 0s) Loss: 0.0621(0.0356) 1418447.0186(806061.2575)\n",
      "Epoch: [101][0/93] Data 0.381 (0.381) Elapsed 0m 1s (remain 1m 50s) Loss: 0.0457(0.0457) 1044540.6809(522270.3404)Grad: 2.0576  \n",
      "Epoch: [101][20/93] Data 0.015 (0.033) Elapsed 0m 17s (remain 1m 1s) Loss: 0.0522(0.0283) 1193092.8387(630482.3226)Grad: 2.7291  \n",
      "Epoch: [101][40/93] Data 0.014 (0.025) Elapsed 0m 34s (remain 0m 43s) Loss: 0.0445(0.0271) 1016425.5971(612577.2644)Grad: 5.2788  \n",
      "Epoch: [101][60/93] Data 0.015 (0.022) Elapsed 0m 51s (remain 0m 26s) Loss: 0.0502(0.0254) 1146211.9512(575807.5622)Grad: 2.3282  \n",
      "Epoch: [101][80/93] Data 0.015 (0.020) Elapsed 1m 8s (remain 0m 10s) Loss: 0.0432(0.0244) 987356.2464(553198.4196)Grad: 4.8404  \n",
      "Epoch: [101][92/93] Data 0.014 (0.020) Elapsed 1m 18s (remain 0m 0s) Loss: 0.0285(0.0243) 651623.0992(553023.1976)Grad: 1.8993  \n",
      "EVAL: [0/46] Data 0.383 (0.383) Elapsed 0m 0s (remain 0m 26s) Loss: 0.0678(0.0678) 1548340.4521(774170.2261)\n",
      "EVAL: [20/46] Data 0.129 (0.160) Elapsed 0m 7s (remain 0m 9s) Loss: 0.0773(0.0313) 1765758.7500(697124.8533)\n",
      "EVAL: [40/46] Data 0.126 (0.154) Elapsed 0m 14s (remain 0m 1s) Loss: 0.0571(0.0304) 1303559.6911(686723.1406)\n"
     ]
    },
    {
     "name": "stderr",
     "output_type": "stream",
     "text": [
      "Epoch 101 - avg_train_loss: 0.0243  avg_val_loss: 0.0300  time: 94s\n",
      "Epoch 101 - MAE: 0.05956897799560888\n"
     ]
    },
    {
     "name": "stdout",
     "output_type": "stream",
     "text": [
      "EVAL: [45/46] Data 0.040 (0.149) Elapsed 0m 16s (remain 0m 0s) Loss: 0.0539(0.0300) 1231726.9902(680543.0088)\n",
      "Epoch: [102][0/93] Data 0.377 (0.377) Elapsed 0m 1s (remain 1m 49s) Loss: 0.0658(0.0658) 1503738.8761(751869.4381)Grad: 7.8796  \n",
      "Epoch: [102][20/93] Data 0.016 (0.033) Elapsed 0m 17s (remain 1m 1s) Loss: 0.0493(0.0289) 1126399.0158(645708.3755)Grad: 7.5747  \n",
      "Epoch: [102][40/93] Data 0.015 (0.024) Elapsed 0m 34s (remain 0m 43s) Loss: 0.0373(0.0260) 852835.6693(586024.0589)Grad: 3.9978  \n",
      "Epoch: [102][60/93] Data 0.015 (0.021) Elapsed 0m 51s (remain 0m 26s) Loss: 0.0541(0.0257) 1237100.9663(582150.6956)Grad: 8.7019  \n",
      "Epoch: [102][80/93] Data 0.015 (0.020) Elapsed 1m 8s (remain 0m 10s) Loss: 0.0654(0.0257) 1493745.2468(584027.4925)Grad: 11.3338  \n",
      "Epoch: [102][92/93] Data 0.015 (0.020) Elapsed 1m 18s (remain 0m 0s) Loss: 0.0603(0.0256) 1377526.3205(582125.1814)Grad: 5.0964  \n",
      "EVAL: [0/46] Data 0.383 (0.383) Elapsed 0m 0s (remain 0m 26s) Loss: 0.0627(0.0627) 1432447.7863(716223.8931)\n",
      "EVAL: [20/46] Data 0.127 (0.169) Elapsed 0m 7s (remain 0m 9s) Loss: 0.0607(0.0323) 1387087.6314(720468.7520)\n",
      "EVAL: [40/46] Data 0.121 (0.148) Elapsed 0m 14s (remain 0m 1s) Loss: 0.0445(0.0304) 1016305.3243(687130.9635)\n"
     ]
    },
    {
     "name": "stderr",
     "output_type": "stream",
     "text": [
      "Epoch 102 - avg_train_loss: 0.0256  avg_val_loss: 0.0302  time: 94s\n",
      "Epoch 102 - MAE: 0.05988106674461077\n"
     ]
    },
    {
     "name": "stdout",
     "output_type": "stream",
     "text": [
      "EVAL: [45/46] Data 0.048 (0.143) Elapsed 0m 15s (remain 0m 0s) Loss: 0.0432(0.0302) 987010.7492(684108.4513)\n",
      "Epoch: [103][0/93] Data 0.381 (0.381) Elapsed 0m 1s (remain 1m 50s) Loss: 0.0520(0.0520) 1187129.4148(593564.7074)Grad: 5.4678  \n",
      "Epoch: [103][20/93] Data 0.021 (0.033) Elapsed 0m 17s (remain 1m 1s) Loss: 0.0439(0.0242) 1003521.3300(539411.7713)Grad: 2.2106  \n",
      "Epoch: [103][40/93] Data 0.015 (0.025) Elapsed 0m 34s (remain 0m 44s) Loss: 0.0272(0.0236) 620457.7829(532448.3771)Grad: 2.0943  \n",
      "Epoch: [103][60/93] Data 0.014 (0.022) Elapsed 0m 51s (remain 0m 26s) Loss: 0.0427(0.0228) 975505.0693(516624.4805)Grad: 7.1097  \n",
      "Epoch: [103][80/93] Data 0.014 (0.020) Elapsed 1m 8s (remain 0m 10s) Loss: 0.0337(0.0227) 770956.4802(516058.9184)Grad: 1.9934  \n",
      "Epoch: [103][92/93] Data 0.014 (0.020) Elapsed 1m 17s (remain 0m 0s) Loss: 0.0518(0.0227) 1182905.6491(516292.8950)Grad: 4.2567  \n",
      "EVAL: [0/46] Data 0.376 (0.376) Elapsed 0m 0s (remain 0m 26s) Loss: 0.0576(0.0576) 1316168.2554(658084.1277)\n",
      "EVAL: [20/46] Data 0.124 (0.169) Elapsed 0m 7s (remain 0m 9s) Loss: 0.0647(0.0324) 1477596.5060(723182.3113)\n",
      "EVAL: [40/46] Data 0.122 (0.158) Elapsed 0m 14s (remain 0m 1s) Loss: 0.0415(0.0309) 947615.4652(696765.9281)\n"
     ]
    },
    {
     "name": "stderr",
     "output_type": "stream",
     "text": [
      "Epoch 103 - avg_train_loss: 0.0227  avg_val_loss: 0.0311  time: 94s\n",
      "Epoch 103 - MAE: 0.061776009682081474\n"
     ]
    },
    {
     "name": "stdout",
     "output_type": "stream",
     "text": [
      "EVAL: [45/46] Data 0.041 (0.153) Elapsed 0m 16s (remain 0m 0s) Loss: 0.0486(0.0311) 1110456.6881(705757.1466)\n",
      "Epoch: [104][0/93] Data 0.377 (0.377) Elapsed 0m 1s (remain 1m 50s) Loss: 0.0433(0.0433) 989408.9717(494704.4858)Grad: 6.4326  \n",
      "Epoch: [104][20/93] Data 0.014 (0.032) Elapsed 0m 17s (remain 1m 1s) Loss: 0.0678(0.0246) 1548253.6309(549437.2087)Grad: 10.9394  \n",
      "Epoch: [104][40/93] Data 0.014 (0.024) Elapsed 0m 34s (remain 0m 43s) Loss: 0.0367(0.0247) 839517.0438(557223.6380)Grad: 3.5880  \n",
      "Epoch: [104][60/93] Data 0.021 (0.022) Elapsed 0m 51s (remain 0m 26s) Loss: 0.0417(0.0244) 953925.1525(552184.5316)Grad: 7.5892  \n",
      "Epoch: [104][80/93] Data 0.015 (0.020) Elapsed 1m 7s (remain 0m 10s) Loss: 0.0433(0.0246) 990238.7950(558701.2267)Grad: 4.2693  \n",
      "Epoch: [104][92/93] Data 0.015 (0.020) Elapsed 1m 17s (remain 0m 0s) Loss: 0.0549(0.0248) 1253980.7926(563521.8247)Grad: 7.7801  \n",
      "EVAL: [0/46] Data 0.376 (0.376) Elapsed 0m 0s (remain 0m 26s) Loss: 0.0629(0.0629) 1437537.2102(718768.6051)\n",
      "EVAL: [20/46] Data 0.122 (0.168) Elapsed 0m 7s (remain 0m 9s) Loss: 0.0559(0.0321) 1278110.0178(715279.5364)\n",
      "EVAL: [40/46] Data 0.122 (0.146) Elapsed 0m 14s (remain 0m 1s) Loss: 0.0577(0.0309) 1318508.2566(697459.0205)\n"
     ]
    },
    {
     "name": "stderr",
     "output_type": "stream",
     "text": [
      "Epoch 104 - avg_train_loss: 0.0248  avg_val_loss: 0.0309  time: 94s\n",
      "Epoch 104 - MAE: 0.061265660876704396\n"
     ]
    },
    {
     "name": "stdout",
     "output_type": "stream",
     "text": [
      "EVAL: [45/46] Data 0.043 (0.142) Elapsed 0m 15s (remain 0m 0s) Loss: 0.0692(0.0309) 1581456.7767(699926.6895)\n",
      "Epoch: [105][0/93] Data 0.467 (0.467) Elapsed 0m 1s (remain 2m 3s) Loss: 0.0434(0.0434) 991570.9895(495785.4947)Grad: 1.8389  \n",
      "Epoch: [105][20/93] Data 0.015 (0.037) Elapsed 0m 17s (remain 1m 1s) Loss: 0.0404(0.0225) 923965.0334(502725.4705)Grad: 6.7938  \n",
      "Epoch: [105][40/93] Data 0.024 (0.027) Elapsed 0m 34s (remain 0m 44s) Loss: 0.0366(0.0221) 835152.5768(498592.6996)Grad: 4.3330  \n",
      "Epoch: [105][60/93] Data 0.015 (0.024) Elapsed 0m 51s (remain 0m 27s) Loss: 0.0550(0.0221) 1257170.6200(500023.3119)Grad: 14.4211  \n",
      "Epoch: [105][80/93] Data 0.015 (0.022) Elapsed 1m 8s (remain 0m 10s) Loss: 0.0562(0.0229) 1283898.7779(520618.0120)Grad: 3.1573  \n",
      "Epoch: [105][92/93] Data 0.020 (0.021) Elapsed 1m 18s (remain 0m 0s) Loss: 0.0654(0.0234) 1493256.6648(532211.2206)Grad: 4.7804  \n",
      "EVAL: [0/46] Data 0.378 (0.378) Elapsed 0m 0s (remain 0m 26s) Loss: 0.0652(0.0652) 1490809.8395(745404.9197)\n",
      "EVAL: [20/46] Data 0.150 (0.138) Elapsed 0m 7s (remain 0m 8s) Loss: 0.0810(0.0373) 1850724.3471(832048.7821)\n",
      "EVAL: [40/46] Data 0.123 (0.155) Elapsed 0m 14s (remain 0m 1s) Loss: 0.0703(0.0365) 1606058.8369(823373.8762)\n"
     ]
    },
    {
     "name": "stderr",
     "output_type": "stream",
     "text": [
      "Epoch 105 - avg_train_loss: 0.0234  avg_val_loss: 0.0364  time: 95s\n",
      "Epoch 105 - MAE: 0.07231903731461645\n"
     ]
    },
    {
     "name": "stdout",
     "output_type": "stream",
     "text": [
      "EVAL: [45/46] Data 0.039 (0.149) Elapsed 0m 16s (remain 0m 0s) Loss: 0.0631(0.0364) 1441858.3518(826205.4813)\n",
      "Epoch: [106][0/93] Data 0.388 (0.388) Elapsed 0m 1s (remain 1m 51s) Loss: 0.0491(0.0491) 1121502.1306(560751.0653)Grad: 3.5607  \n",
      "Epoch: [106][20/93] Data 0.018 (0.034) Elapsed 0m 17s (remain 1m 1s) Loss: 0.0349(0.0222) 796676.4909(495298.8218)Grad: 3.8820  \n",
      "Epoch: [106][40/93] Data 0.015 (0.025) Elapsed 0m 34s (remain 0m 44s) Loss: 0.0422(0.0219) 963454.0331(493620.9639)Grad: 3.5850  \n",
      "Epoch: [106][60/93] Data 0.016 (0.023) Elapsed 0m 51s (remain 0m 27s) Loss: 0.0440(0.0231) 1005425.0974(523596.2550)Grad: 5.5326  \n",
      "Epoch: [106][80/93] Data 0.016 (0.021) Elapsed 1m 8s (remain 0m 10s) Loss: 0.0553(0.0238) 1263726.6411(541122.9523)Grad: 10.8491  \n",
      "Epoch: [106][92/93] Data 0.015 (0.020) Elapsed 1m 18s (remain 0m 0s) Loss: 0.0336(0.0234) 767432.3912(532053.6471)Grad: 6.6091  \n",
      "EVAL: [0/46] Data 0.377 (0.377) Elapsed 0m 0s (remain 0m 26s) Loss: 0.0541(0.0541) 1235085.6082(617542.8041)\n",
      "EVAL: [20/46] Data 0.131 (0.152) Elapsed 0m 7s (remain 0m 8s) Loss: 0.0712(0.0294) 1626627.9678(654954.0800)\n",
      "EVAL: [40/46] Data 0.294 (0.157) Elapsed 0m 14s (remain 0m 1s) Loss: 0.0450(0.0281) 1028173.6103(634268.6121)\n"
     ]
    },
    {
     "name": "stderr",
     "output_type": "stream",
     "text": [
      "Epoch 106 - avg_train_loss: 0.0234  avg_val_loss: 0.0280  time: 95s\n",
      "Epoch 106 - MAE: 0.05558583421896842\n",
      "Epoch 106 - Save Best Score: 0.0556 Model\n"
     ]
    },
    {
     "name": "stdout",
     "output_type": "stream",
     "text": [
      "EVAL: [45/46] Data 0.038 (0.154) Elapsed 0m 16s (remain 0m 0s) Loss: 0.0453(0.0280) 1035711.7322(635037.7535)\n",
      "Epoch: [107][0/93] Data 0.393 (0.393) Elapsed 0m 1s (remain 1m 53s) Loss: 0.0370(0.0370) 845012.2291(422506.1145)Grad: 2.6674  \n",
      "Epoch: [107][20/93] Data 0.014 (0.033) Elapsed 0m 17s (remain 1m 1s) Loss: 0.0470(0.0215) 1072811.8725(479620.4689)Grad: 6.5445  \n",
      "Epoch: [107][40/93] Data 0.016 (0.025) Elapsed 0m 34s (remain 0m 43s) Loss: 0.0440(0.0225) 1004646.5156(508030.1217)Grad: 1.7583  \n",
      "Epoch: [107][60/93] Data 0.015 (0.022) Elapsed 0m 51s (remain 0m 26s) Loss: 0.0631(0.0230) 1441554.8181(520992.9994)Grad: 2.7856  \n",
      "Epoch: [107][80/93] Data 0.014 (0.020) Elapsed 1m 8s (remain 0m 10s) Loss: 0.0540(0.0230) 1234318.6026(521962.0380)Grad: 5.5684  \n",
      "Epoch: [107][92/93] Data 0.014 (0.020) Elapsed 1m 18s (remain 0m 0s) Loss: 0.0555(0.0226) 1269251.8734(515159.2104)Grad: 4.6172  \n",
      "EVAL: [0/46] Data 0.373 (0.373) Elapsed 0m 0s (remain 0m 25s) Loss: 0.0588(0.0588) 1343661.2909(671830.6454)\n",
      "EVAL: [20/46] Data 0.223 (0.141) Elapsed 0m 7s (remain 0m 8s) Loss: 0.0565(0.0307) 1290593.5426(684116.0785)\n",
      "EVAL: [40/46] Data 0.109 (0.151) Elapsed 0m 14s (remain 0m 1s) Loss: 0.0366(0.0293) 835705.2532(661763.7796)\n"
     ]
    },
    {
     "name": "stderr",
     "output_type": "stream",
     "text": [
      "Epoch 107 - avg_train_loss: 0.0226  avg_val_loss: 0.0292  time: 94s\n",
      "Epoch 107 - MAE: 0.05792781662628682\n"
     ]
    },
    {
     "name": "stdout",
     "output_type": "stream",
     "text": [
      "EVAL: [45/46] Data 0.038 (0.146) Elapsed 0m 15s (remain 0m 0s) Loss: 0.0549(0.0292) 1254401.0242(661793.6496)\n",
      "Epoch: [108][0/93] Data 0.382 (0.382) Elapsed 0m 1s (remain 1m 50s) Loss: 0.0455(0.0455) 1039591.3625(519795.6812)Grad: 4.3099  \n",
      "Epoch: [108][20/93] Data 0.015 (0.033) Elapsed 0m 17s (remain 1m 1s) Loss: 0.0489(0.0235) 1116558.0896(523517.9289)Grad: 3.3834  \n",
      "Epoch: [108][40/93] Data 0.014 (0.024) Elapsed 0m 34s (remain 0m 43s) Loss: 0.0373(0.0221) 851321.0651(498463.1436)Grad: 3.4647  \n",
      "Epoch: [108][60/93] Data 0.016 (0.022) Elapsed 0m 51s (remain 0m 26s) Loss: 0.0354(0.0226) 808732.5490(513228.4050)Grad: 4.9104  \n",
      "Epoch: [108][80/93] Data 0.015 (0.020) Elapsed 1m 8s (remain 0m 10s) Loss: 0.0391(0.0228) 894479.1112(516979.1949)Grad: 7.5814  \n",
      "Epoch: [108][92/93] Data 0.014 (0.020) Elapsed 1m 17s (remain 0m 0s) Loss: 0.0948(0.0231) 2166464.0645(524727.5935)Grad: 11.4953  \n",
      "EVAL: [0/46] Data 0.384 (0.384) Elapsed 0m 0s (remain 0m 26s) Loss: 0.0584(0.0584) 1335351.6521(667675.8260)\n",
      "EVAL: [20/46] Data 0.118 (0.145) Elapsed 0m 7s (remain 0m 8s) Loss: 0.0532(0.0301) 1216700.7111(672349.9796)\n",
      "EVAL: [40/46] Data 0.122 (0.139) Elapsed 0m 14s (remain 0m 1s) Loss: 0.0576(0.0290) 1315560.7625(655124.1034)\n"
     ]
    },
    {
     "name": "stderr",
     "output_type": "stream",
     "text": [
      "Epoch 108 - avg_train_loss: 0.0231  avg_val_loss: 0.0289  time: 94s\n",
      "Epoch 108 - MAE: 0.057377670778547614\n"
     ]
    },
    {
     "name": "stdout",
     "output_type": "stream",
     "text": [
      "EVAL: [45/46] Data 0.040 (0.143) Elapsed 0m 15s (remain 0m 0s) Loss: 0.0511(0.0289) 1167194.4190(655508.5133)\n",
      "Epoch: [109][0/93] Data 0.374 (0.374) Elapsed 0m 1s (remain 1m 49s) Loss: 0.0245(0.0245) 559413.9339(279706.9669)Grad: 1.7829  \n",
      "Epoch: [109][20/93] Data 0.015 (0.032) Elapsed 0m 17s (remain 1m 0s) Loss: 0.0428(0.0222) 978493.5056(495355.6204)Grad: 11.1903  \n",
      "Epoch: [109][40/93] Data 0.015 (0.024) Elapsed 0m 34s (remain 0m 43s) Loss: 0.0498(0.0225) 1137981.4729(507911.2558)Grad: 5.9435  \n",
      "Epoch: [109][60/93] Data 0.014 (0.021) Elapsed 0m 51s (remain 0m 26s) Loss: 0.0354(0.0218) 808020.4450(493525.8467)Grad: 4.5389  \n",
      "Epoch: [109][80/93] Data 0.014 (0.020) Elapsed 1m 7s (remain 0m 10s) Loss: 0.0366(0.0221) 835545.4852(501110.6544)Grad: 6.6820  \n",
      "Epoch: [109][92/93] Data 0.015 (0.019) Elapsed 1m 17s (remain 0m 0s) Loss: 0.0576(0.0220) 1315051.5817(499590.6766)Grad: 3.2431  \n",
      "EVAL: [0/46] Data 0.379 (0.379) Elapsed 0m 0s (remain 0m 26s) Loss: 0.0514(0.0514) 1174593.6270(587296.8135)\n",
      "EVAL: [20/46] Data 0.118 (0.147) Elapsed 0m 7s (remain 0m 8s) Loss: 0.0561(0.0292) 1281600.6551(650827.9071)\n",
      "EVAL: [40/46] Data 0.131 (0.139) Elapsed 0m 14s (remain 0m 1s) Loss: 0.0362(0.0280) 827713.4480(631932.1339)\n"
     ]
    },
    {
     "name": "stderr",
     "output_type": "stream",
     "text": [
      "Epoch 109 - avg_train_loss: 0.0220  avg_val_loss: 0.0281  time: 93s\n",
      "Epoch 109 - MAE: 0.05574415498866268\n"
     ]
    },
    {
     "name": "stdout",
     "output_type": "stream",
     "text": [
      "EVAL: [45/46] Data 0.045 (0.135) Elapsed 0m 15s (remain 0m 0s) Loss: 0.0612(0.0281) 1398697.4117(636846.5105)\n",
      "Epoch: [110][0/93] Data 0.383 (0.383) Elapsed 0m 1s (remain 1m 56s) Loss: 0.0355(0.0355) 811666.5944(405833.2972)Grad: 2.0047  \n",
      "Epoch: [110][20/93] Data 0.016 (0.033) Elapsed 0m 18s (remain 1m 1s) Loss: 0.0396(0.0221) 905314.0549(491932.4215)Grad: 2.5000  \n",
      "Epoch: [110][40/93] Data 0.016 (0.025) Elapsed 0m 34s (remain 0m 44s) Loss: 0.0514(0.0229) 1175311.1786(517194.7213)Grad: 4.1572  \n",
      "Epoch: [110][60/93] Data 0.016 (0.022) Elapsed 0m 51s (remain 0m 26s) Loss: 0.0467(0.0232) 1066067.9942(526370.9852)Grad: 7.6286  \n",
      "Epoch: [110][80/93] Data 0.014 (0.020) Elapsed 1m 8s (remain 0m 10s) Loss: 0.0365(0.0230) 833654.1452(523138.6038)Grad: 3.1952  \n",
      "Epoch: [110][92/93] Data 0.014 (0.020) Elapsed 1m 17s (remain 0m 0s) Loss: 0.0543(0.0229) 1240906.1176(521862.0967)Grad: 4.5233  \n",
      "EVAL: [0/46] Data 0.407 (0.407) Elapsed 0m 0s (remain 0m 28s) Loss: 0.0622(0.0622) 1420769.8259(710384.9129)\n",
      "EVAL: [20/46] Data 0.119 (0.145) Elapsed 0m 7s (remain 0m 8s) Loss: 0.0482(0.0322) 1100464.9313(718559.6790)\n",
      "EVAL: [40/46] Data 0.119 (0.139) Elapsed 0m 13s (remain 0m 1s) Loss: 0.0631(0.0317) 1442054.8060(715559.9384)\n"
     ]
    },
    {
     "name": "stderr",
     "output_type": "stream",
     "text": [
      "Epoch 110 - avg_train_loss: 0.0229  avg_val_loss: 0.0315  time: 94s\n",
      "Epoch 110 - MAE: 0.06259441326516707\n"
     ]
    },
    {
     "name": "stdout",
     "output_type": "stream",
     "text": [
      "EVAL: [45/46] Data 0.069 (0.136) Elapsed 0m 15s (remain 0m 0s) Loss: 0.0493(0.0315) 1127434.7415(715106.9553)\n",
      "Epoch: [111][0/93] Data 0.385 (0.385) Elapsed 0m 1s (remain 1m 50s) Loss: 0.0498(0.0498) 1137510.8510(568755.4255)Grad: 9.7025  \n",
      "Epoch: [111][20/93] Data 0.015 (0.033) Elapsed 0m 17s (remain 1m 1s) Loss: 0.0370(0.0226) 846078.2571(504891.4747)Grad: 4.8172  \n",
      "Epoch: [111][40/93] Data 0.015 (0.025) Elapsed 0m 34s (remain 0m 44s) Loss: 0.0409(0.0230) 933737.0134(518685.4288)Grad: 4.8707  \n",
      "Epoch: [111][60/93] Data 0.015 (0.022) Elapsed 0m 51s (remain 0m 27s) Loss: 0.0418(0.0221) 954088.2401(499755.4832)Grad: 1.5414  \n",
      "Epoch: [111][80/93] Data 0.014 (0.020) Elapsed 1m 8s (remain 0m 10s) Loss: 0.0504(0.0219) 1152245.3427(496341.9534)Grad: 7.4516  \n",
      "Epoch: [111][92/93] Data 0.014 (0.020) Elapsed 1m 18s (remain 0m 0s) Loss: 0.0649(0.0222) 1482546.3351(506063.2424)Grad: 3.5511  \n",
      "EVAL: [0/46] Data 0.372 (0.372) Elapsed 0m 0s (remain 0m 25s) Loss: 0.0690(0.0690) 1576661.5234(788330.7617)\n",
      "EVAL: [20/46] Data 0.125 (0.147) Elapsed 0m 7s (remain 0m 8s) Loss: 0.0601(0.0337) 1372450.6858(750868.7570)\n",
      "EVAL: [40/46] Data 0.115 (0.141) Elapsed 0m 14s (remain 0m 1s) Loss: 0.0529(0.0325) 1207721.8682(732578.0028)\n"
     ]
    },
    {
     "name": "stderr",
     "output_type": "stream",
     "text": [
      "Epoch 111 - avg_train_loss: 0.0222  avg_val_loss: 0.0323  time: 94s\n",
      "Epoch 111 - MAE: 0.06402882368868598\n"
     ]
    },
    {
     "name": "stdout",
     "output_type": "stream",
     "text": [
      "EVAL: [45/46] Data 0.037 (0.137) Elapsed 0m 15s (remain 0m 0s) Loss: 0.0519(0.0323) 1186129.3539(731494.3075)\n",
      "Epoch: [112][0/93] Data 0.386 (0.386) Elapsed 0m 1s (remain 1m 59s) Loss: 0.0424(0.0424) 967660.3494(483830.1747)Grad: 4.0955  \n",
      "Epoch: [112][20/93] Data 0.014 (0.034) Elapsed 0m 18s (remain 1m 1s) Loss: 0.0691(0.0268) 1579615.8271(597690.2419)Grad: 3.4997  \n",
      "Epoch: [112][40/93] Data 0.016 (0.025) Elapsed 0m 34s (remain 0m 44s) Loss: 0.0404(0.0249) 923700.4841(562971.3355)Grad: 3.2002  \n",
      "Epoch: [112][60/93] Data 0.014 (0.022) Elapsed 0m 51s (remain 0m 26s) Loss: 0.0409(0.0239) 935199.6950(540593.5034)Grad: 6.2015  \n",
      "Epoch: [112][80/93] Data 0.022 (0.020) Elapsed 1m 8s (remain 0m 10s) Loss: 0.0552(0.0235) 1261609.3958(533255.2480)Grad: 2.4054  \n",
      "Epoch: [112][92/93] Data 0.014 (0.020) Elapsed 1m 18s (remain 0m 0s) Loss: 0.0430(0.0234) 981833.4826(531449.0740)Grad: 2.9266  \n",
      "EVAL: [0/46] Data 0.529 (0.529) Elapsed 0m 0s (remain 0m 33s) Loss: 0.0555(0.0555) 1268144.4776(634072.2388)\n",
      "EVAL: [20/46] Data 0.123 (0.141) Elapsed 0m 7s (remain 0m 8s) Loss: 0.0506(0.0314) 1155847.2303(700318.8495)\n",
      "EVAL: [40/46] Data 0.132 (0.139) Elapsed 0m 14s (remain 0m 1s) Loss: 0.0439(0.0296) 1002570.1273(667205.2716)\n"
     ]
    },
    {
     "name": "stderr",
     "output_type": "stream",
     "text": [
      "Epoch 112 - avg_train_loss: 0.0234  avg_val_loss: 0.0292  time: 94s\n",
      "Epoch 112 - MAE: 0.05801155715622942\n"
     ]
    },
    {
     "name": "stdout",
     "output_type": "stream",
     "text": [
      "EVAL: [45/46] Data 0.049 (0.137) Elapsed 0m 15s (remain 0m 0s) Loss: 0.0421(0.0292) 962776.3171(662750.3304)\n",
      "Epoch: [113][0/93] Data 0.398 (0.398) Elapsed 0m 1s (remain 1m 55s) Loss: 0.0361(0.0361) 824071.4695(412035.7347)Grad: 2.6180  \n",
      "Epoch: [113][20/93] Data 0.016 (0.035) Elapsed 0m 18s (remain 1m 2s) Loss: 0.0459(0.0267) 1049758.6342(595314.5941)Grad: 3.7517  \n",
      "Epoch: [113][40/93] Data 0.015 (0.026) Elapsed 0m 34s (remain 0m 44s) Loss: 0.0608(0.0276) 1389673.2004(623462.6264)Grad: 11.5878  \n",
      "Epoch: [113][60/93] Data 0.022 (0.023) Elapsed 0m 51s (remain 0m 27s) Loss: 0.0374(0.0261) 855012.3275(592273.7481)Grad: 3.9823  \n",
      "Epoch: [113][80/93] Data 0.015 (0.021) Elapsed 1m 8s (remain 0m 10s) Loss: 0.0632(0.0255) 1444174.0941(578903.6653)Grad: 8.7961  \n",
      "Epoch: [113][92/93] Data 0.015 (0.020) Elapsed 1m 18s (remain 0m 0s) Loss: 0.0432(0.0255) 986959.4225(580281.8699)Grad: 1.9252  \n",
      "EVAL: [0/46] Data 0.382 (0.382) Elapsed 0m 0s (remain 0m 26s) Loss: 0.0585(0.0585) 1336686.6555(668343.3277)\n",
      "EVAL: [20/46] Data 0.119 (0.166) Elapsed 0m 7s (remain 0m 9s) Loss: 0.0802(0.0301) 1832181.2141(672241.5403)\n",
      "EVAL: [40/46] Data 0.131 (0.152) Elapsed 0m 14s (remain 0m 1s) Loss: 0.0479(0.0283) 1095043.2887(639779.8246)\n"
     ]
    },
    {
     "name": "stderr",
     "output_type": "stream",
     "text": [
      "Epoch 113 - avg_train_loss: 0.0255  avg_val_loss: 0.0283  time: 94s\n",
      "Epoch 113 - MAE: 0.0561167544493907\n"
     ]
    },
    {
     "name": "stdout",
     "output_type": "stream",
     "text": [
      "EVAL: [45/46] Data 0.042 (0.147) Elapsed 0m 16s (remain 0m 0s) Loss: 0.0445(0.0283) 1017533.3333(641103.2519)\n",
      "Epoch: [114][0/93] Data 0.526 (0.526) Elapsed 0m 1s (remain 2m 6s) Loss: 0.0348(0.0348) 794113.4784(397056.7392)Grad: 1.8340  \n",
      "Epoch: [114][20/93] Data 0.015 (0.040) Elapsed 0m 17s (remain 1m 1s) Loss: 0.0371(0.0216) 847031.3324(480893.8534)Grad: 2.0918  \n",
      "Epoch: [114][40/93] Data 0.015 (0.028) Elapsed 0m 34s (remain 0m 44s) Loss: 0.0467(0.0214) 1067385.8037(482425.2866)Grad: 8.3349  \n",
      "Epoch: [114][60/93] Data 0.014 (0.024) Elapsed 0m 51s (remain 0m 27s) Loss: 0.0365(0.0213) 833039.4171(483190.8152)Grad: 7.2528  \n",
      "Epoch: [114][80/93] Data 0.014 (0.022) Elapsed 1m 8s (remain 0m 10s) Loss: 0.0396(0.0214) 905433.8171(485253.7947)Grad: 4.5868  \n",
      "Epoch: [114][92/93] Data 0.020 (0.021) Elapsed 1m 18s (remain 0m 0s) Loss: 0.0358(0.0216) 817612.0583(491478.7581)Grad: 4.9019  \n",
      "EVAL: [0/46] Data 0.379 (0.379) Elapsed 0m 0s (remain 0m 26s) Loss: 0.0553(0.0553) 1263562.5320(631781.2660)\n",
      "EVAL: [20/46] Data 0.117 (0.159) Elapsed 0m 7s (remain 0m 9s) Loss: 0.0780(0.0278) 1783192.9551(620705.2274)\n",
      "EVAL: [40/46] Data 0.107 (0.149) Elapsed 0m 14s (remain 0m 1s) Loss: 0.0397(0.0264) 908232.5236(596972.4566)\n"
     ]
    },
    {
     "name": "stderr",
     "output_type": "stream",
     "text": [
      "Epoch 114 - avg_train_loss: 0.0216  avg_val_loss: 0.0263  time: 94s\n",
      "Epoch 114 - MAE: 0.0520957681238793\n",
      "Epoch 114 - Save Best Score: 0.0521 Model\n"
     ]
    },
    {
     "name": "stdout",
     "output_type": "stream",
     "text": [
      "EVAL: [45/46] Data 0.047 (0.144) Elapsed 0m 15s (remain 0m 0s) Loss: 0.0462(0.0263) 1056419.3514(595165.6847)\n",
      "Epoch: [115][0/93] Data 0.373 (0.373) Elapsed 0m 1s (remain 1m 48s) Loss: 0.0249(0.0249) 567892.0228(283946.0114)Grad: 5.6166  \n",
      "Epoch: [115][20/93] Data 0.013 (0.032) Elapsed 0m 17s (remain 1m 1s) Loss: 0.0334(0.0189) 764244.0108(422122.6817)Grad: 7.6178  \n",
      "Epoch: [115][40/93] Data 0.015 (0.024) Elapsed 0m 34s (remain 0m 44s) Loss: 0.0400(0.0192) 914028.3485(433422.7474)Grad: 3.3967  \n",
      "Epoch: [115][60/93] Data 0.020 (0.022) Elapsed 0m 51s (remain 0m 27s) Loss: 0.0555(0.0208) 1268177.5037(471020.2015)Grad: 3.8619  \n",
      "Epoch: [115][80/93] Data 0.015 (0.020) Elapsed 1m 8s (remain 0m 10s) Loss: 0.0386(0.0211) 882653.4697(478625.7571)Grad: 1.7988  \n",
      "Epoch: [115][92/93] Data 0.014 (0.019) Elapsed 1m 17s (remain 0m 0s) Loss: 0.0734(0.0213) 1676365.1021(484961.8953)Grad: 9.6701  \n",
      "EVAL: [0/46] Data 0.371 (0.371) Elapsed 0m 0s (remain 0m 25s) Loss: 0.0794(0.0794) 1813615.9503(906807.9751)\n",
      "EVAL: [20/46] Data 0.123 (0.166) Elapsed 0m 7s (remain 0m 9s) Loss: 0.0744(0.0323) 1699994.7650(720732.9791)\n",
      "EVAL: [40/46] Data 0.231 (0.159) Elapsed 0m 14s (remain 0m 1s) Loss: 0.0483(0.0320) 1102719.4733(722637.6329)\n"
     ]
    },
    {
     "name": "stderr",
     "output_type": "stream",
     "text": [
      "Epoch 115 - avg_train_loss: 0.0213  avg_val_loss: 0.0320  time: 95s\n",
      "Epoch 115 - MAE: 0.06357024795695952\n"
     ]
    },
    {
     "name": "stdout",
     "output_type": "stream",
     "text": [
      "EVAL: [45/46] Data 0.041 (0.155) Elapsed 0m 16s (remain 0m 0s) Loss: 0.0597(0.0320) 1364843.8730(726255.3291)\n",
      "Epoch: [116][0/93] Data 0.379 (0.379) Elapsed 0m 1s (remain 1m 50s) Loss: 0.0505(0.0505) 1153601.6259(576800.8129)Grad: 9.5085  \n",
      "Epoch: [116][20/93] Data 0.015 (0.033) Elapsed 0m 17s (remain 1m 1s) Loss: 0.0546(0.0252) 1246448.2034(561903.7381)Grad: 8.6796  \n",
      "Epoch: [116][40/93] Data 0.015 (0.025) Elapsed 0m 34s (remain 0m 44s) Loss: 0.0453(0.0245) 1035639.2961(552975.6591)Grad: 3.6759  \n",
      "Epoch: [116][60/93] Data 0.015 (0.022) Elapsed 0m 51s (remain 0m 27s) Loss: 0.0417(0.0237) 953331.1934(538009.8293)Grad: 7.0014  \n",
      "Epoch: [116][80/93] Data 0.014 (0.020) Elapsed 1m 8s (remain 0m 10s) Loss: 0.0426(0.0232) 972994.3197(525886.8459)Grad: 2.5236  \n",
      "Epoch: [116][92/93] Data 0.014 (0.020) Elapsed 1m 18s (remain 0m 0s) Loss: 0.0529(0.0227) 1207571.5484(516646.6056)Grad: 3.0974  \n",
      "EVAL: [0/46] Data 0.383 (0.383) Elapsed 0m 0s (remain 0m 26s) Loss: 0.0512(0.0512) 1169909.1984(584954.5992)\n",
      "EVAL: [20/46] Data 0.289 (0.152) Elapsed 0m 7s (remain 0m 8s) Loss: 0.0537(0.0307) 1227943.2037(684315.4673)\n",
      "EVAL: [40/46] Data 0.109 (0.141) Elapsed 0m 14s (remain 0m 1s) Loss: 0.0516(0.0286) 1179564.7358(646237.6269)\n"
     ]
    },
    {
     "name": "stderr",
     "output_type": "stream",
     "text": [
      "Epoch 116 - avg_train_loss: 0.0227  avg_val_loss: 0.0284  time: 94s\n",
      "Epoch 116 - MAE: 0.05627964417774523\n"
     ]
    },
    {
     "name": "stdout",
     "output_type": "stream",
     "text": [
      "EVAL: [45/46] Data 0.045 (0.138) Elapsed 0m 15s (remain 0m 0s) Loss: 0.0545(0.0284) 1245501.6822(642964.1689)\n",
      "Epoch: [117][0/93] Data 0.381 (0.381) Elapsed 0m 1s (remain 1m 50s) Loss: 0.0476(0.0476) 1087711.3245(543855.6623)Grad: 8.9955  \n",
      "Epoch: [117][20/93] Data 0.014 (0.033) Elapsed 0m 17s (remain 1m 1s) Loss: 0.0473(0.0222) 1081357.2053(494337.0948)Grad: 8.8532  \n",
      "Epoch: [117][40/93] Data 0.015 (0.025) Elapsed 0m 34s (remain 0m 44s) Loss: 0.0573(0.0225) 1308785.6456(507816.9380)Grad: 8.0595  \n",
      "Epoch: [117][60/93] Data 0.016 (0.022) Elapsed 0m 51s (remain 0m 27s) Loss: 0.0665(0.0224) 1520055.4713(507846.4395)Grad: 5.2285  \n",
      "Epoch: [117][80/93] Data 0.015 (0.021) Elapsed 1m 8s (remain 0m 10s) Loss: 0.0629(0.0221) 1436434.7514(501168.9303)Grad: 11.8717  \n",
      "Epoch: [117][92/93] Data 0.015 (0.020) Elapsed 1m 18s (remain 0m 0s) Loss: 0.0481(0.0220) 1098887.5947(501200.8755)Grad: 10.1346  \n",
      "EVAL: [0/46] Data 0.395 (0.395) Elapsed 0m 0s (remain 0m 26s) Loss: 0.0640(0.0640) 1462106.2443(731053.1221)\n",
      "EVAL: [20/46] Data 0.126 (0.158) Elapsed 0m 7s (remain 0m 9s) Loss: 0.0627(0.0354) 1433294.2077(789786.6115)\n",
      "EVAL: [40/46] Data 0.137 (0.168) Elapsed 0m 15s (remain 0m 1s) Loss: 0.0606(0.0349) 1384646.5091(787598.5427)\n"
     ]
    },
    {
     "name": "stderr",
     "output_type": "stream",
     "text": [
      "Epoch 117 - avg_train_loss: 0.0220  avg_val_loss: 0.0344  time: 95s\n",
      "Epoch 117 - MAE: 0.06826278442577006\n"
     ]
    },
    {
     "name": "stdout",
     "output_type": "stream",
     "text": [
      "EVAL: [45/46] Data 0.069 (0.169) Elapsed 0m 17s (remain 0m 0s) Loss: 0.0672(0.0344) 1535197.5970(779864.9863)\n",
      "Epoch: [118][0/93] Data 0.420 (0.420) Elapsed 0m 1s (remain 1m 57s) Loss: 0.0455(0.0455) 1040343.7277(520171.8638)Grad: 10.4455  \n",
      "Epoch: [118][20/93] Data 0.023 (0.035) Elapsed 0m 18s (remain 1m 1s) Loss: 0.0410(0.0242) 936220.2696(540032.7475)Grad: 7.3071  \n",
      "Epoch: [118][40/93] Data 0.016 (0.026) Elapsed 0m 34s (remain 0m 44s) Loss: 0.0543(0.0218) 1241570.8956(490967.6117)Grad: 6.0231  \n",
      "Epoch: [118][60/93] Data 0.020 (0.023) Elapsed 0m 51s (remain 0m 27s) Loss: 0.0429(0.0212) 980789.5855(480980.3631)Grad: 5.9140  \n",
      "Epoch: [118][80/93] Data 0.016 (0.021) Elapsed 1m 8s (remain 0m 10s) Loss: 0.0395(0.0209) 903203.7042(474982.6454)Grad: 2.6504  \n",
      "Epoch: [118][92/93] Data 0.015 (0.021) Elapsed 1m 18s (remain 0m 0s) Loss: 0.0342(0.0209) 782112.6623(475906.3397)Grad: 2.5024  \n",
      "EVAL: [0/46] Data 0.376 (0.376) Elapsed 0m 0s (remain 0m 25s) Loss: 0.0687(0.0687) 1570719.2090(785359.6045)\n",
      "EVAL: [20/46] Data 0.129 (0.146) Elapsed 0m 7s (remain 0m 8s) Loss: 0.0950(0.0319) 2170071.0592(712527.2744)\n",
      "EVAL: [40/46] Data 0.225 (0.139) Elapsed 0m 14s (remain 0m 1s) Loss: 0.0555(0.0301) 1268566.4967(679102.5479)\n"
     ]
    },
    {
     "name": "stderr",
     "output_type": "stream",
     "text": [
      "Epoch 118 - avg_train_loss: 0.0209  avg_val_loss: 0.0299  time: 94s\n",
      "Epoch 118 - MAE: 0.05931635171822351\n"
     ]
    },
    {
     "name": "stdout",
     "output_type": "stream",
     "text": [
      "EVAL: [45/46] Data 0.042 (0.141) Elapsed 0m 15s (remain 0m 0s) Loss: 0.0506(0.0299) 1156770.5141(677656.8973)\n",
      "Epoch: [119][0/93] Data 0.539 (0.539) Elapsed 0m 1s (remain 2m 6s) Loss: 0.0400(0.0400) 912860.3482(456430.1741)Grad: 2.5942  \n",
      "Epoch: [119][20/93] Data 0.015 (0.041) Elapsed 0m 18s (remain 1m 1s) Loss: 0.0367(0.0226) 839210.7012(504584.4795)Grad: 5.9740  \n",
      "Epoch: [119][40/93] Data 0.015 (0.029) Elapsed 0m 34s (remain 0m 44s) Loss: 0.0468(0.0230) 1070116.9258(519913.3803)Grad: 8.1933  \n",
      "Epoch: [119][60/93] Data 0.015 (0.024) Elapsed 0m 51s (remain 0m 27s) Loss: 0.0415(0.0223) 948975.9192(505591.4814)Grad: 4.6597  \n",
      "Epoch: [119][80/93] Data 0.016 (0.023) Elapsed 1m 8s (remain 0m 10s) Loss: 0.0567(0.0224) 1296364.2575(508376.8406)Grad: 9.7182  \n",
      "Epoch: [119][92/93] Data 0.015 (0.022) Elapsed 1m 18s (remain 0m 0s) Loss: 0.0503(0.0219) 1149310.1056(497801.7414)Grad: 3.4039  \n",
      "EVAL: [0/46] Data 0.391 (0.391) Elapsed 0m 0s (remain 0m 26s) Loss: 0.0520(0.0520) 1188429.3493(594214.6746)\n",
      "EVAL: [20/46] Data 0.134 (0.145) Elapsed 0m 7s (remain 0m 8s) Loss: 0.0537(0.0292) 1227519.1418(650693.1093)\n",
      "EVAL: [40/46] Data 0.126 (0.151) Elapsed 0m 14s (remain 0m 1s) Loss: 0.0482(0.0266) 1101716.6886(600427.2994)\n"
     ]
    },
    {
     "name": "stderr",
     "output_type": "stream",
     "text": [
      "Epoch 119 - avg_train_loss: 0.0219  avg_val_loss: 0.0262  time: 95s\n",
      "Epoch 119 - MAE: 0.05189518631381415\n",
      "Epoch 119 - Save Best Score: 0.0519 Model\n"
     ]
    },
    {
     "name": "stdout",
     "output_type": "stream",
     "text": [
      "EVAL: [45/46] Data 0.109 (0.150) Elapsed 0m 16s (remain 0m 0s) Loss: 0.0440(0.0262) 1005064.0234(592874.1215)\n",
      "Epoch: [120][0/93] Data 0.391 (0.391) Elapsed 0m 1s (remain 1m 52s) Loss: 0.0336(0.0336) 768645.3343(384322.6671)Grad: 3.5254  \n",
      "Epoch: [120][20/93] Data 0.016 (0.034) Elapsed 0m 17s (remain 1m 1s) Loss: 0.0383(0.0211) 874335.1488(469557.9571)Grad: 2.2101  \n",
      "Epoch: [120][40/93] Data 0.015 (0.025) Elapsed 0m 34s (remain 0m 44s) Loss: 0.0354(0.0216) 808988.2459(487083.5963)Grad: 6.1483  \n",
      "Epoch: [120][60/93] Data 0.015 (0.022) Elapsed 0m 51s (remain 0m 27s) Loss: 0.0388(0.0211) 886736.2786(477413.5891)Grad: 2.2099  \n",
      "Epoch: [120][80/93] Data 0.016 (0.021) Elapsed 1m 8s (remain 0m 10s) Loss: 0.0361(0.0216) 825805.1694(490216.6520)Grad: 5.1127  \n",
      "Epoch: [120][92/93] Data 0.015 (0.020) Elapsed 1m 18s (remain 0m 0s) Loss: 0.0388(0.0215) 886625.1134(488247.9271)Grad: 2.6879  \n",
      "EVAL: [0/46] Data 0.396 (0.396) Elapsed 0m 0s (remain 0m 26s) Loss: 0.0443(0.0443) 1011953.2846(505976.6423)\n",
      "EVAL: [20/46] Data 0.125 (0.168) Elapsed 0m 7s (remain 0m 9s) Loss: 0.0436(0.0277) 995504.3297(617922.5394)\n",
      "EVAL: [40/46] Data 0.128 (0.154) Elapsed 0m 14s (remain 0m 1s) Loss: 0.0393(0.0267) 897234.6625(602181.9728)\n"
     ]
    },
    {
     "name": "stderr",
     "output_type": "stream",
     "text": [
      "Epoch 120 - avg_train_loss: 0.0215  avg_val_loss: 0.0267  time: 95s\n",
      "Epoch 120 - MAE: 0.05291736680489565\n"
     ]
    },
    {
     "name": "stdout",
     "output_type": "stream",
     "text": [
      "EVAL: [45/46] Data 0.045 (0.150) Elapsed 0m 16s (remain 0m 0s) Loss: 0.0497(0.0267) 1135468.7656(604551.9979)\n",
      "Epoch: [121][0/93] Data 0.390 (0.390) Elapsed 0m 1s (remain 1m 52s) Loss: 0.0409(0.0409) 935129.7273(467564.8637)Grad: 3.8536  \n",
      "Epoch: [121][20/93] Data 0.016 (0.034) Elapsed 0m 17s (remain 1m 1s) Loss: 0.0387(0.0218) 884935.5901(486796.8085)Grad: 4.5661  \n",
      "Epoch: [121][40/93] Data 0.016 (0.026) Elapsed 0m 34s (remain 0m 44s) Loss: 0.0372(0.0209) 850199.4546(470958.8626)Grad: 2.1729  \n",
      "Epoch: [121][60/93] Data 0.016 (0.023) Elapsed 0m 51s (remain 0m 27s) Loss: 0.0391(0.0215) 892739.1976(486401.1381)Grad: 3.0767  \n",
      "Epoch: [121][80/93] Data 0.015 (0.021) Elapsed 1m 8s (remain 0m 10s) Loss: 0.0482(0.0218) 1101551.8986(495342.6226)Grad: 14.1566  \n",
      "Epoch: [121][92/93] Data 0.015 (0.021) Elapsed 1m 18s (remain 0m 0s) Loss: 0.0428(0.0217) 978595.2226(492848.5240)Grad: 4.7203  \n",
      "EVAL: [0/46] Data 0.384 (0.384) Elapsed 0m 0s (remain 0m 26s) Loss: 0.0542(0.0542) 1237537.4556(618768.7278)\n",
      "EVAL: [20/46] Data 0.123 (0.152) Elapsed 0m 7s (remain 0m 8s) Loss: 0.0579(0.0372) 1322365.9263(829023.9879)\n",
      "EVAL: [40/46] Data 0.118 (0.145) Elapsed 0m 14s (remain 0m 1s) Loss: 0.0619(0.0351) 1414104.7676(792696.3830)\n"
     ]
    },
    {
     "name": "stderr",
     "output_type": "stream",
     "text": [
      "Epoch 121 - avg_train_loss: 0.0217  avg_val_loss: 0.0348  time: 94s\n",
      "Epoch 121 - MAE: 0.06899446156596174\n"
     ]
    },
    {
     "name": "stdout",
     "output_type": "stream",
     "text": [
      "EVAL: [45/46] Data 0.039 (0.140) Elapsed 0m 15s (remain 0m 0s) Loss: 0.0480(0.0348) 1097003.9154(788224.0075)\n",
      "Epoch: [122][0/93] Data 0.384 (0.384) Elapsed 0m 1s (remain 2m 6s) Loss: 0.0513(0.0513) 1173005.8207(586502.9104)Grad: 12.5638  \n",
      "Epoch: [122][20/93] Data 0.015 (0.034) Elapsed 0m 18s (remain 1m 2s) Loss: 0.0541(0.0211) 1235598.7044(471670.2372)Grad: 8.8353  \n",
      "Epoch: [122][40/93] Data 0.017 (0.025) Elapsed 0m 34s (remain 0m 44s) Loss: 0.0491(0.0210) 1122911.8683(473296.9741)Grad: 5.0715  \n",
      "Epoch: [122][60/93] Data 0.014 (0.022) Elapsed 0m 51s (remain 0m 27s) Loss: 0.0393(0.0201) 897654.2982(456450.4871)Grad: 5.0186  \n",
      "Epoch: [122][80/93] Data 0.021 (0.021) Elapsed 1m 8s (remain 0m 10s) Loss: 0.0355(0.0201) 811915.4818(457273.9834)Grad: 2.3552  \n",
      "Epoch: [122][92/93] Data 0.015 (0.020) Elapsed 1m 18s (remain 0m 0s) Loss: 0.0441(0.0202) 1008284.6638(459419.3437)Grad: 7.1357  \n",
      "EVAL: [0/46] Data 0.406 (0.406) Elapsed 0m 0s (remain 0m 27s) Loss: 0.0466(0.0466) 1064826.2810(532413.1405)\n",
      "EVAL: [20/46] Data 0.129 (0.142) Elapsed 0m 7s (remain 0m 8s) Loss: 0.0569(0.0270) 1299765.0093(603018.4768)\n",
      "EVAL: [40/46] Data 0.121 (0.140) Elapsed 0m 14s (remain 0m 1s) Loss: 0.0366(0.0251) 837338.7683(567471.2120)\n"
     ]
    },
    {
     "name": "stderr",
     "output_type": "stream",
     "text": [
      "Epoch 122 - avg_train_loss: 0.0202  avg_val_loss: 0.0250  time: 94s\n",
      "Epoch 122 - MAE: 0.04953403802020628\n",
      "Epoch 122 - Save Best Score: 0.0495 Model\n"
     ]
    },
    {
     "name": "stdout",
     "output_type": "stream",
     "text": [
      "EVAL: [45/46] Data 0.046 (0.137) Elapsed 0m 15s (remain 0m 0s) Loss: 0.0418(0.0250) 954766.0412(565899.2960)\n",
      "Epoch: [123][0/93] Data 0.382 (0.382) Elapsed 0m 1s (remain 1m 50s) Loss: 0.0298(0.0298) 679930.5089(339965.2545)Grad: 2.6211  \n",
      "Epoch: [123][20/93] Data 0.015 (0.034) Elapsed 0m 18s (remain 1m 1s) Loss: 0.0332(0.0188) 757463.8719(419413.2840)Grad: 3.6202  \n",
      "Epoch: [123][40/93] Data 0.015 (0.025) Elapsed 0m 34s (remain 0m 43s) Loss: 0.0384(0.0192) 876530.4480(433010.8268)Grad: 4.1445  \n",
      "Epoch: [123][60/93] Data 0.015 (0.022) Elapsed 0m 51s (remain 0m 26s) Loss: 0.0465(0.0196) 1061477.1112(443649.6603)Grad: 6.4172  \n",
      "Epoch: [123][80/93] Data 0.016 (0.020) Elapsed 1m 8s (remain 0m 10s) Loss: 0.0321(0.0198) 733286.1290(450263.1150)Grad: 3.5243  \n",
      "Epoch: [123][92/93] Data 0.015 (0.020) Elapsed 1m 18s (remain 0m 0s) Loss: 0.0391(0.0201) 893211.5219(457839.0799)Grad: 4.2992  \n",
      "EVAL: [0/46] Data 0.373 (0.373) Elapsed 0m 0s (remain 0m 25s) Loss: 0.0583(0.0583) 1332561.2021(666280.6010)\n",
      "EVAL: [20/46] Data 0.128 (0.146) Elapsed 0m 7s (remain 0m 8s) Loss: 0.0634(0.0323) 1447532.5419(719997.6660)\n",
      "EVAL: [40/46] Data 0.114 (0.140) Elapsed 0m 14s (remain 0m 1s) Loss: 0.0469(0.0312) 1071377.5354(704444.2625)\n"
     ]
    },
    {
     "name": "stderr",
     "output_type": "stream",
     "text": [
      "Epoch 123 - avg_train_loss: 0.0201  avg_val_loss: 0.0313  time: 94s\n",
      "Epoch 123 - MAE: 0.06209269297925634\n"
     ]
    },
    {
     "name": "stdout",
     "output_type": "stream",
     "text": [
      "EVAL: [45/46] Data 0.107 (0.140) Elapsed 0m 15s (remain 0m 0s) Loss: 0.0656(0.0313) 1499321.3801(709375.0820)\n",
      "Epoch: [124][0/93] Data 0.384 (0.384) Elapsed 0m 1s (remain 1m 54s) Loss: 0.0604(0.0604) 1379274.2353(689637.1177)Grad: 6.6687  \n",
      "Epoch: [124][20/93] Data 0.016 (0.033) Elapsed 0m 17s (remain 1m 1s) Loss: 0.0533(0.0285) 1217438.5210(635189.1820)Grad: 11.7006  \n",
      "Epoch: [124][40/93] Data 0.014 (0.024) Elapsed 0m 34s (remain 0m 43s) Loss: 0.0277(0.0257) 631801.4817(580709.8928)Grad: 1.6049  \n",
      "Epoch: [124][60/93] Data 0.015 (0.022) Elapsed 0m 51s (remain 0m 26s) Loss: 0.0741(0.0259) 1692829.9742(585867.4929)Grad: 12.9775  \n",
      "Epoch: [124][80/93] Data 0.015 (0.020) Elapsed 1m 7s (remain 0m 10s) Loss: 0.0429(0.0256) 980171.3676(582397.2802)Grad: 5.0060  \n",
      "Epoch: [124][92/93] Data 0.016 (0.020) Elapsed 1m 17s (remain 0m 0s) Loss: 0.0362(0.0251) 827451.7928(572143.2599)Grad: 2.5403  \n",
      "EVAL: [0/46] Data 0.495 (0.495) Elapsed 0m 0s (remain 0m 31s) Loss: 0.0536(0.0536) 1224229.6402(612114.8201)\n",
      "EVAL: [20/46] Data 0.125 (0.141) Elapsed 0m 7s (remain 0m 8s) Loss: 0.0493(0.0274) 1127140.9113(612212.2609)\n",
      "EVAL: [40/46] Data 0.128 (0.138) Elapsed 0m 13s (remain 0m 1s) Loss: 0.0486(0.0275) 1111286.3411(619669.5038)\n"
     ]
    },
    {
     "name": "stderr",
     "output_type": "stream",
     "text": [
      "Epoch 124 - avg_train_loss: 0.0251  avg_val_loss: 0.0270  time: 94s\n",
      "Epoch 124 - MAE: 0.05363897454632534\n"
     ]
    },
    {
     "name": "stdout",
     "output_type": "stream",
     "text": [
      "EVAL: [45/46] Data 0.069 (0.136) Elapsed 0m 15s (remain 0m 0s) Loss: 0.0559(0.0270) 1277891.8583(612795.9698)\n",
      "Epoch: [125][0/93] Data 0.386 (0.386) Elapsed 0m 1s (remain 1m 52s) Loss: 0.0415(0.0415) 948806.0221(474403.0110)Grad: 4.0829  \n",
      "Epoch: [125][20/93] Data 0.015 (0.035) Elapsed 0m 18s (remain 1m 2s) Loss: 0.0438(0.0220) 1000470.5016(491776.9419)Grad: 6.0506  \n",
      "Epoch: [125][40/93] Data 0.014 (0.025) Elapsed 0m 34s (remain 0m 44s) Loss: 0.0390(0.0219) 891895.5851(495242.8244)Grad: 8.5846  \n",
      "Epoch: [125][60/93] Data 0.014 (0.023) Elapsed 0m 51s (remain 0m 27s) Loss: 0.0646(0.0222) 1477051.4051(504052.1447)Grad: 11.1546  \n",
      "Epoch: [125][80/93] Data 0.015 (0.021) Elapsed 1m 8s (remain 0m 10s) Loss: 0.0411(0.0238) 939752.5300(540459.3815)Grad: 3.2267  \n",
      "Epoch: [125][92/93] Data 0.015 (0.020) Elapsed 1m 18s (remain 0m 0s) Loss: 0.0483(0.0239) 1102497.2281(544220.2953)Grad: 4.5807  \n",
      "EVAL: [0/46] Data 0.370 (0.370) Elapsed 0m 0s (remain 0m 25s) Loss: 0.0543(0.0543) 1240518.5717(620259.2858)\n",
      "EVAL: [20/46] Data 0.131 (0.166) Elapsed 0m 7s (remain 0m 9s) Loss: 0.0514(0.0309) 1174549.1950(689797.5747)\n",
      "EVAL: [40/46] Data 0.127 (0.153) Elapsed 0m 14s (remain 0m 1s) Loss: 0.0519(0.0292) 1185687.8426(658970.2031)\n"
     ]
    },
    {
     "name": "stderr",
     "output_type": "stream",
     "text": [
      "Epoch 125 - avg_train_loss: 0.0239  avg_val_loss: 0.0289  time: 95s\n",
      "Epoch 125 - MAE: 0.05730716679547706\n"
     ]
    },
    {
     "name": "stdout",
     "output_type": "stream",
     "text": [
      "EVAL: [45/46] Data 0.036 (0.153) Elapsed 0m 16s (remain 0m 0s) Loss: 0.0410(0.0289) 937942.9040(654703.0611)\n",
      "Epoch: [126][0/93] Data 0.365 (0.365) Elapsed 0m 1s (remain 1m 48s) Loss: 0.0406(0.0406) 927002.7535(463501.3768)Grad: 6.1273  \n",
      "Epoch: [126][20/93] Data 0.015 (0.032) Elapsed 0m 17s (remain 1m 0s) Loss: 0.0353(0.0233) 805971.8055(519439.9373)Grad: 2.7542  \n",
      "Epoch: [126][40/93] Data 0.015 (0.025) Elapsed 0m 34s (remain 0m 43s) Loss: 0.0454(0.0223) 1037095.2534(503467.6901)Grad: 7.3641  \n",
      "Epoch: [126][60/93] Data 0.021 (0.022) Elapsed 0m 51s (remain 0m 26s) Loss: 0.0521(0.0224) 1190556.8939(508623.8603)Grad: 8.5330  \n",
      "Epoch: [126][80/93] Data 0.015 (0.020) Elapsed 1m 8s (remain 0m 10s) Loss: 0.0567(0.0222) 1294881.4878(504054.6721)Grad: 12.9738  \n",
      "Epoch: [126][92/93] Data 0.014 (0.020) Elapsed 1m 17s (remain 0m 0s) Loss: 0.0512(0.0221) 1170647.5189(503632.3577)Grad: 9.1847  \n",
      "EVAL: [0/46] Data 0.376 (0.376) Elapsed 0m 0s (remain 0m 25s) Loss: 0.0909(0.0909) 2076781.8638(1038390.9319)\n",
      "EVAL: [20/46] Data 0.134 (0.156) Elapsed 0m 7s (remain 0m 9s) Loss: 0.0898(0.0448) 2052172.3132(998767.3229)\n",
      "EVAL: [40/46] Data 0.120 (0.146) Elapsed 0m 14s (remain 0m 1s) Loss: 0.0636(0.0432) 1453105.1003(974611.6674)\n"
     ]
    },
    {
     "name": "stderr",
     "output_type": "stream",
     "text": [
      "Epoch 126 - avg_train_loss: 0.0221  avg_val_loss: 0.0430  time: 94s\n",
      "Epoch 126 - MAE: 0.08533562094390205\n"
     ]
    },
    {
     "name": "stdout",
     "output_type": "stream",
     "text": [
      "EVAL: [45/46] Data 0.040 (0.142) Elapsed 0m 15s (remain 0m 0s) Loss: 0.0762(0.0430) 1741148.8589(974912.8217)\n",
      "Epoch: [127][0/93] Data 0.379 (0.379) Elapsed 0m 1s (remain 1m 49s) Loss: 0.0568(0.0568) 1298769.8853(649384.9427)Grad: 11.0288  \n",
      "Epoch: [127][20/93] Data 0.014 (0.033) Elapsed 0m 17s (remain 1m 0s) Loss: 0.0538(0.0257) 1230138.7583(573468.6385)Grad: 6.5565  \n",
      "Epoch: [127][40/93] Data 0.016 (0.025) Elapsed 0m 34s (remain 0m 43s) Loss: 0.0341(0.0266) 779189.6823(599415.7745)Grad: 2.1827  \n",
      "Epoch: [127][60/93] Data 0.015 (0.022) Elapsed 0m 51s (remain 0m 26s) Loss: 0.0810(0.0252) 1850069.9537(571864.5707)Grad: 11.2613  \n",
      "Epoch: [127][80/93] Data 0.015 (0.021) Elapsed 1m 8s (remain 0m 10s) Loss: 0.0468(0.0243) 1070246.6469(551143.7563)Grad: 12.3374  \n",
      "Epoch: [127][92/93] Data 0.014 (0.020) Elapsed 1m 18s (remain 0m 0s) Loss: 0.0375(0.0236) 856197.6920(537544.7042)Grad: 5.4703  \n",
      "EVAL: [0/46] Data 0.381 (0.381) Elapsed 0m 0s (remain 0m 26s) Loss: 0.0486(0.0486) 1110447.5804(555223.7902)\n",
      "EVAL: [20/46] Data 0.118 (0.169) Elapsed 0m 7s (remain 0m 9s) Loss: 0.0415(0.0274) 948678.4290(610735.4130)\n",
      "EVAL: [40/46] Data 0.123 (0.160) Elapsed 0m 14s (remain 0m 1s) Loss: 0.0402(0.0269) 919521.5761(607096.0832)\n"
     ]
    },
    {
     "name": "stderr",
     "output_type": "stream",
     "text": [
      "Epoch 127 - avg_train_loss: 0.0236  avg_val_loss: 0.0266  time: 95s\n",
      "Epoch 127 - MAE: 0.052835808221730556\n"
     ]
    },
    {
     "name": "stdout",
     "output_type": "stream",
     "text": [
      "EVAL: [45/46] Data 0.049 (0.156) Elapsed 0m 16s (remain 0m 0s) Loss: 0.0454(0.0266) 1036234.7022(603620.2321)\n",
      "Epoch: [128][0/93] Data 0.378 (0.378) Elapsed 0m 1s (remain 1m 52s) Loss: 0.0433(0.0433) 989497.0696(494748.5348)Grad: 2.5282  \n",
      "Epoch: [128][20/93] Data 0.014 (0.032) Elapsed 0m 17s (remain 1m 0s) Loss: 0.0387(0.0209) 884333.4597(465437.9746)Grad: 2.4584  \n",
      "Epoch: [128][40/93] Data 0.015 (0.024) Elapsed 0m 34s (remain 0m 43s) Loss: 0.0383(0.0209) 875004.6082(472164.9245)Grad: 1.9522  \n",
      "Epoch: [128][60/93] Data 0.015 (0.021) Elapsed 0m 51s (remain 0m 26s) Loss: 0.0348(0.0214) 794866.5245(485770.2578)Grad: 2.9815  \n",
      "Epoch: [128][80/93] Data 0.015 (0.020) Elapsed 1m 7s (remain 0m 10s) Loss: 0.0392(0.0215) 896808.3875(487414.0129)Grad: 6.0644  \n",
      "Epoch: [128][92/93] Data 0.014 (0.019) Elapsed 1m 17s (remain 0m 0s) Loss: 0.0542(0.0217) 1238906.8470(494061.2363)Grad: 6.1571  \n",
      "EVAL: [0/46] Data 0.373 (0.373) Elapsed 0m 0s (remain 0m 25s) Loss: 0.0609(0.0609) 1390964.7933(695482.3966)\n",
      "EVAL: [20/46] Data 0.262 (0.142) Elapsed 0m 7s (remain 0m 8s) Loss: 0.0591(0.0274) 1350190.1590(610445.1741)\n",
      "EVAL: [40/46] Data 0.117 (0.143) Elapsed 0m 14s (remain 0m 1s) Loss: 0.0397(0.0260) 906507.1653(587055.3657)\n"
     ]
    },
    {
     "name": "stderr",
     "output_type": "stream",
     "text": [
      "Epoch 128 - avg_train_loss: 0.0217  avg_val_loss: 0.0258  time: 94s\n",
      "Epoch 128 - MAE: 0.051097193481875455\n"
     ]
    },
    {
     "name": "stdout",
     "output_type": "stream",
     "text": [
      "EVAL: [45/46] Data 0.039 (0.139) Elapsed 0m 15s (remain 0m 0s) Loss: 0.0398(0.0258) 909317.7884(583757.4933)\n",
      "Epoch: [129][0/93] Data 0.377 (0.377) Elapsed 0m 1s (remain 1m 51s) Loss: 0.0572(0.0572) 1307342.5413(653671.2706)Grad: 3.8193  \n",
      "Epoch: [129][20/93] Data 0.014 (0.032) Elapsed 0m 17s (remain 1m 1s) Loss: 0.0513(0.0200) 1172600.9957(445750.4081)Grad: 4.7830  \n",
      "Epoch: [129][40/93] Data 0.015 (0.025) Elapsed 0m 34s (remain 0m 44s) Loss: 0.0509(0.0203) 1163676.9693(458844.7747)Grad: 8.8247  \n",
      "Epoch: [129][60/93] Data 0.016 (0.022) Elapsed 0m 51s (remain 0m 26s) Loss: 0.0309(0.0204) 706263.2048(462389.9389)Grad: 5.8672  \n",
      "Epoch: [129][80/93] Data 0.014 (0.021) Elapsed 1m 8s (remain 0m 10s) Loss: 0.0390(0.0200) 891765.0128(453117.2909)Grad: 5.3219  \n",
      "Epoch: [129][92/93] Data 0.014 (0.020) Elapsed 1m 18s (remain 0m 0s) Loss: 0.0327(0.0196) 747213.0986(447051.6290)Grad: 2.6552  \n",
      "EVAL: [0/46] Data 0.366 (0.366) Elapsed 0m 0s (remain 0m 25s) Loss: 0.0452(0.0452) 1032922.3037(516461.1518)\n",
      "EVAL: [20/46] Data 0.129 (0.147) Elapsed 0m 7s (remain 0m 8s) Loss: 0.0537(0.0274) 1225898.1391(612084.7407)\n",
      "EVAL: [40/46] Data 0.121 (0.158) Elapsed 0m 14s (remain 0m 1s) Loss: 0.0501(0.0265) 1143629.9572(597167.4846)\n"
     ]
    },
    {
     "name": "stderr",
     "output_type": "stream",
     "text": [
      "Epoch 129 - avg_train_loss: 0.0196  avg_val_loss: 0.0263  time: 95s\n",
      "Epoch 129 - MAE: 0.052132051170147964\n"
     ]
    },
    {
     "name": "stdout",
     "output_type": "stream",
     "text": [
      "EVAL: [45/46] Data 0.038 (0.152) Elapsed 0m 16s (remain 0m 0s) Loss: 0.0361(0.0263) 825028.6305(595580.1833)\n",
      "Epoch: [130][0/93] Data 0.385 (0.385) Elapsed 0m 1s (remain 1m 50s) Loss: 0.0375(0.0375) 856154.0261(428077.0130)Grad: 6.5482  \n",
      "Epoch: [130][20/93] Data 0.014 (0.033) Elapsed 0m 17s (remain 1m 1s) Loss: 0.0379(0.0199) 865181.8974(444074.9588)Grad: 3.1058  \n",
      "Epoch: [130][40/93] Data 0.015 (0.025) Elapsed 0m 34s (remain 0m 43s) Loss: 0.0397(0.0201) 907908.4762(452851.5961)Grad: 6.2920  \n",
      "Epoch: [130][60/93] Data 0.020 (0.022) Elapsed 0m 51s (remain 0m 26s) Loss: 0.0295(0.0197) 674660.9736(446264.0107)Grad: 4.2989  \n",
      "Epoch: [130][80/93] Data 0.015 (0.020) Elapsed 1m 8s (remain 0m 10s) Loss: 0.0365(0.0194) 834977.5725(440934.9445)Grad: 6.1679  \n",
      "Epoch: [130][92/93] Data 0.016 (0.020) Elapsed 1m 18s (remain 0m 0s) Loss: 0.0330(0.0190) 754263.7451(433311.8766)Grad: 7.5800  \n",
      "EVAL: [0/46] Data 0.399 (0.399) Elapsed 0m 0s (remain 0m 27s) Loss: 0.0391(0.0391) 892326.7118(446163.3559)\n",
      "EVAL: [20/46] Data 0.124 (0.151) Elapsed 0m 7s (remain 0m 8s) Loss: 0.0372(0.0250) 849570.5117(558567.3969)\n",
      "EVAL: [40/46] Data 0.126 (0.137) Elapsed 0m 13s (remain 0m 1s) Loss: 0.0364(0.0234) 831913.5506(527114.5314)\n"
     ]
    },
    {
     "name": "stderr",
     "output_type": "stream",
     "text": [
      "Epoch 130 - avg_train_loss: 0.0190  avg_val_loss: 0.0234  time: 94s\n",
      "Epoch 130 - MAE: 0.04643505785306411\n",
      "Epoch 130 - Save Best Score: 0.0464 Model\n"
     ]
    },
    {
     "name": "stdout",
     "output_type": "stream",
     "text": [
      "EVAL: [45/46] Data 0.036 (0.134) Elapsed 0m 15s (remain 0m 0s) Loss: 0.0462(0.0234) 1055421.5036(530495.1621)\n",
      "Epoch: [131][0/93] Data 0.758 (0.758) Elapsed 0m 1s (remain 2m 31s) Loss: 0.0360(0.0360) 823503.8972(411751.9486)Grad: 5.6763  \n",
      "Epoch: [131][20/93] Data 0.016 (0.050) Elapsed 0m 18s (remain 1m 2s) Loss: 0.0508(0.0202) 1160708.3656(450656.4618)Grad: 10.0247  \n",
      "Epoch: [131][40/93] Data 0.015 (0.034) Elapsed 0m 35s (remain 0m 44s) Loss: 0.0406(0.0201) 928115.2564(452816.0937)Grad: 7.4360  \n",
      "Epoch: [131][60/93] Data 0.015 (0.028) Elapsed 0m 51s (remain 0m 27s) Loss: 0.0298(0.0193) 681649.0577(437843.0821)Grad: 1.7758  \n",
      "Epoch: [131][80/93] Data 0.014 (0.025) Elapsed 1m 9s (remain 0m 10s) Loss: 0.0434(0.0188) 991026.9100(427554.0780)Grad: 4.5554  \n",
      "Epoch: [131][92/93] Data 0.015 (0.024) Elapsed 1m 18s (remain 0m 0s) Loss: 0.0334(0.0188) 762547.7631(427147.0445)Grad: 1.9833  \n",
      "EVAL: [0/46] Data 0.377 (0.377) Elapsed 0m 0s (remain 0m 26s) Loss: 0.0520(0.0520) 1187176.4004(593588.2002)\n",
      "EVAL: [20/46] Data 0.118 (0.137) Elapsed 0m 7s (remain 0m 8s) Loss: 0.0478(0.0295) 1092043.8720(658245.5616)\n",
      "EVAL: [40/46] Data 0.119 (0.143) Elapsed 0m 14s (remain 0m 1s) Loss: 0.0434(0.0289) 991672.1106(653211.7432)\n"
     ]
    },
    {
     "name": "stderr",
     "output_type": "stream",
     "text": [
      "Epoch 131 - avg_train_loss: 0.0188  avg_val_loss: 0.0290  time: 95s\n",
      "Epoch 131 - MAE: 0.05759656560285393\n"
     ]
    },
    {
     "name": "stdout",
     "output_type": "stream",
     "text": [
      "EVAL: [45/46] Data 0.045 (0.139) Elapsed 0m 15s (remain 0m 0s) Loss: 0.0575(0.0290) 1314135.3628(658009.2754)\n",
      "Epoch: [132][0/93] Data 0.392 (0.392) Elapsed 0m 1s (remain 1m 51s) Loss: 0.0568(0.0568) 1297526.8102(648763.4051)Grad: 11.7474  \n",
      "Epoch: [132][20/93] Data 0.015 (0.034) Elapsed 0m 18s (remain 1m 1s) Loss: 0.0259(0.0162) 592745.2686(360650.3435)Grad: 3.9960  \n",
      "Epoch: [132][40/93] Data 0.015 (0.025) Elapsed 0m 34s (remain 0m 43s) Loss: 0.0331(0.0173) 756073.2008(389366.9330)Grad: 9.7544  \n",
      "Epoch: [132][60/93] Data 0.015 (0.022) Elapsed 0m 51s (remain 0m 26s) Loss: 0.0320(0.0182) 732255.4253(412596.7176)Grad: 1.4171  \n",
      "Epoch: [132][80/93] Data 0.020 (0.021) Elapsed 1m 8s (remain 0m 10s) Loss: 0.0290(0.0186) 661628.2196(421992.5817)Grad: 4.2339  \n",
      "Epoch: [132][92/93] Data 0.015 (0.020) Elapsed 1m 18s (remain 0m 0s) Loss: 0.0578(0.0186) 1320734.7945(423585.0221)Grad: 6.0762  \n",
      "EVAL: [0/46] Data 0.380 (0.380) Elapsed 0m 0s (remain 0m 26s) Loss: 0.0420(0.0420) 959947.3083(479973.6542)\n",
      "EVAL: [20/46] Data 0.115 (0.151) Elapsed 0m 7s (remain 0m 8s) Loss: 0.0493(0.0268) 1126146.8939(598000.0987)\n",
      "EVAL: [40/46] Data 0.215 (0.140) Elapsed 0m 14s (remain 0m 1s) Loss: 0.0366(0.0253) 836931.1343(571844.4972)\n"
     ]
    },
    {
     "name": "stderr",
     "output_type": "stream",
     "text": [
      "Epoch 132 - avg_train_loss: 0.0186  avg_val_loss: 0.0254  time: 94s\n",
      "Epoch 132 - MAE: 0.05040006712558287\n"
     ]
    },
    {
     "name": "stdout",
     "output_type": "stream",
     "text": [
      "EVAL: [45/46] Data 0.042 (0.139) Elapsed 0m 15s (remain 0m 0s) Loss: 0.0495(0.0254) 1130959.0858(575793.2143)\n",
      "Epoch: [133][0/93] Data 0.373 (0.373) Elapsed 0m 1s (remain 1m 49s) Loss: 0.0331(0.0331) 756419.0385(378209.5193)Grad: 4.6453  \n",
      "Epoch: [133][20/93] Data 0.015 (0.033) Elapsed 0m 17s (remain 1m 1s) Loss: 0.0440(0.0197) 1005680.5389(439834.8534)Grad: 5.6866  \n",
      "Epoch: [133][40/93] Data 0.016 (0.025) Elapsed 0m 34s (remain 0m 43s) Loss: 0.0316(0.0195) 722886.5681(441156.9026)Grad: 5.5290  \n",
      "Epoch: [133][60/93] Data 0.016 (0.022) Elapsed 0m 51s (remain 0m 26s) Loss: 0.0337(0.0200) 770339.8796(453874.6803)Grad: 6.4715  \n",
      "Epoch: [133][80/93] Data 0.016 (0.021) Elapsed 1m 8s (remain 0m 10s) Loss: 0.0441(0.0202) 1006822.0673(458982.0305)Grad: 6.8767  \n",
      "Epoch: [133][92/93] Data 0.015 (0.020) Elapsed 1m 18s (remain 0m 0s) Loss: 0.0444(0.0203) 1015033.5641(462192.9197)Grad: 8.5153  \n",
      "EVAL: [0/46] Data 0.372 (0.372) Elapsed 0m 0s (remain 0m 25s) Loss: 0.0485(0.0485) 1108722.2221(554361.1110)\n",
      "EVAL: [20/46] Data 0.123 (0.140) Elapsed 0m 7s (remain 0m 8s) Loss: 0.0480(0.0257) 1096170.6022(574329.5889)\n",
      "EVAL: [40/46] Data 0.117 (0.150) Elapsed 0m 14s (remain 0m 1s) Loss: 0.0399(0.0244) 912780.0812(550450.8094)\n"
     ]
    },
    {
     "name": "stderr",
     "output_type": "stream",
     "text": [
      "Epoch 133 - avg_train_loss: 0.0203  avg_val_loss: 0.0243  time: 94s\n",
      "Epoch 133 - MAE: 0.048209649671560724\n"
     ]
    },
    {
     "name": "stdout",
     "output_type": "stream",
     "text": [
      "EVAL: [45/46] Data 0.052 (0.146) Elapsed 0m 15s (remain 0m 0s) Loss: 0.0420(0.0243) 959902.3656(550768.8974)\n",
      "Epoch: [134][0/93] Data 0.394 (0.394) Elapsed 0m 1s (remain 1m 53s) Loss: 0.0408(0.0408) 932408.6492(466204.3246)Grad: 2.5051  \n",
      "Epoch: [134][20/93] Data 0.015 (0.034) Elapsed 0m 18s (remain 1m 1s) Loss: 0.0483(0.0189) 1103298.9621(421259.1402)Grad: 8.6593  \n",
      "Epoch: [134][40/93] Data 0.017 (0.025) Elapsed 0m 34s (remain 0m 43s) Loss: 0.0354(0.0215) 808432.5903(485147.9011)Grad: 5.8445  \n",
      "Epoch: [134][60/93] Data 0.016 (0.023) Elapsed 0m 51s (remain 0m 27s) Loss: 0.0603(0.0219) 1377307.6503(496492.1312)Grad: 14.2312  \n",
      "Epoch: [134][80/93] Data 0.014 (0.021) Elapsed 1m 8s (remain 0m 10s) Loss: 0.0463(0.0228) 1057270.9651(516821.6691)Grad: 7.6645  \n",
      "Epoch: [134][92/93] Data 0.016 (0.021) Elapsed 1m 18s (remain 0m 0s) Loss: 0.0509(0.0232) 1164151.5918(528633.2536)Grad: 2.2706  \n",
      "EVAL: [0/46] Data 0.425 (0.425) Elapsed 0m 0s (remain 0m 28s) Loss: 0.0665(0.0665) 1519191.8558(759595.9279)\n",
      "EVAL: [20/46] Data 0.138 (0.168) Elapsed 0m 7s (remain 0m 9s) Loss: 0.0646(0.0373) 1476430.2080(831769.1567)\n",
      "EVAL: [40/46] Data 0.153 (0.162) Elapsed 0m 14s (remain 0m 1s) Loss: 0.0550(0.0357) 1256810.5675(805568.9704)\n"
     ]
    },
    {
     "name": "stderr",
     "output_type": "stream",
     "text": [
      "Epoch 134 - avg_train_loss: 0.0232  avg_val_loss: 0.0353  time: 95s\n",
      "Epoch 134 - MAE: 0.07012864827969909\n"
     ]
    },
    {
     "name": "stdout",
     "output_type": "stream",
     "text": [
      "EVAL: [45/46] Data 0.067 (0.159) Elapsed 0m 16s (remain 0m 0s) Loss: 0.0564(0.0353) 1288561.0756(801181.4684)\n",
      "Epoch: [135][0/93] Data 0.395 (0.395) Elapsed 0m 1s (remain 1m 52s) Loss: 0.0525(0.0525) 1199876.6377(599938.3188)Grad: 2.7985  \n",
      "Epoch: [135][20/93] Data 0.015 (0.034) Elapsed 0m 17s (remain 1m 1s) Loss: 0.0305(0.0196) 696203.5658(437180.9684)Grad: 2.5076  \n",
      "Epoch: [135][40/93] Data 0.017 (0.025) Elapsed 0m 34s (remain 0m 43s) Loss: 0.0466(0.0196) 1065574.1349(442556.3056)Grad: 1.7700  \n",
      "Epoch: [135][60/93] Data 0.021 (0.023) Elapsed 0m 51s (remain 0m 27s) Loss: 0.0767(0.0211) 1753087.6233(477628.8545)Grad: 12.0152  \n",
      "Epoch: [135][80/93] Data 0.016 (0.021) Elapsed 1m 8s (remain 0m 10s) Loss: 0.0392(0.0213) 894976.6307(482745.6867)Grad: 3.3387  \n",
      "Epoch: [135][92/93] Data 0.015 (0.020) Elapsed 1m 18s (remain 0m 0s) Loss: 0.0805(0.0214) 1839055.0688(487973.0500)Grad: 11.8242  \n",
      "EVAL: [0/46] Data 0.381 (0.381) Elapsed 0m 0s (remain 0m 26s) Loss: 0.0445(0.0445) 1017091.1411(508545.5706)\n",
      "EVAL: [20/46] Data 0.136 (0.152) Elapsed 0m 7s (remain 0m 8s) Loss: 0.0459(0.0258) 1047752.2987(575192.2153)\n",
      "EVAL: [40/46] Data 0.128 (0.147) Elapsed 0m 14s (remain 0m 1s) Loss: 0.0407(0.0246) 929640.5003(556331.9561)\n"
     ]
    },
    {
     "name": "stderr",
     "output_type": "stream",
     "text": [
      "Epoch 135 - avg_train_loss: 0.0214  avg_val_loss: 0.0244  time: 94s\n",
      "Epoch 135 - MAE: 0.04839086204093166\n"
     ]
    },
    {
     "name": "stdout",
     "output_type": "stream",
     "text": [
      "EVAL: [45/46] Data 0.042 (0.143) Elapsed 0m 15s (remain 0m 0s) Loss: 0.0262(0.0244) 599594.7793(552839.1513)\n",
      "Epoch: [136][0/93] Data 0.500 (0.500) Elapsed 0m 1s (remain 2m 8s) Loss: 0.0495(0.0495) 1131454.5624(565727.2812)Grad: 8.9129  \n",
      "Epoch: [136][20/93] Data 0.017 (0.040) Elapsed 0m 18s (remain 1m 2s) Loss: 0.0470(0.0223) 1074106.9552(496317.8622)Grad: 10.1118  \n",
      "Epoch: [136][40/93] Data 0.015 (0.028) Elapsed 0m 34s (remain 0m 44s) Loss: 0.0344(0.0201) 785463.4494(453854.8168)Grad: 9.6035  \n",
      "Epoch: [136][60/93] Data 0.015 (0.024) Elapsed 0m 51s (remain 0m 27s) Loss: 0.0261(0.0195) 597427.7821(442002.1097)Grad: 3.0815  \n",
      "Epoch: [136][80/93] Data 0.015 (0.022) Elapsed 1m 8s (remain 0m 10s) Loss: 0.0237(0.0197) 541325.4631(446860.6064)Grad: 3.2389  \n",
      "Epoch: [136][92/93] Data 0.022 (0.022) Elapsed 1m 18s (remain 0m 0s) Loss: 0.0533(0.0200) 1218414.8337(455113.3610)Grad: 12.5074  \n",
      "EVAL: [0/46] Data 0.382 (0.382) Elapsed 0m 0s (remain 0m 26s) Loss: 0.0484(0.0484) 1106562.4174(553281.2087)\n",
      "EVAL: [20/46] Data 0.135 (0.148) Elapsed 0m 7s (remain 0m 8s) Loss: 0.0520(0.0272) 1188319.3758(606230.9701)\n",
      "EVAL: [40/46] Data 0.121 (0.142) Elapsed 0m 14s (remain 0m 1s) Loss: 0.0457(0.0256) 1044779.2689(578365.5344)\n"
     ]
    },
    {
     "name": "stderr",
     "output_type": "stream",
     "text": [
      "Epoch 136 - avg_train_loss: 0.0200  avg_val_loss: 0.0255  time: 94s\n",
      "Epoch 136 - MAE: 0.05063505067197756\n"
     ]
    },
    {
     "name": "stdout",
     "output_type": "stream",
     "text": [
      "EVAL: [45/46] Data 0.044 (0.139) Elapsed 0m 15s (remain 0m 0s) Loss: 0.0320(0.0255) 730044.8898(578477.7871)\n",
      "Epoch: [137][0/93] Data 0.386 (0.386) Elapsed 0m 1s (remain 1m 51s) Loss: 0.0371(0.0371) 848561.1728(424280.5864)Grad: 3.3495  \n",
      "Epoch: [137][20/93] Data 0.016 (0.037) Elapsed 0m 18s (remain 1m 2s) Loss: 0.0322(0.0189) 735514.2841(421179.3504)Grad: 2.3753  \n",
      "Epoch: [137][40/93] Data 0.017 (0.027) Elapsed 0m 34s (remain 0m 44s) Loss: 0.0445(0.0192) 1017676.1627(432955.6574)Grad: 4.0442  \n",
      "Epoch: [137][60/93] Data 0.016 (0.024) Elapsed 0m 51s (remain 0m 27s) Loss: 0.0411(0.0193) 938079.5197(436697.1185)Grad: 5.5903  \n",
      "Epoch: [137][80/93] Data 0.015 (0.022) Elapsed 1m 8s (remain 0m 10s) Loss: 0.0325(0.0190) 743625.0854(430761.7633)Grad: 1.5739  \n",
      "Epoch: [137][92/93] Data 0.015 (0.021) Elapsed 1m 18s (remain 0m 0s) Loss: 0.0323(0.0189) 738717.3050(429485.6612)Grad: 2.3947  \n",
      "EVAL: [0/46] Data 0.379 (0.379) Elapsed 0m 0s (remain 0m 26s) Loss: 0.0491(0.0491) 1121071.9401(560535.9701)\n",
      "EVAL: [20/46] Data 0.128 (0.172) Elapsed 0m 7s (remain 0m 9s) Loss: 0.0378(0.0232) 862653.3580(517047.9143)\n",
      "EVAL: [40/46] Data 0.197 (0.158) Elapsed 0m 14s (remain 0m 1s) Loss: 0.0322(0.0220) 735946.5175(497457.4524)\n"
     ]
    },
    {
     "name": "stderr",
     "output_type": "stream",
     "text": [
      "Epoch 137 - avg_train_loss: 0.0189  avg_val_loss: 0.0221  time: 95s\n",
      "Epoch 137 - MAE: 0.04382151144521884\n",
      "Epoch 137 - Save Best Score: 0.0438 Model\n"
     ]
    },
    {
     "name": "stdout",
     "output_type": "stream",
     "text": [
      "EVAL: [45/46] Data 0.046 (0.155) Elapsed 0m 16s (remain 0m 0s) Loss: 0.0455(0.0221) 1040528.3504(500636.8177)\n",
      "Epoch: [138][0/93] Data 0.387 (0.387) Elapsed 0m 1s (remain 1m 54s) Loss: 0.0356(0.0356) 812944.3980(406472.1990)Grad: 6.9627  \n",
      "Epoch: [138][20/93] Data 0.016 (0.033) Elapsed 0m 17s (remain 1m 1s) Loss: 0.0322(0.0171) 736025.4226(382292.5744)Grad: 5.1958  \n",
      "Epoch: [138][40/93] Data 0.015 (0.025) Elapsed 0m 34s (remain 0m 43s) Loss: 0.0314(0.0172) 716965.6185(387965.5005)Grad: 1.9972  \n",
      "Epoch: [138][60/93] Data 0.015 (0.022) Elapsed 0m 51s (remain 0m 26s) Loss: 0.0360(0.0177) 821693.9308(400454.7505)Grad: 6.3713  \n",
      "Epoch: [138][80/93] Data 0.016 (0.021) Elapsed 1m 8s (remain 0m 10s) Loss: 0.0382(0.0179) 873148.1669(405551.0474)Grad: 5.6054  \n",
      "Epoch: [138][92/93] Data 0.015 (0.020) Elapsed 1m 18s (remain 0m 0s) Loss: 0.0318(0.0181) 726830.0375(412021.1636)Grad: 3.2384  \n",
      "EVAL: [0/46] Data 0.392 (0.392) Elapsed 0m 0s (remain 0m 26s) Loss: 0.0394(0.0394) 899794.6958(449897.3479)\n",
      "EVAL: [20/46] Data 0.530 (0.189) Elapsed 0m 8s (remain 0m 9s) Loss: 0.0394(0.0223) 901123.5707(496920.6970)\n",
      "EVAL: [40/46] Data 0.134 (0.172) Elapsed 0m 15s (remain 0m 1s) Loss: 0.0372(0.0221) 850509.9680(499105.0064)\n"
     ]
    },
    {
     "name": "stderr",
     "output_type": "stream",
     "text": [
      "Epoch 138 - avg_train_loss: 0.0181  avg_val_loss: 0.0223  time: 95s\n",
      "Epoch 138 - MAE: 0.044309839419243185\n"
     ]
    },
    {
     "name": "stdout",
     "output_type": "stream",
     "text": [
      "EVAL: [45/46] Data 0.063 (0.167) Elapsed 0m 16s (remain 0m 0s) Loss: 0.0512(0.0223) 1170239.6296(506215.6838)\n",
      "Epoch: [139][0/93] Data 0.374 (0.374) Elapsed 0m 1s (remain 2m 0s) Loss: 0.0346(0.0346) 791053.2017(395526.6009)Grad: 2.3903  \n",
      "Epoch: [139][20/93] Data 0.015 (0.034) Elapsed 0m 17s (remain 1m 1s) Loss: 0.0308(0.0181) 702794.0599(403665.1732)Grad: 1.7743  \n",
      "Epoch: [139][40/93] Data 0.021 (0.026) Elapsed 0m 34s (remain 0m 44s) Loss: 0.0289(0.0169) 660011.1750(381460.7142)Grad: 7.7985  \n",
      "Epoch: [139][60/93] Data 0.015 (0.023) Elapsed 0m 51s (remain 0m 27s) Loss: 0.0484(0.0173) 1106909.7021(391935.9859)Grad: 8.1937  \n",
      "Epoch: [139][80/93] Data 0.015 (0.021) Elapsed 1m 8s (remain 0m 10s) Loss: 0.0407(0.0177) 929881.3866(401566.5424)Grad: 6.4614  \n",
      "Epoch: [139][92/93] Data 0.017 (0.021) Elapsed 1m 18s (remain 0m 0s) Loss: 0.0463(0.0179) 1057074.0002(408354.6490)Grad: 7.7035  \n",
      "EVAL: [0/46] Data 0.382 (0.382) Elapsed 0m 0s (remain 0m 26s) Loss: 0.0437(0.0437) 997416.6089(498708.3045)\n",
      "EVAL: [20/46] Data 0.121 (0.138) Elapsed 0m 7s (remain 0m 8s) Loss: 0.0410(0.0259) 936098.8050(577668.9235)\n",
      "EVAL: [40/46] Data 0.125 (0.153) Elapsed 0m 14s (remain 0m 1s) Loss: 0.0397(0.0245) 906847.5554(553714.5018)\n"
     ]
    },
    {
     "name": "stderr",
     "output_type": "stream",
     "text": [
      "Epoch 139 - avg_train_loss: 0.0179  avg_val_loss: 0.0246  time: 95s\n",
      "Epoch 139 - MAE: 0.048858683619871564\n"
     ]
    },
    {
     "name": "stdout",
     "output_type": "stream",
     "text": [
      "EVAL: [45/46] Data 0.048 (0.148) Elapsed 0m 16s (remain 0m 0s) Loss: 0.0431(0.0246) 984220.4694(558183.7477)\n",
      "Epoch: [140][0/93] Data 0.414 (0.414) Elapsed 0m 1s (remain 1m 53s) Loss: 0.0300(0.0300) 685653.6424(342826.8212)Grad: 5.4006  \n",
      "Epoch: [140][20/93] Data 0.016 (0.035) Elapsed 0m 17s (remain 1m 1s) Loss: 0.0282(0.0190) 645190.2025(423328.4403)Grad: 2.2819  \n",
      "Epoch: [140][40/93] Data 0.016 (0.026) Elapsed 0m 34s (remain 0m 43s) Loss: 0.0277(0.0192) 633700.7803(433384.0941)Grad: 1.8208  \n",
      "Epoch: [140][60/93] Data 0.014 (0.023) Elapsed 0m 51s (remain 0m 26s) Loss: 0.0315(0.0200) 719725.4257(453563.8400)Grad: 5.7772  \n",
      "Epoch: [140][80/93] Data 0.016 (0.021) Elapsed 1m 8s (remain 0m 10s) Loss: 0.0483(0.0198) 1103538.1460(449441.5556)Grad: 3.1304  \n",
      "Epoch: [140][92/93] Data 0.015 (0.020) Elapsed 1m 18s (remain 0m 0s) Loss: 0.0473(0.0199) 1080174.5645(452395.7890)Grad: 9.7501  \n",
      "EVAL: [0/46] Data 0.384 (0.384) Elapsed 0m 0s (remain 0m 26s) Loss: 0.0465(0.0465) 1063001.4188(531500.7094)\n",
      "EVAL: [20/46] Data 0.119 (0.146) Elapsed 0m 7s (remain 0m 8s) Loss: 0.0555(0.0286) 1268583.5204(636943.8334)\n",
      "EVAL: [40/46] Data 0.122 (0.144) Elapsed 0m 14s (remain 0m 1s) Loss: 0.0500(0.0270) 1143294.5890(608471.1682)\n"
     ]
    },
    {
     "name": "stderr",
     "output_type": "stream",
     "text": [
      "Epoch 140 - avg_train_loss: 0.0199  avg_val_loss: 0.0268  time: 94s\n",
      "Epoch 140 - MAE: 0.05309656226118837\n"
     ]
    },
    {
     "name": "stdout",
     "output_type": "stream",
     "text": [
      "EVAL: [45/46] Data 0.048 (0.144) Elapsed 0m 15s (remain 0m 0s) Loss: 0.0419(0.0268) 957339.6084(606599.2034)\n",
      "Epoch: [141][0/93] Data 0.386 (0.386) Elapsed 0m 1s (remain 1m 50s) Loss: 0.0338(0.0338) 771618.0236(385809.0118)Grad: 4.7560  \n",
      "Epoch: [141][20/93] Data 0.015 (0.033) Elapsed 0m 17s (remain 1m 0s) Loss: 0.0394(0.0227) 901349.5611(506196.8629)Grad: 2.1294  \n",
      "Epoch: [141][40/93] Data 0.014 (0.025) Elapsed 0m 34s (remain 0m 43s) Loss: 0.0271(0.0207) 619779.6839(466980.6663)Grad: 2.5207  \n",
      "Epoch: [141][60/93] Data 0.015 (0.022) Elapsed 0m 51s (remain 0m 26s) Loss: 0.0386(0.0198) 881457.7206(448116.5776)Grad: 1.8649  \n",
      "Epoch: [141][80/93] Data 0.016 (0.021) Elapsed 1m 7s (remain 0m 10s) Loss: 0.0440(0.0196) 1005895.8895(445508.6685)Grad: 8.7448  \n",
      "Epoch: [141][92/93] Data 0.015 (0.020) Elapsed 1m 17s (remain 0m 0s) Loss: 0.0378(0.0194) 864466.6441(441556.3599)Grad: 2.7447  \n",
      "EVAL: [0/46] Data 0.381 (0.381) Elapsed 0m 0s (remain 0m 26s) Loss: 0.0562(0.0562) 1285109.7632(642554.8816)\n",
      "EVAL: [20/46] Data 0.115 (0.136) Elapsed 0m 7s (remain 0m 8s) Loss: 0.0640(0.0278) 1462324.1484(619928.5040)\n",
      "EVAL: [40/46] Data 0.125 (0.142) Elapsed 0m 14s (remain 0m 1s) Loss: 0.0506(0.0268) 1156310.1064(603845.0044)\n"
     ]
    },
    {
     "name": "stderr",
     "output_type": "stream",
     "text": [
      "Epoch 141 - avg_train_loss: 0.0194  avg_val_loss: 0.0266  time: 94s\n",
      "Epoch 141 - MAE: 0.05283425180860593\n"
     ]
    },
    {
     "name": "stdout",
     "output_type": "stream",
     "text": [
      "EVAL: [45/46] Data 0.026 (0.145) Elapsed 0m 16s (remain 0m 0s) Loss: 0.0416(0.0266) 949673.7232(603602.4336)\n",
      "Epoch: [142][0/93] Data 0.370 (0.370) Elapsed 0m 1s (remain 1m 49s) Loss: 0.0373(0.0373) 851662.0511(425831.0255)Grad: 3.9837  \n",
      "Epoch: [142][20/93] Data 0.015 (0.032) Elapsed 0m 17s (remain 1m 0s) Loss: 0.0424(0.0208) 968467.8716(463953.9788)Grad: 8.8755  \n",
      "Epoch: [142][40/93] Data 0.015 (0.024) Elapsed 0m 34s (remain 0m 43s) Loss: 0.0325(0.0196) 742253.6511(442588.3197)Grad: 6.1706  \n",
      "Epoch: [142][60/93] Data 0.014 (0.022) Elapsed 0m 51s (remain 0m 26s) Loss: 0.0423(0.0191) 966823.8868(431735.4443)Grad: 8.1896  \n",
      "Epoch: [142][80/93] Data 0.016 (0.020) Elapsed 1m 7s (remain 0m 10s) Loss: 0.0351(0.0196) 801752.2958(444128.0080)Grad: 6.6951  \n",
      "Epoch: [142][92/93] Data 0.015 (0.020) Elapsed 1m 17s (remain 0m 0s) Loss: 0.0390(0.0195) 890891.7789(443885.9432)Grad: 11.5511  \n",
      "EVAL: [0/46] Data 0.381 (0.381) Elapsed 0m 0s (remain 0m 26s) Loss: 0.0427(0.0427) 974857.2300(487428.6150)\n",
      "EVAL: [20/46] Data 0.124 (0.148) Elapsed 0m 7s (remain 0m 8s) Loss: 0.0472(0.0247) 1077985.6492(550627.8689)\n",
      "EVAL: [40/46] Data 0.119 (0.135) Elapsed 0m 13s (remain 0m 1s) Loss: 0.0353(0.0237) 806604.3234(534467.1150)\n"
     ]
    },
    {
     "name": "stderr",
     "output_type": "stream",
     "text": [
      "Epoch 142 - avg_train_loss: 0.0195  avg_val_loss: 0.0237  time: 94s\n",
      "Epoch 142 - MAE: 0.04697340123396223\n"
     ]
    },
    {
     "name": "stdout",
     "output_type": "stream",
     "text": [
      "EVAL: [45/46] Data 0.054 (0.138) Elapsed 0m 15s (remain 0m 0s) Loss: 0.0426(0.0237) 972839.9142(536645.4357)\n",
      "Epoch: [143][0/93] Data 0.400 (0.400) Elapsed 0m 1s (remain 1m 53s) Loss: 0.0453(0.0453) 1035558.7737(517779.3869)Grad: 8.9075  \n",
      "Epoch: [143][20/93] Data 0.016 (0.034) Elapsed 0m 17s (remain 1m 1s) Loss: 0.0463(0.0198) 1058368.9978(441145.4105)Grad: 6.0084  \n",
      "Epoch: [143][40/93] Data 0.021 (0.025) Elapsed 0m 34s (remain 0m 44s) Loss: 0.0376(0.0197) 860068.1295(444453.5671)Grad: 2.5733  \n",
      "Epoch: [143][60/93] Data 0.016 (0.022) Elapsed 0m 51s (remain 0m 26s) Loss: 0.0366(0.0203) 837356.6432(460449.6616)Grad: 8.4331  \n",
      "Epoch: [143][80/93] Data 0.016 (0.021) Elapsed 1m 8s (remain 0m 10s) Loss: 0.0408(0.0207) 932917.6597(469653.3806)Grad: 8.2478  \n",
      "Epoch: [143][92/93] Data 0.015 (0.020) Elapsed 1m 18s (remain 0m 0s) Loss: 0.0490(0.0205) 1118816.5470(466585.1215)Grad: 3.3772  \n",
      "EVAL: [0/46] Data 0.394 (0.394) Elapsed 0m 0s (remain 0m 26s) Loss: 0.0416(0.0416) 951575.0221(475787.5110)\n",
      "EVAL: [20/46] Data 0.138 (0.157) Elapsed 0m 7s (remain 0m 8s) Loss: 0.0472(0.0248) 1079271.7093(553198.6252)\n",
      "EVAL: [40/46] Data 0.136 (0.162) Elapsed 0m 14s (remain 0m 1s) Loss: 0.0407(0.0229) 931090.3291(517690.4278)\n"
     ]
    },
    {
     "name": "stderr",
     "output_type": "stream",
     "text": [
      "Epoch 143 - avg_train_loss: 0.0205  avg_val_loss: 0.0229  time: 95s\n",
      "Epoch 143 - MAE: 0.045495316816890355\n"
     ]
    },
    {
     "name": "stdout",
     "output_type": "stream",
     "text": [
      "EVAL: [45/46] Data 0.054 (0.158) Elapsed 0m 16s (remain 0m 0s) Loss: 0.0298(0.0229) 681308.3271(519759.1362)\n",
      "Epoch: [144][0/93] Data 0.385 (0.385) Elapsed 0m 1s (remain 1m 52s) Loss: 0.0380(0.0380) 868221.3199(434110.6600)Grad: 1.9917  \n",
      "Epoch: [144][20/93] Data 0.016 (0.035) Elapsed 0m 18s (remain 1m 2s) Loss: 0.0460(0.0206) 1051148.9649(459973.7999)Grad: 4.1223  \n",
      "Epoch: [144][40/93] Data 0.015 (0.025) Elapsed 0m 34s (remain 0m 43s) Loss: 0.0281(0.0211) 641826.7327(476575.8026)Grad: 3.7083  \n",
      "Epoch: [144][60/93] Data 0.015 (0.022) Elapsed 0m 51s (remain 0m 27s) Loss: 0.0379(0.0215) 866512.5598(487323.2930)Grad: 3.1059  \n",
      "Epoch: [144][80/93] Data 0.015 (0.021) Elapsed 1m 8s (remain 0m 10s) Loss: 0.0439(0.0227) 1004161.5086(514827.6693)Grad: 2.8829  \n",
      "Epoch: [144][92/93] Data 0.015 (0.020) Elapsed 1m 18s (remain 0m 0s) Loss: 0.0511(0.0224) 1168130.6408(509203.6529)Grad: 12.5671  \n",
      "EVAL: [0/46] Data 0.412 (0.412) Elapsed 0m 0s (remain 0m 27s) Loss: 0.0589(0.0589) 1345593.5730(672796.7865)\n",
      "EVAL: [20/46] Data 0.144 (0.165) Elapsed 0m 7s (remain 0m 9s) Loss: 0.0487(0.0290) 1113145.0806(646395.7930)\n",
      "EVAL: [40/46] Data 0.132 (0.159) Elapsed 0m 14s (remain 0m 1s) Loss: 0.0432(0.0271) 985959.0211(612376.6082)\n"
     ]
    },
    {
     "name": "stderr",
     "output_type": "stream",
     "text": [
      "Epoch 144 - avg_train_loss: 0.0224  avg_val_loss: 0.0267  time: 95s\n",
      "Epoch 144 - MAE: 0.05297433754748353\n"
     ]
    },
    {
     "name": "stdout",
     "output_type": "stream",
     "text": [
      "EVAL: [45/46] Data 0.054 (0.155) Elapsed 0m 16s (remain 0m 0s) Loss: 0.0453(0.0267) 1035638.7854(605202.8518)\n",
      "Epoch: [145][0/93] Data 0.391 (0.391) Elapsed 0m 1s (remain 1m 52s) Loss: 0.0371(0.0371) 847254.9395(423627.4698)Grad: 7.1132  \n",
      "Epoch: [145][20/93] Data 0.015 (0.034) Elapsed 0m 17s (remain 1m 1s) Loss: 0.0362(0.0168) 826370.0178(374902.6383)Grad: 10.1293  \n",
      "Epoch: [145][40/93] Data 0.015 (0.025) Elapsed 0m 34s (remain 0m 43s) Loss: 0.0358(0.0174) 817624.9112(391859.5512)Grad: 7.3319  \n",
      "Epoch: [145][60/93] Data 0.015 (0.022) Elapsed 0m 51s (remain 0m 26s) Loss: 0.0337(0.0180) 769541.3800(408629.5360)Grad: 6.3522  \n",
      "Epoch: [145][80/93] Data 0.016 (0.021) Elapsed 1m 8s (remain 0m 10s) Loss: 0.0548(0.0184) 1252407.6267(417437.7943)Grad: 9.8702  \n",
      "Epoch: [145][92/93] Data 0.015 (0.020) Elapsed 1m 18s (remain 0m 0s) Loss: 0.0589(0.0187) 1345107.0339(425738.5883)Grad: 10.7291  \n",
      "EVAL: [0/46] Data 0.398 (0.398) Elapsed 0m 0s (remain 0m 27s) Loss: 0.0525(0.0525) 1199526.6291(599763.3146)\n",
      "EVAL: [20/46] Data 0.147 (0.164) Elapsed 0m 7s (remain 0m 9s) Loss: 0.0405(0.0265) 924606.4887(590679.0358)\n",
      "EVAL: [40/46] Data 0.144 (0.161) Elapsed 0m 14s (remain 0m 1s) Loss: 0.0383(0.0249) 875325.9317(562875.4481)\n"
     ]
    },
    {
     "name": "stderr",
     "output_type": "stream",
     "text": [
      "Epoch 145 - avg_train_loss: 0.0187  avg_val_loss: 0.0248  time: 95s\n",
      "Epoch 145 - MAE: 0.049189570747194135\n"
     ]
    },
    {
     "name": "stdout",
     "output_type": "stream",
     "text": [
      "EVAL: [45/46] Data 0.057 (0.157) Elapsed 0m 16s (remain 0m 0s) Loss: 0.0472(0.0248) 1079374.9584(561963.9641)\n",
      "Epoch: [146][0/93] Data 0.549 (0.549) Elapsed 0m 1s (remain 2m 7s) Loss: 0.0332(0.0332) 758600.8039(379300.4019)Grad: 9.8701  \n",
      "Epoch: [146][20/93] Data 0.015 (0.041) Elapsed 0m 18s (remain 1m 1s) Loss: 0.0374(0.0240) 853453.8021(534948.7387)Grad: 6.2347  \n",
      "Epoch: [146][40/93] Data 0.015 (0.029) Elapsed 0m 34s (remain 0m 43s) Loss: 0.0440(0.0228) 1004452.3596(514003.6378)Grad: 5.9900  \n",
      "Epoch: [146][60/93] Data 0.015 (0.025) Elapsed 0m 51s (remain 0m 26s) Loss: 0.0392(0.0219) 895603.6158(495381.7357)Grad: 2.6658  \n",
      "Epoch: [146][80/93] Data 0.015 (0.023) Elapsed 1m 8s (remain 0m 10s) Loss: 0.0399(0.0222) 912682.1945(503882.9565)Grad: 7.0415  \n",
      "Epoch: [146][92/93] Data 0.022 (0.022) Elapsed 1m 18s (remain 0m 0s) Loss: 0.0411(0.0220) 939314.5086(501664.1878)Grad: 4.6947  \n",
      "EVAL: [0/46] Data 0.390 (0.390) Elapsed 0m 0s (remain 0m 26s) Loss: 0.0542(0.0542) 1239350.4011(619675.2006)\n",
      "EVAL: [20/46] Data 0.142 (0.158) Elapsed 0m 7s (remain 0m 8s) Loss: 0.0559(0.0309) 1278023.1115(689468.4608)\n",
      "EVAL: [40/46] Data 0.144 (0.158) Elapsed 0m 14s (remain 0m 1s) Loss: 0.0511(0.0292) 1167948.0610(659656.5254)\n"
     ]
    },
    {
     "name": "stderr",
     "output_type": "stream",
     "text": [
      "Epoch 146 - avg_train_loss: 0.0220  avg_val_loss: 0.0289  time: 95s\n",
      "Epoch 146 - MAE: 0.0573503428217233\n"
     ]
    },
    {
     "name": "stdout",
     "output_type": "stream",
     "text": [
      "EVAL: [45/46] Data 0.062 (0.155) Elapsed 0m 16s (remain 0m 0s) Loss: 0.0470(0.0289) 1074395.1675(655196.3222)\n",
      "Epoch: [147][0/93] Data 0.401 (0.401) Elapsed 0m 1s (remain 1m 53s) Loss: 0.0358(0.0358) 818661.3178(409330.6589)Grad: 11.1326  \n",
      "Epoch: [147][20/93] Data 0.016 (0.034) Elapsed 0m 17s (remain 1m 1s) Loss: 0.0402(0.0204) 919622.4419(455103.2772)Grad: 7.0254  \n",
      "Epoch: [147][40/93] Data 0.015 (0.025) Elapsed 0m 34s (remain 0m 43s) Loss: 0.0306(0.0206) 699659.7300(463960.7936)Grad: 2.2410  \n",
      "Epoch: [147][60/93] Data 0.016 (0.022) Elapsed 0m 51s (remain 0m 26s) Loss: 0.0513(0.0205) 1171462.0208(465208.6696)Grad: 6.1815  \n",
      "Epoch: [147][80/93] Data 0.016 (0.021) Elapsed 1m 7s (remain 0m 10s) Loss: 0.0366(0.0199) 835769.8584(452628.1672)Grad: 1.9590  \n",
      "Epoch: [147][92/93] Data 0.016 (0.020) Elapsed 1m 17s (remain 0m 0s) Loss: 0.0409(0.0197) 935541.7024(448690.6802)Grad: 3.9948  \n",
      "EVAL: [0/46] Data 0.402 (0.402) Elapsed 0m 0s (remain 0m 28s) Loss: 0.0625(0.0625) 1427832.3039(713916.1519)\n",
      "EVAL: [20/46] Data 0.141 (0.166) Elapsed 0m 7s (remain 0m 9s) Loss: 0.0596(0.0287) 1360755.8719(640516.7015)\n",
      "EVAL: [40/46] Data 0.279 (0.164) Elapsed 0m 15s (remain 0m 1s) Loss: 0.0506(0.0280) 1155094.6098(631048.5591)\n"
     ]
    },
    {
     "name": "stderr",
     "output_type": "stream",
     "text": [
      "Epoch 147 - avg_train_loss: 0.0197  avg_val_loss: 0.0276  time: 95s\n",
      "Epoch 147 - MAE: 0.05485229661239189\n"
     ]
    },
    {
     "name": "stdout",
     "output_type": "stream",
     "text": [
      "EVAL: [45/46] Data 0.065 (0.162) Elapsed 0m 16s (remain 0m 0s) Loss: 0.0357(0.0276) 816664.2603(626657.5018)\n",
      "Epoch: [148][0/93] Data 0.397 (0.397) Elapsed 0m 1s (remain 1m 53s) Loss: 0.0440(0.0440) 1004429.5478(502214.7739)Grad: 8.3825  \n",
      "Epoch: [148][20/93] Data 0.015 (0.034) Elapsed 0m 17s (remain 1m 1s) Loss: 0.0264(0.0200) 603904.2170(447108.4432)Grad: 5.1227  \n",
      "Epoch: [148][40/93] Data 0.015 (0.025) Elapsed 0m 34s (remain 0m 43s) Loss: 0.0399(0.0203) 911080.0883(458379.7644)Grad: 2.2036  \n",
      "Epoch: [148][60/93] Data 0.015 (0.022) Elapsed 0m 51s (remain 0m 26s) Loss: 0.0347(0.0197) 793378.9881(446086.9265)Grad: 4.7415  \n",
      "Epoch: [148][80/93] Data 0.015 (0.021) Elapsed 1m 8s (remain 0m 10s) Loss: 0.0323(0.0192) 737327.6553(434997.6174)Grad: 3.1275  \n",
      "Epoch: [148][92/93] Data 0.022 (0.020) Elapsed 1m 18s (remain 0m 0s) Loss: 0.0438(0.0190) 1001903.5619(431840.8199)Grad: 2.9678  \n",
      "EVAL: [0/46] Data 0.408 (0.408) Elapsed 0m 0s (remain 0m 27s) Loss: 0.0481(0.0481) 1098902.7458(549451.3729)\n",
      "EVAL: [20/46] Data 0.340 (0.184) Elapsed 0m 8s (remain 0m 9s) Loss: 0.0476(0.0246) 1088736.2401(549690.8547)\n",
      "EVAL: [40/46] Data 0.193 (0.202) Elapsed 0m 16s (remain 0m 2s) Loss: 0.0305(0.0232) 697720.0851(524472.1025)\n"
     ]
    },
    {
     "name": "stderr",
     "output_type": "stream",
     "text": [
      "Epoch 148 - avg_train_loss: 0.0190  avg_val_loss: 0.0235  time: 97s\n",
      "Epoch 148 - MAE: 0.04667897774699498\n"
     ]
    },
    {
     "name": "stdout",
     "output_type": "stream",
     "text": [
      "EVAL: [45/46] Data 0.108 (0.201) Elapsed 0m 18s (remain 0m 0s) Loss: 0.0509(0.0235) 1163451.4044(533281.8019)\n",
      "Epoch   148: reducing learning rate of group 0 to 5.0000e-05.\n",
      "Epoch: [149][0/93] Data 0.619 (0.619) Elapsed 0m 1s (remain 2m 16s) Loss: 0.0278(0.0278) 634626.6176(317313.3088)Grad: 1.9681  \n",
      "Epoch: [149][20/93] Data 0.015 (0.044) Elapsed 0m 18s (remain 1m 2s) Loss: 0.0418(0.0154) 954556.8192(342423.7289)Grad: 8.9442  \n",
      "Epoch: [149][40/93] Data 0.014 (0.031) Elapsed 0m 34s (remain 0m 44s) Loss: 0.0329(0.0151) 752660.7025(341323.4559)Grad: 6.7772  \n",
      "Epoch: [149][60/93] Data 0.015 (0.026) Elapsed 0m 51s (remain 0m 27s) Loss: 0.0256(0.0155) 585501.8280(350737.9847)Grad: 10.6255  \n",
      "Epoch: [149][80/93] Data 0.015 (0.023) Elapsed 1m 8s (remain 0m 10s) Loss: 0.0342(0.0151) 781000.4999(343585.8385)Grad: 5.6918  \n",
      "Epoch: [149][92/93] Data 0.022 (0.022) Elapsed 1m 18s (remain 0m 0s) Loss: 0.0264(0.0150) 603210.7115(341667.8062)Grad: 3.9377  \n",
      "EVAL: [0/46] Data 0.427 (0.427) Elapsed 0m 0s (remain 0m 28s) Loss: 0.0401(0.0401) 916686.5239(458343.2619)\n",
      "EVAL: [20/46] Data 0.132 (0.175) Elapsed 0m 7s (remain 0m 9s) Loss: 0.0293(0.0211) 668353.5846(470412.3433)\n",
      "EVAL: [40/46] Data 0.156 (0.170) Elapsed 0m 15s (remain 0m 1s) Loss: 0.0246(0.0200) 562019.2505(450533.0531)\n"
     ]
    },
    {
     "name": "stderr",
     "output_type": "stream",
     "text": [
      "Epoch 149 - avg_train_loss: 0.0150  avg_val_loss: 0.0199  time: 95s\n",
      "Epoch 149 - MAE: 0.03946087124876666\n",
      "Epoch 149 - Save Best Score: 0.0395 Model\n"
     ]
    },
    {
     "name": "stdout",
     "output_type": "stream",
     "text": [
      "EVAL: [45/46] Data 0.056 (0.166) Elapsed 0m 16s (remain 0m 0s) Loss: 0.0398(0.0199) 908382.7583(450818.8762)\n",
      "Epoch: [150][0/93] Data 0.415 (0.415) Elapsed 0m 1s (remain 1m 57s) Loss: 0.0234(0.0234) 535343.6109(267671.8055)Grad: 1.8474  \n",
      "Epoch: [150][20/93] Data 0.017 (0.035) Elapsed 0m 18s (remain 1m 1s) Loss: 0.0324(0.0128) 741363.2232(285008.5222)Grad: 9.6361  \n",
      "Epoch: [150][40/93] Data 0.015 (0.025) Elapsed 0m 34s (remain 0m 43s) Loss: 0.0316(0.0133) 722226.6419(300442.1968)Grad: 4.4547  \n",
      "Epoch: [150][60/93] Data 0.015 (0.022) Elapsed 0m 51s (remain 0m 26s) Loss: 0.0185(0.0132) 422733.0413(299506.3489)Grad: 2.5354  \n",
      "Epoch: [150][80/93] Data 0.014 (0.021) Elapsed 1m 7s (remain 0m 10s) Loss: 0.0225(0.0136) 513954.7433(309598.9329)Grad: 2.7068  \n",
      "Epoch: [150][92/93] Data 0.015 (0.020) Elapsed 1m 17s (remain 0m 0s) Loss: 0.0352(0.0138) 805080.7818(313824.8096)Grad: 7.4953  \n",
      "EVAL: [0/46] Data 0.403 (0.403) Elapsed 0m 0s (remain 0m 27s) Loss: 0.0397(0.0397) 907205.1395(453602.5698)\n",
      "EVAL: [20/46] Data 0.134 (0.178) Elapsed 0m 8s (remain 0m 9s) Loss: 0.0403(0.0209) 920420.5159(466048.7578)\n",
      "EVAL: [40/46] Data 0.133 (0.165) Elapsed 0m 15s (remain 0m 1s) Loss: 0.0271(0.0196) 619821.8177(442575.6100)\n"
     ]
    },
    {
     "name": "stderr",
     "output_type": "stream",
     "text": [
      "Epoch 150 - avg_train_loss: 0.0138  avg_val_loss: 0.0195  time: 95s\n",
      "Epoch 150 - MAE: 0.03867903766958036\n",
      "Epoch 150 - Save Best Score: 0.0387 Model\n"
     ]
    },
    {
     "name": "stdout",
     "output_type": "stream",
     "text": [
      "EVAL: [45/46] Data 0.050 (0.159) Elapsed 0m 16s (remain 0m 0s) Loss: 0.0339(0.0195) 773670.6638(441886.8560)\n",
      "Epoch: [151][0/93] Data 0.371 (0.371) Elapsed 0m 1s (remain 1m 51s) Loss: 0.0215(0.0215) 491471.3329(245735.6665)Grad: 1.8987  \n",
      "Epoch: [151][20/93] Data 0.015 (0.032) Elapsed 0m 17s (remain 1m 1s) Loss: 0.0335(0.0143) 765382.7303(318949.6146)Grad: 9.0880  \n",
      "Epoch: [151][40/93] Data 0.015 (0.024) Elapsed 0m 34s (remain 0m 44s) Loss: 0.0154(0.0142) 352894.5465(321287.2380)Grad: 5.7614  \n",
      "Epoch: [151][60/93] Data 0.015 (0.022) Elapsed 0m 51s (remain 0m 26s) Loss: 0.0228(0.0138) 519870.9688(313495.9996)Grad: 5.2056  \n",
      "Epoch: [151][80/93] Data 0.015 (0.020) Elapsed 1m 8s (remain 0m 10s) Loss: 0.0202(0.0136) 461897.6958(308703.5184)Grad: 3.6896  \n",
      "Epoch: [151][92/93] Data 0.015 (0.020) Elapsed 1m 17s (remain 0m 0s) Loss: 0.0283(0.0137) 645913.1166(311978.9558)Grad: 8.9219  \n",
      "EVAL: [0/46] Data 0.399 (0.399) Elapsed 0m 0s (remain 0m 27s) Loss: 0.0319(0.0319) 728504.1542(364252.0771)\n",
      "EVAL: [20/46] Data 0.146 (0.164) Elapsed 0m 7s (remain 0m 9s) Loss: 0.0398(0.0219) 908842.9957(488564.7120)\n",
      "EVAL: [40/46] Data 0.134 (0.170) Elapsed 0m 15s (remain 0m 1s) Loss: 0.0417(0.0210) 951793.6072(473643.8405)\n"
     ]
    },
    {
     "name": "stderr",
     "output_type": "stream",
     "text": [
      "Epoch 151 - avg_train_loss: 0.0137  avg_val_loss: 0.0208  time: 95s\n",
      "Epoch 151 - MAE: 0.04128396200305767\n"
     ]
    },
    {
     "name": "stdout",
     "output_type": "stream",
     "text": [
      "EVAL: [45/46] Data 0.107 (0.166) Elapsed 0m 16s (remain 0m 0s) Loss: 0.0311(0.0208) 711731.8330(471646.6954)\n",
      "Epoch: [152][0/93] Data 0.477 (0.477) Elapsed 0m 1s (remain 2m 0s) Loss: 0.0307(0.0307) 701295.2454(350647.6227)Grad: 9.9708  \n",
      "Epoch: [152][20/93] Data 0.014 (0.037) Elapsed 0m 17s (remain 1m 1s) Loss: 0.0221(0.0134) 505205.1679(299980.8835)Grad: 2.7080  \n",
      "Epoch: [152][40/93] Data 0.016 (0.027) Elapsed 0m 34s (remain 0m 44s) Loss: 0.0249(0.0134) 568040.5551(303155.7420)Grad: 6.4304  \n",
      "Epoch: [152][60/93] Data 0.018 (0.024) Elapsed 0m 51s (remain 0m 27s) Loss: 0.0222(0.0137) 506530.2125(311455.0192)Grad: 3.9717  \n",
      "Epoch: [152][80/93] Data 0.015 (0.022) Elapsed 1m 8s (remain 0m 10s) Loss: 0.0194(0.0134) 443396.5690(303937.5413)Grad: 3.2264  \n",
      "Epoch: [152][92/93] Data 0.016 (0.021) Elapsed 1m 18s (remain 0m 0s) Loss: 0.0258(0.0132) 589585.5732(299283.1868)Grad: 3.7540  \n",
      "EVAL: [0/46] Data 0.403 (0.403) Elapsed 0m 0s (remain 0m 27s) Loss: 0.0274(0.0274) 626147.6775(313073.8388)\n",
      "EVAL: [20/46] Data 0.132 (0.151) Elapsed 0m 7s (remain 0m 8s) Loss: 0.0321(0.0199) 733907.6666(443497.7864)\n",
      "EVAL: [40/46] Data 0.147 (0.159) Elapsed 0m 14s (remain 0m 1s) Loss: 0.0307(0.0189) 702040.9713(426384.3248)\n"
     ]
    },
    {
     "name": "stderr",
     "output_type": "stream",
     "text": [
      "Epoch 152 - avg_train_loss: 0.0132  avg_val_loss: 0.0190  time: 95s\n",
      "Epoch 152 - MAE: 0.03760845170112802\n",
      "Epoch 152 - Save Best Score: 0.0376 Model\n"
     ]
    },
    {
     "name": "stdout",
     "output_type": "stream",
     "text": [
      "EVAL: [45/46] Data 0.056 (0.156) Elapsed 0m 16s (remain 0m 0s) Loss: 0.0305(0.0190) 696674.4856(429656.0075)\n",
      "Epoch: [153][0/93] Data 0.388 (0.388) Elapsed 0m 1s (remain 1m 55s) Loss: 0.0218(0.0218) 498697.4518(249348.7259)Grad: 3.4882  \n",
      "Epoch: [153][20/93] Data 0.015 (0.033) Elapsed 0m 17s (remain 1m 0s) Loss: 0.0305(0.0130) 696203.2678(290915.1576)Grad: 2.6716  \n",
      "Epoch: [153][40/93] Data 0.014 (0.024) Elapsed 0m 34s (remain 0m 43s) Loss: 0.0192(0.0131) 438459.6779(294802.1549)Grad: 7.1597  \n",
      "Epoch: [153][60/93] Data 0.015 (0.021) Elapsed 0m 50s (remain 0m 26s) Loss: 0.0203(0.0130) 463295.6871(293931.5206)Grad: 7.8540  \n",
      "Epoch: [153][80/93] Data 0.015 (0.020) Elapsed 1m 7s (remain 0m 10s) Loss: 0.0210(0.0128) 480590.9358(290161.4599)Grad: 4.8898  \n",
      "Epoch: [153][92/93] Data 0.014 (0.019) Elapsed 1m 17s (remain 0m 0s) Loss: 0.0428(0.0126) 977093.4714(286934.3964)Grad: 6.0365  \n",
      "EVAL: [0/46] Data 0.386 (0.386) Elapsed 0m 0s (remain 0m 26s) Loss: 0.0290(0.0290) 662378.6696(331189.3348)\n",
      "EVAL: [20/46] Data 0.141 (0.166) Elapsed 0m 7s (remain 0m 9s) Loss: 0.0297(0.0187) 678738.3349(417285.6472)\n",
      "EVAL: [40/46] Data 0.134 (0.165) Elapsed 0m 15s (remain 0m 1s) Loss: 0.0230(0.0176) 526209.2560(398071.7353)\n"
     ]
    },
    {
     "name": "stderr",
     "output_type": "stream",
     "text": [
      "Epoch 153 - avg_train_loss: 0.0126  avg_val_loss: 0.0174  time: 95s\n",
      "Epoch 153 - MAE: 0.03453953524932821\n",
      "Epoch 153 - Save Best Score: 0.0345 Model\n"
     ]
    },
    {
     "name": "stdout",
     "output_type": "stream",
     "text": [
      "EVAL: [45/46] Data 0.044 (0.167) Elapsed 0m 17s (remain 0m 0s) Loss: 0.0287(0.0174) 655074.9649(394595.3077)\n",
      "Epoch: [154][0/93] Data 0.392 (0.392) Elapsed 0m 1s (remain 1m 55s) Loss: 0.0203(0.0203) 464791.0970(232395.5485)Grad: 5.4718  \n",
      "Epoch: [154][20/93] Data 0.015 (0.033) Elapsed 0m 17s (remain 1m 0s) Loss: 0.0229(0.0125) 523429.6586(278240.2513)Grad: 4.6127  \n",
      "Epoch: [154][40/93] Data 0.014 (0.024) Elapsed 0m 34s (remain 0m 43s) Loss: 0.0290(0.0123) 663445.5914(278154.6352)Grad: 4.8270  \n",
      "Epoch: [154][60/93] Data 0.015 (0.021) Elapsed 0m 51s (remain 0m 26s) Loss: 0.0241(0.0126) 551278.4482(286535.8477)Grad: 2.8003  \n",
      "Epoch: [154][80/93] Data 0.015 (0.020) Elapsed 1m 7s (remain 0m 10s) Loss: 0.0324(0.0127) 740919.0733(288821.4413)Grad: 6.2805  \n",
      "Epoch: [154][92/93] Data 0.014 (0.019) Elapsed 1m 17s (remain 0m 0s) Loss: 0.0224(0.0130) 510977.8831(296004.6168)Grad: 12.0369  \n",
      "EVAL: [0/46] Data 0.400 (0.400) Elapsed 0m 0s (remain 0m 27s) Loss: 0.0354(0.0354) 808210.8558(404105.4279)\n",
      "EVAL: [20/46] Data 0.141 (0.165) Elapsed 0m 7s (remain 0m 9s) Loss: 0.0338(0.0196) 771230.5628(437819.6686)\n",
      "EVAL: [40/46] Data 0.126 (0.156) Elapsed 0m 14s (remain 0m 1s) Loss: 0.0263(0.0183) 599897.8874(412756.1502)\n"
     ]
    },
    {
     "name": "stderr",
     "output_type": "stream",
     "text": [
      "Epoch 154 - avg_train_loss: 0.0130  avg_val_loss: 0.0182  time: 94s\n",
      "Epoch 154 - MAE: 0.03611411352385994\n"
     ]
    },
    {
     "name": "stdout",
     "output_type": "stream",
     "text": [
      "EVAL: [45/46] Data 0.059 (0.153) Elapsed 0m 16s (remain 0m 0s) Loss: 0.0281(0.0182) 641468.3825(412584.0000)\n",
      "Epoch: [155][0/93] Data 0.368 (0.368) Elapsed 0m 1s (remain 1m 54s) Loss: 0.0195(0.0195) 446303.3764(223151.6882)Grad: 6.8218  \n",
      "Epoch: [155][20/93] Data 0.015 (0.033) Elapsed 0m 17s (remain 1m 1s) Loss: 0.0174(0.0138) 397307.5418(308602.7158)Grad: 1.3711  \n",
      "Epoch: [155][40/93] Data 0.014 (0.024) Elapsed 0m 34s (remain 0m 43s) Loss: 0.0282(0.0126) 644600.0313(283664.0112)Grad: 10.5512  \n",
      "Epoch: [155][60/93] Data 0.014 (0.021) Elapsed 0m 50s (remain 0m 26s) Loss: 0.0284(0.0124) 648922.6624(281143.8968)Grad: 8.9068  \n",
      "Epoch: [155][80/93] Data 0.020 (0.020) Elapsed 1m 7s (remain 0m 10s) Loss: 0.0194(0.0121) 443779.6036(275153.9889)Grad: 4.0916  \n",
      "Epoch: [155][92/93] Data 0.016 (0.020) Elapsed 1m 17s (remain 0m 0s) Loss: 0.0307(0.0120) 700879.9932(273081.4850)Grad: 10.6047  \n",
      "EVAL: [0/46] Data 0.584 (0.584) Elapsed 0m 0s (remain 0m 35s) Loss: 0.0320(0.0320) 730143.5425(365071.7713)\n",
      "EVAL: [20/46] Data 0.141 (0.182) Elapsed 0m 8s (remain 0m 9s) Loss: 0.0366(0.0220) 835402.1451(490714.2842)\n",
      "EVAL: [40/46] Data 0.148 (0.179) Elapsed 0m 15s (remain 0m 1s) Loss: 0.0327(0.0206) 747362.9929(465655.2263)\n"
     ]
    },
    {
     "name": "stderr",
     "output_type": "stream",
     "text": [
      "Epoch 155 - avg_train_loss: 0.0120  avg_val_loss: 0.0204  time: 95s\n",
      "Epoch 155 - MAE: 0.04047137665416312\n"
     ]
    },
    {
     "name": "stdout",
     "output_type": "stream",
     "text": [
      "EVAL: [45/46] Data 0.051 (0.173) Elapsed 0m 17s (remain 0m 0s) Loss: 0.0311(0.0204) 709501.6776(462363.3401)\n",
      "Epoch: [156][0/93] Data 0.374 (0.374) Elapsed 0m 1s (remain 1m 52s) Loss: 0.0190(0.0190) 433664.5523(216832.2761)Grad: 5.1934  \n",
      "Epoch: [156][20/93] Data 0.016 (0.033) Elapsed 0m 18s (remain 1m 1s) Loss: 0.0309(0.0122) 706679.2655(271329.7529)Grad: 7.2801  \n",
      "Epoch: [156][40/93] Data 0.016 (0.025) Elapsed 0m 34s (remain 0m 43s) Loss: 0.0305(0.0128) 696706.7456(287802.7048)Grad: 2.7558  \n",
      "Epoch: [156][60/93] Data 0.015 (0.022) Elapsed 0m 51s (remain 0m 27s) Loss: 0.0268(0.0126) 612377.7521(284558.0443)Grad: 3.2825  \n",
      "Epoch: [156][80/93] Data 0.016 (0.021) Elapsed 1m 8s (remain 0m 10s) Loss: 0.0245(0.0126) 558930.0335(285928.1739)Grad: 5.8642  \n",
      "Epoch: [156][92/93] Data 0.015 (0.020) Elapsed 1m 18s (remain 0m 0s) Loss: 0.0345(0.0125) 787743.2717(283772.2950)Grad: 11.6629  \n",
      "EVAL: [0/46] Data 0.401 (0.401) Elapsed 0m 0s (remain 0m 27s) Loss: 0.0332(0.0332) 758441.4615(379220.7307)\n",
      "EVAL: [20/46] Data 0.139 (0.168) Elapsed 0m 7s (remain 0m 9s) Loss: 0.0288(0.0202) 657270.6047(451171.3556)\n",
      "EVAL: [40/46] Data 0.169 (0.158) Elapsed 0m 14s (remain 0m 1s) Loss: 0.0250(0.0193) 570991.2413(435641.8399)\n"
     ]
    },
    {
     "name": "stderr",
     "output_type": "stream",
     "text": [
      "Epoch 156 - avg_train_loss: 0.0125  avg_val_loss: 0.0192  time: 95s\n",
      "Epoch 156 - MAE: 0.038063055416301166\n"
     ]
    },
    {
     "name": "stdout",
     "output_type": "stream",
     "text": [
      "EVAL: [45/46] Data 0.053 (0.158) Elapsed 0m 16s (remain 0m 0s) Loss: 0.0336(0.0192) 767598.7985(434849.5978)\n",
      "Epoch: [157][0/93] Data 0.401 (0.401) Elapsed 0m 1s (remain 1m 55s) Loss: 0.0224(0.0224) 512413.9652(256206.9826)Grad: 7.0051  \n",
      "Epoch: [157][20/93] Data 0.016 (0.034) Elapsed 0m 17s (remain 1m 1s) Loss: 0.0247(0.0137) 564329.9708(306655.6392)Grad: 2.3591  \n",
      "Epoch: [157][40/93] Data 0.015 (0.025) Elapsed 0m 34s (remain 0m 43s) Loss: 0.0321(0.0126) 734285.7643(284613.0657)Grad: 7.7843  \n",
      "Epoch: [157][60/93] Data 0.015 (0.023) Elapsed 0m 51s (remain 0m 26s) Loss: 0.0243(0.0125) 555697.9871(282778.0578)Grad: 1.9482  \n",
      "Epoch: [157][80/93] Data 0.015 (0.021) Elapsed 1m 8s (remain 0m 10s) Loss: 0.0208(0.0126) 474801.3245(286508.7215)Grad: 2.2945  \n",
      "Epoch: [157][92/93] Data 0.016 (0.021) Elapsed 1m 18s (remain 0m 0s) Loss: 0.0253(0.0126) 577779.8069(287479.9037)Grad: 4.6665  \n",
      "EVAL: [0/46] Data 0.396 (0.396) Elapsed 0m 0s (remain 0m 26s) Loss: 0.0272(0.0272) 621884.0763(310942.0381)\n",
      "EVAL: [20/46] Data 0.161 (0.158) Elapsed 0m 7s (remain 0m 8s) Loss: 0.0375(0.0197) 855738.0505(438780.7937)\n",
      "EVAL: [40/46] Data 0.133 (0.166) Elapsed 0m 15s (remain 0m 1s) Loss: 0.0266(0.0185) 606668.7483(417011.5920)\n"
     ]
    },
    {
     "name": "stderr",
     "output_type": "stream",
     "text": [
      "Epoch 157 - avg_train_loss: 0.0126  avg_val_loss: 0.0182  time: 95s\n",
      "Epoch 157 - MAE: 0.03616524514948536\n"
     ]
    },
    {
     "name": "stdout",
     "output_type": "stream",
     "text": [
      "EVAL: [45/46] Data 0.055 (0.162) Elapsed 0m 16s (remain 0m 0s) Loss: 0.0262(0.0182) 598686.3488(413168.1462)\n",
      "Epoch: [158][0/93] Data 0.378 (0.378) Elapsed 0m 1s (remain 1m 50s) Loss: 0.0213(0.0213) 486558.2751(243279.1376)Grad: 2.4596  \n",
      "Epoch: [158][20/93] Data 0.016 (0.034) Elapsed 0m 18s (remain 1m 1s) Loss: 0.0297(0.0115) 679468.7394(256366.8686)Grad: 7.1122  \n",
      "Epoch: [158][40/93] Data 0.016 (0.025) Elapsed 0m 34s (remain 0m 43s) Loss: 0.0319(0.0130) 728973.8398(293942.7671)Grad: 6.8975  \n",
      "Epoch: [158][60/93] Data 0.014 (0.022) Elapsed 0m 51s (remain 0m 27s) Loss: 0.0259(0.0128) 592542.9412(289110.3167)Grad: 3.4627  \n",
      "Epoch: [158][80/93] Data 0.015 (0.020) Elapsed 1m 8s (remain 0m 10s) Loss: 0.0197(0.0127) 449545.2114(287806.7121)Grad: 1.9222  \n",
      "Epoch: [158][92/93] Data 0.015 (0.020) Elapsed 1m 18s (remain 0m 0s) Loss: 0.0334(0.0127) 763151.3406(289480.6413)Grad: 8.4181  \n",
      "EVAL: [0/46] Data 0.377 (0.377) Elapsed 0m 0s (remain 0m 26s) Loss: 0.0290(0.0290) 661596.5129(330798.2564)\n",
      "EVAL: [20/46] Data 0.119 (0.146) Elapsed 0m 7s (remain 0m 8s) Loss: 0.0376(0.0199) 858453.8512(444396.0432)\n",
      "EVAL: [40/46] Data 0.129 (0.140) Elapsed 0m 14s (remain 0m 1s) Loss: 0.0297(0.0190) 678825.9221(428333.4423)\n"
     ]
    },
    {
     "name": "stderr",
     "output_type": "stream",
     "text": [
      "Epoch 158 - avg_train_loss: 0.0127  avg_val_loss: 0.0189  time: 94s\n",
      "Epoch 158 - MAE: 0.03746655917616118\n"
     ]
    },
    {
     "name": "stdout",
     "output_type": "stream",
     "text": [
      "EVAL: [45/46] Data 0.051 (0.137) Elapsed 0m 15s (remain 0m 0s) Loss: 0.0306(0.0189) 698950.1370(428034.9523)\n",
      "Epoch: [159][0/93] Data 0.400 (0.400) Elapsed 0m 1s (remain 1m 53s) Loss: 0.0190(0.0190) 433563.6439(216781.8220)Grad: 1.2708  \n",
      "Epoch: [159][20/93] Data 0.015 (0.036) Elapsed 0m 18s (remain 1m 2s) Loss: 0.0211(0.0158) 483102.6217(352210.7851)Grad: 1.6312  \n",
      "Epoch: [159][40/93] Data 0.016 (0.026) Elapsed 0m 34s (remain 0m 44s) Loss: 0.0291(0.0147) 665553.8566(331447.2017)Grad: 7.2552  \n",
      "Epoch: [159][60/93] Data 0.015 (0.023) Elapsed 0m 51s (remain 0m 27s) Loss: 0.0271(0.0142) 620262.9460(322253.7776)Grad: 11.2307  \n",
      "Epoch: [159][80/93] Data 0.015 (0.021) Elapsed 1m 8s (remain 0m 10s) Loss: 0.0183(0.0139) 417458.7393(314894.4093)Grad: 9.0186  \n",
      "Epoch: [159][92/93] Data 0.015 (0.021) Elapsed 1m 18s (remain 0m 0s) Loss: 0.0524(0.0138) 1197967.4227(313436.6536)Grad: 11.0514  \n",
      "EVAL: [0/46] Data 0.377 (0.377) Elapsed 0m 0s (remain 0m 26s) Loss: 0.0370(0.0370) 845921.7236(422960.8618)\n",
      "EVAL: [20/46] Data 0.145 (0.179) Elapsed 0m 8s (remain 0m 9s) Loss: 0.0369(0.0222) 843458.6406(495833.8240)\n",
      "EVAL: [40/46] Data 0.127 (0.165) Elapsed 0m 15s (remain 0m 1s) Loss: 0.0306(0.0210) 699791.1960(473939.7379)\n"
     ]
    },
    {
     "name": "stderr",
     "output_type": "stream",
     "text": [
      "Epoch 159 - avg_train_loss: 0.0138  avg_val_loss: 0.0209  time: 95s\n",
      "Epoch 159 - MAE: 0.041510633279069765\n"
     ]
    },
    {
     "name": "stdout",
     "output_type": "stream",
     "text": [
      "EVAL: [45/46] Data 0.044 (0.159) Elapsed 0m 16s (remain 0m 0s) Loss: 0.0375(0.0209) 857587.2566(474236.2950)\n",
      "Epoch: [160][0/93] Data 0.508 (0.508) Elapsed 0m 1s (remain 2m 3s) Loss: 0.0296(0.0296) 676171.1515(338085.5758)Grad: 3.2887  \n",
      "Epoch: [160][20/93] Data 0.014 (0.039) Elapsed 0m 18s (remain 1m 1s) Loss: 0.0397(0.0147) 906291.5593(328442.0786)Grad: 12.3691  \n",
      "Epoch: [160][40/93] Data 0.016 (0.028) Elapsed 0m 34s (remain 0m 44s) Loss: 0.0302(0.0137) 690815.8429(308556.3888)Grad: 7.4977  \n",
      "Epoch: [160][60/93] Data 0.016 (0.024) Elapsed 0m 51s (remain 0m 27s) Loss: 0.0209(0.0134) 477621.8640(304308.2624)Grad: 6.1236  \n",
      "Epoch: [160][80/93] Data 0.016 (0.022) Elapsed 1m 8s (remain 0m 10s) Loss: 0.0246(0.0134) 561672.0508(304674.0604)Grad: 8.7514  \n",
      "Epoch: [160][92/93] Data 0.015 (0.021) Elapsed 1m 18s (remain 0m 0s) Loss: 0.0181(0.0131) 414138.5524(298568.5411)Grad: 2.4921  \n",
      "EVAL: [0/46] Data 0.403 (0.403) Elapsed 0m 0s (remain 0m 27s) Loss: 0.0339(0.0339) 773953.8540(386976.9270)\n",
      "EVAL: [20/46] Data 0.158 (0.178) Elapsed 0m 8s (remain 0m 9s) Loss: 0.0254(0.0196) 581138.7229(437551.6933)\n",
      "EVAL: [40/46] Data 0.142 (0.166) Elapsed 0m 15s (remain 0m 1s) Loss: 0.0272(0.0188) 621611.7812(424628.8594)\n"
     ]
    },
    {
     "name": "stderr",
     "output_type": "stream",
     "text": [
      "Epoch 160 - avg_train_loss: 0.0131  avg_val_loss: 0.0189  time: 95s\n",
      "Epoch 160 - MAE: 0.03743511932872844\n"
     ]
    },
    {
     "name": "stdout",
     "output_type": "stream",
     "text": [
      "EVAL: [45/46] Data 0.053 (0.162) Elapsed 0m 16s (remain 0m 0s) Loss: 0.0371(0.0189) 848177.1167(427675.7739)\n",
      "Epoch: [161][0/93] Data 0.394 (0.394) Elapsed 0m 1s (remain 1m 52s) Loss: 0.0177(0.0177) 404889.3296(202444.6648)Grad: 4.2910  \n",
      "Epoch: [161][20/93] Data 0.020 (0.034) Elapsed 0m 17s (remain 1m 1s) Loss: 0.0248(0.0118) 567202.9860(263182.8745)Grad: 5.7049  \n",
      "Epoch: [161][40/93] Data 0.016 (0.025) Elapsed 0m 34s (remain 0m 44s) Loss: 0.0168(0.0123) 383169.2221(278136.8539)Grad: 5.0539  \n",
      "Epoch: [161][60/93] Data 0.016 (0.022) Elapsed 0m 51s (remain 0m 27s) Loss: 0.0534(0.0127) 1219735.1967(288523.2713)Grad: 14.4372  \n",
      "Epoch: [161][80/93] Data 0.015 (0.021) Elapsed 1m 8s (remain 0m 10s) Loss: 0.0238(0.0126) 544308.2390(285550.5409)Grad: 6.8771  \n",
      "Epoch: [161][92/93] Data 0.015 (0.020) Elapsed 1m 18s (remain 0m 0s) Loss: 0.0199(0.0124) 455519.5731(282633.6732)Grad: 2.3460  \n",
      "EVAL: [0/46] Data 0.378 (0.378) Elapsed 0m 0s (remain 0m 27s) Loss: 0.0350(0.0350) 799459.7058(399729.8529)\n",
      "EVAL: [20/46] Data 0.119 (0.170) Elapsed 0m 7s (remain 0m 9s) Loss: 0.0302(0.0184) 690901.5576(410145.1507)\n",
      "EVAL: [40/46] Data 0.157 (0.164) Elapsed 0m 15s (remain 0m 1s) Loss: 0.0323(0.0179) 736897.3797(403194.1833)\n"
     ]
    },
    {
     "name": "stderr",
     "output_type": "stream",
     "text": [
      "Epoch 161 - avg_train_loss: 0.0124  avg_val_loss: 0.0180  time: 95s\n",
      "Epoch 161 - MAE: 0.03564238375767673\n"
     ]
    },
    {
     "name": "stdout",
     "output_type": "stream",
     "text": [
      "EVAL: [45/46] Data 0.052 (0.159) Elapsed 0m 16s (remain 0m 0s) Loss: 0.0279(0.0180) 637210.0161(407194.7512)\n",
      "Epoch: [162][0/93] Data 0.391 (0.391) Elapsed 0m 1s (remain 1m 54s) Loss: 0.0238(0.0238) 543878.0485(271939.0243)Grad: 3.8033  \n",
      "Epoch: [162][20/93] Data 0.015 (0.034) Elapsed 0m 17s (remain 1m 1s) Loss: 0.0229(0.0124) 523867.7652(277179.7530)Grad: 3.8833  \n",
      "Epoch: [162][40/93] Data 0.016 (0.026) Elapsed 0m 34s (remain 0m 44s) Loss: 0.0150(0.0122) 342077.6480(275193.7802)Grad: 2.8683  \n",
      "Epoch: [162][60/93] Data 0.015 (0.023) Elapsed 0m 51s (remain 0m 27s) Loss: 0.0387(0.0133) 883404.2176(301147.5770)Grad: 10.2779  \n",
      "Epoch: [162][80/93] Data 0.016 (0.021) Elapsed 1m 8s (remain 0m 10s) Loss: 0.0247(0.0135) 564961.8078(305826.5439)Grad: 1.8866  \n",
      "Epoch: [162][92/93] Data 0.016 (0.021) Elapsed 1m 18s (remain 0m 0s) Loss: 0.0349(0.0134) 796588.9887(303888.5221)Grad: 7.6151  \n",
      "EVAL: [0/46] Data 0.374 (0.374) Elapsed 0m 0s (remain 0m 25s) Loss: 0.0310(0.0310) 707977.4551(353988.7275)\n",
      "EVAL: [20/46] Data 0.140 (0.165) Elapsed 0m 7s (remain 0m 9s) Loss: 0.0358(0.0210) 819083.3369(468108.8306)\n",
      "EVAL: [40/46] Data 0.121 (0.147) Elapsed 0m 14s (remain 0m 1s) Loss: 0.0247(0.0202) 564632.5682(455038.3315)\n"
     ]
    },
    {
     "name": "stderr",
     "output_type": "stream",
     "text": [
      "Epoch 162 - avg_train_loss: 0.0134  avg_val_loss: 0.0204  time: 94s\n",
      "Epoch 162 - MAE: 0.04051400988313612\n"
     ]
    },
    {
     "name": "stdout",
     "output_type": "stream",
     "text": [
      "EVAL: [45/46] Data 0.048 (0.143) Elapsed 0m 15s (remain 0m 0s) Loss: 0.0403(0.0204) 920964.5953(462850.4121)\n",
      "Epoch: [163][0/93] Data 0.381 (0.381) Elapsed 0m 1s (remain 1m 52s) Loss: 0.0244(0.0244) 557082.1041(278541.0520)Grad: 10.3744  \n",
      "Epoch: [163][20/93] Data 0.015 (0.033) Elapsed 0m 17s (remain 1m 1s) Loss: 0.0282(0.0121) 645111.4676(269090.0257)Grad: 7.4264  \n",
      "Epoch: [163][40/93] Data 0.015 (0.025) Elapsed 0m 34s (remain 0m 44s) Loss: 0.0174(0.0123) 397935.4632(278458.0871)Grad: 1.7870  \n",
      "Epoch: [163][60/93] Data 0.015 (0.022) Elapsed 0m 51s (remain 0m 27s) Loss: 0.0206(0.0121) 469858.1772(275210.5715)Grad: 4.4086  \n",
      "Epoch: [163][80/93] Data 0.016 (0.021) Elapsed 1m 8s (remain 0m 10s) Loss: 0.0179(0.0117) 408948.3903(266120.7809)Grad: 4.7766  \n",
      "Epoch: [163][92/93] Data 0.022 (0.020) Elapsed 1m 18s (remain 0m 0s) Loss: 0.0202(0.0117) 461451.6307(266720.2016)Grad: 2.5343  \n",
      "EVAL: [0/46] Data 0.462 (0.462) Elapsed 0m 0s (remain 0m 30s) Loss: 0.0381(0.0381) 871095.0161(435547.5081)\n",
      "EVAL: [20/46] Data 0.121 (0.150) Elapsed 0m 7s (remain 0m 8s) Loss: 0.0376(0.0210) 859610.4457(467970.6068)\n",
      "EVAL: [40/46] Data 0.126 (0.163) Elapsed 0m 15s (remain 0m 1s) Loss: 0.0270(0.0202) 615922.9080(456897.0414)\n"
     ]
    },
    {
     "name": "stderr",
     "output_type": "stream",
     "text": [
      "Epoch 163 - avg_train_loss: 0.0117  avg_val_loss: 0.0204  time: 95s\n",
      "Epoch 163 - MAE: 0.04057168816617508\n"
     ]
    },
    {
     "name": "stdout",
     "output_type": "stream",
     "text": [
      "EVAL: [45/46] Data 0.045 (0.158) Elapsed 0m 16s (remain 0m 0s) Loss: 0.0396(0.0204) 903720.4605(463509.3643)\n",
      "Epoch: [164][0/93] Data 0.380 (0.380) Elapsed 0m 1s (remain 1m 50s) Loss: 0.0286(0.0286) 652721.4298(326360.7149)Grad: 8.1178  \n",
      "Epoch: [164][20/93] Data 0.021 (0.033) Elapsed 0m 17s (remain 1m 1s) Loss: 0.0251(0.0136) 572495.2481(304220.9717)Grad: 6.9539  \n",
      "Epoch: [164][40/93] Data 0.016 (0.025) Elapsed 0m 34s (remain 0m 43s) Loss: 0.0184(0.0134) 419633.8654(302449.9228)Grad: 2.6427  \n",
      "Epoch: [164][60/93] Data 0.015 (0.022) Elapsed 0m 51s (remain 0m 26s) Loss: 0.0179(0.0131) 407904.4081(297953.1291)Grad: 1.0457  \n",
      "Epoch: [164][80/93] Data 0.016 (0.021) Elapsed 1m 8s (remain 0m 10s) Loss: 0.0302(0.0129) 689704.2338(293949.2807)Grad: 8.7379  \n",
      "Epoch: [164][92/93] Data 0.016 (0.020) Elapsed 1m 18s (remain 0m 0s) Loss: 0.0498(0.0128) 1136961.4941(290357.8032)Grad: 6.2388  \n",
      "EVAL: [0/46] Data 0.384 (0.384) Elapsed 0m 0s (remain 0m 26s) Loss: 0.0384(0.0384) 878285.6830(439142.8415)\n",
      "EVAL: [20/46] Data 0.119 (0.150) Elapsed 0m 7s (remain 0m 8s) Loss: 0.0355(0.0211) 811559.8554(469583.6670)\n",
      "EVAL: [40/46] Data 0.122 (0.147) Elapsed 0m 14s (remain 0m 1s) Loss: 0.0280(0.0206) 639461.1107(465480.7893)\n"
     ]
    },
    {
     "name": "stderr",
     "output_type": "stream",
     "text": [
      "Epoch 164 - avg_train_loss: 0.0128  avg_val_loss: 0.0206  time: 94s\n",
      "Epoch 164 - MAE: 0.04084423031742495\n"
     ]
    },
    {
     "name": "stdout",
     "output_type": "stream",
     "text": [
      "EVAL: [45/46] Data 0.141 (0.146) Elapsed 0m 15s (remain 0m 0s) Loss: 0.0420(0.0206) 960431.1237(466622.9993)\n",
      "Epoch   164: reducing learning rate of group 0 to 2.5000e-05.\n",
      "Epoch: [165][0/93] Data 0.400 (0.400) Elapsed 0m 1s (remain 1m 52s) Loss: 0.0191(0.0191) 436836.5899(218418.2949)Grad: 3.5921  \n",
      "Epoch: [165][20/93] Data 0.015 (0.034) Elapsed 0m 17s (remain 1m 1s) Loss: 0.0262(0.0113) 598577.6946(251561.2916)Grad: 10.8608  \n",
      "Epoch: [165][40/93] Data 0.015 (0.025) Elapsed 0m 34s (remain 0m 43s) Loss: 0.0196(0.0111) 447098.0456(250519.0200)Grad: 8.4675  \n",
      "Epoch: [165][60/93] Data 0.015 (0.022) Elapsed 0m 51s (remain 0m 26s) Loss: 0.0200(0.0109) 456521.3789(247056.4723)Grad: 7.3121  \n",
      "Epoch: [165][80/93] Data 0.016 (0.021) Elapsed 1m 8s (remain 0m 10s) Loss: 0.0193(0.0108) 439990.1142(245036.6985)Grad: 8.9917  \n",
      "Epoch: [165][92/93] Data 0.016 (0.020) Elapsed 1m 18s (remain 0m 0s) Loss: 0.0230(0.0107) 524399.0768(244573.1941)Grad: 2.8743  \n",
      "EVAL: [0/46] Data 0.406 (0.406) Elapsed 0m 0s (remain 0m 27s) Loss: 0.0292(0.0292) 667318.1142(333659.0571)\n",
      "EVAL: [20/46] Data 0.119 (0.143) Elapsed 0m 7s (remain 0m 8s) Loss: 0.0309(0.0184) 705229.5645(411423.9635)\n",
      "EVAL: [40/46] Data 0.123 (0.156) Elapsed 0m 14s (remain 0m 1s) Loss: 0.0266(0.0172) 606759.2296(388567.1888)\n"
     ]
    },
    {
     "name": "stderr",
     "output_type": "stream",
     "text": [
      "Epoch 165 - avg_train_loss: 0.0107  avg_val_loss: 0.0171  time: 94s\n",
      "Epoch 165 - MAE: 0.033921629259355233\n",
      "Epoch 165 - Save Best Score: 0.0339 Model\n"
     ]
    },
    {
     "name": "stdout",
     "output_type": "stream",
     "text": [
      "EVAL: [45/46] Data 0.042 (0.151) Elapsed 0m 16s (remain 0m 0s) Loss: 0.0271(0.0171) 619007.1030(387536.0705)\n",
      "Epoch: [166][0/93] Data 0.405 (0.405) Elapsed 0m 1s (remain 1m 53s) Loss: 0.0173(0.0173) 394215.6861(197107.8430)Grad: 5.1779  \n",
      "Epoch: [166][20/93] Data 0.015 (0.034) Elapsed 0m 17s (remain 1m 1s) Loss: 0.0220(0.0125) 503627.5759(278010.9498)Grad: 5.0735  \n",
      "Epoch: [166][40/93] Data 0.015 (0.026) Elapsed 0m 34s (remain 0m 44s) Loss: 0.0238(0.0122) 542754.7356(275318.2340)Grad: 8.4792  \n",
      "Epoch: [166][60/93] Data 0.016 (0.023) Elapsed 0m 51s (remain 0m 27s) Loss: 0.0148(0.0115) 337777.4882(260630.2610)Grad: 1.3910  \n",
      "Epoch: [166][80/93] Data 0.016 (0.021) Elapsed 1m 8s (remain 0m 10s) Loss: 0.0208(0.0109) 474994.2888(247515.9022)Grad: 3.4815  \n",
      "Epoch: [166][92/93] Data 0.015 (0.021) Elapsed 1m 18s (remain 0m 0s) Loss: 0.0308(0.0108) 702893.0957(246030.1778)Grad: 1.4772  \n",
      "EVAL: [0/46] Data 0.381 (0.381) Elapsed 0m 0s (remain 0m 26s) Loss: 0.0284(0.0284) 648919.2151(324459.6075)\n",
      "EVAL: [20/46] Data 0.119 (0.148) Elapsed 0m 7s (remain 0m 8s) Loss: 0.0286(0.0167) 654431.7221(371494.9928)\n",
      "EVAL: [40/46] Data 0.114 (0.151) Elapsed 0m 14s (remain 0m 1s) Loss: 0.0244(0.0161) 556739.7988(363099.4023)\n"
     ]
    },
    {
     "name": "stderr",
     "output_type": "stream",
     "text": [
      "Epoch 166 - avg_train_loss: 0.0108  avg_val_loss: 0.0161  time: 94s\n",
      "Epoch 166 - MAE: 0.03197365280164463\n",
      "Epoch 166 - Save Best Score: 0.0320 Model\n"
     ]
    },
    {
     "name": "stdout",
     "output_type": "stream",
     "text": [
      "EVAL: [45/46] Data 0.051 (0.146) Elapsed 0m 16s (remain 0m 0s) Loss: 0.0268(0.0161) 613145.7791(365281.4999)\n",
      "Epoch: [167][0/93] Data 0.380 (0.380) Elapsed 0m 1s (remain 1m 51s) Loss: 0.0249(0.0249) 569643.5977(284821.7989)Grad: 1.4477  \n",
      "Epoch: [167][20/93] Data 0.016 (0.033) Elapsed 0m 17s (remain 1m 1s) Loss: 0.0169(0.0104) 385895.4074(231550.5082)Grad: 2.9676  \n",
      "Epoch: [167][40/93] Data 0.015 (0.025) Elapsed 0m 34s (remain 0m 44s) Loss: 0.0123(0.0092) 280414.3894(207224.6702)Grad: 6.8854  \n",
      "Epoch: [167][60/93] Data 0.016 (0.022) Elapsed 0m 51s (remain 0m 26s) Loss: 0.0139(0.0091) 317778.2065(206418.6228)Grad: 3.1742  \n",
      "Epoch: [167][80/93] Data 0.016 (0.020) Elapsed 1m 8s (remain 0m 10s) Loss: 0.0245(0.0094) 559370.2254(212892.0988)Grad: 7.8937  \n",
      "Epoch: [167][92/93] Data 0.014 (0.020) Elapsed 1m 18s (remain 0m 0s) Loss: 0.0196(0.0093) 448577.8361(212736.9037)Grad: 2.8459  \n",
      "EVAL: [0/46] Data 0.381 (0.381) Elapsed 0m 0s (remain 0m 26s) Loss: 0.0288(0.0288) 657068.8731(328534.4365)\n",
      "EVAL: [20/46] Data 0.124 (0.148) Elapsed 0m 7s (remain 0m 8s) Loss: 0.0264(0.0171) 603598.4277(380701.0522)\n",
      "EVAL: [40/46] Data 0.114 (0.154) Elapsed 0m 14s (remain 0m 1s) Loss: 0.0173(0.0163) 396375.6185(366893.1701)\n"
     ]
    },
    {
     "name": "stderr",
     "output_type": "stream",
     "text": [
      "Epoch 167 - avg_train_loss: 0.0093  avg_val_loss: 0.0162  time: 94s\n",
      "Epoch 167 - MAE: 0.03209702703044665\n"
     ]
    },
    {
     "name": "stdout",
     "output_type": "stream",
     "text": [
      "EVAL: [45/46] Data 0.050 (0.149) Elapsed 0m 16s (remain 0m 0s) Loss: 0.0247(0.0162) 565239.8483(366690.9846)\n",
      "Epoch: [168][0/93] Data 0.385 (0.385) Elapsed 0m 1s (remain 2m 8s) Loss: 0.0186(0.0186) 424089.6649(212044.8325)Grad: 1.8383  \n",
      "Epoch: [168][20/93] Data 0.015 (0.033) Elapsed 0m 17s (remain 1m 1s) Loss: 0.0149(0.0099) 340404.3186(220189.7213)Grad: 3.8732  \n",
      "Epoch: [168][40/93] Data 0.021 (0.025) Elapsed 0m 34s (remain 0m 43s) Loss: 0.0198(0.0095) 453463.9112(215353.9653)Grad: 3.5661  \n",
      "Epoch: [168][60/93] Data 0.016 (0.022) Elapsed 0m 51s (remain 0m 26s) Loss: 0.0134(0.0095) 305523.0767(215022.3542)Grad: 1.6850  \n",
      "Epoch: [168][80/93] Data 0.016 (0.020) Elapsed 1m 8s (remain 0m 10s) Loss: 0.0229(0.0095) 523195.0286(215080.3359)Grad: 11.5677  \n",
      "Epoch: [168][92/93] Data 0.021 (0.020) Elapsed 1m 18s (remain 0m 0s) Loss: 0.0212(0.0095) 483942.9997(215280.6884)Grad: 9.7626  \n",
      "EVAL: [0/46] Data 0.377 (0.377) Elapsed 0m 0s (remain 0m 26s) Loss: 0.0281(0.0281) 642326.5929(321163.2965)\n",
      "EVAL: [20/46] Data 0.124 (0.139) Elapsed 0m 7s (remain 0m 8s) Loss: 0.0320(0.0173) 731763.6940(386867.7419)\n",
      "EVAL: [40/46] Data 0.252 (0.144) Elapsed 0m 14s (remain 0m 1s) Loss: 0.0252(0.0164) 576201.3211(371210.0510)\n"
     ]
    },
    {
     "name": "stderr",
     "output_type": "stream",
     "text": [
      "Epoch 168 - avg_train_loss: 0.0095  avg_val_loss: 0.0163  time: 94s\n",
      "Epoch 168 - MAE: 0.03241711031617706\n"
     ]
    },
    {
     "name": "stdout",
     "output_type": "stream",
     "text": [
      "EVAL: [45/46] Data 0.041 (0.144) Elapsed 0m 15s (remain 0m 0s) Loss: 0.0260(0.0163) 595126.6801(370347.7644)\n",
      "Epoch: [169][0/93] Data 0.398 (0.398) Elapsed 0m 1s (remain 1m 51s) Loss: 0.0142(0.0142) 325018.3061(162509.1531)Grad: 1.0072  \n",
      "Epoch: [169][20/93] Data 0.022 (0.034) Elapsed 0m 17s (remain 1m 1s) Loss: 0.0150(0.0093) 342994.3776(207393.5333)Grad: 5.2528  \n",
      "Epoch: [169][40/93] Data 0.015 (0.026) Elapsed 0m 34s (remain 0m 44s) Loss: 0.0180(0.0092) 411160.5431(208543.2709)Grad: 8.5810  \n",
      "Epoch: [169][60/93] Data 0.015 (0.022) Elapsed 0m 51s (remain 0m 26s) Loss: 0.0219(0.0091) 500730.7274(205235.4342)Grad: 6.0536  \n",
      "Epoch: [169][80/93] Data 0.016 (0.021) Elapsed 1m 8s (remain 0m 10s) Loss: 0.0144(0.0092) 328959.3071(208860.4041)Grad: 7.5173  \n",
      "Epoch: [169][92/93] Data 0.015 (0.020) Elapsed 1m 18s (remain 0m 0s) Loss: 0.0262(0.0093) 599568.8181(211491.5345)Grad: 6.3300  \n",
      "EVAL: [0/46] Data 0.384 (0.384) Elapsed 0m 0s (remain 0m 26s) Loss: 0.0287(0.0287) 655165.4462(327582.7231)\n",
      "EVAL: [20/46] Data 0.123 (0.149) Elapsed 0m 7s (remain 0m 8s) Loss: 0.0246(0.0174) 562180.8911(387579.6422)\n",
      "EVAL: [40/46] Data 0.129 (0.149) Elapsed 0m 14s (remain 0m 1s) Loss: 0.0235(0.0166) 536074.9518(374445.0802)\n"
     ]
    },
    {
     "name": "stderr",
     "output_type": "stream",
     "text": [
      "Epoch 169 - avg_train_loss: 0.0093  avg_val_loss: 0.0166  time: 95s\n",
      "Epoch 169 - MAE: 0.032874182137670065\n"
     ]
    },
    {
     "name": "stdout",
     "output_type": "stream",
     "text": [
      "EVAL: [45/46] Data 0.151 (0.153) Elapsed 0m 16s (remain 0m 0s) Loss: 0.0289(0.0166) 659721.8987(375569.5558)\n",
      "Epoch: [170][0/93] Data 0.485 (0.485) Elapsed 0m 1s (remain 2m 4s) Loss: 0.0150(0.0150) 341758.9632(170879.4816)Grad: 2.0924  \n",
      "Epoch: [170][20/93] Data 0.016 (0.038) Elapsed 0m 17s (remain 1m 1s) Loss: 0.0204(0.0093) 465555.2085(207484.5648)Grad: 2.6407  \n",
      "Epoch: [170][40/93] Data 0.016 (0.028) Elapsed 0m 34s (remain 0m 44s) Loss: 0.0184(0.0090) 420883.7926(203002.5161)Grad: 3.2450  \n",
      "Epoch: [170][60/93] Data 0.015 (0.024) Elapsed 0m 51s (remain 0m 26s) Loss: 0.0177(0.0093) 405067.8237(211621.6523)Grad: 4.3507  \n",
      "Epoch: [170][80/93] Data 0.015 (0.022) Elapsed 1m 8s (remain 0m 10s) Loss: 0.0167(0.0095) 381014.0990(215039.3896)Grad: 8.1966  \n",
      "Epoch: [170][92/93] Data 0.015 (0.021) Elapsed 1m 18s (remain 0m 0s) Loss: 0.0214(0.0093) 488713.3132(212397.6161)Grad: 13.0401  \n",
      "EVAL: [0/46] Data 0.371 (0.371) Elapsed 0m 0s (remain 0m 25s) Loss: 0.0296(0.0296) 676781.1129(338390.5565)\n",
      "EVAL: [20/46] Data 0.121 (0.135) Elapsed 0m 7s (remain 0m 8s) Loss: 0.0268(0.0172) 611257.0353(383425.4926)\n",
      "EVAL: [40/46] Data 0.115 (0.134) Elapsed 0m 13s (remain 0m 1s) Loss: 0.0236(0.0165) 540022.4643(371671.1889)\n"
     ]
    },
    {
     "name": "stderr",
     "output_type": "stream",
     "text": [
      "Epoch 170 - avg_train_loss: 0.0093  avg_val_loss: 0.0165  time: 94s\n",
      "Epoch 170 - MAE: 0.032782175309246125\n"
     ]
    },
    {
     "name": "stdout",
     "output_type": "stream",
     "text": [
      "EVAL: [45/46] Data 0.041 (0.131) Elapsed 0m 15s (remain 0m 0s) Loss: 0.0320(0.0165) 730622.6763(374518.4311)\n",
      "Epoch: [171][0/93] Data 0.399 (0.399) Elapsed 0m 1s (remain 1m 52s) Loss: 0.0164(0.0164) 375134.6873(187567.3437)Grad: 1.6531  \n",
      "Epoch: [171][20/93] Data 0.015 (0.035) Elapsed 0m 18s (remain 1m 2s) Loss: 0.0181(0.0093) 412561.5987(207701.9035)Grad: 4.6539  \n",
      "Epoch: [171][40/93] Data 0.014 (0.025) Elapsed 0m 34s (remain 0m 44s) Loss: 0.0192(0.0089) 439659.0445(201709.5710)Grad: 9.9209  \n",
      "Epoch: [171][60/93] Data 0.015 (0.022) Elapsed 0m 51s (remain 0m 27s) Loss: 0.0172(0.0092) 393882.1906(207393.0830)Grad: 8.4338  \n",
      "Epoch: [171][80/93] Data 0.022 (0.021) Elapsed 1m 8s (remain 0m 10s) Loss: 0.0144(0.0090) 328336.7907(203810.5305)Grad: 4.4848  \n",
      "Epoch: [171][92/93] Data 0.015 (0.020) Elapsed 1m 18s (remain 0m 0s) Loss: 0.0248(0.0091) 566694.6565(206005.0644)Grad: 8.3691  \n",
      "EVAL: [0/46] Data 0.377 (0.377) Elapsed 0m 0s (remain 0m 26s) Loss: 0.0345(0.0345) 789159.3082(394579.6541)\n",
      "EVAL: [20/46] Data 0.127 (0.154) Elapsed 0m 7s (remain 0m 8s) Loss: 0.0260(0.0177) 593515.5938(393810.0392)\n",
      "EVAL: [40/46] Data 0.248 (0.150) Elapsed 0m 14s (remain 0m 1s) Loss: 0.0224(0.0170) 512762.8672(382871.2471)\n"
     ]
    },
    {
     "name": "stderr",
     "output_type": "stream",
     "text": [
      "Epoch 171 - avg_train_loss: 0.0091  avg_val_loss: 0.0170  time: 94s\n",
      "Epoch 171 - MAE: 0.033676699367724675\n"
     ]
    },
    {
     "name": "stdout",
     "output_type": "stream",
     "text": [
      "EVAL: [45/46] Data 0.043 (0.149) Elapsed 0m 16s (remain 0m 0s) Loss: 0.0286(0.0170) 652807.6977(384737.8750)\n",
      "Epoch: [172][0/93] Data 0.386 (0.386) Elapsed 0m 1s (remain 1m 51s) Loss: 0.0171(0.0171) 391275.0865(195637.5433)Grad: 6.0060  \n",
      "Epoch: [172][20/93] Data 0.016 (0.034) Elapsed 0m 17s (remain 1m 1s) Loss: 0.0243(0.0096) 555300.6525(214178.0259)Grad: 5.8986  \n",
      "Epoch: [172][40/93] Data 0.016 (0.025) Elapsed 0m 34s (remain 0m 43s) Loss: 0.0188(0.0095) 429358.8598(213606.0337)Grad: 4.8908  \n",
      "Epoch: [172][60/93] Data 0.015 (0.023) Elapsed 0m 51s (remain 0m 27s) Loss: 0.0121(0.0092) 276389.8018(207897.4276)Grad: 5.2315  \n",
      "Epoch: [172][80/93] Data 0.015 (0.021) Elapsed 1m 8s (remain 0m 10s) Loss: 0.0179(0.0091) 409153.4416(206695.2698)Grad: 2.2966  \n",
      "Epoch: [172][92/93] Data 0.015 (0.020) Elapsed 1m 18s (remain 0m 0s) Loss: 0.0183(0.0091) 417317.0590(206599.4801)Grad: 3.5109  \n",
      "EVAL: [0/46] Data 0.379 (0.379) Elapsed 0m 0s (remain 0m 26s) Loss: 0.0273(0.0273) 624373.5036(312186.7518)\n",
      "EVAL: [20/46] Data 0.123 (0.137) Elapsed 0m 7s (remain 0m 8s) Loss: 0.0298(0.0173) 680317.7995(385158.1640)\n",
      "EVAL: [40/46] Data 0.126 (0.141) Elapsed 0m 14s (remain 0m 1s) Loss: 0.0255(0.0162) 583239.2849(366121.7746)\n"
     ]
    },
    {
     "name": "stderr",
     "output_type": "stream",
     "text": [
      "Epoch 172 - avg_train_loss: 0.0091  avg_val_loss: 0.0161  time: 94s\n",
      "Epoch 172 - MAE: 0.0319010265722159\n",
      "Epoch 172 - Save Best Score: 0.0319 Model\n"
     ]
    },
    {
     "name": "stdout",
     "output_type": "stream",
     "text": [
      "EVAL: [45/46] Data 0.044 (0.138) Elapsed 0m 15s (remain 0m 0s) Loss: 0.0250(0.0161) 572266.2360(364451.7861)\n",
      "Epoch: [173][0/93] Data 0.391 (0.391) Elapsed 0m 1s (remain 1m 51s) Loss: 0.0145(0.0145) 330830.1973(165415.0986)Grad: 3.8608  \n",
      "Epoch: [173][20/93] Data 0.015 (0.035) Elapsed 0m 18s (remain 1m 2s) Loss: 0.0171(0.0091) 390174.9684(202305.2412)Grad: 4.3896  \n",
      "Epoch: [173][40/93] Data 0.015 (0.025) Elapsed 0m 34s (remain 0m 44s) Loss: 0.0152(0.0092) 348223.4389(207056.5455)Grad: 4.7129  \n",
      "Epoch: [173][60/93] Data 0.016 (0.022) Elapsed 0m 51s (remain 0m 27s) Loss: 0.0176(0.0092) 401961.5830(209339.4647)Grad: 4.4104  \n",
      "Epoch: [173][80/93] Data 0.023 (0.021) Elapsed 1m 8s (remain 0m 10s) Loss: 0.0159(0.0094) 362680.2732(213205.1714)Grad: 3.8170  \n",
      "Epoch: [173][92/93] Data 0.014 (0.020) Elapsed 1m 18s (remain 0m 0s) Loss: 0.0248(0.0093) 567072.0733(211871.4535)Grad: 2.0688  \n",
      "EVAL: [0/46] Data 0.545 (0.545) Elapsed 0m 0s (remain 0m 34s) Loss: 0.0309(0.0309) 705981.5466(352990.7733)\n",
      "EVAL: [20/46] Data 0.122 (0.146) Elapsed 0m 7s (remain 0m 8s) Loss: 0.0304(0.0177) 695701.2371(394782.4264)\n",
      "EVAL: [40/46] Data 0.131 (0.148) Elapsed 0m 14s (remain 0m 1s) Loss: 0.0234(0.0166) 535798.4859(374568.2445)\n"
     ]
    },
    {
     "name": "stderr",
     "output_type": "stream",
     "text": [
      "Epoch 173 - avg_train_loss: 0.0093  avg_val_loss: 0.0165  time: 94s\n",
      "Epoch 173 - MAE: 0.03271849420797828\n"
     ]
    },
    {
     "name": "stdout",
     "output_type": "stream",
     "text": [
      "EVAL: [45/46] Data 0.043 (0.144) Elapsed 0m 15s (remain 0m 0s) Loss: 0.0237(0.0165) 540403.6689(373790.8986)\n",
      "Epoch: [174][0/93] Data 0.384 (0.384) Elapsed 0m 1s (remain 1m 50s) Loss: 0.0169(0.0169) 387208.8332(193604.4166)Grad: 3.2923  \n",
      "Epoch: [174][20/93] Data 0.022 (0.036) Elapsed 0m 18s (remain 1m 2s) Loss: 0.0139(0.0091) 316671.2151(203364.4303)Grad: 5.8187  \n",
      "Epoch: [174][40/93] Data 0.015 (0.026) Elapsed 0m 34s (remain 0m 44s) Loss: 0.0222(0.0090) 507388.4654(202104.2404)Grad: 7.2657  \n",
      "Epoch: [174][60/93] Data 0.016 (0.023) Elapsed 0m 51s (remain 0m 27s) Loss: 0.0111(0.0088) 252722.0908(200273.0232)Grad: 5.6987  \n",
      "Epoch: [174][80/93] Data 0.015 (0.021) Elapsed 1m 8s (remain 0m 10s) Loss: 0.0156(0.0089) 356024.0247(202917.4981)Grad: 3.8602  \n",
      "Epoch: [174][92/93] Data 0.015 (0.021) Elapsed 1m 18s (remain 0m 0s) Loss: 0.0210(0.0089) 480265.4415(202527.4155)Grad: 2.7048  \n",
      "EVAL: [0/46] Data 0.371 (0.371) Elapsed 0m 0s (remain 0m 25s) Loss: 0.0269(0.0269) 615280.0482(307640.0241)\n",
      "EVAL: [20/46] Data 0.122 (0.147) Elapsed 0m 7s (remain 0m 8s) Loss: 0.0305(0.0169) 697958.9710(375991.3676)\n",
      "EVAL: [40/46] Data 0.113 (0.135) Elapsed 0m 13s (remain 0m 1s) Loss: 0.0242(0.0159) 553672.8403(359786.1287)\n"
     ]
    },
    {
     "name": "stderr",
     "output_type": "stream",
     "text": [
      "Epoch 174 - avg_train_loss: 0.0089  avg_val_loss: 0.0159  time: 94s\n",
      "Epoch 174 - MAE: 0.03153677884248708\n",
      "Epoch 174 - Save Best Score: 0.0315 Model\n"
     ]
    },
    {
     "name": "stdout",
     "output_type": "stream",
     "text": [
      "EVAL: [45/46] Data 0.039 (0.132) Elapsed 0m 15s (remain 0m 0s) Loss: 0.0251(0.0159) 573520.5468(360290.4558)\n",
      "Epoch: [175][0/93] Data 0.376 (0.376) Elapsed 0m 1s (remain 1m 51s) Loss: 0.0143(0.0143) 327007.7455(163503.8728)Grad: 4.8626  \n",
      "Epoch: [175][20/93] Data 0.015 (0.033) Elapsed 0m 17s (remain 1m 1s) Loss: 0.0150(0.0090) 343300.2520(199930.9432)Grad: 2.2306  \n",
      "Epoch: [175][40/93] Data 0.015 (0.025) Elapsed 0m 34s (remain 0m 44s) Loss: 0.0196(0.0092) 446838.9014(207617.2971)Grad: 2.7696  \n",
      "Epoch: [175][60/93] Data 0.016 (0.022) Elapsed 0m 51s (remain 0m 27s) Loss: 0.0190(0.0089) 433255.8969(201562.6321)Grad: 4.0276  \n",
      "Epoch: [175][80/93] Data 0.015 (0.021) Elapsed 1m 8s (remain 0m 10s) Loss: 0.0189(0.0092) 432343.1253(208347.7870)Grad: 7.0389  \n",
      "Epoch: [175][92/93] Data 0.014 (0.020) Elapsed 1m 18s (remain 0m 0s) Loss: 0.0149(0.0091) 340308.3046(206719.1248)Grad: 3.9305  \n",
      "EVAL: [0/46] Data 0.378 (0.378) Elapsed 0m 0s (remain 0m 26s) Loss: 0.0312(0.0312) 712320.8552(356160.4276)\n",
      "EVAL: [20/46] Data 0.121 (0.135) Elapsed 0m 7s (remain 0m 8s) Loss: 0.0251(0.0176) 572630.1614(391540.6724)\n",
      "EVAL: [40/46] Data 0.146 (0.142) Elapsed 0m 14s (remain 0m 1s) Loss: 0.0207(0.0166) 472658.4159(374465.7827)\n"
     ]
    },
    {
     "name": "stderr",
     "output_type": "stream",
     "text": [
      "Epoch 175 - avg_train_loss: 0.0091  avg_val_loss: 0.0166  time: 94s\n",
      "Epoch 175 - MAE: 0.032987094045469983\n"
     ]
    },
    {
     "name": "stdout",
     "output_type": "stream",
     "text": [
      "EVAL: [45/46] Data 0.040 (0.138) Elapsed 0m 15s (remain 0m 0s) Loss: 0.0271(0.0166) 620289.7158(376859.5069)\n",
      "Epoch: [176][0/93] Data 0.377 (0.377) Elapsed 0m 1s (remain 1m 49s) Loss: 0.0121(0.0121) 276220.8622(138110.4311)Grad: 5.6740  \n",
      "Epoch: [176][20/93] Data 0.015 (0.034) Elapsed 0m 17s (remain 1m 1s) Loss: 0.0158(0.0081) 360098.4494(180520.0741)Grad: 3.3541  \n",
      "Epoch: [176][40/93] Data 0.015 (0.025) Elapsed 0m 34s (remain 0m 43s) Loss: 0.0142(0.0082) 323505.5321(184442.1655)Grad: 1.8630  \n",
      "Epoch: [176][60/93] Data 0.016 (0.022) Elapsed 0m 51s (remain 0m 27s) Loss: 0.0155(0.0083) 353275.7724(188723.9693)Grad: 3.2935  \n",
      "Epoch: [176][80/93] Data 0.015 (0.021) Elapsed 1m 8s (remain 0m 10s) Loss: 0.0280(0.0085) 639313.0891(192562.8479)Grad: 10.4990  \n",
      "Epoch: [176][92/93] Data 0.014 (0.020) Elapsed 1m 18s (remain 0m 0s) Loss: 0.1087(0.0088) 2484566.1693(199680.2442)Grad: 9.1768  \n",
      "EVAL: [0/46] Data 0.377 (0.377) Elapsed 0m 0s (remain 0m 26s) Loss: 0.0304(0.0304) 694590.6494(347295.3247)\n",
      "EVAL: [20/46] Data 0.144 (0.154) Elapsed 0m 7s (remain 0m 8s) Loss: 0.0268(0.0189) 612315.3600(420936.6280)\n",
      "EVAL: [40/46] Data 0.167 (0.141) Elapsed 0m 14s (remain 0m 1s) Loss: 0.0237(0.0180) 541923.7206(406641.0893)\n"
     ]
    },
    {
     "name": "stderr",
     "output_type": "stream",
     "text": [
      "Epoch 176 - avg_train_loss: 0.0088  avg_val_loss: 0.0180  time: 94s\n",
      "Epoch 176 - MAE: 0.035745060675857115\n"
     ]
    },
    {
     "name": "stdout",
     "output_type": "stream",
     "text": [
      "EVAL: [45/46] Data 0.037 (0.141) Elapsed 0m 15s (remain 0m 0s) Loss: 0.0312(0.0180) 712495.4339(408367.7748)\n",
      "Epoch: [177][0/93] Data 0.377 (0.377) Elapsed 0m 1s (remain 1m 50s) Loss: 0.0225(0.0225) 513633.9305(256816.9653)Grad: 11.7367  \n",
      "Epoch: [177][20/93] Data 0.015 (0.033) Elapsed 0m 17s (remain 1m 1s) Loss: 0.0167(0.0092) 381053.5941(204445.2679)Grad: 2.3053  \n",
      "Epoch: [177][40/93] Data 0.015 (0.025) Elapsed 0m 34s (remain 0m 43s) Loss: 0.0188(0.0093) 430276.4406(208794.8330)Grad: 2.4857  \n",
      "Epoch: [177][60/93] Data 0.016 (0.022) Elapsed 0m 51s (remain 0m 26s) Loss: 0.0164(0.0093) 373698.1372(211748.0216)Grad: 8.9909  \n",
      "Epoch: [177][80/93] Data 0.015 (0.021) Elapsed 1m 8s (remain 0m 10s) Loss: 0.0213(0.0093) 487516.1597(211114.3873)Grad: 2.8326  \n",
      "Epoch: [177][92/93] Data 0.015 (0.020) Elapsed 1m 18s (remain 0m 0s) Loss: 0.0175(0.0094) 400437.1902(214327.4701)Grad: 7.4621  \n",
      "EVAL: [0/46] Data 0.368 (0.368) Elapsed 0m 0s (remain 0m 25s) Loss: 0.0284(0.0284) 648123.7372(324061.8686)\n",
      "EVAL: [20/46] Data 0.126 (0.135) Elapsed 0m 7s (remain 0m 8s) Loss: 0.0289(0.0180) 660668.8881(400445.1012)\n",
      "EVAL: [40/46] Data 0.122 (0.149) Elapsed 0m 14s (remain 0m 1s) Loss: 0.0232(0.0168) 529550.8503(379837.0106)\n"
     ]
    },
    {
     "name": "stderr",
     "output_type": "stream",
     "text": [
      "Epoch 177 - avg_train_loss: 0.0094  avg_val_loss: 0.0168  time: 94s\n",
      "Epoch 177 - MAE: 0.033338202288292124\n"
     ]
    },
    {
     "name": "stdout",
     "output_type": "stream",
     "text": [
      "EVAL: [45/46] Data 0.040 (0.144) Elapsed 0m 15s (remain 0m 0s) Loss: 0.0315(0.0168) 720786.6019(380870.7439)\n",
      "Epoch: [178][0/93] Data 0.384 (0.384) Elapsed 0m 1s (remain 1m 51s) Loss: 0.0231(0.0231) 528944.1234(264472.0617)Grad: 10.5989  \n",
      "Epoch: [178][20/93] Data 0.016 (0.033) Elapsed 0m 18s (remain 1m 1s) Loss: 0.0213(0.0121) 486972.5484(268789.6739)Grad: 7.1114  \n",
      "Epoch: [178][40/93] Data 0.015 (0.025) Elapsed 0m 34s (remain 0m 44s) Loss: 0.0168(0.0106) 383359.8457(238522.9418)Grad: 1.5777  \n",
      "Epoch: [178][60/93] Data 0.015 (0.023) Elapsed 0m 51s (remain 0m 27s) Loss: 0.0224(0.0100) 511490.8517(226431.2575)Grad: 1.9154  \n",
      "Epoch: [178][80/93] Data 0.016 (0.021) Elapsed 1m 8s (remain 0m 10s) Loss: 0.0168(0.0097) 382878.1584(220157.0249)Grad: 3.3109  \n",
      "Epoch: [178][92/93] Data 0.015 (0.020) Elapsed 1m 18s (remain 0m 0s) Loss: 0.0206(0.0096) 471374.1858(218051.0439)Grad: 2.3550  \n",
      "EVAL: [0/46] Data 0.492 (0.492) Elapsed 0m 0s (remain 0m 32s) Loss: 0.0290(0.0290) 662824.6071(331412.3035)\n",
      "EVAL: [20/46] Data 0.120 (0.166) Elapsed 0m 7s (remain 0m 9s) Loss: 0.0299(0.0182) 683525.8849(404964.1247)\n",
      "EVAL: [40/46] Data 0.124 (0.149) Elapsed 0m 14s (remain 0m 1s) Loss: 0.0219(0.0171) 501198.1999(385293.6169)\n"
     ]
    },
    {
     "name": "stderr",
     "output_type": "stream",
     "text": [
      "Epoch 178 - avg_train_loss: 0.0096  avg_val_loss: 0.0171  time: 95s\n",
      "Epoch 178 - MAE: 0.033998823443919114\n"
     ]
    },
    {
     "name": "stdout",
     "output_type": "stream",
     "text": [
      "EVAL: [45/46] Data 0.042 (0.144) Elapsed 0m 15s (remain 0m 0s) Loss: 0.0331(0.0171) 757321.4682(388417.9768)\n",
      "Epoch: [179][0/93] Data 0.366 (0.366) Elapsed 0m 1s (remain 1m 49s) Loss: 0.0164(0.0164) 375433.6246(187716.8123)Grad: 9.2164  \n",
      "Epoch: [179][20/93] Data 0.023 (0.033) Elapsed 0m 17s (remain 1m 1s) Loss: 0.0142(0.0094) 324867.8161(210159.6236)Grad: 1.4856  \n",
      "Epoch: [179][40/93] Data 0.015 (0.025) Elapsed 0m 34s (remain 0m 44s) Loss: 0.0128(0.0090) 291852.0168(204109.6383)Grad: 4.8256  \n",
      "Epoch: [179][60/93] Data 0.015 (0.022) Elapsed 0m 51s (remain 0m 27s) Loss: 0.0162(0.0089) 370265.5509(201641.0579)Grad: 3.4069  \n",
      "Epoch: [179][80/93] Data 0.015 (0.021) Elapsed 1m 8s (remain 0m 10s) Loss: 0.0183(0.0089) 419093.8291(202955.2918)Grad: 2.7615  \n",
      "Epoch: [179][92/93] Data 0.015 (0.020) Elapsed 1m 18s (remain 0m 0s) Loss: 0.0177(0.0091) 405488.1404(206284.7122)Grad: 8.1525  \n",
      "EVAL: [0/46] Data 0.376 (0.376) Elapsed 0m 0s (remain 0m 25s) Loss: 0.0304(0.0304) 694440.8829(347220.4414)\n",
      "EVAL: [20/46] Data 0.130 (0.171) Elapsed 0m 7s (remain 0m 9s) Loss: 0.0310(0.0177) 709420.7722(394755.8379)\n",
      "EVAL: [40/46] Data 0.119 (0.157) Elapsed 0m 14s (remain 0m 1s) Loss: 0.0267(0.0164) 611132.5490(370215.6552)\n"
     ]
    },
    {
     "name": "stderr",
     "output_type": "stream",
     "text": [
      "Epoch 179 - avg_train_loss: 0.0091  avg_val_loss: 0.0164  time: 95s\n",
      "Epoch 179 - MAE: 0.03250236097232653\n"
     ]
    },
    {
     "name": "stdout",
     "output_type": "stream",
     "text": [
      "EVAL: [45/46] Data 0.035 (0.151) Elapsed 0m 16s (remain 0m 0s) Loss: 0.0313(0.0164) 714283.7801(371321.7065)\n",
      "Epoch: [180][0/93] Data 0.377 (0.377) Elapsed 0m 1s (remain 1m 56s) Loss: 0.0233(0.0233) 532525.7953(266262.8976)Grad: 9.2532  \n",
      "Epoch: [180][20/93] Data 0.015 (0.033) Elapsed 0m 17s (remain 1m 1s) Loss: 0.0134(0.0098) 306233.5634(219556.8528)Grad: 5.0886  \n",
      "Epoch: [180][40/93] Data 0.024 (0.025) Elapsed 0m 34s (remain 0m 44s) Loss: 0.0169(0.0090) 385927.4546(204239.7782)Grad: 2.6302  \n",
      "Epoch: [180][60/93] Data 0.021 (0.022) Elapsed 0m 51s (remain 0m 27s) Loss: 0.0169(0.0091) 385514.6710(205473.7312)Grad: 1.8479  \n",
      "Epoch: [180][80/93] Data 0.015 (0.021) Elapsed 1m 8s (remain 0m 10s) Loss: 0.0265(0.0090) 605954.6015(204109.3291)Grad: 11.3053  \n",
      "Epoch: [180][92/93] Data 0.015 (0.020) Elapsed 1m 18s (remain 0m 0s) Loss: 0.0196(0.0092) 448968.7017(208848.1727)Grad: 9.7071  \n",
      "EVAL: [0/46] Data 0.377 (0.377) Elapsed 0m 0s (remain 0m 26s) Loss: 0.0270(0.0270) 617802.6718(308901.3359)\n",
      "EVAL: [20/46] Data 0.125 (0.154) Elapsed 0m 7s (remain 0m 8s) Loss: 0.0251(0.0182) 573576.1719(406114.9665)\n",
      "EVAL: [40/46] Data 0.120 (0.145) Elapsed 0m 14s (remain 0m 1s) Loss: 0.0226(0.0173) 515532.9312(390898.2442)\n"
     ]
    },
    {
     "name": "stderr",
     "output_type": "stream",
     "text": [
      "Epoch 180 - avg_train_loss: 0.0092  avg_val_loss: 0.0173  time: 94s\n",
      "Epoch 180 - MAE: 0.03426277918198033\n"
     ]
    },
    {
     "name": "stdout",
     "output_type": "stream",
     "text": [
      "EVAL: [45/46] Data 0.037 (0.140) Elapsed 0m 15s (remain 0m 0s) Loss: 0.0317(0.0173) 723982.0472(391433.5326)\n",
      "Epoch: [181][0/93] Data 0.398 (0.398) Elapsed 0m 1s (remain 1m 52s) Loss: 0.0198(0.0198) 452785.2589(226392.6295)Grad: 6.2162  \n",
      "Epoch: [181][20/93] Data 0.022 (0.034) Elapsed 0m 17s (remain 1m 1s) Loss: 0.0139(0.0081) 317013.4352(181566.7051)Grad: 2.0551  \n",
      "Epoch: [181][40/93] Data 0.015 (0.025) Elapsed 0m 34s (remain 0m 44s) Loss: 0.0313(0.0090) 714659.5796(203244.9817)Grad: 10.3311  \n",
      "Epoch: [181][60/93] Data 0.015 (0.022) Elapsed 0m 51s (remain 0m 27s) Loss: 0.0161(0.0087) 368860.1542(197925.9700)Grad: 6.0112  \n",
      "Epoch: [181][80/93] Data 0.015 (0.021) Elapsed 1m 8s (remain 0m 10s) Loss: 0.0154(0.0087) 352587.2250(197754.9424)Grad: 4.1908  \n",
      "Epoch: [181][92/93] Data 0.015 (0.020) Elapsed 1m 18s (remain 0m 0s) Loss: 0.0250(0.0087) 570748.1845(198789.3635)Grad: 1.9401  \n",
      "EVAL: [0/46] Data 0.377 (0.377) Elapsed 0m 0s (remain 0m 26s) Loss: 0.0253(0.0253) 578750.8849(289375.4424)\n",
      "EVAL: [20/46] Data 0.144 (0.150) Elapsed 0m 7s (remain 0m 8s) Loss: 0.0275(0.0170) 627310.9963(380143.5625)\n",
      "EVAL: [40/46] Data 0.127 (0.155) Elapsed 0m 14s (remain 0m 1s) Loss: 0.0264(0.0161) 603899.4078(363817.4262)\n"
     ]
    },
    {
     "name": "stderr",
     "output_type": "stream",
     "text": [
      "Epoch 181 - avg_train_loss: 0.0087  avg_val_loss: 0.0160  time: 95s\n",
      "Epoch 181 - MAE: 0.03173079455372869\n"
     ]
    },
    {
     "name": "stdout",
     "output_type": "stream",
     "text": [
      "EVAL: [45/46] Data 0.035 (0.154) Elapsed 0m 16s (remain 0m 0s) Loss: 0.0234(0.0160) 534481.7830(362506.9804)\n",
      "Epoch: [182][0/93] Data 0.380 (0.380) Elapsed 0m 1s (remain 1m 50s) Loss: 0.0152(0.0152) 348355.4369(174177.7185)Grad: 6.7252  \n",
      "Epoch: [182][20/93] Data 0.016 (0.033) Elapsed 0m 17s (remain 1m 1s) Loss: 0.0204(0.0082) 465495.2423(183935.9953)Grad: 11.8566  \n",
      "Epoch: [182][40/93] Data 0.015 (0.025) Elapsed 0m 34s (remain 0m 43s) Loss: 0.0202(0.0088) 461567.1369(197543.4715)Grad: 8.9313  \n",
      "Epoch: [182][60/93] Data 0.015 (0.022) Elapsed 0m 51s (remain 0m 26s) Loss: 0.0167(0.0088) 381001.3737(200256.9853)Grad: 6.2117  \n",
      "Epoch: [182][80/93] Data 0.015 (0.021) Elapsed 1m 8s (remain 0m 10s) Loss: 0.0208(0.0090) 476037.2496(205048.5462)Grad: 6.9546  \n",
      "Epoch: [182][92/93] Data 0.015 (0.020) Elapsed 1m 18s (remain 0m 0s) Loss: 0.0213(0.0091) 486466.7724(205988.8358)Grad: 3.6610  \n",
      "EVAL: [0/46] Data 0.383 (0.383) Elapsed 0m 0s (remain 0m 26s) Loss: 0.0222(0.0222) 507863.6838(253931.8419)\n",
      "EVAL: [20/46] Data 0.124 (0.142) Elapsed 0m 7s (remain 0m 8s) Loss: 0.0209(0.0170) 477818.4459(378235.3386)\n",
      "EVAL: [40/46] Data 0.124 (0.151) Elapsed 0m 14s (remain 0m 1s) Loss: 0.0273(0.0163) 623965.1461(368132.2627)\n"
     ]
    },
    {
     "name": "stderr",
     "output_type": "stream",
     "text": [
      "Epoch 182 - avg_train_loss: 0.0091  avg_val_loss: 0.0162  time: 94s\n",
      "Epoch 182 - MAE: 0.032160537671495494\n"
     ]
    },
    {
     "name": "stdout",
     "output_type": "stream",
     "text": [
      "EVAL: [45/46] Data 0.043 (0.146) Elapsed 0m 15s (remain 0m 0s) Loss: 0.0292(0.0162) 666939.7186(367416.5578)\n",
      "Epoch: [183][0/93] Data 0.389 (0.389) Elapsed 0m 1s (remain 1m 51s) Loss: 0.0235(0.0235) 537709.7436(268854.8718)Grad: 1.7192  \n",
      "Epoch: [183][20/93] Data 0.015 (0.034) Elapsed 0m 17s (remain 1m 1s) Loss: 0.0117(0.0089) 266394.2785(197639.4982)Grad: 4.5225  \n",
      "Epoch: [183][40/93] Data 0.016 (0.025) Elapsed 0m 34s (remain 0m 44s) Loss: 0.0188(0.0091) 429659.1589(205218.6985)Grad: 3.7105  \n",
      "Epoch: [183][60/93] Data 0.017 (0.022) Elapsed 0m 51s (remain 0m 27s) Loss: 0.0132(0.0088) 300671.1768(199697.6875)Grad: 6.3539  \n",
      "Epoch: [183][80/93] Data 0.020 (0.021) Elapsed 1m 8s (remain 0m 10s) Loss: 0.0205(0.0087) 468517.9390(197398.8272)Grad: 8.3874  \n",
      "Epoch: [183][92/93] Data 0.020 (0.021) Elapsed 1m 18s (remain 0m 0s) Loss: 0.0167(0.0087) 380806.4942(196995.6600)Grad: 4.3908  \n",
      "EVAL: [0/46] Data 0.382 (0.382) Elapsed 0m 0s (remain 0m 26s) Loss: 0.0238(0.0238) 544485.9671(272242.9835)\n",
      "EVAL: [20/46] Data 0.130 (0.149) Elapsed 0m 7s (remain 0m 8s) Loss: 0.0322(0.0172) 735532.4996(384031.8496)\n",
      "EVAL: [40/46] Data 0.126 (0.164) Elapsed 0m 15s (remain 0m 1s) Loss: 0.0251(0.0164) 572716.1314(370816.6516)\n"
     ]
    },
    {
     "name": "stderr",
     "output_type": "stream",
     "text": [
      "Epoch 183 - avg_train_loss: 0.0087  avg_val_loss: 0.0163  time: 95s\n",
      "Epoch 183 - MAE: 0.03238376827258277\n"
     ]
    },
    {
     "name": "stdout",
     "output_type": "stream",
     "text": [
      "EVAL: [45/46] Data 0.045 (0.158) Elapsed 0m 16s (remain 0m 0s) Loss: 0.0301(0.0163) 688121.3219(369966.8455)\n",
      "Epoch: [184][0/93] Data 0.380 (0.380) Elapsed 0m 1s (remain 1m 50s) Loss: 0.0163(0.0163) 373419.7561(186709.8780)Grad: 2.0213  \n",
      "Epoch: [184][20/93] Data 0.016 (0.033) Elapsed 0m 17s (remain 1m 0s) Loss: 0.0152(0.0084) 346968.0003(186417.6439)Grad: 1.9415  \n",
      "Epoch: [184][40/93] Data 0.016 (0.025) Elapsed 0m 34s (remain 0m 44s) Loss: 0.0155(0.0083) 354071.9312(186335.8600)Grad: 6.3704  \n",
      "Epoch: [184][60/93] Data 0.016 (0.022) Elapsed 0m 51s (remain 0m 26s) Loss: 0.0255(0.0086) 581918.2835(194004.5649)Grad: 11.7120  \n",
      "Epoch: [184][80/93] Data 0.015 (0.021) Elapsed 1m 8s (remain 0m 10s) Loss: 0.0176(0.0086) 401479.7254(194934.6638)Grad: 9.0340  \n",
      "Epoch: [184][92/93] Data 0.016 (0.020) Elapsed 1m 18s (remain 0m 0s) Loss: 0.0146(0.0086) 334053.8594(194802.7460)Grad: 2.5929  \n",
      "EVAL: [0/46] Data 0.382 (0.382) Elapsed 0m 0s (remain 0m 26s) Loss: 0.0274(0.0274) 627041.8506(313520.9253)\n",
      "EVAL: [20/46] Data 0.178 (0.150) Elapsed 0m 7s (remain 0m 8s) Loss: 0.0226(0.0173) 517034.0440(386741.5968)\n",
      "EVAL: [40/46] Data 0.120 (0.137) Elapsed 0m 13s (remain 0m 1s) Loss: 0.0255(0.0166) 582586.4236(374755.3060)\n"
     ]
    },
    {
     "name": "stderr",
     "output_type": "stream",
     "text": [
      "Epoch 184 - avg_train_loss: 0.0086  avg_val_loss: 0.0165  time: 94s\n",
      "Epoch 184 - MAE: 0.03279261124268154\n"
     ]
    },
    {
     "name": "stdout",
     "output_type": "stream",
     "text": [
      "EVAL: [45/46] Data 0.047 (0.134) Elapsed 0m 15s (remain 0m 0s) Loss: 0.0320(0.0165) 730913.9529(374637.6570)\n",
      "Epoch: [185][0/93] Data 0.398 (0.398) Elapsed 0m 1s (remain 2m 6s) Loss: 0.0192(0.0192) 438498.5347(219249.2673)Grad: 6.8445  \n",
      "Epoch: [185][20/93] Data 0.015 (0.036) Elapsed 0m 18s (remain 1m 2s) Loss: 0.0189(0.0091) 432257.4532(203491.9986)Grad: 8.2930  \n",
      "Epoch: [185][40/93] Data 0.023 (0.026) Elapsed 0m 35s (remain 0m 44s) Loss: 0.0243(0.0089) 555922.7007(201167.4220)Grad: 12.0794  \n",
      "Epoch: [185][60/93] Data 0.015 (0.023) Elapsed 0m 51s (remain 0m 27s) Loss: 0.0167(0.0089) 381867.5002(202113.9269)Grad: 5.7715  \n",
      "Epoch: [185][80/93] Data 0.022 (0.022) Elapsed 1m 8s (remain 0m 10s) Loss: 0.0212(0.0089) 483864.1797(202899.4702)Grad: 2.4774  \n",
      "Epoch: [185][92/93] Data 0.016 (0.021) Elapsed 1m 18s (remain 0m 0s) Loss: 0.0190(0.0088) 433533.9800(199330.9161)Grad: 2.0719  \n",
      "EVAL: [0/46] Data 0.520 (0.520) Elapsed 0m 0s (remain 0m 32s) Loss: 0.0260(0.0260) 594700.1072(297350.0536)\n",
      "EVAL: [20/46] Data 0.123 (0.149) Elapsed 0m 7s (remain 0m 8s) Loss: 0.0352(0.0178) 803380.9591(396475.8550)\n",
      "EVAL: [40/46] Data 0.118 (0.152) Elapsed 0m 14s (remain 0m 1s) Loss: 0.0255(0.0166) 582017.5746(375069.1080)\n"
     ]
    },
    {
     "name": "stderr",
     "output_type": "stream",
     "text": [
      "Epoch 185 - avg_train_loss: 0.0088  avg_val_loss: 0.0165  time: 95s\n",
      "Epoch 185 - MAE: 0.03270725900914139\n"
     ]
    },
    {
     "name": "stdout",
     "output_type": "stream",
     "text": [
      "EVAL: [45/46] Data 0.041 (0.147) Elapsed 0m 16s (remain 0m 0s) Loss: 0.0271(0.0165) 619195.9391(373662.5455)\n",
      "Epoch   185: reducing learning rate of group 0 to 1.2500e-05.\n",
      "Epoch: [186][0/93] Data 0.389 (0.389) Elapsed 0m 1s (remain 1m 50s) Loss: 0.0130(0.0130) 297822.6545(148911.3273)Grad: 8.4292  \n",
      "Epoch: [186][20/93] Data 0.023 (0.034) Elapsed 0m 18s (remain 1m 1s) Loss: 0.0138(0.0083) 315631.5952(185314.6282)Grad: 4.0561  \n",
      "Epoch: [186][40/93] Data 0.015 (0.025) Elapsed 0m 34s (remain 0m 43s) Loss: 0.0208(0.0080) 474511.5801(180703.8356)Grad: 8.2157  \n",
      "Epoch: [186][60/93] Data 0.021 (0.022) Elapsed 0m 51s (remain 0m 27s) Loss: 0.0103(0.0079) 235278.8631(179052.1035)Grad: 4.5446  \n",
      "Epoch: [186][80/93] Data 0.015 (0.021) Elapsed 1m 8s (remain 0m 10s) Loss: 0.0179(0.0079) 409896.4437(179665.8945)Grad: 1.5768  \n",
      "Epoch: [186][92/93] Data 0.015 (0.021) Elapsed 1m 18s (remain 0m 0s) Loss: 0.0236(0.0080) 539164.6369(182661.8437)Grad: 2.7777  \n",
      "EVAL: [0/46] Data 0.378 (0.378) Elapsed 0m 0s (remain 0m 26s) Loss: 0.0246(0.0246) 562224.1314(281112.0657)\n",
      "EVAL: [20/46] Data 0.124 (0.147) Elapsed 0m 7s (remain 0m 8s) Loss: 0.0329(0.0172) 751194.6161(384391.3195)\n",
      "EVAL: [40/46] Data 0.120 (0.135) Elapsed 0m 13s (remain 0m 1s) Loss: 0.0282(0.0162) 644748.5210(365511.3674)\n"
     ]
    },
    {
     "name": "stderr",
     "output_type": "stream",
     "text": [
      "Epoch 186 - avg_train_loss: 0.0080  avg_val_loss: 0.0161  time: 94s\n",
      "Epoch 186 - MAE: 0.031981703966303385\n"
     ]
    },
    {
     "name": "stdout",
     "output_type": "stream",
     "text": [
      "EVAL: [45/46] Data 0.043 (0.132) Elapsed 0m 15s (remain 0m 0s) Loss: 0.0261(0.0161) 595909.8583(365373.4776)\n",
      "Epoch: [187][0/93] Data 0.531 (0.531) Elapsed 0m 1s (remain 2m 9s) Loss: 0.0165(0.0165) 376552.5539(188276.2770)Grad: 6.4344  \n",
      "Epoch: [187][20/93] Data 0.015 (0.041) Elapsed 0m 18s (remain 1m 2s) Loss: 0.0183(0.0081) 417245.6869(181138.3148)Grad: 6.0946  \n",
      "Epoch: [187][40/93] Data 0.015 (0.029) Elapsed 0m 34s (remain 0m 44s) Loss: 0.0139(0.0078) 317481.0354(175878.5514)Grad: 2.3806  \n",
      "Epoch: [187][60/93] Data 0.016 (0.025) Elapsed 0m 51s (remain 0m 27s) Loss: 0.0156(0.0077) 355524.0368(174760.8463)Grad: 3.7192  \n",
      "Epoch: [187][80/93] Data 0.016 (0.023) Elapsed 1m 8s (remain 0m 10s) Loss: 0.0142(0.0079) 324413.0050(178400.5211)Grad: 4.6105  \n",
      "Epoch: [187][92/93] Data 0.015 (0.022) Elapsed 1m 18s (remain 0m 0s) Loss: 0.0188(0.0078) 429413.7614(177739.6722)Grad: 12.3990  \n",
      "EVAL: [0/46] Data 0.377 (0.377) Elapsed 0m 0s (remain 0m 26s) Loss: 0.0239(0.0239) 546980.0759(273490.0380)\n",
      "EVAL: [20/46] Data 0.129 (0.142) Elapsed 0m 7s (remain 0m 8s) Loss: 0.0284(0.0165) 648012.8274(369100.9837)\n",
      "EVAL: [40/46] Data 0.117 (0.147) Elapsed 0m 14s (remain 0m 1s) Loss: 0.0242(0.0159) 553143.4013(358539.9468)\n"
     ]
    },
    {
     "name": "stderr",
     "output_type": "stream",
     "text": [
      "Epoch 187 - avg_train_loss: 0.0078  avg_val_loss: 0.0158  time: 94s\n",
      "Epoch 187 - MAE: 0.03125795563493424\n",
      "Epoch 187 - Save Best Score: 0.0313 Model\n"
     ]
    },
    {
     "name": "stdout",
     "output_type": "stream",
     "text": [
      "EVAL: [45/46] Data 0.039 (0.143) Elapsed 0m 15s (remain 0m 0s) Loss: 0.0285(0.0158) 651212.1456(357105.0546)\n",
      "Epoch: [188][0/93] Data 0.378 (0.378) Elapsed 0m 1s (remain 1m 54s) Loss: 0.0236(0.0236) 539826.9464(269913.4732)Grad: 4.3295  \n",
      "Epoch: [188][20/93] Data 0.016 (0.034) Elapsed 0m 18s (remain 1m 2s) Loss: 0.0126(0.0072) 288294.9017(161461.8431)Grad: 5.7439  \n",
      "Epoch: [188][40/93] Data 0.016 (0.026) Elapsed 0m 34s (remain 0m 44s) Loss: 0.0124(0.0073) 282603.0068(164200.8214)Grad: 1.2603  \n",
      "Epoch: [188][60/93] Data 0.016 (0.023) Elapsed 0m 51s (remain 0m 27s) Loss: 0.0153(0.0073) 349036.3023(165125.4275)Grad: 2.2174  \n",
      "Epoch: [188][80/93] Data 0.016 (0.021) Elapsed 1m 8s (remain 0m 10s) Loss: 0.0136(0.0072) 310020.8824(164158.7438)Grad: 7.0802  \n",
      "Epoch: [188][92/93] Data 0.015 (0.021) Elapsed 1m 18s (remain 0m 0s) Loss: 0.0152(0.0072) 348134.6600(163831.1500)Grad: 2.4958  \n",
      "EVAL: [0/46] Data 0.395 (0.395) Elapsed 0m 0s (remain 0m 26s) Loss: 0.0246(0.0246) 562554.9031(281277.4516)\n",
      "EVAL: [20/46] Data 0.124 (0.154) Elapsed 0m 7s (remain 0m 8s) Loss: 0.0276(0.0167) 630530.0621(372726.7582)\n",
      "EVAL: [40/46] Data 0.259 (0.145) Elapsed 0m 14s (remain 0m 1s) Loss: 0.0218(0.0156) 498365.8715(352094.0326)\n"
     ]
    },
    {
     "name": "stderr",
     "output_type": "stream",
     "text": [
      "Epoch 188 - avg_train_loss: 0.0072  avg_val_loss: 0.0155  time: 94s\n",
      "Epoch 188 - MAE: 0.030750850437557896\n",
      "Epoch 188 - Save Best Score: 0.0308 Model\n"
     ]
    },
    {
     "name": "stdout",
     "output_type": "stream",
     "text": [
      "EVAL: [45/46] Data 0.040 (0.141) Elapsed 0m 15s (remain 0m 0s) Loss: 0.0286(0.0155) 652551.4901(351311.6456)\n",
      "Epoch: [189][0/93] Data 0.384 (0.384) Elapsed 0m 1s (remain 1m 55s) Loss: 0.0150(0.0150) 343266.5237(171633.2619)Grad: 7.4489  \n",
      "Epoch: [189][20/93] Data 0.015 (0.034) Elapsed 0m 18s (remain 1m 1s) Loss: 0.0191(0.0077) 436395.0361(170982.1886)Grad: 7.0565  \n",
      "Epoch: [189][40/93] Data 0.016 (0.025) Elapsed 0m 34s (remain 0m 44s) Loss: 0.0137(0.0078) 312612.6225(175718.7240)Grad: 7.6602  \n",
      "Epoch: [189][60/93] Data 0.016 (0.022) Elapsed 0m 51s (remain 0m 27s) Loss: 0.0184(0.0075) 420876.9405(170892.6359)Grad: 9.2237  \n",
      "Epoch: [189][80/93] Data 0.015 (0.021) Elapsed 1m 8s (remain 0m 10s) Loss: 0.0202(0.0076) 460621.3818(173098.8085)Grad: 4.9104  \n",
      "Epoch: [189][92/93] Data 0.015 (0.020) Elapsed 1m 18s (remain 0m 0s) Loss: 0.0261(0.0076) 595390.5484(172740.2262)Grad: 7.0654  \n",
      "EVAL: [0/46] Data 0.391 (0.391) Elapsed 0m 0s (remain 0m 26s) Loss: 0.0229(0.0229) 523865.4244(261932.7122)\n",
      "EVAL: [20/46] Data 0.125 (0.149) Elapsed 0m 7s (remain 0m 8s) Loss: 0.0254(0.0163) 579415.8330(362572.7488)\n",
      "EVAL: [40/46] Data 0.118 (0.148) Elapsed 0m 14s (remain 0m 1s) Loss: 0.0215(0.0155) 490116.7947(348737.4278)\n"
     ]
    },
    {
     "name": "stderr",
     "output_type": "stream",
     "text": [
      "Epoch 189 - avg_train_loss: 0.0076  avg_val_loss: 0.0154  time: 95s\n",
      "Epoch 189 - MAE: 0.030565585049934778\n",
      "Epoch 189 - Save Best Score: 0.0306 Model\n"
     ]
    },
    {
     "name": "stdout",
     "output_type": "stream",
     "text": [
      "EVAL: [45/46] Data 0.041 (0.143) Elapsed 0m 15s (remain 0m 0s) Loss: 0.0277(0.0154) 633801.7738(349195.0978)\n",
      "Epoch: [190][0/93] Data 0.470 (0.470) Elapsed 0m 1s (remain 2m 5s) Loss: 0.0133(0.0133) 303452.0722(151726.0361)Grad: 6.2401  \n",
      "Epoch: [190][20/93] Data 0.015 (0.038) Elapsed 0m 18s (remain 1m 2s) Loss: 0.0135(0.0072) 308374.7697(161695.9887)Grad: 5.1394  \n",
      "Epoch: [190][40/93] Data 0.022 (0.027) Elapsed 0m 34s (remain 0m 44s) Loss: 0.0182(0.0075) 416358.9191(169915.6603)Grad: 10.2438  \n",
      "Epoch: [190][60/93] Data 0.015 (0.024) Elapsed 0m 51s (remain 0m 27s) Loss: 0.0133(0.0074) 302922.2714(167264.1914)Grad: 5.8440  \n",
      "Epoch: [190][80/93] Data 0.015 (0.022) Elapsed 1m 8s (remain 0m 10s) Loss: 0.0139(0.0074) 317110.8537(167823.6195)Grad: 9.4704  \n",
      "Epoch: [190][92/93] Data 0.020 (0.021) Elapsed 1m 18s (remain 0m 0s) Loss: 0.0128(0.0074) 292328.8098(168826.9468)Grad: 1.5990  \n",
      "EVAL: [0/46] Data 0.379 (0.379) Elapsed 0m 0s (remain 0m 26s) Loss: 0.0233(0.0233) 533066.0018(266533.0009)\n",
      "EVAL: [20/46] Data 0.120 (0.137) Elapsed 0m 7s (remain 0m 8s) Loss: 0.0281(0.0164) 641042.3629(365416.5410)\n",
      "EVAL: [40/46] Data 0.116 (0.135) Elapsed 0m 13s (remain 0m 1s) Loss: 0.0235(0.0154) 537498.1808(348250.6759)\n"
     ]
    },
    {
     "name": "stderr",
     "output_type": "stream",
     "text": [
      "Epoch 190 - avg_train_loss: 0.0074  avg_val_loss: 0.0154  time: 94s\n",
      "Epoch 190 - MAE: 0.03046095480692139\n",
      "Epoch 190 - Save Best Score: 0.0305 Model\n"
     ]
    },
    {
     "name": "stdout",
     "output_type": "stream",
     "text": [
      "EVAL: [45/46] Data 0.038 (0.131) Elapsed 0m 15s (remain 0m 0s) Loss: 0.0231(0.0154) 528783.6319(347999.7481)\n",
      "Epoch: [191][0/93] Data 0.379 (0.379) Elapsed 0m 1s (remain 1m 54s) Loss: 0.0115(0.0115) 262552.7602(131276.3801)Grad: 4.0460  \n",
      "Epoch: [191][20/93] Data 0.014 (0.034) Elapsed 0m 18s (remain 1m 1s) Loss: 0.0144(0.0081) 329111.1590(179790.4240)Grad: 9.2622  \n",
      "Epoch: [191][40/93] Data 0.015 (0.025) Elapsed 0m 34s (remain 0m 44s) Loss: 0.0104(0.0076) 238273.5982(170476.2829)Grad: 3.3726  \n",
      "Epoch: [191][60/93] Data 0.015 (0.022) Elapsed 0m 51s (remain 0m 26s) Loss: 0.0150(0.0073) 342094.1185(165798.4708)Grad: 3.6940  \n",
      "Epoch: [191][80/93] Data 0.016 (0.021) Elapsed 1m 8s (remain 0m 10s) Loss: 0.0137(0.0074) 313390.5871(167180.4934)Grad: 6.3187  \n",
      "Epoch: [191][92/93] Data 0.021 (0.020) Elapsed 1m 18s (remain 0m 0s) Loss: 0.0161(0.0075) 366945.6619(169996.1900)Grad: 2.2520  \n",
      "EVAL: [0/46] Data 0.378 (0.378) Elapsed 0m 0s (remain 0m 26s) Loss: 0.0246(0.0246) 561362.6439(280681.3220)\n",
      "EVAL: [20/46] Data 0.125 (0.150) Elapsed 0m 7s (remain 0m 8s) Loss: 0.0252(0.0166) 575118.4396(370407.4622)\n",
      "EVAL: [40/46] Data 0.121 (0.150) Elapsed 0m 14s (remain 0m 1s) Loss: 0.0209(0.0158) 477694.2150(355648.0030)\n"
     ]
    },
    {
     "name": "stderr",
     "output_type": "stream",
     "text": [
      "Epoch 191 - avg_train_loss: 0.0075  avg_val_loss: 0.0158  time: 94s\n",
      "Epoch 191 - MAE: 0.03126644935279168\n"
     ]
    },
    {
     "name": "stdout",
     "output_type": "stream",
     "text": [
      "EVAL: [45/46] Data 0.047 (0.151) Elapsed 0m 16s (remain 0m 0s) Loss: 0.0280(0.0158) 638972.7416(357202.0917)\n",
      "Epoch: [192][0/93] Data 0.380 (0.380) Elapsed 0m 1s (remain 1m 51s) Loss: 0.0165(0.0165) 376036.5211(188018.2606)Grad: 7.4394  \n",
      "Epoch: [192][20/93] Data 0.016 (0.033) Elapsed 0m 17s (remain 1m 1s) Loss: 0.0141(0.0087) 321435.2724(193316.9491)Grad: 2.1594  \n",
      "Epoch: [192][40/93] Data 0.015 (0.025) Elapsed 0m 34s (remain 0m 43s) Loss: 0.0142(0.0080) 324927.0801(180161.5810)Grad: 4.0115  \n",
      "Epoch: [192][60/93] Data 0.016 (0.022) Elapsed 0m 51s (remain 0m 26s) Loss: 0.0147(0.0080) 335258.8013(181267.9169)Grad: 1.2097  \n",
      "Epoch: [192][80/93] Data 0.015 (0.021) Elapsed 1m 8s (remain 0m 10s) Loss: 0.0108(0.0078) 246838.1466(176463.8329)Grad: 4.4844  \n",
      "Epoch: [192][92/93] Data 0.016 (0.020) Elapsed 1m 18s (remain 0m 0s) Loss: 0.0258(0.0077) 588962.9291(174287.1084)Grad: 10.3694  \n",
      "EVAL: [0/46] Data 0.378 (0.378) Elapsed 0m 0s (remain 0m 26s) Loss: 0.0248(0.0248) 567031.9824(283515.9912)\n",
      "EVAL: [20/46] Data 0.125 (0.161) Elapsed 0m 7s (remain 0m 9s) Loss: 0.0247(0.0165) 565386.9762(369054.5331)\n",
      "EVAL: [40/46] Data 0.120 (0.149) Elapsed 0m 14s (remain 0m 1s) Loss: 0.0219(0.0158) 499356.4842(356731.3340)\n"
     ]
    },
    {
     "name": "stderr",
     "output_type": "stream",
     "text": [
      "Epoch 192 - avg_train_loss: 0.0077  avg_val_loss: 0.0158  time: 94s\n",
      "Epoch 192 - MAE: 0.0312964267959993\n"
     ]
    },
    {
     "name": "stdout",
     "output_type": "stream",
     "text": [
      "EVAL: [45/46] Data 0.039 (0.144) Elapsed 0m 15s (remain 0m 0s) Loss: 0.0281(0.0158) 641414.5874(357544.5657)\n",
      "Epoch: [193][0/93] Data 0.377 (0.377) Elapsed 0m 1s (remain 1m 50s) Loss: 0.0136(0.0136) 311241.3372(155620.6686)Grad: 6.6888  \n",
      "Epoch: [193][20/93] Data 0.019 (0.033) Elapsed 0m 18s (remain 1m 1s) Loss: 0.0187(0.0082) 428073.4381(182560.7464)Grad: 3.9337  \n",
      "Epoch: [193][40/93] Data 0.016 (0.025) Elapsed 0m 34s (remain 0m 44s) Loss: 0.0143(0.0079) 326089.6541(177720.5982)Grad: 2.7200  \n",
      "Epoch: [193][60/93] Data 0.015 (0.022) Elapsed 0m 51s (remain 0m 27s) Loss: 0.0124(0.0076) 282786.8634(171744.7563)Grad: 9.2017  \n",
      "Epoch: [193][80/93] Data 0.016 (0.021) Elapsed 1m 8s (remain 0m 10s) Loss: 0.0138(0.0074) 316306.6086(167414.6762)Grad: 4.1695  \n",
      "Epoch: [193][92/93] Data 0.014 (0.020) Elapsed 1m 18s (remain 0m 0s) Loss: 0.0179(0.0073) 408382.6907(167258.2695)Grad: 8.3049  \n",
      "EVAL: [0/46] Data 0.388 (0.388) Elapsed 0m 0s (remain 0m 26s) Loss: 0.0229(0.0229) 523279.6367(261639.8184)\n",
      "EVAL: [20/46] Data 0.124 (0.163) Elapsed 0m 7s (remain 0m 9s) Loss: 0.0283(0.0165) 647622.0470(367090.4044)\n",
      "EVAL: [40/46] Data 0.124 (0.161) Elapsed 0m 14s (remain 0m 1s) Loss: 0.0230(0.0157) 525114.8834(353743.5516)\n"
     ]
    },
    {
     "name": "stderr",
     "output_type": "stream",
     "text": [
      "Epoch 193 - avg_train_loss: 0.0073  avg_val_loss: 0.0155  time: 95s\n",
      "Epoch 193 - MAE: 0.03081993593976894\n"
     ]
    },
    {
     "name": "stdout",
     "output_type": "stream",
     "text": [
      "EVAL: [45/46] Data 0.042 (0.155) Elapsed 0m 16s (remain 0m 0s) Loss: 0.0248(0.0155) 567580.5305(352100.9100)\n",
      "Epoch: [194][0/93] Data 0.380 (0.380) Elapsed 0m 1s (remain 1m 49s) Loss: 0.0167(0.0167) 381108.0701(190554.0351)Grad: 3.7420  \n",
      "Epoch: [194][20/93] Data 0.016 (0.034) Elapsed 0m 17s (remain 1m 1s) Loss: 0.0170(0.0071) 389513.2548(158198.7294)Grad: 7.5554  \n",
      "Epoch: [194][40/93] Data 0.016 (0.025) Elapsed 0m 34s (remain 0m 44s) Loss: 0.0120(0.0072) 275018.2398(162460.9875)Grad: 7.4905  \n",
      "Epoch: [194][60/93] Data 0.016 (0.022) Elapsed 0m 51s (remain 0m 27s) Loss: 0.0114(0.0073) 260040.5636(166207.1747)Grad: 1.8084  \n",
      "Epoch: [194][80/93] Data 0.015 (0.021) Elapsed 1m 8s (remain 0m 10s) Loss: 0.0126(0.0072) 288077.9764(163923.9132)Grad: 1.9813  \n",
      "Epoch: [194][92/93] Data 0.015 (0.020) Elapsed 1m 18s (remain 0m 0s) Loss: 0.0121(0.0072) 275753.9642(164163.6987)Grad: 5.9324  \n",
      "EVAL: [0/46] Data 0.380 (0.380) Elapsed 0m 0s (remain 0m 26s) Loss: 0.0213(0.0213) 487678.7366(243839.3683)\n",
      "EVAL: [20/46] Data 0.118 (0.172) Elapsed 0m 7s (remain 0m 9s) Loss: 0.0267(0.0162) 609105.8276(362039.2900)\n",
      "EVAL: [40/46] Data 0.121 (0.148) Elapsed 0m 14s (remain 0m 1s) Loss: 0.0216(0.0153) 494548.5482(345146.5922)\n"
     ]
    },
    {
     "name": "stderr",
     "output_type": "stream",
     "text": [
      "Epoch 194 - avg_train_loss: 0.0072  avg_val_loss: 0.0152  time: 94s\n",
      "Epoch 194 - MAE: 0.030062798003779114\n",
      "Epoch 194 - Save Best Score: 0.0301 Model\n"
     ]
    },
    {
     "name": "stdout",
     "output_type": "stream",
     "text": [
      "EVAL: [45/46] Data 0.046 (0.143) Elapsed 0m 15s (remain 0m 0s) Loss: 0.0242(0.0152) 552115.7194(343451.0216)\n",
      "Epoch: [195][0/93] Data 0.563 (0.563) Elapsed 0m 1s (remain 2m 12s) Loss: 0.0167(0.0167) 381850.4764(190925.2382)Grad: 5.1146  \n",
      "Epoch: [195][20/93] Data 0.017 (0.042) Elapsed 0m 18s (remain 1m 1s) Loss: 0.0092(0.0068) 209651.0361(152362.5014)Grad: 2.5922  \n",
      "Epoch: [195][40/93] Data 0.015 (0.030) Elapsed 0m 34s (remain 0m 44s) Loss: 0.0120(0.0070) 273497.4646(158135.2794)Grad: 5.9844  \n",
      "Epoch: [195][60/93] Data 0.015 (0.025) Elapsed 0m 51s (remain 0m 27s) Loss: 0.0131(0.0071) 298994.8895(160027.6280)Grad: 1.5709  \n",
      "Epoch: [195][80/93] Data 0.015 (0.023) Elapsed 1m 8s (remain 0m 10s) Loss: 0.0129(0.0071) 294288.2449(162248.0903)Grad: 3.1802  \n",
      "Epoch: [195][92/93] Data 0.015 (0.022) Elapsed 1m 18s (remain 0m 0s) Loss: 0.0222(0.0071) 506991.3862(161264.4686)Grad: 8.1407  \n",
      "EVAL: [0/46] Data 0.385 (0.385) Elapsed 0m 0s (remain 0m 26s) Loss: 0.0240(0.0240) 549385.4909(274692.7455)\n",
      "EVAL: [20/46] Data 0.140 (0.157) Elapsed 0m 7s (remain 0m 9s) Loss: 0.0274(0.0165) 626159.8495(368385.7212)\n",
      "EVAL: [40/46] Data 0.119 (0.158) Elapsed 0m 14s (remain 0m 1s) Loss: 0.0224(0.0156) 512613.5262(351262.7260)\n"
     ]
    },
    {
     "name": "stderr",
     "output_type": "stream",
     "text": [
      "Epoch 195 - avg_train_loss: 0.0071  avg_val_loss: 0.0155  time: 95s\n",
      "Epoch 195 - MAE: 0.0307489415487009\n"
     ]
    },
    {
     "name": "stdout",
     "output_type": "stream",
     "text": [
      "EVAL: [45/46] Data 0.038 (0.152) Elapsed 0m 16s (remain 0m 0s) Loss: 0.0272(0.0155) 621000.7558(351289.8418)\n",
      "Epoch: [196][0/93] Data 0.380 (0.380) Elapsed 0m 1s (remain 1m 49s) Loss: 0.0210(0.0210) 478831.0193(239415.5096)Grad: 3.8801  \n",
      "Epoch: [196][20/93] Data 0.015 (0.033) Elapsed 0m 17s (remain 1m 1s) Loss: 0.0172(0.0078) 393185.4931(173502.5110)Grad: 9.1549  \n",
      "Epoch: [196][40/93] Data 0.015 (0.025) Elapsed 0m 34s (remain 0m 43s) Loss: 0.0109(0.0075) 248807.8597(169070.8543)Grad: 6.3651  \n",
      "Epoch: [196][60/93] Data 0.016 (0.022) Elapsed 0m 51s (remain 0m 26s) Loss: 0.0116(0.0074) 265238.4715(167169.5109)Grad: 2.1394  \n",
      "Epoch: [196][80/93] Data 0.015 (0.021) Elapsed 1m 8s (remain 0m 10s) Loss: 0.0155(0.0071) 353186.3976(162243.6936)Grad: 6.1807  \n",
      "Epoch: [196][92/93] Data 0.014 (0.020) Elapsed 1m 17s (remain 0m 0s) Loss: 0.0138(0.0071) 315420.0537(161957.8104)Grad: 3.7262  \n",
      "EVAL: [0/46] Data 0.374 (0.374) Elapsed 0m 0s (remain 0m 25s) Loss: 0.0242(0.0242) 553455.8299(276727.9150)\n",
      "EVAL: [20/46] Data 0.246 (0.166) Elapsed 0m 7s (remain 0m 9s) Loss: 0.0253(0.0167) 577697.3694(371672.0967)\n",
      "EVAL: [40/46] Data 0.205 (0.148) Elapsed 0m 14s (remain 0m 1s) Loss: 0.0226(0.0155) 515415.2119(350817.5219)\n"
     ]
    },
    {
     "name": "stderr",
     "output_type": "stream",
     "text": [
      "Epoch 196 - avg_train_loss: 0.0071  avg_val_loss: 0.0155  time: 94s\n",
      "Epoch 196 - MAE: 0.030744920569048134\n"
     ]
    },
    {
     "name": "stdout",
     "output_type": "stream",
     "text": [
      "EVAL: [45/46] Data 0.037 (0.146) Elapsed 0m 16s (remain 0m 0s) Loss: 0.0256(0.0155) 585987.3457(351243.9160)\n",
      "Epoch: [197][0/93] Data 0.370 (0.370) Elapsed 0m 1s (remain 1m 48s) Loss: 0.0111(0.0111) 253891.6871(126945.8435)Grad: 3.0872  \n",
      "Epoch: [197][20/93] Data 0.015 (0.032) Elapsed 0m 17s (remain 1m 0s) Loss: 0.0123(0.0070) 280969.9386(155741.4314)Grad: 2.8678  \n",
      "Epoch: [197][40/93] Data 0.016 (0.024) Elapsed 0m 34s (remain 0m 43s) Loss: 0.0162(0.0068) 370472.9003(154581.6196)Grad: 4.0784  \n",
      "Epoch: [197][60/93] Data 0.015 (0.021) Elapsed 0m 51s (remain 0m 26s) Loss: 0.0169(0.0068) 387013.1876(154608.2824)Grad: 4.8111  \n",
      "Epoch: [197][80/93] Data 0.014 (0.020) Elapsed 1m 8s (remain 0m 10s) Loss: 0.0131(0.0068) 298922.8577(154333.7654)Grad: 5.6369  \n",
      "Epoch: [197][92/93] Data 0.014 (0.020) Elapsed 1m 17s (remain 0m 0s) Loss: 0.0154(0.0068) 351852.1177(155377.4204)Grad: 2.8495  \n",
      "EVAL: [0/46] Data 0.379 (0.379) Elapsed 0m 0s (remain 0m 26s) Loss: 0.0246(0.0246) 562103.7734(281051.8867)\n",
      "EVAL: [20/46] Data 0.142 (0.135) Elapsed 0m 7s (remain 0m 8s) Loss: 0.0242(0.0166) 553254.9921(369942.1926)\n",
      "EVAL: [40/46] Data 0.114 (0.155) Elapsed 0m 14s (remain 0m 1s) Loss: 0.0217(0.0155) 495900.2349(350240.3504)\n"
     ]
    },
    {
     "name": "stderr",
     "output_type": "stream",
     "text": [
      "Epoch 197 - avg_train_loss: 0.0068  avg_val_loss: 0.0155  time: 94s\n",
      "Epoch 197 - MAE: 0.030763862667379537\n"
     ]
    },
    {
     "name": "stdout",
     "output_type": "stream",
     "text": [
      "EVAL: [45/46] Data 0.040 (0.149) Elapsed 0m 16s (remain 0m 0s) Loss: 0.0257(0.0155) 586748.1802(351460.3154)\n",
      "Epoch: [198][0/93] Data 0.374 (0.374) Elapsed 0m 1s (remain 1m 48s) Loss: 0.0156(0.0156) 355840.3383(177920.1691)Grad: 1.6453  \n",
      "Epoch: [198][20/93] Data 0.015 (0.032) Elapsed 0m 17s (remain 1m 0s) Loss: 0.0112(0.0076) 256807.2830(169915.5404)Grad: 6.2609  \n",
      "Epoch: [198][40/93] Data 0.016 (0.025) Elapsed 0m 34s (remain 0m 44s) Loss: 0.0131(0.0074) 299874.4009(167283.2474)Grad: 2.1362  \n",
      "Epoch: [198][60/93] Data 0.016 (0.022) Elapsed 0m 51s (remain 0m 27s) Loss: 0.0158(0.0075) 360618.1848(169003.7883)Grad: 4.5624  \n",
      "Epoch: [198][80/93] Data 0.016 (0.021) Elapsed 1m 8s (remain 0m 10s) Loss: 0.0136(0.0073) 310967.9994(165732.4364)Grad: 7.6020  \n",
      "Epoch: [198][92/93] Data 0.016 (0.021) Elapsed 1m 18s (remain 0m 0s) Loss: 0.0153(0.0073) 350728.4430(166233.1758)Grad: 2.6623  \n",
      "EVAL: [0/46] Data 0.387 (0.387) Elapsed 0m 0s (remain 0m 26s) Loss: 0.0263(0.0263) 601422.5781(300711.2891)\n",
      "EVAL: [20/46] Data 0.142 (0.160) Elapsed 0m 7s (remain 0m 9s) Loss: 0.0215(0.0165) 490407.4329(367342.6236)\n",
      "EVAL: [40/46] Data 0.141 (0.165) Elapsed 0m 15s (remain 0m 1s) Loss: 0.0214(0.0156) 489985.4990(352939.8904)\n"
     ]
    },
    {
     "name": "stderr",
     "output_type": "stream",
     "text": [
      "Epoch 198 - avg_train_loss: 0.0073  avg_val_loss: 0.0156  time: 95s\n",
      "Epoch 198 - MAE: 0.03088680086887\n"
     ]
    },
    {
     "name": "stdout",
     "output_type": "stream",
     "text": [
      "EVAL: [45/46] Data 0.051 (0.161) Elapsed 0m 16s (remain 0m 0s) Loss: 0.0274(0.0156) 625295.7233(352864.8156)\n",
      "Epoch: [199][0/93] Data 0.403 (0.403) Elapsed 0m 1s (remain 1m 53s) Loss: 0.0208(0.0208) 475729.0344(237864.5172)Grad: 5.6064  \n",
      "Epoch: [199][20/93] Data 0.015 (0.034) Elapsed 0m 17s (remain 1m 1s) Loss: 0.0109(0.0079) 248469.5124(176812.4563)Grad: 3.0052  \n",
      "Epoch: [199][40/93] Data 0.015 (0.026) Elapsed 0m 34s (remain 0m 44s) Loss: 0.0115(0.0074) 262907.3864(166125.9866)Grad: 5.6369  \n",
      "Epoch: [199][60/93] Data 0.022 (0.023) Elapsed 0m 51s (remain 0m 27s) Loss: 0.0142(0.0073) 324438.5619(165993.7339)Grad: 1.3961  \n",
      "Epoch: [199][80/93] Data 0.016 (0.021) Elapsed 1m 8s (remain 0m 10s) Loss: 0.0121(0.0072) 276975.8235(163246.0517)Grad: 4.1061  \n",
      "Epoch: [199][92/93] Data 0.015 (0.021) Elapsed 1m 18s (remain 0m 0s) Loss: 0.0260(0.0072) 593191.8870(162829.5941)Grad: 7.5098  \n",
      "EVAL: [0/46] Data 0.375 (0.375) Elapsed 0m 0s (remain 0m 25s) Loss: 0.0243(0.0243) 555435.2679(277717.6339)\n",
      "EVAL: [20/46] Data 0.145 (0.154) Elapsed 0m 7s (remain 0m 8s) Loss: 0.0241(0.0166) 549717.1989(369580.7862)\n",
      "EVAL: [40/46] Data 0.122 (0.161) Elapsed 0m 14s (remain 0m 1s) Loss: 0.0202(0.0157) 461156.7791(355375.1915)\n"
     ]
    },
    {
     "name": "stderr",
     "output_type": "stream",
     "text": [
      "Epoch 199 - avg_train_loss: 0.0072  avg_val_loss: 0.0157  time: 95s\n",
      "Epoch 199 - MAE: 0.0312315985262919\n"
     ]
    },
    {
     "name": "stdout",
     "output_type": "stream",
     "text": [
      "EVAL: [45/46] Data 0.143 (0.158) Elapsed 0m 16s (remain 0m 0s) Loss: 0.0281(0.0157) 642811.0041(356803.9414)\n",
      "Epoch: [200][0/93] Data 0.384 (0.384) Elapsed 0m 1s (remain 1m 50s) Loss: 0.0122(0.0122) 278960.5388(139480.2694)Grad: 8.4438  \n",
      "Epoch: [200][20/93] Data 0.015 (0.033) Elapsed 0m 17s (remain 1m 0s) Loss: 0.0131(0.0075) 298519.3307(167802.1371)Grad: 5.3521  \n",
      "Epoch: [200][40/93] Data 0.016 (0.025) Elapsed 0m 34s (remain 0m 43s) Loss: 0.0118(0.0074) 268697.1041(166095.7818)Grad: 7.3263  \n",
      "Epoch: [200][60/93] Data 0.015 (0.022) Elapsed 0m 51s (remain 0m 26s) Loss: 0.0184(0.0075) 419564.7489(169987.7902)Grad: 10.5841  \n",
      "Epoch: [200][80/93] Data 0.014 (0.021) Elapsed 1m 7s (remain 0m 10s) Loss: 0.0172(0.0074) 393118.8451(168176.4846)Grad: 5.8396  \n",
      "Epoch: [200][92/93] Data 0.014 (0.020) Elapsed 1m 17s (remain 0m 0s) Loss: 0.0105(0.0072) 239573.6178(163831.7902)Grad: 4.5347  \n",
      "EVAL: [0/46] Data 0.374 (0.374) Elapsed 0m 0s (remain 0m 25s) Loss: 0.0215(0.0215) 491205.4218(245602.7109)\n",
      "EVAL: [20/46] Data 0.127 (0.140) Elapsed 0m 7s (remain 0m 8s) Loss: 0.0285(0.0164) 650621.2083(366101.5711)\n",
      "EVAL: [40/46] Data 0.173 (0.144) Elapsed 0m 14s (remain 0m 1s) Loss: 0.0224(0.0155) 511649.0450(349633.8478)\n"
     ]
    },
    {
     "name": "stderr",
     "output_type": "stream",
     "text": [
      "Epoch 200 - avg_train_loss: 0.0072  avg_val_loss: 0.0154  time: 94s\n",
      "Epoch 200 - MAE: 0.03060159431736281\n"
     ]
    },
    {
     "name": "stdout",
     "output_type": "stream",
     "text": [
      "EVAL: [45/46] Data 0.060 (0.144) Elapsed 0m 15s (remain 0m 0s) Loss: 0.0257(0.0154) 588246.9522(349606.4822)\n",
      "Epoch: [201][0/93] Data 0.384 (0.384) Elapsed 0m 1s (remain 1m 52s) Loss: 0.0141(0.0141) 321152.6141(160576.3070)Grad: 3.1374  \n",
      "Epoch: [201][20/93] Data 0.016 (0.033) Elapsed 0m 17s (remain 1m 1s) Loss: 0.0126(0.0071) 288640.1436(158456.3308)Grad: 6.4523  \n",
      "Epoch: [201][40/93] Data 0.015 (0.025) Elapsed 0m 34s (remain 0m 43s) Loss: 0.0126(0.0071) 288820.6168(160343.4183)Grad: 7.8688  \n",
      "Epoch: [201][60/93] Data 0.015 (0.022) Elapsed 0m 51s (remain 0m 26s) Loss: 0.0147(0.0070) 335253.8432(158205.5798)Grad: 1.5603  \n",
      "Epoch: [201][80/93] Data 0.015 (0.020) Elapsed 1m 7s (remain 0m 10s) Loss: 0.0145(0.0071) 330934.5104(161714.4175)Grad: 10.2154  \n",
      "Epoch: [201][92/93] Data 0.015 (0.020) Elapsed 1m 17s (remain 0m 0s) Loss: 0.0129(0.0071) 295855.6226(161431.4987)Grad: 8.3044  \n",
      "EVAL: [0/46] Data 0.381 (0.381) Elapsed 0m 0s (remain 0m 26s) Loss: 0.0258(0.0258) 588564.5305(294282.2653)\n",
      "EVAL: [20/46] Data 0.121 (0.145) Elapsed 0m 7s (remain 0m 8s) Loss: 0.0224(0.0163) 511893.7616(362977.1047)\n",
      "EVAL: [40/46] Data 0.114 (0.143) Elapsed 0m 14s (remain 0m 1s) Loss: 0.0226(0.0156) 517192.5352(350994.9323)\n"
     ]
    },
    {
     "name": "stderr",
     "output_type": "stream",
     "text": [
      "Epoch 201 - avg_train_loss: 0.0071  avg_val_loss: 0.0155  time: 94s\n",
      "Epoch 201 - MAE: 0.030811911375577268\n"
     ]
    },
    {
     "name": "stdout",
     "output_type": "stream",
     "text": [
      "EVAL: [45/46] Data 0.069 (0.145) Elapsed 0m 15s (remain 0m 0s) Loss: 0.0287(0.0155) 654965.2468(352009.2410)\n",
      "Epoch: [202][0/93] Data 0.383 (0.383) Elapsed 0m 1s (remain 2m 7s) Loss: 0.0147(0.0147) 336725.5474(168362.7737)Grad: 4.3976  \n",
      "Epoch: [202][20/93] Data 0.015 (0.033) Elapsed 0m 18s (remain 1m 1s) Loss: 0.0152(0.0073) 348066.0968(163514.5962)Grad: 5.2939  \n",
      "Epoch: [202][40/93] Data 0.021 (0.025) Elapsed 0m 34s (remain 0m 44s) Loss: 0.0195(0.0073) 446426.6284(165760.2842)Grad: 9.0040  \n",
      "Epoch: [202][60/93] Data 0.015 (0.022) Elapsed 0m 51s (remain 0m 26s) Loss: 0.0189(0.0077) 431563.9903(173612.2414)Grad: 11.7227  \n",
      "Epoch: [202][80/93] Data 0.015 (0.021) Elapsed 1m 8s (remain 0m 10s) Loss: 0.0115(0.0076) 263374.0290(172199.8487)Grad: 2.3382  \n",
      "Epoch: [202][92/93] Data 0.014 (0.020) Elapsed 1m 18s (remain 0m 0s) Loss: 0.0132(0.0076) 301560.5407(172082.2513)Grad: 2.1539  \n",
      "EVAL: [0/46] Data 0.422 (0.422) Elapsed 0m 0s (remain 0m 28s) Loss: 0.0233(0.0233) 531937.0710(265968.5355)\n",
      "EVAL: [20/46] Data 0.119 (0.159) Elapsed 0m 7s (remain 0m 8s) Loss: 0.0291(0.0165) 665884.2879(369094.4670)\n",
      "EVAL: [40/46] Data 0.112 (0.146) Elapsed 0m 14s (remain 0m 1s) Loss: 0.0207(0.0157) 473727.2953(354507.5734)\n"
     ]
    },
    {
     "name": "stderr",
     "output_type": "stream",
     "text": [
      "Epoch 202 - avg_train_loss: 0.0076  avg_val_loss: 0.0157  time: 94s\n",
      "Epoch 202 - MAE: 0.031084350416879323\n"
     ]
    },
    {
     "name": "stdout",
     "output_type": "stream",
     "text": [
      "EVAL: [45/46] Data 0.035 (0.141) Elapsed 0m 15s (remain 0m 0s) Loss: 0.0260(0.0157) 593312.8834(355121.7125)\n",
      "Epoch: [203][0/93] Data 0.370 (0.370) Elapsed 0m 1s (remain 1m 48s) Loss: 0.0135(0.0135) 307652.8770(153826.4385)Grad: 6.0297  \n",
      "Epoch: [203][20/93] Data 0.015 (0.032) Elapsed 0m 18s (remain 1m 1s) Loss: 0.0141(0.0067) 321770.3000(149543.5102)Grad: 1.5641  \n",
      "Epoch: [203][40/93] Data 0.015 (0.024) Elapsed 0m 34s (remain 0m 43s) Loss: 0.0145(0.0069) 330578.2669(156000.7879)Grad: 2.1392  \n",
      "Epoch: [203][60/93] Data 0.015 (0.021) Elapsed 0m 51s (remain 0m 26s) Loss: 0.0126(0.0068) 287938.6369(153367.0417)Grad: 1.7625  \n",
      "Epoch: [203][80/93] Data 0.016 (0.020) Elapsed 1m 7s (remain 0m 10s) Loss: 0.0206(0.0069) 470726.3465(155890.3899)Grad: 8.4202  \n",
      "Epoch: [203][92/93] Data 0.015 (0.020) Elapsed 1m 17s (remain 0m 0s) Loss: 0.0162(0.0070) 370907.6446(158505.9586)Grad: 6.4262  \n",
      "EVAL: [0/46] Data 0.369 (0.369) Elapsed 0m 0s (remain 0m 25s) Loss: 0.0230(0.0230) 525407.8624(262703.9312)\n",
      "EVAL: [20/46] Data 0.112 (0.149) Elapsed 0m 7s (remain 0m 8s) Loss: 0.0258(0.0162) 590089.9873(360921.1156)\n",
      "EVAL: [40/46] Data 0.260 (0.149) Elapsed 0m 14s (remain 0m 1s) Loss: 0.0219(0.0153) 500360.5457(345806.5479)\n"
     ]
    },
    {
     "name": "stderr",
     "output_type": "stream",
     "text": [
      "Epoch 203 - avg_train_loss: 0.0070  avg_val_loss: 0.0153  time: 94s\n",
      "Epoch 203 - MAE: 0.030339317076690013\n"
     ]
    },
    {
     "name": "stdout",
     "output_type": "stream",
     "text": [
      "EVAL: [45/46] Data 0.043 (0.147) Elapsed 0m 16s (remain 0m 0s) Loss: 0.0252(0.0153) 576808.0055(346610.1023)\n",
      "Epoch: [204][0/93] Data 0.375 (0.375) Elapsed 0m 1s (remain 1m 49s) Loss: 0.0105(0.0105) 239027.6658(119513.8329)Grad: 1.5680  \n",
      "Epoch: [204][20/93] Data 0.015 (0.033) Elapsed 0m 17s (remain 1m 1s) Loss: 0.0159(0.0068) 364310.9793(152199.0479)Grad: 3.2121  \n",
      "Epoch: [204][40/93] Data 0.016 (0.025) Elapsed 0m 34s (remain 0m 44s) Loss: 0.0117(0.0069) 268388.4846(156580.2752)Grad: 3.1625  \n",
      "Epoch: [204][60/93] Data 0.015 (0.023) Elapsed 0m 51s (remain 0m 27s) Loss: 0.0126(0.0072) 287343.6564(162843.0095)Grad: 2.6552  \n",
      "Epoch: [204][80/93] Data 0.016 (0.021) Elapsed 1m 8s (remain 0m 10s) Loss: 0.0138(0.0072) 315992.7330(163011.5403)Grad: 6.4715  \n",
      "Epoch: [204][92/93] Data 0.015 (0.021) Elapsed 1m 18s (remain 0m 0s) Loss: 0.0187(0.0072) 427828.2108(162725.4608)Grad: 7.4042  \n",
      "EVAL: [0/46] Data 0.383 (0.383) Elapsed 0m 0s (remain 0m 26s) Loss: 0.0223(0.0223) 510522.9657(255261.4828)\n",
      "EVAL: [20/46] Data 0.268 (0.157) Elapsed 0m 7s (remain 0m 8s) Loss: 0.0244(0.0160) 556571.6466(356337.9236)\n",
      "EVAL: [40/46] Data 0.131 (0.150) Elapsed 0m 14s (remain 0m 1s) Loss: 0.0216(0.0152) 493209.6293(341972.3104)\n"
     ]
    },
    {
     "name": "stderr",
     "output_type": "stream",
     "text": [
      "Epoch 204 - avg_train_loss: 0.0072  avg_val_loss: 0.0151  time: 95s\n",
      "Epoch 204 - MAE: 0.02993801792062176\n",
      "Epoch 204 - Save Best Score: 0.0299 Model\n"
     ]
    },
    {
     "name": "stdout",
     "output_type": "stream",
     "text": [
      "EVAL: [45/46] Data 0.040 (0.146) Elapsed 0m 15s (remain 0m 0s) Loss: 0.0264(0.0151) 602418.2980(342025.4827)\n",
      "Epoch: [205][0/93] Data 0.377 (0.377) Elapsed 0m 1s (remain 1m 59s) Loss: 0.0146(0.0146) 333442.4723(166721.2362)Grad: 2.0223  \n",
      "Epoch: [205][20/93] Data 0.016 (0.034) Elapsed 0m 18s (remain 1m 2s) Loss: 0.0244(0.0080) 557041.7577(178225.4934)Grad: 6.2803  \n",
      "Epoch: [205][40/93] Data 0.015 (0.025) Elapsed 0m 34s (remain 0m 44s) Loss: 0.0143(0.0075) 326628.7115(169003.9394)Grad: 5.7560  \n",
      "Epoch: [205][60/93] Data 0.015 (0.022) Elapsed 0m 51s (remain 0m 27s) Loss: 0.0124(0.0074) 284055.9849(168676.3756)Grad: 3.7361  \n",
      "Epoch: [205][80/93] Data 0.023 (0.021) Elapsed 1m 8s (remain 0m 10s) Loss: 0.0121(0.0074) 277230.6479(167792.4025)Grad: 2.1839  \n",
      "Epoch: [205][92/93] Data 0.014 (0.020) Elapsed 1m 18s (remain 0m 0s) Loss: 0.0130(0.0073) 297566.6597(167110.5399)Grad: 2.6637  \n",
      "EVAL: [0/46] Data 0.448 (0.448) Elapsed 0m 0s (remain 0m 29s) Loss: 0.0240(0.0240) 548622.5285(274311.2642)\n",
      "EVAL: [20/46] Data 0.121 (0.139) Elapsed 0m 7s (remain 0m 8s) Loss: 0.0246(0.0157) 560950.9668(350151.2625)\n",
      "EVAL: [40/46] Data 0.124 (0.151) Elapsed 0m 14s (remain 0m 1s) Loss: 0.0207(0.0150) 472386.4187(338588.3388)\n"
     ]
    },
    {
     "name": "stderr",
     "output_type": "stream",
     "text": [
      "Epoch 205 - avg_train_loss: 0.0073  avg_val_loss: 0.0150  time: 94s\n",
      "Epoch 205 - MAE: 0.029724517379638504\n",
      "Epoch 205 - Save Best Score: 0.0297 Model\n"
     ]
    },
    {
     "name": "stdout",
     "output_type": "stream",
     "text": [
      "EVAL: [45/46] Data 0.040 (0.146) Elapsed 0m 15s (remain 0m 0s) Loss: 0.0279(0.0150) 638413.3407(339586.3530)\n",
      "Epoch: [206][0/93] Data 0.376 (0.376) Elapsed 0m 1s (remain 1m 51s) Loss: 0.0133(0.0133) 303385.0837(151692.5418)Grad: 4.3179  \n",
      "Epoch: [206][20/93] Data 0.015 (0.033) Elapsed 0m 17s (remain 1m 1s) Loss: 0.0181(0.0072) 412550.2354(160826.5999)Grad: 3.6336  \n",
      "Epoch: [206][40/93] Data 0.015 (0.025) Elapsed 0m 34s (remain 0m 43s) Loss: 0.0100(0.0069) 228390.1339(155068.5021)Grad: 1.2002  \n",
      "Epoch: [206][60/93] Data 0.015 (0.022) Elapsed 0m 51s (remain 0m 27s) Loss: 0.0106(0.0068) 242043.5529(154736.9276)Grad: 2.8753  \n",
      "Epoch: [206][80/93] Data 0.015 (0.020) Elapsed 1m 8s (remain 0m 10s) Loss: 0.0103(0.0069) 234429.6327(157047.7126)Grad: 4.3659  \n",
      "Epoch: [206][92/93] Data 0.014 (0.020) Elapsed 1m 18s (remain 0m 0s) Loss: 0.0120(0.0069) 274337.8000(157564.6936)Grad: 3.4605  \n",
      "EVAL: [0/46] Data 0.390 (0.390) Elapsed 0m 0s (remain 0m 26s) Loss: 0.0257(0.0257) 587783.7782(293891.8891)\n",
      "EVAL: [20/46] Data 0.153 (0.161) Elapsed 0m 7s (remain 0m 9s) Loss: 0.0293(0.0166) 670268.4173(370321.7131)\n",
      "EVAL: [40/46] Data 0.126 (0.143) Elapsed 0m 14s (remain 0m 1s) Loss: 0.0218(0.0156) 497834.6875(351748.9200)\n"
     ]
    },
    {
     "name": "stderr",
     "output_type": "stream",
     "text": [
      "Epoch 206 - avg_train_loss: 0.0069  avg_val_loss: 0.0156  time: 94s\n",
      "Epoch 206 - MAE: 0.03099977599445394\n"
     ]
    },
    {
     "name": "stdout",
     "output_type": "stream",
     "text": [
      "EVAL: [45/46] Data 0.044 (0.143) Elapsed 0m 15s (remain 0m 0s) Loss: 0.0266(0.0156) 607190.5266(354155.4889)\n",
      "Epoch: [207][0/93] Data 0.387 (0.387) Elapsed 0m 1s (remain 1m 50s) Loss: 0.0101(0.0101) 230857.8772(115428.9386)Grad: 1.8844  \n",
      "Epoch: [207][20/93] Data 0.014 (0.033) Elapsed 0m 17s (remain 1m 1s) Loss: 0.0132(0.0068) 302319.2898(151596.2378)Grad: 2.3520  \n",
      "Epoch: [207][40/93] Data 0.015 (0.025) Elapsed 0m 34s (remain 0m 43s) Loss: 0.0138(0.0068) 315514.8760(153367.9093)Grad: 9.0569  \n",
      "Epoch: [207][60/93] Data 0.016 (0.022) Elapsed 0m 51s (remain 0m 26s) Loss: 0.0149(0.0068) 341526.5675(154149.3044)Grad: 4.6891  \n",
      "Epoch: [207][80/93] Data 0.015 (0.020) Elapsed 1m 7s (remain 0m 10s) Loss: 0.0136(0.0067) 311691.6795(153261.0829)Grad: 2.0188  \n",
      "Epoch: [207][92/93] Data 0.014 (0.020) Elapsed 1m 17s (remain 0m 0s) Loss: 0.0218(0.0068) 499233.3598(155064.1099)Grad: 6.6010  \n",
      "EVAL: [0/46] Data 0.500 (0.500) Elapsed 0m 0s (remain 0m 32s) Loss: 0.0219(0.0219) 501033.4950(250516.7475)\n",
      "EVAL: [20/46] Data 0.130 (0.157) Elapsed 0m 7s (remain 0m 8s) Loss: 0.0262(0.0161) 599049.0826(359936.6689)\n",
      "EVAL: [40/46] Data 0.133 (0.160) Elapsed 0m 14s (remain 0m 1s) Loss: 0.0253(0.0152) 578356.2741(344079.8838)\n"
     ]
    },
    {
     "name": "stderr",
     "output_type": "stream",
     "text": [
      "Epoch 207 - avg_train_loss: 0.0068  avg_val_loss: 0.0152  time: 94s\n",
      "Epoch 207 - MAE: 0.030151079724617367\n"
     ]
    },
    {
     "name": "stdout",
     "output_type": "stream",
     "text": [
      "EVAL: [45/46] Data 0.051 (0.155) Elapsed 0m 16s (remain 0m 0s) Loss: 0.0261(0.0152) 597369.2203(344459.5993)\n",
      "Epoch: [208][0/93] Data 0.392 (0.392) Elapsed 0m 1s (remain 1m 52s) Loss: 0.0120(0.0120) 273088.5751(136544.2875)Grad: 1.8596  \n",
      "Epoch: [208][20/93] Data 0.015 (0.035) Elapsed 0m 18s (remain 1m 2s) Loss: 0.0130(0.0067) 296681.4028(149075.8974)Grad: 5.3874  \n",
      "Epoch: [208][40/93] Data 0.016 (0.026) Elapsed 0m 34s (remain 0m 44s) Loss: 0.0118(0.0068) 268722.1716(153800.3641)Grad: 4.3497  \n",
      "Epoch: [208][60/93] Data 0.016 (0.023) Elapsed 0m 51s (remain 0m 27s) Loss: 0.0212(0.0069) 485208.7164(155853.8945)Grad: 5.6754  \n",
      "Epoch: [208][80/93] Data 0.016 (0.022) Elapsed 1m 8s (remain 0m 10s) Loss: 0.0200(0.0071) 457665.7162(160686.2628)Grad: 7.7592  \n",
      "Epoch: [208][92/93] Data 0.015 (0.021) Elapsed 1m 18s (remain 0m 0s) Loss: 0.0130(0.0070) 296237.4231(159627.4432)Grad: 4.1875  \n",
      "EVAL: [0/46] Data 0.381 (0.381) Elapsed 0m 0s (remain 0m 26s) Loss: 0.0227(0.0227) 518486.1283(259243.0642)\n",
      "EVAL: [20/46] Data 0.127 (0.162) Elapsed 0m 7s (remain 0m 9s) Loss: 0.0241(0.0161) 550219.0595(358390.8576)\n",
      "EVAL: [40/46] Data 0.113 (0.148) Elapsed 0m 14s (remain 0m 1s) Loss: 0.0242(0.0153) 551942.9707(344757.7970)\n"
     ]
    },
    {
     "name": "stderr",
     "output_type": "stream",
     "text": [
      "Epoch 208 - avg_train_loss: 0.0070  avg_val_loss: 0.0153  time: 95s\n",
      "Epoch 208 - MAE: 0.030350611882749998\n"
     ]
    },
    {
     "name": "stdout",
     "output_type": "stream",
     "text": [
      "EVAL: [45/46] Data 0.038 (0.143) Elapsed 0m 15s (remain 0m 0s) Loss: 0.0296(0.0153) 677288.5062(346739.1570)\n",
      "Epoch: [209][0/93] Data 0.378 (0.378) Elapsed 0m 1s (remain 1m 49s) Loss: 0.0158(0.0158) 361782.7804(180891.3902)Grad: 3.9423  \n",
      "Epoch: [209][20/93] Data 0.014 (0.032) Elapsed 0m 17s (remain 1m 0s) Loss: 0.0163(0.0073) 372924.4072(163360.8858)Grad: 7.4830  \n",
      "Epoch: [209][40/93] Data 0.015 (0.025) Elapsed 0m 35s (remain 0m 44s) Loss: 0.0087(0.0071) 199880.2478(159470.9605)Grad: 2.1041  \n",
      "Epoch: [209][60/93] Data 0.021 (0.022) Elapsed 0m 51s (remain 0m 27s) Loss: 0.0134(0.0069) 305490.9869(156709.8160)Grad: 2.3222  \n",
      "Epoch: [209][80/93] Data 0.015 (0.021) Elapsed 1m 8s (remain 0m 10s) Loss: 0.0095(0.0068) 216572.4297(155451.3837)Grad: 2.8149  \n",
      "Epoch: [209][92/93] Data 0.014 (0.020) Elapsed 1m 18s (remain 0m 0s) Loss: 0.0109(0.0068) 248405.6733(154717.3937)Grad: 3.3483  \n",
      "EVAL: [0/46] Data 0.383 (0.383) Elapsed 0m 0s (remain 0m 26s) Loss: 0.0230(0.0230) 526612.8894(263306.4447)\n",
      "EVAL: [20/46] Data 0.121 (0.164) Elapsed 0m 7s (remain 0m 9s) Loss: 0.0277(0.0160) 633883.2325(357843.3592)\n",
      "EVAL: [40/46] Data 0.124 (0.155) Elapsed 0m 14s (remain 0m 1s) Loss: 0.0220(0.0151) 503708.6090(341339.5688)\n"
     ]
    },
    {
     "name": "stderr",
     "output_type": "stream",
     "text": [
      "Epoch 209 - avg_train_loss: 0.0068  avg_val_loss: 0.0151  time: 95s\n",
      "Epoch 209 - MAE: 0.029939925285018484\n"
     ]
    },
    {
     "name": "stdout",
     "output_type": "stream",
     "text": [
      "EVAL: [45/46] Data 0.044 (0.150) Elapsed 0m 16s (remain 0m 0s) Loss: 0.0270(0.0151) 617016.8124(342047.2708)\n",
      "Epoch: [210][0/93] Data 0.374 (0.374) Elapsed 0m 1s (remain 1m 58s) Loss: 0.0117(0.0117) 266878.5833(133439.2916)Grad: 5.0313  \n",
      "Epoch: [210][20/93] Data 0.014 (0.033) Elapsed 0m 17s (remain 1m 1s) Loss: 0.0167(0.0073) 381375.1304(162678.8894)Grad: 7.0141  \n",
      "Epoch: [210][40/93] Data 0.025 (0.025) Elapsed 0m 34s (remain 0m 43s) Loss: 0.0218(0.0072) 498753.1195(162193.7740)Grad: 12.8270  \n",
      "Epoch: [210][60/93] Data 0.015 (0.022) Elapsed 0m 51s (remain 0m 26s) Loss: 0.0126(0.0071) 287757.6530(160932.1386)Grad: 2.1252  \n",
      "Epoch: [210][80/93] Data 0.021 (0.021) Elapsed 1m 8s (remain 0m 10s) Loss: 0.0146(0.0072) 332567.7063(164033.5133)Grad: 1.7768  \n",
      "Epoch: [210][92/93] Data 0.024 (0.020) Elapsed 1m 18s (remain 0m 0s) Loss: 0.0173(0.0071) 395175.2730(162356.8796)Grad: 9.8641  \n",
      "EVAL: [0/46] Data 0.384 (0.384) Elapsed 0m 0s (remain 0m 26s) Loss: 0.0246(0.0246) 563122.2200(281561.1100)\n",
      "EVAL: [20/46] Data 0.127 (0.143) Elapsed 0m 7s (remain 0m 8s) Loss: 0.0229(0.0158) 522556.3822(352309.2270)\n",
      "EVAL: [40/46] Data 0.134 (0.149) Elapsed 0m 14s (remain 0m 1s) Loss: 0.0217(0.0152) 496563.0976(342035.8806)\n"
     ]
    },
    {
     "name": "stderr",
     "output_type": "stream",
     "text": [
      "Epoch 210 - avg_train_loss: 0.0071  avg_val_loss: 0.0152  time: 94s\n",
      "Epoch 210 - MAE: 0.030061951608248805\n"
     ]
    },
    {
     "name": "stdout",
     "output_type": "stream",
     "text": [
      "EVAL: [45/46] Data 0.042 (0.145) Elapsed 0m 15s (remain 0m 0s) Loss: 0.0271(0.0152) 618476.6000(343441.3567)\n",
      "Epoch: [211][0/93] Data 0.382 (0.382) Elapsed 0m 1s (remain 1m 50s) Loss: 0.0121(0.0121) 276419.1890(138209.5945)Grad: 5.6966  \n",
      "Epoch: [211][20/93] Data 0.022 (0.034) Elapsed 0m 17s (remain 1m 1s) Loss: 0.0138(0.0069) 314355.1322(154067.9652)Grad: 2.7425  \n",
      "Epoch: [211][40/93] Data 0.015 (0.025) Elapsed 0m 34s (remain 0m 44s) Loss: 0.0131(0.0069) 299518.5830(154651.1171)Grad: 3.0284  \n",
      "Epoch: [211][60/93] Data 0.017 (0.022) Elapsed 0m 51s (remain 0m 27s) Loss: 0.0143(0.0069) 326217.7153(156569.3462)Grad: 7.0559  \n",
      "Epoch: [211][80/93] Data 0.016 (0.021) Elapsed 1m 8s (remain 0m 10s) Loss: 0.0192(0.0069) 438009.9101(155708.8930)Grad: 3.3363  \n",
      "Epoch: [211][92/93] Data 0.015 (0.020) Elapsed 1m 18s (remain 0m 0s) Loss: 0.0203(0.0068) 464157.5151(155797.2860)Grad: 9.1681  \n",
      "EVAL: [0/46] Data 0.382 (0.382) Elapsed 0m 0s (remain 0m 26s) Loss: 0.0232(0.0232) 529617.4983(264808.7491)\n",
      "EVAL: [20/46] Data 0.122 (0.152) Elapsed 0m 7s (remain 0m 8s) Loss: 0.0314(0.0169) 717163.6048(377302.7080)\n",
      "EVAL: [40/46] Data 0.172 (0.162) Elapsed 0m 15s (remain 0m 1s) Loss: 0.0250(0.0160) 570420.5622(361735.3474)\n"
     ]
    },
    {
     "name": "stderr",
     "output_type": "stream",
     "text": [
      "Epoch 211 - avg_train_loss: 0.0068  avg_val_loss: 0.0159  time: 95s\n",
      "Epoch 211 - MAE: 0.031458869594796456\n"
     ]
    },
    {
     "name": "stdout",
     "output_type": "stream",
     "text": [
      "EVAL: [45/46] Data 0.043 (0.159) Elapsed 0m 16s (remain 0m 0s) Loss: 0.0252(0.0159) 574997.5709(359400.3912)\n",
      "Epoch: [212][0/93] Data 0.391 (0.391) Elapsed 0m 1s (remain 1m 51s) Loss: 0.0213(0.0213) 486031.4748(243015.7374)Grad: 10.4869  \n",
      "Epoch: [212][20/93] Data 0.017 (0.034) Elapsed 0m 17s (remain 1m 0s) Loss: 0.0093(0.0068) 212888.3599(150861.4266)Grad: 4.1919  \n",
      "Epoch: [212][40/93] Data 0.015 (0.026) Elapsed 0m 34s (remain 0m 43s) Loss: 0.0135(0.0069) 307875.3351(156518.5166)Grad: 5.5491  \n",
      "Epoch: [212][60/93] Data 0.016 (0.022) Elapsed 0m 51s (remain 0m 26s) Loss: 0.0178(0.0067) 406178.3689(152485.6414)Grad: 5.0571  \n",
      "Epoch: [212][80/93] Data 0.015 (0.021) Elapsed 1m 8s (remain 0m 10s) Loss: 0.0123(0.0066) 280003.8614(150549.7430)Grad: 4.0130  \n",
      "Epoch: [212][92/93] Data 0.016 (0.021) Elapsed 1m 18s (remain 0m 0s) Loss: 0.0198(0.0066) 452395.7553(150827.0587)Grad: 2.5959  \n",
      "EVAL: [0/46] Data 0.388 (0.388) Elapsed 0m 0s (remain 0m 26s) Loss: 0.0248(0.0248) 566269.8285(283134.9143)\n",
      "EVAL: [20/46] Data 0.122 (0.143) Elapsed 0m 7s (remain 0m 8s) Loss: 0.0288(0.0170) 656919.6598(378920.8643)\n",
      "EVAL: [40/46] Data 0.263 (0.148) Elapsed 0m 14s (remain 0m 1s) Loss: 0.0248(0.0161) 565937.5247(362914.3395)\n"
     ]
    },
    {
     "name": "stderr",
     "output_type": "stream",
     "text": [
      "Epoch 212 - avg_train_loss: 0.0066  avg_val_loss: 0.0160  time: 95s\n",
      "Epoch 212 - MAE: 0.03175259277941898\n"
     ]
    },
    {
     "name": "stdout",
     "output_type": "stream",
     "text": [
      "EVAL: [45/46] Data 0.044 (0.148) Elapsed 0m 16s (remain 0m 0s) Loss: 0.0257(0.0160) 587502.2903(362756.0047)\n",
      "Epoch: [213][0/93] Data 0.382 (0.382) Elapsed 0m 1s (remain 1m 51s) Loss: 0.0166(0.0166) 379025.3831(189512.6915)Grad: 11.2400  \n",
      "Epoch: [213][20/93] Data 0.015 (0.034) Elapsed 0m 17s (remain 1m 1s) Loss: 0.0123(0.0076) 280137.2425(170101.1420)Grad: 1.2895  \n",
      "Epoch: [213][40/93] Data 0.016 (0.025) Elapsed 0m 34s (remain 0m 44s) Loss: 0.0150(0.0075) 341663.7578(170392.9967)Grad: 2.2981  \n",
      "Epoch: [213][60/93] Data 0.016 (0.022) Elapsed 0m 51s (remain 0m 26s) Loss: 0.0101(0.0075) 230489.3978(169323.7527)Grad: 8.7242  \n",
      "Epoch: [213][80/93] Data 0.015 (0.021) Elapsed 1m 8s (remain 0m 10s) Loss: 0.0174(0.0074) 397397.5123(168355.8611)Grad: 12.1750  \n",
      "Epoch: [213][92/93] Data 0.015 (0.020) Elapsed 1m 18s (remain 0m 0s) Loss: 0.0145(0.0074) 331750.8211(167842.2768)Grad: 2.0414  \n",
      "EVAL: [0/46] Data 0.368 (0.368) Elapsed 0m 0s (remain 0m 25s) Loss: 0.0243(0.0243) 555356.0223(277678.0111)\n",
      "EVAL: [20/46] Data 0.119 (0.150) Elapsed 0m 7s (remain 0m 8s) Loss: 0.0278(0.0160) 634132.2050(357724.5151)\n",
      "EVAL: [40/46] Data 0.130 (0.154) Elapsed 0m 14s (remain 0m 1s) Loss: 0.0210(0.0152) 480938.8164(342618.0845)\n"
     ]
    },
    {
     "name": "stderr",
     "output_type": "stream",
     "text": [
      "Epoch 213 - avg_train_loss: 0.0074  avg_val_loss: 0.0151  time: 95s\n",
      "Epoch 213 - MAE: 0.029983577390350482\n"
     ]
    },
    {
     "name": "stdout",
     "output_type": "stream",
     "text": [
      "EVAL: [45/46] Data 0.040 (0.149) Elapsed 0m 16s (remain 0m 0s) Loss: 0.0261(0.0151) 595816.5255(342545.9775)\n",
      "Epoch: [214][0/93] Data 0.390 (0.390) Elapsed 0m 1s (remain 1m 56s) Loss: 0.0110(0.0110) 251032.0994(125516.0497)Grad: 2.7134  \n",
      "Epoch: [214][20/93] Data 0.015 (0.035) Elapsed 0m 18s (remain 1m 1s) Loss: 0.0143(0.0076) 327505.9672(168840.5821)Grad: 7.9337  \n",
      "Epoch: [214][40/93] Data 0.015 (0.026) Elapsed 0m 34s (remain 0m 44s) Loss: 0.0155(0.0070) 354684.9781(157705.7748)Grad: 10.5193  \n",
      "Epoch: [214][60/93] Data 0.015 (0.023) Elapsed 0m 51s (remain 0m 27s) Loss: 0.0088(0.0070) 201990.7687(157868.3933)Grad: 3.0350  \n",
      "Epoch: [214][80/93] Data 0.016 (0.021) Elapsed 1m 8s (remain 0m 10s) Loss: 0.0107(0.0069) 243489.1895(157072.8810)Grad: 1.6051  \n",
      "Epoch: [214][92/93] Data 0.016 (0.020) Elapsed 1m 18s (remain 0m 0s) Loss: 0.0206(0.0070) 470404.0442(158252.5061)Grad: 11.0729  \n",
      "EVAL: [0/46] Data 0.386 (0.386) Elapsed 0m 0s (remain 0m 26s) Loss: 0.0232(0.0232) 529352.2255(264676.1128)\n",
      "EVAL: [20/46] Data 0.126 (0.150) Elapsed 0m 7s (remain 0m 8s) Loss: 0.0243(0.0159) 554675.3697(355134.4429)\n",
      "EVAL: [40/46] Data 0.122 (0.140) Elapsed 0m 13s (remain 0m 1s) Loss: 0.0212(0.0151) 483309.0773(341927.1382)\n"
     ]
    },
    {
     "name": "stderr",
     "output_type": "stream",
     "text": [
      "Epoch 214 - avg_train_loss: 0.0070  avg_val_loss: 0.0151  time: 94s\n",
      "Epoch 214 - MAE: 0.029999651022749884\n"
     ]
    },
    {
     "name": "stdout",
     "output_type": "stream",
     "text": [
      "EVAL: [45/46] Data 0.047 (0.137) Elapsed 0m 15s (remain 0m 0s) Loss: 0.0260(0.0151) 593298.2004(342729.6062)\n",
      "Epoch: [215][0/93] Data 0.385 (0.385) Elapsed 0m 1s (remain 2m 7s) Loss: 0.0111(0.0111) 254098.4194(127049.2097)Grad: 3.9003  \n",
      "Epoch: [215][20/93] Data 0.015 (0.034) Elapsed 0m 18s (remain 1m 2s) Loss: 0.0110(0.0070) 250580.0546(157139.2915)Grad: 4.2334  \n",
      "Epoch: [215][40/93] Data 0.022 (0.025) Elapsed 0m 35s (remain 0m 44s) Loss: 0.0117(0.0070) 267972.1259(157921.1809)Grad: 3.4563  \n",
      "Epoch: [215][60/93] Data 0.016 (0.022) Elapsed 0m 51s (remain 0m 27s) Loss: 0.0201(0.0069) 458625.7713(156379.3950)Grad: 10.8299  \n",
      "Epoch: [215][80/93] Data 0.016 (0.021) Elapsed 1m 8s (remain 0m 10s) Loss: 0.0121(0.0068) 276344.0504(155186.5753)Grad: 2.1006  \n",
      "Epoch: [215][92/93] Data 0.018 (0.020) Elapsed 1m 18s (remain 0m 0s) Loss: 0.0420(0.0069) 960169.0428(157511.3933)Grad: 3.8492  \n",
      "EVAL: [0/46] Data 0.376 (0.376) Elapsed 0m 0s (remain 0m 26s) Loss: 0.0236(0.0236) 539958.1570(269979.0785)\n",
      "EVAL: [20/46] Data 0.117 (0.135) Elapsed 0m 7s (remain 0m 8s) Loss: 0.0223(0.0164) 509516.4783(366665.3484)\n",
      "EVAL: [40/46] Data 0.118 (0.147) Elapsed 0m 14s (remain 0m 1s) Loss: 0.0233(0.0157) 531363.0297(354666.5380)\n"
     ]
    },
    {
     "name": "stderr",
     "output_type": "stream",
     "text": [
      "Epoch 215 - avg_train_loss: 0.0069  avg_val_loss: 0.0157  time: 95s\n",
      "Epoch 215 - MAE: 0.031214690623738203\n"
     ]
    },
    {
     "name": "stdout",
     "output_type": "stream",
     "text": [
      "EVAL: [45/46] Data 0.040 (0.143) Elapsed 0m 15s (remain 0m 0s) Loss: 0.0284(0.0157) 648296.9115(356610.7725)\n",
      "Epoch: [216][0/93] Data 0.379 (0.379) Elapsed 0m 1s (remain 1m 50s) Loss: 0.0183(0.0183) 418459.1407(209229.5703)Grad: 2.1237  \n",
      "Epoch: [216][20/93] Data 0.016 (0.034) Elapsed 0m 17s (remain 1m 1s) Loss: 0.0145(0.0073) 331809.7445(162885.4258)Grad: 2.7337  \n",
      "Epoch: [216][40/93] Data 0.015 (0.025) Elapsed 0m 34s (remain 0m 43s) Loss: 0.0124(0.0069) 283873.8307(156504.8452)Grad: 1.5491  \n",
      "Epoch: [216][60/93] Data 0.016 (0.023) Elapsed 0m 51s (remain 0m 27s) Loss: 0.0193(0.0069) 441514.1665(156559.9342)Grad: 1.8908  \n",
      "Epoch: [216][80/93] Data 0.015 (0.021) Elapsed 1m 8s (remain 0m 10s) Loss: 0.0122(0.0069) 279617.4432(156846.1351)Grad: 5.6566  \n",
      "Epoch: [216][92/93] Data 0.015 (0.021) Elapsed 1m 18s (remain 0m 0s) Loss: 0.0111(0.0067) 254742.2794(153023.7379)Grad: 3.5778  \n",
      "EVAL: [0/46] Data 0.385 (0.385) Elapsed 0m 0s (remain 0m 26s) Loss: 0.0235(0.0235) 537392.2505(268696.1252)\n",
      "EVAL: [20/46] Data 0.132 (0.154) Elapsed 0m 7s (remain 0m 8s) Loss: 0.0266(0.0161) 607539.5989(360159.4441)\n",
      "EVAL: [40/46] Data 0.123 (0.143) Elapsed 0m 14s (remain 0m 1s) Loss: 0.0224(0.0153) 510691.2455(345622.2563)\n"
     ]
    },
    {
     "name": "stderr",
     "output_type": "stream",
     "text": [
      "Epoch 216 - avg_train_loss: 0.0067  avg_val_loss: 0.0153  time: 95s\n",
      "Epoch 216 - MAE: 0.030342652123595586\n"
     ]
    },
    {
     "name": "stdout",
     "output_type": "stream",
     "text": [
      "EVAL: [45/46] Data 0.056 (0.145) Elapsed 0m 15s (remain 0m 0s) Loss: 0.0280(0.0153) 640642.7726(346648.2131)\n",
      "Epoch   216: reducing learning rate of group 0 to 6.2500e-06.\n",
      "Epoch: [217][0/93] Data 0.398 (0.398) Elapsed 0m 1s (remain 1m 54s) Loss: 0.0141(0.0141) 321833.5007(160916.7504)Grad: 4.7112  \n",
      "Epoch: [217][20/93] Data 0.015 (0.034) Elapsed 0m 17s (remain 1m 1s) Loss: 0.0143(0.0062) 327027.2378(138232.8725)Grad: 4.3177  \n",
      "Epoch: [217][40/93] Data 0.016 (0.025) Elapsed 0m 34s (remain 0m 43s) Loss: 0.0114(0.0064) 260085.6766(143937.8367)Grad: 3.8573  \n",
      "Epoch: [217][60/93] Data 0.015 (0.022) Elapsed 0m 51s (remain 0m 26s) Loss: 0.0131(0.0065) 299823.2232(147641.1388)Grad: 4.5111  \n",
      "Epoch: [217][80/93] Data 0.015 (0.021) Elapsed 1m 8s (remain 0m 10s) Loss: 0.0107(0.0065) 244645.8265(148084.6242)Grad: 1.5586  \n",
      "Epoch: [217][92/93] Data 0.014 (0.021) Elapsed 1m 18s (remain 0m 0s) Loss: 0.0133(0.0065) 302931.6345(147454.4383)Grad: 9.3826  \n",
      "EVAL: [0/46] Data 0.372 (0.372) Elapsed 0m 0s (remain 0m 25s) Loss: 0.0225(0.0225) 513815.4464(256907.7232)\n",
      "EVAL: [20/46] Data 0.122 (0.137) Elapsed 0m 7s (remain 0m 8s) Loss: 0.0255(0.0161) 581997.1461(358387.0202)\n",
      "EVAL: [40/46] Data 0.125 (0.151) Elapsed 0m 14s (remain 0m 1s) Loss: 0.0226(0.0153) 516824.7368(344427.3341)\n"
     ]
    },
    {
     "name": "stderr",
     "output_type": "stream",
     "text": [
      "Epoch 217 - avg_train_loss: 0.0065  avg_val_loss: 0.0152  time: 94s\n",
      "Epoch 217 - MAE: 0.030123534589641707\n"
     ]
    },
    {
     "name": "stdout",
     "output_type": "stream",
     "text": [
      "EVAL: [45/46] Data 0.045 (0.147) Elapsed 0m 16s (remain 0m 0s) Loss: 0.0274(0.0152) 625339.6446(344144.9108)\n",
      "Epoch: [218][0/93] Data 0.389 (0.389) Elapsed 0m 1s (remain 1m 51s) Loss: 0.0124(0.0124) 283801.2882(141900.6441)Grad: 3.6417  \n",
      "Epoch: [218][20/93] Data 0.016 (0.034) Elapsed 0m 18s (remain 1m 2s) Loss: 0.0177(0.0069) 404339.3344(153900.7310)Grad: 7.3635  \n",
      "Epoch: [218][40/93] Data 0.015 (0.026) Elapsed 0m 34s (remain 0m 44s) Loss: 0.0134(0.0066) 305146.4260(149672.2339)Grad: 3.5534  \n",
      "Epoch: [218][60/93] Data 0.016 (0.023) Elapsed 0m 52s (remain 0m 27s) Loss: 0.0222(0.0066) 506490.2066(150160.2433)Grad: 3.8561  \n",
      "Epoch: [218][80/93] Data 0.017 (0.021) Elapsed 1m 8s (remain 0m 10s) Loss: 0.0087(0.0067) 199810.5781(151008.6808)Grad: 2.1586  \n",
      "Epoch: [218][92/93] Data 0.016 (0.021) Elapsed 1m 18s (remain 0m 0s) Loss: 0.0121(0.0067) 276491.8592(152007.5322)Grad: 3.5039  \n",
      "EVAL: [0/46] Data 0.408 (0.408) Elapsed 0m 0s (remain 0m 27s) Loss: 0.0247(0.0247) 564487.1001(282243.5501)\n",
      "EVAL: [20/46] Data 0.128 (0.179) Elapsed 0m 8s (remain 0m 9s) Loss: 0.0251(0.0161) 573518.4613(359391.6765)\n",
      "EVAL: [40/46] Data 0.129 (0.161) Elapsed 0m 14s (remain 0m 1s) Loss: 0.0214(0.0152) 489234.1552(342682.9844)\n"
     ]
    },
    {
     "name": "stderr",
     "output_type": "stream",
     "text": [
      "Epoch 218 - avg_train_loss: 0.0067  avg_val_loss: 0.0152  time: 96s\n",
      "Epoch 218 - MAE: 0.030081179582493255\n"
     ]
    },
    {
     "name": "stdout",
     "output_type": "stream",
     "text": [
      "EVAL: [45/46] Data 0.046 (0.156) Elapsed 0m 16s (remain 0m 0s) Loss: 0.0277(0.0152) 633462.6604(343661.0304)\n",
      "Epoch: [219][0/93] Data 0.391 (0.391) Elapsed 0m 1s (remain 1m 52s) Loss: 0.0079(0.0079) 181076.7151(90538.3576)Grad: 6.3634  \n",
      "Epoch: [219][20/93] Data 0.015 (0.034) Elapsed 0m 17s (remain 1m 1s) Loss: 0.0133(0.0063) 304376.6966(139454.6258)Grad: 1.8115  \n",
      "Epoch: [219][40/93] Data 0.016 (0.026) Elapsed 0m 35s (remain 0m 44s) Loss: 0.0123(0.0065) 281172.7341(146007.9830)Grad: 2.1698  \n",
      "Epoch: [219][60/93] Data 0.053 (0.023) Elapsed 0m 52s (remain 0m 27s) Loss: 0.0144(0.0063) 328807.0083(143653.7422)Grad: 4.0086  \n",
      "Epoch: [219][80/93] Data 0.016 (0.022) Elapsed 1m 9s (remain 0m 10s) Loss: 0.0121(0.0064) 276944.3508(144634.0994)Grad: 2.5794  \n",
      "Epoch: [219][92/93] Data 0.016 (0.021) Elapsed 1m 18s (remain 0m 0s) Loss: 0.0118(0.0063) 269443.7663(143790.4090)Grad: 2.9912  \n",
      "EVAL: [0/46] Data 0.383 (0.383) Elapsed 0m 0s (remain 0m 26s) Loss: 0.0241(0.0241) 550314.3925(275157.1963)\n",
      "EVAL: [20/46] Data 0.133 (0.177) Elapsed 0m 7s (remain 0m 9s) Loss: 0.0264(0.0159) 603297.0646(354754.2547)\n",
      "EVAL: [40/46] Data 0.121 (0.162) Elapsed 0m 15s (remain 0m 1s) Loss: 0.0218(0.0150) 498269.7298(339089.1764)\n"
     ]
    },
    {
     "name": "stderr",
     "output_type": "stream",
     "text": [
      "Epoch 219 - avg_train_loss: 0.0063  avg_val_loss: 0.0150  time: 96s\n",
      "Epoch 219 - MAE: 0.029726212037748483\n"
     ]
    },
    {
     "name": "stdout",
     "output_type": "stream",
     "text": [
      "EVAL: [45/46] Data 0.091 (0.161) Elapsed 0m 16s (remain 0m 0s) Loss: 0.0263(0.0150) 601496.5038(339605.7247)\n",
      "Epoch: [220][0/93] Data 0.376 (0.376) Elapsed 0m 1s (remain 1m 51s) Loss: 0.0165(0.0165) 376703.4270(188351.7135)Grad: 4.5011  \n",
      "Epoch: [220][20/93] Data 0.015 (0.033) Elapsed 0m 17s (remain 1m 0s) Loss: 0.0134(0.0063) 305331.3892(139418.8559)Grad: 3.0657  \n",
      "Epoch: [220][40/93] Data 0.016 (0.025) Elapsed 0m 34s (remain 0m 44s) Loss: 0.0165(0.0065) 376773.0968(145824.6427)Grad: 4.1654  \n",
      "Epoch: [220][60/93] Data 0.016 (0.023) Elapsed 0m 51s (remain 0m 27s) Loss: 0.0105(0.0064) 240096.8857(146016.9968)Grad: 3.9162  \n",
      "Epoch: [220][80/93] Data 0.015 (0.021) Elapsed 1m 8s (remain 0m 10s) Loss: 0.0101(0.0063) 230918.3966(142084.8185)Grad: 1.4124  \n",
      "Epoch: [220][92/93] Data 0.015 (0.021) Elapsed 1m 18s (remain 0m 0s) Loss: 0.0256(0.0063) 584995.0306(143787.2013)Grad: 8.8208  \n",
      "EVAL: [0/46] Data 0.401 (0.401) Elapsed 0m 0s (remain 0m 27s) Loss: 0.0236(0.0236) 539364.3682(269682.1841)\n",
      "EVAL: [20/46] Data 0.131 (0.147) Elapsed 0m 7s (remain 0m 8s) Loss: 0.0225(0.0158) 514558.3208(351638.9782)\n",
      "EVAL: [40/46] Data 0.123 (0.151) Elapsed 0m 14s (remain 0m 1s) Loss: 0.0212(0.0149) 485035.7975(335246.1347)\n"
     ]
    },
    {
     "name": "stderr",
     "output_type": "stream",
     "text": [
      "Epoch 220 - avg_train_loss: 0.0063  avg_val_loss: 0.0149  time: 95s\n",
      "Epoch 220 - MAE: 0.029615775606361628\n",
      "Epoch 220 - Save Best Score: 0.0296 Model\n"
     ]
    },
    {
     "name": "stdout",
     "output_type": "stream",
     "text": [
      "EVAL: [45/46] Data 0.049 (0.147) Elapsed 0m 15s (remain 0m 0s) Loss: 0.0260(0.0149) 594737.2616(338344.0402)\n",
      "Epoch: [221][0/93] Data 0.401 (0.401) Elapsed 0m 1s (remain 1m 52s) Loss: 0.0154(0.0154) 350991.9070(175495.9535)Grad: 3.6474  \n",
      "Epoch: [221][20/93] Data 0.015 (0.034) Elapsed 0m 17s (remain 1m 1s) Loss: 0.0095(0.0064) 215995.5795(143471.7276)Grad: 4.3300  \n",
      "Epoch: [221][40/93] Data 0.016 (0.026) Elapsed 0m 34s (remain 0m 44s) Loss: 0.0106(0.0061) 241385.4568(138038.5239)Grad: 9.1129  \n",
      "Epoch: [221][60/93] Data 0.016 (0.023) Elapsed 0m 51s (remain 0m 26s) Loss: 0.0102(0.0063) 233180.5142(143542.0852)Grad: 2.9949  \n",
      "Epoch: [221][80/93] Data 0.015 (0.021) Elapsed 1m 8s (remain 0m 10s) Loss: 0.0127(0.0063) 290819.4192(142005.4461)Grad: 6.9353  \n",
      "Epoch: [221][92/93] Data 0.015 (0.021) Elapsed 1m 18s (remain 0m 0s) Loss: 0.0144(0.0063) 329438.7388(142816.4210)Grad: 3.6287  \n",
      "EVAL: [0/46] Data 0.387 (0.387) Elapsed 0m 0s (remain 0m 26s) Loss: 0.0235(0.0235) 537165.2386(268582.6193)\n",
      "EVAL: [20/46] Data 0.117 (0.150) Elapsed 0m 7s (remain 0m 8s) Loss: 0.0253(0.0156) 577379.3655(347246.2770)\n",
      "EVAL: [40/46] Data 0.122 (0.160) Elapsed 0m 15s (remain 0m 1s) Loss: 0.0197(0.0148) 450328.3896(334319.8884)\n"
     ]
    },
    {
     "name": "stderr",
     "output_type": "stream",
     "text": [
      "Epoch 221 - avg_train_loss: 0.0063  avg_val_loss: 0.0149  time: 95s\n",
      "Epoch 221 - MAE: 0.02950512598505847\n",
      "Epoch 221 - Save Best Score: 0.0295 Model\n"
     ]
    },
    {
     "name": "stdout",
     "output_type": "stream",
     "text": [
      "EVAL: [45/46] Data 0.036 (0.154) Elapsed 0m 16s (remain 0m 0s) Loss: 0.0255(0.0149) 582409.0786(337079.9307)\n",
      "Epoch: [222][0/93] Data 0.384 (0.384) Elapsed 0m 1s (remain 1m 53s) Loss: 0.0105(0.0105) 240734.8938(120367.4469)Grad: 3.8141  \n",
      "Epoch: [222][20/93] Data 0.020 (0.033) Elapsed 0m 17s (remain 1m 1s) Loss: 0.0213(0.0069) 486571.6388(153850.5601)Grad: 13.8601  \n",
      "Epoch: [222][40/93] Data 0.015 (0.025) Elapsed 0m 34s (remain 0m 43s) Loss: 0.0119(0.0066) 271349.2360(150003.5779)Grad: 5.5102  \n",
      "Epoch: [222][60/93] Data 0.014 (0.022) Elapsed 0m 51s (remain 0m 26s) Loss: 0.0119(0.0066) 270786.8135(149690.9876)Grad: 4.8719  \n",
      "Epoch: [222][80/93] Data 0.015 (0.020) Elapsed 1m 7s (remain 0m 10s) Loss: 0.0073(0.0064) 166444.9511(145735.8653)Grad: 3.0429  \n",
      "Epoch: [222][92/93] Data 0.014 (0.020) Elapsed 1m 17s (remain 0m 0s) Loss: 0.0174(0.0064) 397929.0368(146084.4957)Grad: 2.1072  \n",
      "EVAL: [0/46] Data 0.381 (0.381) Elapsed 0m 0s (remain 0m 26s) Loss: 0.0244(0.0244) 558512.0150(279256.0075)\n",
      "EVAL: [20/46] Data 0.117 (0.146) Elapsed 0m 7s (remain 0m 8s) Loss: 0.0241(0.0160) 550659.8898(357877.8546)\n",
      "EVAL: [40/46] Data 0.121 (0.143) Elapsed 0m 14s (remain 0m 1s) Loss: 0.0204(0.0152) 465856.9547(343671.4811)\n"
     ]
    },
    {
     "name": "stderr",
     "output_type": "stream",
     "text": [
      "Epoch 222 - avg_train_loss: 0.0064  avg_val_loss: 0.0152  time: 94s\n",
      "Epoch 222 - MAE: 0.03015521098543192\n"
     ]
    },
    {
     "name": "stdout",
     "output_type": "stream",
     "text": [
      "EVAL: [45/46] Data 0.042 (0.139) Elapsed 0m 15s (remain 0m 0s) Loss: 0.0280(0.0152) 639770.8155(344506.7980)\n",
      "Epoch: [223][0/93] Data 0.524 (0.524) Elapsed 0m 1s (remain 2m 4s) Loss: 0.0102(0.0102) 233100.4386(116550.2193)Grad: 8.6241  \n",
      "Epoch: [223][20/93] Data 0.015 (0.040) Elapsed 0m 17s (remain 1m 1s) Loss: 0.0228(0.0068) 521043.9912(150679.5034)Grad: 4.1929  \n",
      "Epoch: [223][40/93] Data 0.015 (0.029) Elapsed 0m 34s (remain 0m 44s) Loss: 0.0244(0.0068) 558122.2559(152600.5374)Grad: 13.7470  \n",
      "Epoch: [223][60/93] Data 0.015 (0.024) Elapsed 0m 51s (remain 0m 26s) Loss: 0.0127(0.0065) 290627.1358(147087.2393)Grad: 4.9184  \n",
      "Epoch: [223][80/93] Data 0.015 (0.023) Elapsed 1m 8s (remain 0m 10s) Loss: 0.0110(0.0063) 251196.4212(144099.5630)Grad: 6.4229  \n",
      "Epoch: [223][92/93] Data 0.020 (0.022) Elapsed 1m 18s (remain 0m 0s) Loss: 0.0168(0.0063) 382795.0398(143206.3940)Grad: 1.8336  \n",
      "EVAL: [0/46] Data 0.379 (0.379) Elapsed 0m 0s (remain 0m 26s) Loss: 0.0238(0.0238) 543199.9495(271599.9748)\n",
      "EVAL: [20/46] Data 0.117 (0.138) Elapsed 0m 7s (remain 0m 8s) Loss: 0.0231(0.0158) 528346.8447(352170.0506)\n",
      "EVAL: [40/46] Data 0.245 (0.151) Elapsed 0m 14s (remain 0m 1s) Loss: 0.0210(0.0150) 479849.8914(338956.2457)\n"
     ]
    },
    {
     "name": "stderr",
     "output_type": "stream",
     "text": [
      "Epoch 223 - avg_train_loss: 0.0063  avg_val_loss: 0.0150  time: 94s\n",
      "Epoch 223 - MAE: 0.029737990033163294\n"
     ]
    },
    {
     "name": "stdout",
     "output_type": "stream",
     "text": [
      "EVAL: [45/46] Data 0.048 (0.154) Elapsed 0m 16s (remain 0m 0s) Loss: 0.0284(0.0150) 648285.5481(339740.2778)\n",
      "Epoch: [224][0/93] Data 0.402 (0.402) Elapsed 0m 1s (remain 1m 53s) Loss: 0.0085(0.0085) 194990.7680(97495.3840)Grad: 1.3484  \n",
      "Epoch: [224][20/93] Data 0.015 (0.034) Elapsed 0m 17s (remain 1m 1s) Loss: 0.0103(0.0064) 234272.1629(142468.5097)Grad: 6.0314  \n",
      "Epoch: [224][40/93] Data 0.016 (0.026) Elapsed 0m 34s (remain 0m 44s) Loss: 0.0135(0.0061) 308627.3810(138450.7032)Grad: 9.2180  \n",
      "Epoch: [224][60/93] Data 0.016 (0.023) Elapsed 0m 51s (remain 0m 27s) Loss: 0.0088(0.0059) 201889.5838(134163.1343)Grad: 3.0983  \n",
      "Epoch: [224][80/93] Data 0.015 (0.021) Elapsed 1m 8s (remain 0m 10s) Loss: 0.0195(0.0061) 445722.5256(139558.5179)Grad: 7.1152  \n",
      "Epoch: [224][92/93] Data 0.016 (0.021) Elapsed 1m 18s (remain 0m 0s) Loss: 0.0130(0.0061) 297151.5991(138358.2777)Grad: 8.4530  \n",
      "EVAL: [0/46] Data 0.403 (0.403) Elapsed 0m 0s (remain 0m 27s) Loss: 0.0231(0.0231) 526752.4417(263376.2208)\n",
      "EVAL: [20/46] Data 0.131 (0.156) Elapsed 0m 7s (remain 0m 8s) Loss: 0.0249(0.0159) 568299.2312(353908.5517)\n",
      "EVAL: [40/46] Data 0.285 (0.146) Elapsed 0m 14s (remain 0m 1s) Loss: 0.0222(0.0151) 506210.8467(340196.6541)\n"
     ]
    },
    {
     "name": "stderr",
     "output_type": "stream",
     "text": [
      "Epoch 224 - avg_train_loss: 0.0061  avg_val_loss: 0.0150  time: 95s\n",
      "Epoch 224 - MAE: 0.02982331599761794\n"
     ]
    },
    {
     "name": "stdout",
     "output_type": "stream",
     "text": [
      "EVAL: [45/46] Data 0.038 (0.144) Elapsed 0m 15s (remain 0m 0s) Loss: 0.0278(0.0150) 635623.8696(340715.0733)\n",
      "Epoch: [225][0/93] Data 0.506 (0.506) Elapsed 0m 1s (remain 2m 12s) Loss: 0.0105(0.0105) 239381.1642(119690.5821)Grad: 3.6781  \n",
      "Epoch: [225][20/93] Data 0.015 (0.039) Elapsed 0m 17s (remain 1m 1s) Loss: 0.0136(0.0065) 311561.1924(144001.9625)Grad: 1.4844  \n",
      "Epoch: [225][40/93] Data 0.015 (0.028) Elapsed 0m 34s (remain 0m 44s) Loss: 0.0088(0.0066) 201227.6786(149606.3613)Grad: 3.1420  \n",
      "Epoch: [225][60/93] Data 0.018 (0.024) Elapsed 0m 51s (remain 0m 27s) Loss: 0.0119(0.0065) 272440.3528(146689.4443)Grad: 2.7082  \n",
      "Epoch: [225][80/93] Data 0.015 (0.023) Elapsed 1m 8s (remain 0m 10s) Loss: 0.0126(0.0064) 287847.8577(144329.5276)Grad: 8.4872  \n",
      "Epoch: [225][92/93] Data 0.015 (0.022) Elapsed 1m 18s (remain 0m 0s) Loss: 0.0128(0.0062) 291886.4899(142171.8720)Grad: 1.9765  \n",
      "EVAL: [0/46] Data 0.375 (0.375) Elapsed 0m 0s (remain 0m 25s) Loss: 0.0230(0.0230) 524935.6232(262467.8116)\n",
      "EVAL: [20/46] Data 0.122 (0.141) Elapsed 0m 7s (remain 0m 8s) Loss: 0.0230(0.0158) 525156.8044(352604.9845)\n",
      "EVAL: [40/46] Data 0.119 (0.151) Elapsed 0m 14s (remain 0m 1s) Loss: 0.0207(0.0150) 471838.0833(338456.7675)\n"
     ]
    },
    {
     "name": "stderr",
     "output_type": "stream",
     "text": [
      "Epoch 225 - avg_train_loss: 0.0062  avg_val_loss: 0.0150  time: 94s\n",
      "Epoch 225 - MAE: 0.02977103635509404\n"
     ]
    },
    {
     "name": "stdout",
     "output_type": "stream",
     "text": [
      "EVAL: [45/46] Data 0.043 (0.146) Elapsed 0m 15s (remain 0m 0s) Loss: 0.0278(0.0150) 636172.7157(340117.8132)\n",
      "Epoch: [226][0/93] Data 0.393 (0.393) Elapsed 0m 1s (remain 1m 51s) Loss: 0.0081(0.0081) 185870.7130(92935.3565)Grad: 6.6334  \n",
      "Epoch: [226][20/93] Data 0.015 (0.034) Elapsed 0m 17s (remain 1m 1s) Loss: 0.0117(0.0058) 266584.2850(130370.5923)Grad: 2.8848  \n",
      "Epoch: [226][40/93] Data 0.014 (0.025) Elapsed 0m 34s (remain 0m 43s) Loss: 0.0126(0.0060) 287521.7250(135125.9242)Grad: 1.6274  \n",
      "Epoch: [226][60/93] Data 0.016 (0.022) Elapsed 0m 51s (remain 0m 27s) Loss: 0.0092(0.0058) 210637.7121(131177.1793)Grad: 1.3509  \n",
      "Epoch: [226][80/93] Data 0.015 (0.021) Elapsed 1m 8s (remain 0m 10s) Loss: 0.0109(0.0060) 247943.8612(135494.4563)Grad: 5.2703  \n",
      "Epoch: [226][92/93] Data 0.014 (0.021) Elapsed 1m 18s (remain 0m 0s) Loss: 0.0137(0.0060) 313563.2932(136115.3125)Grad: 4.3815  \n",
      "EVAL: [0/46] Data 0.407 (0.407) Elapsed 0m 0s (remain 0m 28s) Loss: 0.0202(0.0202) 461643.9141(230821.9570)\n",
      "EVAL: [20/46] Data 0.123 (0.150) Elapsed 0m 7s (remain 0m 8s) Loss: 0.0258(0.0158) 589074.1794(352324.0022)\n",
      "EVAL: [40/46] Data 0.126 (0.144) Elapsed 0m 14s (remain 0m 1s) Loss: 0.0219(0.0149) 499966.7861(336408.9807)\n"
     ]
    },
    {
     "name": "stderr",
     "output_type": "stream",
     "text": [
      "Epoch 226 - avg_train_loss: 0.0060  avg_val_loss: 0.0149  time: 95s\n",
      "Epoch 226 - MAE: 0.029613166480207495\n"
     ]
    },
    {
     "name": "stdout",
     "output_type": "stream",
     "text": [
      "EVAL: [45/46] Data 0.042 (0.140) Elapsed 0m 15s (remain 0m 0s) Loss: 0.0259(0.0149) 590967.0941(338314.2347)\n",
      "Epoch: [227][0/93] Data 0.385 (0.385) Elapsed 0m 1s (remain 1m 51s) Loss: 0.0088(0.0088) 201785.8026(100892.9013)Grad: 5.1351  \n",
      "Epoch: [227][20/93] Data 0.014 (0.033) Elapsed 0m 17s (remain 1m 1s) Loss: 0.0157(0.0068) 358864.8224(151805.4955)Grad: 3.6555  \n",
      "Epoch: [227][40/93] Data 0.015 (0.025) Elapsed 0m 34s (remain 0m 44s) Loss: 0.0125(0.0066) 285414.0343(148689.7010)Grad: 1.4951  \n",
      "Epoch: [227][60/93] Data 0.023 (0.023) Elapsed 0m 51s (remain 0m 27s) Loss: 0.0128(0.0067) 293440.8871(151072.3380)Grad: 3.7181  \n",
      "Epoch: [227][80/93] Data 0.015 (0.021) Elapsed 1m 8s (remain 0m 10s) Loss: 0.0122(0.0065) 278750.6997(148550.7393)Grad: 6.2947  \n",
      "Epoch: [227][92/93] Data 0.015 (0.021) Elapsed 1m 18s (remain 0m 0s) Loss: 0.0218(0.0066) 497058.7019(149088.2282)Grad: 3.5927  \n",
      "EVAL: [0/46] Data 0.372 (0.372) Elapsed 0m 0s (remain 0m 25s) Loss: 0.0218(0.0218) 497771.3592(248885.6796)\n",
      "EVAL: [20/46] Data 0.142 (0.149) Elapsed 0m 7s (remain 0m 8s) Loss: 0.0282(0.0160) 644030.8843(356847.4479)\n",
      "EVAL: [40/46] Data 0.123 (0.149) Elapsed 0m 14s (remain 0m 1s) Loss: 0.0238(0.0151) 544701.9986(341656.4723)\n"
     ]
    },
    {
     "name": "stderr",
     "output_type": "stream",
     "text": [
      "Epoch 227 - avg_train_loss: 0.0066  avg_val_loss: 0.0151  time: 94s\n",
      "Epoch 227 - MAE: 0.029979973140324755\n"
     ]
    },
    {
     "name": "stdout",
     "output_type": "stream",
     "text": [
      "EVAL: [45/46] Data 0.045 (0.145) Elapsed 0m 15s (remain 0m 0s) Loss: 0.0253(0.0151) 579015.9023(342504.8065)\n",
      "Epoch: [228][0/93] Data 0.525 (0.525) Elapsed 0m 1s (remain 2m 9s) Loss: 0.0138(0.0138) 315791.3419(157895.6710)Grad: 2.1345  \n",
      "Epoch: [228][20/93] Data 0.015 (0.042) Elapsed 0m 18s (remain 1m 2s) Loss: 0.0125(0.0062) 285878.3787(138120.6920)Grad: 9.5053  \n",
      "Epoch: [228][40/93] Data 0.015 (0.030) Elapsed 0m 34s (remain 0m 44s) Loss: 0.0116(0.0063) 264140.9495(141935.9836)Grad: 3.6517  \n",
      "Epoch: [228][60/93] Data 0.015 (0.026) Elapsed 0m 51s (remain 0m 27s) Loss: 0.0122(0.0063) 278018.2097(142371.1391)Grad: 5.1619  \n",
      "Epoch: [228][80/93] Data 0.015 (0.023) Elapsed 1m 8s (remain 0m 10s) Loss: 0.0073(0.0062) 167441.1072(139731.5772)Grad: 1.5645  \n",
      "Epoch: [228][92/93] Data 0.021 (0.023) Elapsed 1m 18s (remain 0m 0s) Loss: 0.0111(0.0061) 252760.7134(138711.4183)Grad: 7.6552  \n",
      "EVAL: [0/46] Data 0.393 (0.393) Elapsed 0m 0s (remain 0m 26s) Loss: 0.0221(0.0221) 505087.7891(252543.8946)\n",
      "EVAL: [20/46] Data 0.121 (0.135) Elapsed 0m 7s (remain 0m 8s) Loss: 0.0278(0.0162) 635122.6475(362407.1522)\n",
      "EVAL: [40/46] Data 0.125 (0.135) Elapsed 0m 13s (remain 0m 1s) Loss: 0.0232(0.0153) 529942.6521(345013.7622)\n"
     ]
    },
    {
     "name": "stderr",
     "output_type": "stream",
     "text": [
      "Epoch 228 - avg_train_loss: 0.0061  avg_val_loss: 0.0152  time: 94s\n",
      "Epoch 228 - MAE: 0.03013448650040158\n"
     ]
    },
    {
     "name": "stdout",
     "output_type": "stream",
     "text": [
      "EVAL: [45/46] Data 0.038 (0.132) Elapsed 0m 15s (remain 0m 0s) Loss: 0.0266(0.0152) 607824.1936(344270.0261)\n",
      "Epoch: [229][0/93] Data 0.376 (0.376) Elapsed 0m 1s (remain 1m 50s) Loss: 0.0164(0.0164) 374027.8874(187013.9437)Grad: 11.1090  \n",
      "Epoch: [229][20/93] Data 0.023 (0.035) Elapsed 0m 18s (remain 1m 2s) Loss: 0.0142(0.0066) 324439.6259(147928.5465)Grad: 8.8612  \n",
      "Epoch: [229][40/93] Data 0.015 (0.026) Elapsed 0m 34s (remain 0m 44s) Loss: 0.0120(0.0062) 274501.9517(139283.8588)Grad: 2.2887  \n",
      "Epoch: [229][60/93] Data 0.016 (0.023) Elapsed 0m 51s (remain 0m 27s) Loss: 0.0100(0.0061) 227771.1286(138899.4992)Grad: 7.6015  \n",
      "Epoch: [229][80/93] Data 0.015 (0.021) Elapsed 1m 8s (remain 0m 10s) Loss: 0.0260(0.0062) 594711.4280(140931.4134)Grad: 2.2835  \n",
      "Epoch: [229][92/93] Data 0.014 (0.021) Elapsed 1m 18s (remain 0m 0s) Loss: 0.0146(0.0062) 334133.9562(140730.1654)Grad: 8.2835  \n",
      "EVAL: [0/46] Data 0.364 (0.364) Elapsed 0m 0s (remain 0m 25s) Loss: 0.0220(0.0220) 501931.4134(250965.7067)\n",
      "EVAL: [20/46] Data 0.128 (0.167) Elapsed 0m 7s (remain 0m 9s) Loss: 0.0267(0.0157) 609242.1879(351201.4999)\n",
      "EVAL: [40/46] Data 0.118 (0.156) Elapsed 0m 14s (remain 0m 1s) Loss: 0.0209(0.0148) 477067.9533(334507.5578)\n"
     ]
    },
    {
     "name": "stderr",
     "output_type": "stream",
     "text": [
      "Epoch 229 - avg_train_loss: 0.0062  avg_val_loss: 0.0148  time: 95s\n",
      "Epoch 229 - MAE: 0.02942683527726008\n",
      "Epoch 229 - Save Best Score: 0.0294 Model\n"
     ]
    },
    {
     "name": "stdout",
     "output_type": "stream",
     "text": [
      "EVAL: [45/46] Data 0.053 (0.158) Elapsed 0m 16s (remain 0m 0s) Loss: 0.0250(0.0148) 571227.7439(336185.5033)\n",
      "Epoch: [230][0/93] Data 0.392 (0.392) Elapsed 0m 1s (remain 1m 53s) Loss: 0.0180(0.0180) 412181.7986(206090.8993)Grad: 1.9536  \n",
      "Epoch: [230][20/93] Data 0.037 (0.035) Elapsed 0m 18s (remain 1m 1s) Loss: 0.0129(0.0063) 295262.9404(140914.8454)Grad: 2.2942  \n",
      "Epoch: [230][40/93] Data 0.015 (0.026) Elapsed 0m 34s (remain 0m 44s) Loss: 0.0115(0.0061) 261732.8107(136729.3679)Grad: 3.3789  \n",
      "Epoch: [230][60/93] Data 0.015 (0.023) Elapsed 0m 51s (remain 0m 27s) Loss: 0.0148(0.0062) 338863.0084(139405.8659)Grad: 7.1488  \n",
      "Epoch: [230][80/93] Data 0.015 (0.021) Elapsed 1m 8s (remain 0m 10s) Loss: 0.0170(0.0060) 389119.4526(136097.2271)Grad: 6.5167  \n",
      "Epoch: [230][92/93] Data 0.016 (0.020) Elapsed 1m 18s (remain 0m 0s) Loss: 0.0122(0.0060) 278246.5835(137121.5877)Grad: 5.6677  \n",
      "EVAL: [0/46] Data 0.397 (0.397) Elapsed 0m 0s (remain 0m 26s) Loss: 0.0230(0.0230) 524862.7615(262431.3808)\n",
      "EVAL: [20/46] Data 0.256 (0.171) Elapsed 0m 7s (remain 0m 9s) Loss: 0.0237(0.0155) 542323.1832(344881.7241)\n",
      "EVAL: [40/46] Data 0.123 (0.149) Elapsed 0m 14s (remain 0m 1s) Loss: 0.0211(0.0146) 482031.1461(329115.7440)\n"
     ]
    },
    {
     "name": "stderr",
     "output_type": "stream",
     "text": [
      "Epoch 230 - avg_train_loss: 0.0060  avg_val_loss: 0.0146  time: 94s\n",
      "Epoch 230 - MAE: 0.029038242196542458\n",
      "Epoch 230 - Save Best Score: 0.0290 Model\n"
     ]
    },
    {
     "name": "stdout",
     "output_type": "stream",
     "text": [
      "EVAL: [45/46] Data 0.041 (0.144) Elapsed 0m 15s (remain 0m 0s) Loss: 0.0258(0.0146) 588560.9130(331746.0349)\n",
      "Epoch: [231][0/93] Data 0.379 (0.379) Elapsed 0m 1s (remain 1m 58s) Loss: 0.0091(0.0091) 207493.0189(103746.5095)Grad: 2.4625  \n",
      "Epoch: [231][20/93] Data 0.015 (0.033) Elapsed 0m 17s (remain 1m 1s) Loss: 0.0129(0.0058) 294806.2992(128636.3016)Grad: 4.7148  \n",
      "Epoch: [231][40/93] Data 0.025 (0.026) Elapsed 0m 35s (remain 0m 44s) Loss: 0.0109(0.0059) 248877.7848(132379.3024)Grad: 7.8758  \n",
      "Epoch: [231][60/93] Data 0.017 (0.023) Elapsed 0m 51s (remain 0m 27s) Loss: 0.0132(0.0060) 301102.1759(136855.0607)Grad: 2.1969  \n",
      "Epoch: [231][80/93] Data 0.019 (0.021) Elapsed 1m 8s (remain 0m 10s) Loss: 0.0174(0.0059) 397980.0229(134997.3180)Grad: 4.9102  \n",
      "Epoch: [231][92/93] Data 0.015 (0.020) Elapsed 1m 18s (remain 0m 0s) Loss: 0.0127(0.0060) 290680.5692(137470.4339)Grad: 3.6452  \n",
      "EVAL: [0/46] Data 0.451 (0.451) Elapsed 0m 0s (remain 0m 29s) Loss: 0.0241(0.0241) 550017.6683(275008.8342)\n",
      "EVAL: [20/46] Data 0.125 (0.159) Elapsed 0m 7s (remain 0m 9s) Loss: 0.0230(0.0158) 525218.3028(352418.7587)\n",
      "EVAL: [40/46] Data 0.125 (0.158) Elapsed 0m 14s (remain 0m 1s) Loss: 0.0191(0.0149) 436437.0422(335920.8176)\n"
     ]
    },
    {
     "name": "stderr",
     "output_type": "stream",
     "text": [
      "Epoch 231 - avg_train_loss: 0.0060  avg_val_loss: 0.0149  time: 95s\n",
      "Epoch 231 - MAE: 0.029605941706873487\n"
     ]
    },
    {
     "name": "stdout",
     "output_type": "stream",
     "text": [
      "EVAL: [45/46] Data 0.035 (0.152) Elapsed 0m 16s (remain 0m 0s) Loss: 0.0264(0.0149) 602108.5080(338231.6940)\n",
      "Epoch: [232][0/93] Data 0.365 (0.365) Elapsed 0m 1s (remain 1m 48s) Loss: 0.0107(0.0107) 245247.2547(122623.6274)Grad: 2.9449  \n",
      "Epoch: [232][20/93] Data 0.021 (0.032) Elapsed 0m 17s (remain 1m 0s) Loss: 0.0118(0.0060) 270365.4754(134614.6274)Grad: 2.3591  \n",
      "Epoch: [232][40/93] Data 0.015 (0.024) Elapsed 0m 34s (remain 0m 43s) Loss: 0.0232(0.0060) 529977.6360(134910.6935)Grad: 5.8967  \n",
      "Epoch: [232][60/93] Data 0.015 (0.021) Elapsed 0m 51s (remain 0m 26s) Loss: 0.0139(0.0058) 318581.7068(132141.4382)Grad: 9.7933  \n",
      "Epoch: [232][80/93] Data 0.014 (0.020) Elapsed 1m 7s (remain 0m 10s) Loss: 0.0156(0.0060) 356082.5864(136034.8608)Grad: 6.4362  \n",
      "Epoch: [232][92/93] Data 0.015 (0.020) Elapsed 1m 17s (remain 0m 0s) Loss: 0.0170(0.0060) 387654.0897(136330.3066)Grad: 7.1465  \n",
      "EVAL: [0/46] Data 0.367 (0.367) Elapsed 0m 0s (remain 0m 25s) Loss: 0.0231(0.0231) 526841.8164(263420.9082)\n",
      "EVAL: [20/46] Data 0.127 (0.143) Elapsed 0m 7s (remain 0m 8s) Loss: 0.0219(0.0157) 499655.8471(349692.8987)\n",
      "EVAL: [40/46] Data 0.113 (0.140) Elapsed 0m 14s (remain 0m 1s) Loss: 0.0208(0.0149) 476282.2641(335698.7773)\n"
     ]
    },
    {
     "name": "stderr",
     "output_type": "stream",
     "text": [
      "Epoch 232 - avg_train_loss: 0.0060  avg_val_loss: 0.0149  time: 93s\n",
      "Epoch 232 - MAE: 0.02958421486130129\n"
     ]
    },
    {
     "name": "stdout",
     "output_type": "stream",
     "text": [
      "EVAL: [45/46] Data 0.036 (0.136) Elapsed 0m 15s (remain 0m 0s) Loss: 0.0244(0.0149) 558531.5923(337983.4832)\n",
      "Epoch: [233][0/93] Data 0.521 (0.521) Elapsed 0m 1s (remain 2m 6s) Loss: 0.0148(0.0148) 338939.1259(169469.5630)Grad: 3.5012  \n",
      "Epoch: [233][20/93] Data 0.014 (0.039) Elapsed 0m 17s (remain 1m 1s) Loss: 0.0108(0.0064) 246188.7964(141654.7399)Grad: 1.8515  \n",
      "Epoch: [233][40/93] Data 0.015 (0.028) Elapsed 0m 34s (remain 0m 44s) Loss: 0.0113(0.0060) 257780.4464(135062.3623)Grad: 2.5591  \n",
      "Epoch: [233][60/93] Data 0.015 (0.024) Elapsed 0m 51s (remain 0m 26s) Loss: 0.0105(0.0061) 238893.8164(137575.2178)Grad: 3.8954  \n",
      "Epoch: [233][80/93] Data 0.015 (0.022) Elapsed 1m 8s (remain 0m 10s) Loss: 0.0126(0.0060) 287450.2252(135411.7115)Grad: 4.3181  \n",
      "Epoch: [233][92/93] Data 0.021 (0.021) Elapsed 1m 17s (remain 0m 0s) Loss: 0.0110(0.0059) 252067.0590(135076.5847)Grad: 6.7042  \n",
      "EVAL: [0/46] Data 0.381 (0.381) Elapsed 0m 0s (remain 0m 26s) Loss: 0.0231(0.0231) 528290.8365(264145.4182)\n",
      "EVAL: [20/46] Data 0.118 (0.132) Elapsed 0m 6s (remain 0m 8s) Loss: 0.0244(0.0156) 557668.7855(348354.4196)\n",
      "EVAL: [40/46] Data 0.114 (0.152) Elapsed 0m 14s (remain 0m 1s) Loss: 0.0201(0.0148) 460077.8131(333045.9411)\n"
     ]
    },
    {
     "name": "stderr",
     "output_type": "stream",
     "text": [
      "Epoch 233 - avg_train_loss: 0.0059  avg_val_loss: 0.0147  time: 94s\n",
      "Epoch 233 - MAE: 0.029244122567715865\n"
     ]
    },
    {
     "name": "stdout",
     "output_type": "stream",
     "text": [
      "EVAL: [45/46] Data 0.044 (0.148) Elapsed 0m 16s (remain 0m 0s) Loss: 0.0245(0.0147) 560656.4557(334098.1063)\n",
      "Epoch: [234][0/93] Data 0.381 (0.381) Elapsed 0m 1s (remain 1m 50s) Loss: 0.0136(0.0136) 310985.6190(155492.8095)Grad: 3.1869  \n",
      "Epoch: [234][20/93] Data 0.014 (0.033) Elapsed 0m 17s (remain 1m 0s) Loss: 0.0163(0.0059) 371698.1856(131351.4751)Grad: 2.5000  \n",
      "Epoch: [234][40/93] Data 0.015 (0.025) Elapsed 0m 34s (remain 0m 43s) Loss: 0.0080(0.0059) 183424.9091(133294.2925)Grad: 2.6825  \n",
      "Epoch: [234][60/93] Data 0.014 (0.022) Elapsed 0m 51s (remain 0m 26s) Loss: 0.0113(0.0060) 258169.3116(135043.2122)Grad: 8.1729  \n",
      "Epoch: [234][80/93] Data 0.014 (0.020) Elapsed 1m 7s (remain 0m 10s) Loss: 0.0091(0.0061) 207324.8029(138669.4881)Grad: 2.6496  \n",
      "Epoch: [234][92/93] Data 0.014 (0.020) Elapsed 1m 18s (remain 0m 0s) Loss: 0.0119(0.0060) 272706.4555(137524.9815)Grad: 3.1935  \n",
      "EVAL: [0/46] Data 0.354 (0.354) Elapsed 0m 0s (remain 0m 25s) Loss: 0.0227(0.0227) 519579.5220(259789.7610)\n",
      "EVAL: [20/46] Data 0.112 (0.138) Elapsed 0m 7s (remain 0m 8s) Loss: 0.0258(0.0159) 589560.3780(354504.3388)\n",
      "EVAL: [40/46] Data 0.214 (0.137) Elapsed 0m 13s (remain 0m 1s) Loss: 0.0200(0.0151) 457322.4746(339711.6051)\n"
     ]
    },
    {
     "name": "stderr",
     "output_type": "stream",
     "text": [
      "Epoch 234 - avg_train_loss: 0.0060  avg_val_loss: 0.0151  time: 94s\n",
      "Epoch 234 - MAE: 0.029884263574102333\n"
     ]
    },
    {
     "name": "stdout",
     "output_type": "stream",
     "text": [
      "EVAL: [45/46] Data 0.140 (0.139) Elapsed 0m 15s (remain 0m 0s) Loss: 0.0243(0.0151) 556114.9841(341411.3698)\n",
      "Epoch: [235][0/93] Data 0.373 (0.373) Elapsed 0m 1s (remain 1m 48s) Loss: 0.0097(0.0097) 222488.2722(111244.1361)Grad: 5.4607  \n",
      "Epoch: [235][20/93] Data 0.014 (0.032) Elapsed 0m 17s (remain 1m 0s) Loss: 0.0103(0.0060) 235927.0428(133664.4273)Grad: 5.9762  \n",
      "Epoch: [235][40/93] Data 0.014 (0.025) Elapsed 0m 34s (remain 0m 43s) Loss: 0.0105(0.0061) 240687.8869(138638.2355)Grad: 2.5516  \n",
      "Epoch: [235][60/93] Data 0.015 (0.022) Elapsed 0m 51s (remain 0m 26s) Loss: 0.0102(0.0060) 231986.0419(136380.8950)Grad: 2.5372  \n",
      "Epoch: [235][80/93] Data 0.014 (0.020) Elapsed 1m 8s (remain 0m 10s) Loss: 0.0151(0.0061) 345305.3533(138514.0189)Grad: 5.8777  \n",
      "Epoch: [235][92/93] Data 0.014 (0.020) Elapsed 1m 17s (remain 0m 0s) Loss: 0.0080(0.0061) 181965.7173(138453.7178)Grad: 1.8267  \n",
      "EVAL: [0/46] Data 0.384 (0.384) Elapsed 0m 0s (remain 0m 26s) Loss: 0.0227(0.0227) 519168.0577(259584.0288)\n",
      "EVAL: [20/46] Data 0.114 (0.132) Elapsed 0m 6s (remain 0m 8s) Loss: 0.0229(0.0153) 522281.2356(341877.1405)\n",
      "EVAL: [40/46] Data 0.115 (0.143) Elapsed 0m 14s (remain 0m 1s) Loss: 0.0214(0.0145) 489700.3509(328222.2394)\n"
     ]
    },
    {
     "name": "stderr",
     "output_type": "stream",
     "text": [
      "Epoch 235 - avg_train_loss: 0.0061  avg_val_loss: 0.0146  time: 94s\n",
      "Epoch 235 - MAE: 0.028912847789946287\n",
      "Epoch 235 - Save Best Score: 0.0289 Model\n"
     ]
    },
    {
     "name": "stdout",
     "output_type": "stream",
     "text": [
      "EVAL: [45/46] Data 0.038 (0.140) Elapsed 0m 15s (remain 0m 0s) Loss: 0.0254(0.0146) 579721.9203(330313.4727)\n",
      "Epoch: [236][0/93] Data 0.415 (0.415) Elapsed 0m 1s (remain 1m 58s) Loss: 0.0107(0.0107) 243706.3914(121853.1957)Grad: 5.5591  \n",
      "Epoch: [236][20/93] Data 0.014 (0.035) Elapsed 0m 17s (remain 1m 1s) Loss: 0.0131(0.0055) 299545.7785(121703.9424)Grad: 4.2674  \n",
      "Epoch: [236][40/93] Data 0.015 (0.025) Elapsed 0m 34s (remain 0m 43s) Loss: 0.0175(0.0057) 399208.5427(128482.3123)Grad: 7.1383  \n",
      "Epoch: [236][60/93] Data 0.015 (0.022) Elapsed 0m 51s (remain 0m 26s) Loss: 0.0116(0.0057) 264152.1426(128817.2246)Grad: 1.7816  \n",
      "Epoch: [236][80/93] Data 0.015 (0.021) Elapsed 1m 7s (remain 0m 10s) Loss: 0.0108(0.0059) 246415.2550(134632.9366)Grad: 2.2675  \n",
      "Epoch: [236][92/93] Data 0.014 (0.020) Elapsed 1m 17s (remain 0m 0s) Loss: 0.0174(0.0060) 396701.4958(136998.4622)Grad: 3.4501  \n",
      "EVAL: [0/46] Data 0.370 (0.370) Elapsed 0m 0s (remain 0m 25s) Loss: 0.0226(0.0226) 515808.6310(257904.3155)\n",
      "EVAL: [20/46] Data 0.119 (0.145) Elapsed 0m 7s (remain 0m 8s) Loss: 0.0267(0.0160) 610711.5514(356539.8629)\n",
      "EVAL: [40/46] Data 0.141 (0.134) Elapsed 0m 13s (remain 0m 1s) Loss: 0.0214(0.0151) 488656.0282(339820.3298)\n"
     ]
    },
    {
     "name": "stderr",
     "output_type": "stream",
     "text": [
      "Epoch 236 - avg_train_loss: 0.0060  avg_val_loss: 0.0150  time: 93s\n",
      "Epoch 236 - MAE: 0.029815054767857143\n"
     ]
    },
    {
     "name": "stdout",
     "output_type": "stream",
     "text": [
      "EVAL: [45/46] Data 0.052 (0.135) Elapsed 0m 15s (remain 0m 0s) Loss: 0.0258(0.0150) 590038.7032(340620.6946)\n",
      "Epoch: [237][0/93] Data 0.364 (0.364) Elapsed 0m 1s (remain 1m 47s) Loss: 0.0091(0.0091) 208711.7713(104355.8857)Grad: 1.6494  \n",
      "Epoch: [237][20/93] Data 0.015 (0.032) Elapsed 0m 17s (remain 1m 0s) Loss: 0.0072(0.0058) 164649.7848(128584.1489)Grad: 2.2545  \n",
      "Epoch: [237][40/93] Data 0.015 (0.024) Elapsed 0m 34s (remain 0m 43s) Loss: 0.0162(0.0061) 369726.4083(138438.3413)Grad: 8.9873  \n",
      "Epoch: [237][60/93] Data 0.015 (0.022) Elapsed 0m 51s (remain 0m 26s) Loss: 0.0155(0.0063) 353571.9220(142150.7202)Grad: 5.6983  \n",
      "Epoch: [237][80/93] Data 0.015 (0.020) Elapsed 1m 7s (remain 0m 10s) Loss: 0.0108(0.0062) 245759.9466(140104.6159)Grad: 4.0121  \n",
      "Epoch: [237][92/93] Data 0.015 (0.020) Elapsed 1m 17s (remain 0m 0s) Loss: 0.0118(0.0061) 268610.2404(139706.9640)Grad: 1.7959  \n",
      "EVAL: [0/46] Data 0.402 (0.402) Elapsed 0m 0s (remain 0m 27s) Loss: 0.0230(0.0230) 526308.7173(263154.3587)\n",
      "EVAL: [20/46] Data 0.118 (0.132) Elapsed 0m 6s (remain 0m 8s) Loss: 0.0251(0.0159) 573493.7769(354013.3725)\n",
      "EVAL: [40/46] Data 0.123 (0.147) Elapsed 0m 14s (remain 0m 1s) Loss: 0.0196(0.0151) 448123.3868(341310.2287)\n"
     ]
    },
    {
     "name": "stderr",
     "output_type": "stream",
     "text": [
      "Epoch 237 - avg_train_loss: 0.0061  avg_val_loss: 0.0152  time: 94s\n",
      "Epoch 237 - MAE: 0.030173048784314767\n"
     ]
    },
    {
     "name": "stdout",
     "output_type": "stream",
     "text": [
      "EVAL: [45/46] Data 0.041 (0.143) Elapsed 0m 15s (remain 0m 0s) Loss: 0.0245(0.0152) 560215.0296(344710.5899)\n",
      "Epoch: [238][0/93] Data 0.394 (0.394) Elapsed 0m 1s (remain 1m 51s) Loss: 0.0116(0.0116) 264075.2803(132037.6402)Grad: 1.5296  \n",
      "Epoch: [238][20/93] Data 0.015 (0.034) Elapsed 0m 17s (remain 1m 1s) Loss: 0.0140(0.0056) 318977.9136(124077.4992)Grad: 12.2901  \n",
      "Epoch: [238][40/93] Data 0.015 (0.025) Elapsed 0m 34s (remain 0m 43s) Loss: 0.0116(0.0059) 265108.4525(133544.5579)Grad: 1.8177  \n",
      "Epoch: [238][60/93] Data 0.015 (0.023) Elapsed 0m 51s (remain 0m 27s) Loss: 0.0135(0.0061) 308050.5521(137869.0436)Grad: 6.5475  \n",
      "Epoch: [238][80/93] Data 0.015 (0.021) Elapsed 1m 8s (remain 0m 10s) Loss: 0.0107(0.0062) 243366.6610(141612.1914)Grad: 4.3971  \n",
      "Epoch: [238][92/93] Data 0.014 (0.021) Elapsed 1m 18s (remain 0m 0s) Loss: 0.0093(0.0061) 212145.8685(139511.0795)Grad: 7.2456  \n",
      "EVAL: [0/46] Data 0.368 (0.368) Elapsed 0m 0s (remain 0m 25s) Loss: 0.0218(0.0218) 498402.3449(249201.1724)\n",
      "EVAL: [20/46] Data 0.125 (0.144) Elapsed 0m 7s (remain 0m 8s) Loss: 0.0256(0.0157) 585616.6533(349902.0721)\n",
      "EVAL: [40/46] Data 0.220 (0.137) Elapsed 0m 13s (remain 0m 1s) Loss: 0.0232(0.0149) 529697.4674(335376.5975)\n"
     ]
    },
    {
     "name": "stderr",
     "output_type": "stream",
     "text": [
      "Epoch 238 - avg_train_loss: 0.0061  avg_val_loss: 0.0148  time: 94s\n",
      "Epoch 238 - MAE: 0.029465192181097364\n"
     ]
    },
    {
     "name": "stdout",
     "output_type": "stream",
     "text": [
      "EVAL: [45/46] Data 0.057 (0.135) Elapsed 0m 15s (remain 0m 0s) Loss: 0.0272(0.0148) 622583.7955(336623.7036)\n",
      "Epoch: [239][0/93] Data 0.397 (0.397) Elapsed 0m 1s (remain 1m 50s) Loss: 0.0117(0.0117) 267313.2212(133656.6106)Grad: 6.7409  \n",
      "Epoch: [239][20/93] Data 0.015 (0.034) Elapsed 0m 17s (remain 1m 1s) Loss: 0.0097(0.0059) 221912.8477(131739.0447)Grad: 2.4025  \n",
      "Epoch: [239][40/93] Data 0.015 (0.025) Elapsed 0m 34s (remain 0m 44s) Loss: 0.0125(0.0061) 286081.2593(137863.3286)Grad: 4.7319  \n",
      "Epoch: [239][60/93] Data 0.015 (0.022) Elapsed 0m 51s (remain 0m 27s) Loss: 0.0106(0.0061) 242826.0076(137362.3054)Grad: 1.6533  \n",
      "Epoch: [239][80/93] Data 0.015 (0.021) Elapsed 1m 8s (remain 0m 10s) Loss: 0.0165(0.0062) 377638.3720(140317.3068)Grad: 2.6126  \n",
      "Epoch: [239][92/93] Data 0.015 (0.020) Elapsed 1m 18s (remain 0m 0s) Loss: 0.0114(0.0062) 260130.3639(140129.3643)Grad: 5.9813  \n",
      "EVAL: [0/46] Data 0.394 (0.394) Elapsed 0m 0s (remain 0m 26s) Loss: 0.0225(0.0225) 514866.4935(257433.2467)\n",
      "EVAL: [20/46] Data 0.121 (0.137) Elapsed 0m 7s (remain 0m 8s) Loss: 0.0222(0.0157) 506394.4480(351158.4723)\n",
      "EVAL: [40/46] Data 0.119 (0.148) Elapsed 0m 14s (remain 0m 1s) Loss: 0.0208(0.0150) 476037.2922(338027.4801)\n"
     ]
    },
    {
     "name": "stderr",
     "output_type": "stream",
     "text": [
      "Epoch 239 - avg_train_loss: 0.0062  avg_val_loss: 0.0150  time: 94s\n",
      "Epoch 239 - MAE: 0.02971338380656024\n"
     ]
    },
    {
     "name": "stdout",
     "output_type": "stream",
     "text": [
      "EVAL: [45/46] Data 0.041 (0.143) Elapsed 0m 15s (remain 0m 0s) Loss: 0.0275(0.0150) 629022.0972(339459.1652)\n",
      "Epoch: [240][0/93] Data 0.381 (0.381) Elapsed 0m 1s (remain 1m 49s) Loss: 0.0110(0.0110) 252024.2229(126012.1115)Grad: 6.5389  \n",
      "Epoch: [240][20/93] Data 0.015 (0.033) Elapsed 0m 17s (remain 1m 1s) Loss: 0.0096(0.0061) 219550.6518(136676.8396)Grad: 5.7661  \n",
      "Epoch: [240][40/93] Data 0.015 (0.025) Elapsed 0m 34s (remain 0m 43s) Loss: 0.0122(0.0060) 277973.0542(135396.6689)Grad: 3.4360  \n",
      "Epoch: [240][60/93] Data 0.016 (0.022) Elapsed 0m 51s (remain 0m 26s) Loss: 0.0127(0.0061) 291223.9677(137159.4263)Grad: 5.3609  \n",
      "Epoch: [240][80/93] Data 0.015 (0.021) Elapsed 1m 8s (remain 0m 10s) Loss: 0.0160(0.0061) 365461.2324(138228.3149)Grad: 10.1929  \n",
      "Epoch: [240][92/93] Data 0.015 (0.020) Elapsed 1m 18s (remain 0m 0s) Loss: 0.0140(0.0061) 319633.1156(139216.0623)Grad: 5.5632  \n",
      "EVAL: [0/46] Data 0.370 (0.370) Elapsed 0m 0s (remain 0m 25s) Loss: 0.0226(0.0226) 516169.8327(258084.9163)\n",
      "EVAL: [20/46] Data 0.120 (0.142) Elapsed 0m 7s (remain 0m 8s) Loss: 0.0245(0.0158) 560486.6011(353019.2283)\n",
      "EVAL: [40/46] Data 0.123 (0.137) Elapsed 0m 13s (remain 0m 1s) Loss: 0.0226(0.0150) 516152.0429(339242.3181)\n"
     ]
    },
    {
     "name": "stderr",
     "output_type": "stream",
     "text": [
      "Epoch 240 - avg_train_loss: 0.0061  avg_val_loss: 0.0150  time: 94s\n",
      "Epoch 240 - MAE: 0.02971825841201695\n"
     ]
    },
    {
     "name": "stdout",
     "output_type": "stream",
     "text": [
      "EVAL: [45/46] Data 0.042 (0.134) Elapsed 0m 15s (remain 0m 0s) Loss: 0.0252(0.0150) 574793.9242(339514.8523)\n",
      "Epoch: [241][0/93] Data 0.378 (0.378) Elapsed 0m 1s (remain 1m 50s) Loss: 0.0109(0.0109) 249555.2880(124777.6440)Grad: 2.0781  \n",
      "Epoch: [241][20/93] Data 0.016 (0.033) Elapsed 0m 17s (remain 1m 1s) Loss: 0.0189(0.0065) 431450.7397(145746.3454)Grad: 9.4517  \n",
      "Epoch: [241][40/93] Data 0.015 (0.025) Elapsed 0m 34s (remain 0m 44s) Loss: 0.0094(0.0062) 214503.2127(139343.5512)Grad: 1.8512  \n",
      "Epoch: [241][60/93] Data 0.015 (0.022) Elapsed 0m 51s (remain 0m 26s) Loss: 0.0120(0.0061) 273299.0952(138412.9945)Grad: 7.0512  \n",
      "Epoch: [241][80/93] Data 0.014 (0.020) Elapsed 1m 8s (remain 0m 10s) Loss: 0.0125(0.0062) 284819.9688(139868.3265)Grad: 1.7584  \n",
      "Epoch: [241][92/93] Data 0.014 (0.020) Elapsed 1m 18s (remain 0m 0s) Loss: 0.0128(0.0062) 291913.8556(140127.1959)Grad: 5.5605  \n",
      "EVAL: [0/46] Data 0.478 (0.478) Elapsed 0m 0s (remain 0m 31s) Loss: 0.0223(0.0223) 508948.2677(254474.1338)\n",
      "EVAL: [20/46] Data 0.209 (0.153) Elapsed 0m 7s (remain 0m 8s) Loss: 0.0246(0.0157) 562370.9614(349905.5711)\n",
      "EVAL: [40/46] Data 0.114 (0.148) Elapsed 0m 14s (remain 0m 1s) Loss: 0.0229(0.0150) 522615.2419(338644.8930)\n"
     ]
    },
    {
     "name": "stderr",
     "output_type": "stream",
     "text": [
      "Epoch 241 - avg_train_loss: 0.0062  avg_val_loss: 0.0150  time: 94s\n",
      "Epoch 241 - MAE: 0.029751651677542124\n"
     ]
    },
    {
     "name": "stdout",
     "output_type": "stream",
     "text": [
      "EVAL: [45/46] Data 0.047 (0.144) Elapsed 0m 15s (remain 0m 0s) Loss: 0.0262(0.0150) 599428.0741(339896.3528)\n",
      "Epoch: [242][0/93] Data 0.384 (0.384) Elapsed 0m 1s (remain 1m 49s) Loss: 0.0107(0.0107) 243484.8272(121742.4136)Grad: 3.8963  \n",
      "Epoch: [242][20/93] Data 0.020 (0.033) Elapsed 0m 17s (remain 1m 1s) Loss: 0.0135(0.0062) 308414.0733(138775.8639)Grad: 5.0059  \n",
      "Epoch: [242][40/93] Data 0.016 (0.025) Elapsed 0m 34s (remain 0m 43s) Loss: 0.0143(0.0061) 326692.5293(137772.4400)Grad: 2.2767  \n",
      "Epoch: [242][60/93] Data 0.020 (0.022) Elapsed 0m 51s (remain 0m 26s) Loss: 0.0108(0.0061) 246175.5179(137570.3187)Grad: 1.4997  \n",
      "Epoch: [242][80/93] Data 0.015 (0.021) Elapsed 1m 7s (remain 0m 10s) Loss: 0.0123(0.0061) 280172.6945(138609.2786)Grad: 7.4498  \n",
      "Epoch: [242][92/93] Data 0.014 (0.020) Elapsed 1m 17s (remain 0m 0s) Loss: 0.0126(0.0060) 287947.7446(135719.7267)Grad: 2.4817  \n",
      "EVAL: [0/46] Data 0.366 (0.366) Elapsed 0m 0s (remain 0m 25s) Loss: 0.0213(0.0213) 487725.8499(243862.9249)\n",
      "EVAL: [20/46] Data 0.119 (0.166) Elapsed 0m 7s (remain 0m 9s) Loss: 0.0270(0.0158) 616403.7016(353381.5588)\n",
      "EVAL: [40/46] Data 0.113 (0.149) Elapsed 0m 14s (remain 0m 1s) Loss: 0.0227(0.0151) 519350.3822(341337.2809)\n"
     ]
    },
    {
     "name": "stderr",
     "output_type": "stream",
     "text": [
      "Epoch 242 - avg_train_loss: 0.0060  avg_val_loss: 0.0151  time: 94s\n",
      "Epoch 242 - MAE: 0.029963745192465092\n"
     ]
    },
    {
     "name": "stdout",
     "output_type": "stream",
     "text": [
      "EVAL: [45/46] Data 0.045 (0.144) Elapsed 0m 15s (remain 0m 0s) Loss: 0.0245(0.0151) 559752.1960(342319.3978)\n",
      "Epoch: [243][0/93] Data 0.370 (0.370) Elapsed 0m 1s (remain 1m 49s) Loss: 0.0165(0.0165) 377501.9691(188750.9846)Grad: 6.0291  \n",
      "Epoch: [243][20/93] Data 0.014 (0.032) Elapsed 0m 17s (remain 1m 0s) Loss: 0.0083(0.0061) 188702.4243(135989.7223)Grad: 3.6480  \n",
      "Epoch: [243][40/93] Data 0.015 (0.025) Elapsed 0m 34s (remain 0m 43s) Loss: 0.0093(0.0058) 212201.6426(130666.5660)Grad: 2.5848  \n",
      "Epoch: [243][60/93] Data 0.015 (0.022) Elapsed 0m 51s (remain 0m 26s) Loss: 0.0114(0.0057) 259871.3900(130120.9356)Grad: 4.6310  \n",
      "Epoch: [243][80/93] Data 0.014 (0.021) Elapsed 1m 8s (remain 0m 10s) Loss: 0.0100(0.0057) 228594.0998(129216.6857)Grad: 3.6803  \n",
      "Epoch: [243][92/93] Data 0.014 (0.020) Elapsed 1m 18s (remain 0m 0s) Loss: 0.0122(0.0057) 278995.2034(130102.1012)Grad: 2.1407  \n",
      "EVAL: [0/46] Data 0.374 (0.374) Elapsed 0m 0s (remain 0m 25s) Loss: 0.0232(0.0232) 529240.7624(264620.3812)\n",
      "EVAL: [20/46] Data 0.129 (0.147) Elapsed 0m 7s (remain 0m 8s) Loss: 0.0248(0.0157) 566384.6112(350516.3391)\n",
      "EVAL: [40/46] Data 0.114 (0.153) Elapsed 0m 14s (remain 0m 1s) Loss: 0.0199(0.0149) 454832.2387(335922.9139)\n"
     ]
    },
    {
     "name": "stderr",
     "output_type": "stream",
     "text": [
      "Epoch 243 - avg_train_loss: 0.0057  avg_val_loss: 0.0148  time: 94s\n",
      "Epoch 243 - MAE: 0.02935281711047525\n"
     ]
    },
    {
     "name": "stdout",
     "output_type": "stream",
     "text": [
      "EVAL: [45/46] Data 0.035 (0.147) Elapsed 0m 16s (remain 0m 0s) Loss: 0.0255(0.0148) 583236.0504(335339.8904)\n",
      "Epoch: [244][0/93] Data 0.366 (0.366) Elapsed 0m 1s (remain 1m 56s) Loss: 0.0080(0.0080) 182279.5078(91139.7539)Grad: 2.1967  \n",
      "Epoch: [244][20/93] Data 0.014 (0.033) Elapsed 0m 17s (remain 1m 1s) Loss: 0.0091(0.0058) 206912.0192(129228.1932)Grad: 7.1913  \n",
      "Epoch: [244][40/93] Data 0.021 (0.025) Elapsed 0m 34s (remain 0m 43s) Loss: 0.0090(0.0057) 205721.7603(129434.1037)Grad: 3.1310  \n",
      "Epoch: [244][60/93] Data 0.017 (0.022) Elapsed 0m 51s (remain 0m 26s) Loss: 0.0120(0.0058) 274147.7510(130722.9492)Grad: 4.0100  \n",
      "Epoch: [244][80/93] Data 0.020 (0.021) Elapsed 1m 7s (remain 0m 10s) Loss: 0.0111(0.0058) 253187.5630(131409.0471)Grad: 5.4908  \n",
      "Epoch: [244][92/93] Data 0.014 (0.020) Elapsed 1m 17s (remain 0m 0s) Loss: 0.0095(0.0058) 215999.8567(131322.8099)Grad: 2.8352  \n",
      "EVAL: [0/46] Data 0.409 (0.409) Elapsed 0m 0s (remain 0m 27s) Loss: 0.0215(0.0215) 490923.2529(245461.6264)\n",
      "EVAL: [20/46] Data 0.120 (0.137) Elapsed 0m 7s (remain 0m 8s) Loss: 0.0277(0.0157) 631826.9323(350607.9016)\n",
      "EVAL: [40/46] Data 0.148 (0.145) Elapsed 0m 14s (remain 0m 1s) Loss: 0.0219(0.0149) 500723.8328(336281.0663)\n"
     ]
    },
    {
     "name": "stderr",
     "output_type": "stream",
     "text": [
      "Epoch 244 - avg_train_loss: 0.0058  avg_val_loss: 0.0149  time: 94s\n",
      "Epoch 244 - MAE: 0.029499713698196584\n"
     ]
    },
    {
     "name": "stdout",
     "output_type": "stream",
     "text": [
      "EVAL: [45/46] Data 0.067 (0.143) Elapsed 0m 15s (remain 0m 0s) Loss: 0.0276(0.0149) 631107.1250(337018.0965)\n",
      "Epoch: [245][0/93] Data 0.391 (0.391) Elapsed 0m 1s (remain 1m 53s) Loss: 0.0104(0.0104) 236646.9565(118323.4782)Grad: 7.0109  \n",
      "Epoch: [245][20/93] Data 0.020 (0.034) Elapsed 0m 17s (remain 1m 1s) Loss: 0.0133(0.0064) 303857.6846(143074.2192)Grad: 2.7883  \n",
      "Epoch: [245][40/93] Data 0.020 (0.025) Elapsed 0m 34s (remain 0m 44s) Loss: 0.0121(0.0062) 275687.6141(140785.5845)Grad: 9.9371  \n",
      "Epoch: [245][60/93] Data 0.015 (0.022) Elapsed 0m 51s (remain 0m 27s) Loss: 0.0094(0.0061) 214677.3870(137729.5521)Grad: 3.4819  \n",
      "Epoch: [245][80/93] Data 0.015 (0.021) Elapsed 1m 8s (remain 0m 10s) Loss: 0.0077(0.0060) 176869.4625(137332.6826)Grad: 2.3490  \n",
      "Epoch: [245][92/93] Data 0.015 (0.020) Elapsed 1m 18s (remain 0m 0s) Loss: 0.0111(0.0060) 254702.8694(136026.8270)Grad: 3.1764  \n",
      "EVAL: [0/46] Data 0.378 (0.378) Elapsed 0m 0s (remain 0m 26s) Loss: 0.0206(0.0206) 470087.8703(235043.9352)\n",
      "EVAL: [20/46] Data 0.112 (0.140) Elapsed 0m 7s (remain 0m 8s) Loss: 0.0290(0.0157) 663368.3035(349898.0614)\n",
      "EVAL: [40/46] Data 0.112 (0.144) Elapsed 0m 14s (remain 0m 1s) Loss: 0.0231(0.0148) 528209.0373(334891.4747)\n"
     ]
    },
    {
     "name": "stderr",
     "output_type": "stream",
     "text": [
      "Epoch 245 - avg_train_loss: 0.0060  avg_val_loss: 0.0148  time: 95s\n",
      "Epoch 245 - MAE: 0.029400476881831908\n"
     ]
    },
    {
     "name": "stdout",
     "output_type": "stream",
     "text": [
      "EVAL: [45/46] Data 0.130 (0.155) Elapsed 0m 16s (remain 0m 0s) Loss: 0.0248(0.0148) 565551.6386(335884.3752)\n",
      "Epoch: [246][0/93] Data 0.367 (0.367) Elapsed 0m 1s (remain 1m 47s) Loss: 0.0124(0.0124) 283286.9790(141643.4895)Grad: 1.7503  \n",
      "Epoch: [246][20/93] Data 0.016 (0.032) Elapsed 0m 17s (remain 1m 0s) Loss: 0.0138(0.0062) 315227.9831(139294.9232)Grad: 10.8033  \n",
      "Epoch: [246][40/93] Data 0.015 (0.025) Elapsed 0m 34s (remain 0m 43s) Loss: 0.0098(0.0059) 223334.8639(133601.8102)Grad: 3.6981  \n",
      "Epoch: [246][60/93] Data 0.015 (0.022) Elapsed 0m 51s (remain 0m 26s) Loss: 0.0150(0.0058) 342532.7357(132118.8674)Grad: 3.2571  \n",
      "Epoch: [246][80/93] Data 0.015 (0.021) Elapsed 1m 7s (remain 0m 10s) Loss: 0.0156(0.0059) 357110.2684(133734.1416)Grad: 13.7065  \n",
      "Epoch: [246][92/93] Data 0.015 (0.020) Elapsed 1m 17s (remain 0m 0s) Loss: 0.0164(0.0059) 375105.1511(133731.0697)Grad: 2.1472  \n",
      "EVAL: [0/46] Data 0.367 (0.367) Elapsed 0m 0s (remain 0m 25s) Loss: 0.0233(0.0233) 532708.3325(266354.1663)\n",
      "EVAL: [20/46] Data 0.117 (0.132) Elapsed 0m 6s (remain 0m 8s) Loss: 0.0251(0.0157) 573525.6539(350759.9278)\n",
      "EVAL: [40/46] Data 0.112 (0.131) Elapsed 0m 13s (remain 0m 1s) Loss: 0.0208(0.0149) 475869.0549(337224.0961)\n"
     ]
    },
    {
     "name": "stderr",
     "output_type": "stream",
     "text": [
      "Epoch 246 - avg_train_loss: 0.0059  avg_val_loss: 0.0150  time: 93s\n",
      "Epoch 246 - MAE: 0.02968834366431112\n"
     ]
    },
    {
     "name": "stdout",
     "output_type": "stream",
     "text": [
      "EVAL: [45/46] Data 0.039 (0.128) Elapsed 0m 15s (remain 0m 0s) Loss: 0.0284(0.0150) 649296.2489(339173.0906)\n",
      "Epoch   246: reducing learning rate of group 0 to 3.1250e-06.\n",
      "Epoch: [247][0/93] Data 0.400 (0.400) Elapsed 0m 1s (remain 1m 51s) Loss: 0.0106(0.0106) 242691.3071(121345.6535)Grad: 2.1474  \n",
      "Epoch: [247][20/93] Data 0.015 (0.035) Elapsed 0m 17s (remain 1m 1s) Loss: 0.0108(0.0059) 245917.2249(132028.1879)Grad: 3.2595  \n",
      "Epoch: [247][40/93] Data 0.033 (0.026) Elapsed 0m 34s (remain 0m 44s) Loss: 0.0080(0.0056) 183609.3828(126722.1757)Grad: 4.6170  \n",
      "Epoch: [247][60/93] Data 0.015 (0.023) Elapsed 0m 51s (remain 0m 27s) Loss: 0.0119(0.0056) 272374.4495(127446.8188)Grad: 6.7628  \n",
      "Epoch: [247][80/93] Data 0.014 (0.021) Elapsed 1m 8s (remain 0m 10s) Loss: 0.0120(0.0057) 273189.0578(128381.1621)Grad: 3.9972  \n",
      "Epoch: [247][92/93] Data 0.014 (0.021) Elapsed 1m 18s (remain 0m 0s) Loss: 0.0125(0.0057) 285598.4654(129911.6050)Grad: 2.8566  \n",
      "EVAL: [0/46] Data 0.403 (0.403) Elapsed 0m 0s (remain 0m 27s) Loss: 0.0223(0.0223) 508475.8583(254237.9291)\n",
      "EVAL: [20/46] Data 0.132 (0.146) Elapsed 0m 7s (remain 0m 8s) Loss: 0.0258(0.0158) 588935.0527(352925.4102)\n",
      "EVAL: [40/46] Data 0.119 (0.145) Elapsed 0m 14s (remain 0m 1s) Loss: 0.0222(0.0150) 506336.9077(337983.6470)\n"
     ]
    },
    {
     "name": "stderr",
     "output_type": "stream",
     "text": [
      "Epoch 247 - avg_train_loss: 0.0057  avg_val_loss: 0.0149  time: 94s\n",
      "Epoch 247 - MAE: 0.029595392200079996\n"
     ]
    },
    {
     "name": "stdout",
     "output_type": "stream",
     "text": [
      "EVAL: [45/46] Data 0.038 (0.145) Elapsed 0m 16s (remain 0m 0s) Loss: 0.0259(0.0149) 591887.2284(338111.1697)\n",
      "Epoch: [248][0/93] Data 0.376 (0.376) Elapsed 0m 1s (remain 1m 49s) Loss: 0.0073(0.0073) 167567.4661(83783.7330)Grad: 1.6957  \n",
      "Epoch: [248][20/93] Data 0.016 (0.035) Elapsed 0m 17s (remain 1m 1s) Loss: 0.0091(0.0062) 207815.8320(138328.7882)Grad: 5.4194  \n",
      "Epoch: [248][40/93] Data 0.021 (0.026) Elapsed 0m 34s (remain 0m 43s) Loss: 0.0108(0.0060) 247578.9994(134598.7855)Grad: 3.9548  \n",
      "Epoch: [248][60/93] Data 0.015 (0.023) Elapsed 0m 51s (remain 0m 26s) Loss: 0.0127(0.0060) 290785.4781(136960.8552)Grad: 2.1474  \n",
      "Epoch: [248][80/93] Data 0.015 (0.021) Elapsed 1m 7s (remain 0m 10s) Loss: 0.0136(0.0059) 311155.6864(134491.5413)Grad: 9.5486  \n",
      "Epoch: [248][92/93] Data 0.015 (0.021) Elapsed 1m 18s (remain 0m 0s) Loss: 0.0154(0.0059) 352003.7781(133284.7441)Grad: 5.2124  \n",
      "EVAL: [0/46] Data 0.375 (0.375) Elapsed 0m 0s (remain 0m 25s) Loss: 0.0218(0.0218) 498179.6315(249089.8158)\n",
      "EVAL: [20/46] Data 0.117 (0.134) Elapsed 0m 7s (remain 0m 8s) Loss: 0.0265(0.0156) 606324.8683(347115.8416)\n",
      "EVAL: [40/46] Data 0.125 (0.134) Elapsed 0m 13s (remain 0m 1s) Loss: 0.0209(0.0147) 477317.2663(332049.2798)\n"
     ]
    },
    {
     "name": "stderr",
     "output_type": "stream",
     "text": [
      "Epoch 248 - avg_train_loss: 0.0059  avg_val_loss: 0.0147  time: 94s\n",
      "Epoch 248 - MAE: 0.029177832301443225\n"
     ]
    },
    {
     "name": "stdout",
     "output_type": "stream",
     "text": [
      "EVAL: [45/46] Data 0.037 (0.131) Elapsed 0m 15s (remain 0m 0s) Loss: 0.0249(0.0147) 568854.3761(333340.7827)\n",
      "Epoch: [249][0/93] Data 0.376 (0.376) Elapsed 0m 1s (remain 1m 51s) Loss: 0.0121(0.0121) 275727.2157(137863.6078)Grad: 3.4687  \n",
      "Epoch: [249][20/93] Data 0.015 (0.033) Elapsed 0m 17s (remain 1m 1s) Loss: 0.0159(0.0058) 362308.0486(129151.1068)Grad: 5.1019  \n",
      "Epoch: [249][40/93] Data 0.015 (0.025) Elapsed 0m 34s (remain 0m 43s) Loss: 0.0075(0.0059) 172421.5259(132603.4620)Grad: 1.4656  \n",
      "Epoch: [249][60/93] Data 0.016 (0.022) Elapsed 0m 51s (remain 0m 26s) Loss: 0.0105(0.0058) 238871.4515(131260.7467)Grad: 5.6330  \n",
      "Epoch: [249][80/93] Data 0.016 (0.020) Elapsed 1m 7s (remain 0m 10s) Loss: 0.0129(0.0058) 294600.2479(131647.6804)Grad: 7.7108  \n",
      "Epoch: [249][92/93] Data 0.015 (0.020) Elapsed 1m 17s (remain 0m 0s) Loss: 0.0152(0.0058) 348392.5275(132020.0457)Grad: 3.4728  \n",
      "EVAL: [0/46] Data 0.368 (0.368) Elapsed 0m 0s (remain 0m 25s) Loss: 0.0211(0.0211) 482575.0127(241287.5064)\n",
      "EVAL: [20/46] Data 0.120 (0.142) Elapsed 0m 7s (remain 0m 8s) Loss: 0.0251(0.0155) 573169.8998(346085.9830)\n",
      "EVAL: [40/46] Data 0.113 (0.143) Elapsed 0m 14s (remain 0m 1s) Loss: 0.0215(0.0147) 491790.3157(332243.8609)\n"
     ]
    },
    {
     "name": "stderr",
     "output_type": "stream",
     "text": [
      "Epoch 249 - avg_train_loss: 0.0058  avg_val_loss: 0.0147  time: 94s\n",
      "Epoch 249 - MAE: 0.029138788755015587\n"
     ]
    },
    {
     "name": "stdout",
     "output_type": "stream",
     "text": [
      "EVAL: [45/46] Data 0.040 (0.144) Elapsed 0m 15s (remain 0m 0s) Loss: 0.0271(0.0147) 619505.6865(332894.7296)\n",
      "Epoch: [250][0/93] Data 0.382 (0.382) Elapsed 0m 1s (remain 1m 50s) Loss: 0.0102(0.0102) 234139.5478(117069.7739)Grad: 5.8950  \n",
      "Epoch: [250][20/93] Data 0.015 (0.033) Elapsed 0m 18s (remain 1m 1s) Loss: 0.0086(0.0054) 196095.4825(120026.8820)Grad: 3.7404  \n",
      "Epoch: [250][40/93] Data 0.016 (0.025) Elapsed 0m 34s (remain 0m 44s) Loss: 0.0145(0.0056) 331628.8458(126472.3634)Grad: 3.7583  \n",
      "Epoch: [250][60/93] Data 0.015 (0.022) Elapsed 0m 51s (remain 0m 27s) Loss: 0.0159(0.0057) 362573.4490(129771.9025)Grad: 7.8838  \n",
      "Epoch: [250][80/93] Data 0.015 (0.021) Elapsed 1m 8s (remain 0m 10s) Loss: 0.0064(0.0056) 146957.2015(128054.9370)Grad: 1.4851  \n",
      "Epoch: [250][92/93] Data 0.014 (0.020) Elapsed 1m 18s (remain 0m 0s) Loss: 0.0145(0.0056) 331319.1623(128223.9347)Grad: 10.9463  \n",
      "EVAL: [0/46] Data 0.386 (0.386) Elapsed 0m 0s (remain 0m 26s) Loss: 0.0209(0.0209) 478590.3884(239295.1942)\n",
      "EVAL: [20/46] Data 0.119 (0.143) Elapsed 0m 7s (remain 0m 8s) Loss: 0.0240(0.0156) 548314.7814(347910.6830)\n",
      "EVAL: [40/46] Data 0.112 (0.137) Elapsed 0m 13s (remain 0m 1s) Loss: 0.0203(0.0147) 464012.8131(332603.6788)\n"
     ]
    },
    {
     "name": "stderr",
     "output_type": "stream",
     "text": [
      "Epoch 250 - avg_train_loss: 0.0056  avg_val_loss: 0.0148  time: 94s\n",
      "Epoch 250 - MAE: 0.02928760319464011\n"
     ]
    },
    {
     "name": "stdout",
     "output_type": "stream",
     "text": [
      "EVAL: [45/46] Data 0.035 (0.133) Elapsed 0m 15s (remain 0m 0s) Loss: 0.0264(0.0148) 603683.6316(334594.8538)\n",
      "Epoch: [251][0/93] Data 0.374 (0.374) Elapsed 0m 1s (remain 1m 48s) Loss: 0.0082(0.0082) 186523.9573(93261.9786)Grad: 1.4775  \n",
      "Epoch: [251][20/93] Data 0.016 (0.033) Elapsed 0m 17s (remain 1m 1s) Loss: 0.0097(0.0058) 221383.5577(129079.0856)Grad: 6.5329  \n",
      "Epoch: [251][40/93] Data 0.015 (0.025) Elapsed 0m 34s (remain 0m 43s) Loss: 0.0143(0.0060) 326650.0550(136490.3406)Grad: 7.0085  \n",
      "Epoch: [251][60/93] Data 0.016 (0.022) Elapsed 0m 51s (remain 0m 26s) Loss: 0.0092(0.0060) 209578.2808(135794.1517)Grad: 5.9055  \n",
      "Epoch: [251][80/93] Data 0.015 (0.021) Elapsed 1m 8s (remain 0m 10s) Loss: 0.0176(0.0059) 403245.2172(133625.3869)Grad: 8.8220  \n",
      "Epoch: [251][92/93] Data 0.015 (0.020) Elapsed 1m 17s (remain 0m 0s) Loss: 0.0168(0.0059) 383006.4750(134028.8665)Grad: 4.9092  \n",
      "EVAL: [0/46] Data 0.373 (0.373) Elapsed 0m 0s (remain 0m 25s) Loss: 0.0216(0.0216) 493212.3956(246606.1978)\n",
      "EVAL: [20/46] Data 0.116 (0.146) Elapsed 0m 7s (remain 0m 8s) Loss: 0.0263(0.0158) 600117.4939(351390.1100)\n",
      "EVAL: [40/46] Data 0.110 (0.150) Elapsed 0m 14s (remain 0m 1s) Loss: 0.0214(0.0148) 490028.4840(334236.1512)\n"
     ]
    },
    {
     "name": "stderr",
     "output_type": "stream",
     "text": [
      "Epoch 251 - avg_train_loss: 0.0059  avg_val_loss: 0.0148  time: 94s\n",
      "Epoch 251 - MAE: 0.029377695677298234\n"
     ]
    },
    {
     "name": "stdout",
     "output_type": "stream",
     "text": [
      "EVAL: [45/46] Data 0.038 (0.145) Elapsed 0m 16s (remain 0m 0s) Loss: 0.0265(0.0148) 605455.2946(335624.1014)\n",
      "Epoch: [252][0/93] Data 0.375 (0.375) Elapsed 0m 1s (remain 1m 48s) Loss: 0.0126(0.0126) 287972.5780(143986.2890)Grad: 11.5925  \n",
      "Epoch: [252][20/93] Data 0.015 (0.033) Elapsed 0m 17s (remain 1m 0s) Loss: 0.0109(0.0056) 249641.3005(125414.3917)Grad: 4.4706  \n",
      "Epoch: [252][40/93] Data 0.016 (0.024) Elapsed 0m 34s (remain 0m 43s) Loss: 0.0083(0.0057) 188550.5511(127673.5259)Grad: 1.8341  \n",
      "Epoch: [252][60/93] Data 0.014 (0.022) Elapsed 0m 51s (remain 0m 26s) Loss: 0.0081(0.0055) 186081.5097(125751.4561)Grad: 4.4315  \n",
      "Epoch: [252][80/93] Data 0.015 (0.020) Elapsed 1m 7s (remain 0m 10s) Loss: 0.0086(0.0055) 197593.5735(124619.3063)Grad: 2.1377  \n",
      "Epoch: [252][92/93] Data 0.014 (0.020) Elapsed 1m 17s (remain 0m 0s) Loss: 0.0116(0.0056) 265529.4927(126860.5219)Grad: 5.0976  \n",
      "EVAL: [0/46] Data 0.372 (0.372) Elapsed 0m 0s (remain 0m 25s) Loss: 0.0224(0.0224) 510970.8183(255485.4091)\n",
      "EVAL: [20/46] Data 0.109 (0.144) Elapsed 0m 7s (remain 0m 8s) Loss: 0.0240(0.0154) 548930.1053(344445.5986)\n",
      "EVAL: [40/46] Data 0.120 (0.136) Elapsed 0m 13s (remain 0m 1s) Loss: 0.0214(0.0146) 489403.0309(329849.9644)\n"
     ]
    },
    {
     "name": "stderr",
     "output_type": "stream",
     "text": [
      "Epoch 252 - avg_train_loss: 0.0056  avg_val_loss: 0.0146  time: 93s\n",
      "Epoch 252 - MAE: 0.029000148768117427\n"
     ]
    },
    {
     "name": "stdout",
     "output_type": "stream",
     "text": [
      "EVAL: [45/46] Data 0.028 (0.131) Elapsed 0m 15s (remain 0m 0s) Loss: 0.0263(0.0146) 600145.8811(331310.8413)\n",
      "Epoch: [253][0/93] Data 0.365 (0.365) Elapsed 0m 1s (remain 1m 47s) Loss: 0.0102(0.0102) 231947.7384(115973.8692)Grad: 2.4225  \n",
      "Epoch: [253][20/93] Data 0.014 (0.032) Elapsed 0m 17s (remain 1m 0s) Loss: 0.0092(0.0054) 210692.8691(119757.4115)Grad: 1.6993  \n",
      "Epoch: [253][40/93] Data 0.016 (0.025) Elapsed 0m 34s (remain 0m 44s) Loss: 0.0145(0.0059) 330552.2418(132691.7935)Grad: 4.5535  \n",
      "Epoch: [253][60/93] Data 0.021 (0.022) Elapsed 0m 51s (remain 0m 27s) Loss: 0.0084(0.0056) 191509.4086(127242.3317)Grad: 3.0502  \n",
      "Epoch: [253][80/93] Data 0.015 (0.021) Elapsed 1m 8s (remain 0m 10s) Loss: 0.0086(0.0056) 195412.9785(127657.9505)Grad: 5.0731  \n",
      "Epoch: [253][92/93] Data 0.014 (0.020) Elapsed 1m 18s (remain 0m 0s) Loss: 0.0104(0.0056) 237279.7510(127479.2446)Grad: 4.7790  \n",
      "EVAL: [0/46] Data 0.367 (0.367) Elapsed 0m 0s (remain 0m 25s) Loss: 0.0216(0.0216) 493482.5627(246741.2814)\n",
      "EVAL: [20/46] Data 0.118 (0.158) Elapsed 0m 7s (remain 0m 9s) Loss: 0.0254(0.0155) 579623.8209(345244.8713)\n",
      "EVAL: [40/46] Data 0.134 (0.164) Elapsed 0m 15s (remain 0m 1s) Loss: 0.0220(0.0147) 502172.6401(331731.3963)\n"
     ]
    },
    {
     "name": "stderr",
     "output_type": "stream",
     "text": [
      "Epoch 253 - avg_train_loss: 0.0056  avg_val_loss: 0.0147  time: 95s\n",
      "Epoch 253 - MAE: 0.029166685172993426\n"
     ]
    },
    {
     "name": "stdout",
     "output_type": "stream",
     "text": [
      "EVAL: [45/46] Data 0.042 (0.159) Elapsed 0m 16s (remain 0m 0s) Loss: 0.0261(0.0147) 597319.4684(333213.4301)\n",
      "Epoch: [254][0/93] Data 0.387 (0.387) Elapsed 0m 1s (remain 1m 51s) Loss: 0.0161(0.0161) 367854.7308(183927.3654)Grad: 8.8418  \n",
      "Epoch: [254][20/93] Data 0.014 (0.033) Elapsed 0m 17s (remain 1m 0s) Loss: 0.0108(0.0054) 246311.0483(121496.6632)Grad: 2.0438  \n",
      "Epoch: [254][40/93] Data 0.015 (0.025) Elapsed 0m 34s (remain 0m 43s) Loss: 0.0102(0.0058) 232513.7360(130984.4279)Grad: 1.6565  \n",
      "Epoch: [254][60/93] Data 0.015 (0.022) Elapsed 0m 51s (remain 0m 26s) Loss: 0.0137(0.0059) 312849.3379(133505.2650)Grad: 12.2568  \n",
      "Epoch: [254][80/93] Data 0.017 (0.021) Elapsed 1m 8s (remain 0m 10s) Loss: 0.0112(0.0060) 256566.8224(135184.0564)Grad: 7.8915  \n",
      "Epoch: [254][92/93] Data 0.014 (0.020) Elapsed 1m 18s (remain 0m 0s) Loss: 0.0105(0.0059) 239171.0484(135318.2863)Grad: 4.0142  \n",
      "EVAL: [0/46] Data 0.376 (0.376) Elapsed 0m 0s (remain 0m 25s) Loss: 0.0227(0.0227) 518511.8342(259255.9171)\n",
      "EVAL: [20/46] Data 0.116 (0.168) Elapsed 0m 7s (remain 0m 9s) Loss: 0.0247(0.0154) 565079.0164(343712.4713)\n",
      "EVAL: [40/46] Data 0.121 (0.145) Elapsed 0m 14s (remain 0m 1s) Loss: 0.0213(0.0147) 487394.1419(331586.0809)\n"
     ]
    },
    {
     "name": "stderr",
     "output_type": "stream",
     "text": [
      "Epoch 254 - avg_train_loss: 0.0059  avg_val_loss: 0.0147  time: 94s\n",
      "Epoch 254 - MAE: 0.029086192886820492\n"
     ]
    },
    {
     "name": "stdout",
     "output_type": "stream",
     "text": [
      "EVAL: [45/46] Data 0.042 (0.141) Elapsed 0m 15s (remain 0m 0s) Loss: 0.0250(0.0147) 570625.2730(332293.8519)\n",
      "Epoch: [255][0/93] Data 0.382 (0.382) Elapsed 0m 1s (remain 2m 3s) Loss: 0.0103(0.0103) 234864.4622(117432.2311)Grad: 3.7523  \n",
      "Epoch: [255][20/93] Data 0.016 (0.033) Elapsed 0m 17s (remain 1m 1s) Loss: 0.0135(0.0053) 308744.4194(118859.8380)Grad: 4.6672  \n",
      "Epoch: [255][40/93] Data 0.022 (0.025) Elapsed 0m 34s (remain 0m 44s) Loss: 0.0118(0.0054) 268745.4303(121398.9572)Grad: 6.8136  \n",
      "Epoch: [255][60/93] Data 0.015 (0.022) Elapsed 0m 51s (remain 0m 26s) Loss: 0.0096(0.0054) 220342.0013(122224.9786)Grad: 1.5045  \n",
      "Epoch: [255][80/93] Data 0.016 (0.021) Elapsed 1m 8s (remain 0m 10s) Loss: 0.0074(0.0055) 168128.8459(125748.3312)Grad: 3.5793  \n",
      "Epoch: [255][92/93] Data 0.015 (0.021) Elapsed 1m 18s (remain 0m 0s) Loss: 0.0178(0.0055) 406693.9335(125314.2662)Grad: 7.5514  \n",
      "EVAL: [0/46] Data 0.401 (0.401) Elapsed 0m 0s (remain 0m 27s) Loss: 0.0234(0.0234) 534533.8331(267266.9166)\n",
      "EVAL: [20/46] Data 0.117 (0.143) Elapsed 0m 7s (remain 0m 8s) Loss: 0.0210(0.0155) 478800.6318(344720.8262)\n",
      "EVAL: [40/46] Data 0.119 (0.160) Elapsed 0m 14s (remain 0m 1s) Loss: 0.0203(0.0147) 464018.3033(332588.5277)\n"
     ]
    },
    {
     "name": "stderr",
     "output_type": "stream",
     "text": [
      "Epoch 255 - avg_train_loss: 0.0055  avg_val_loss: 0.0147  time: 95s\n",
      "Epoch 255 - MAE: 0.029249663605657894\n",
      "===================== Early Stop =====================\n"
     ]
    },
    {
     "name": "stdout",
     "output_type": "stream",
     "text": [
      "EVAL: [45/46] Data 0.040 (0.154) Elapsed 0m 16s (remain 0m 0s) Loss: 0.0261(0.0147) 597083.8595(334161.4113)\n"
     ]
    }
   ],
   "source": [
    "res_valid_df = train_loop(train_df, valid_df)"
   ]
  },
  {
   "cell_type": "code",
   "execution_count": 16,
   "metadata": {
    "execution": {
     "iopub.execute_input": "2021-03-08T09:34:19.678175Z",
     "iopub.status.busy": "2021-03-08T09:34:19.677110Z",
     "iopub.status.idle": "2021-03-08T09:34:19.687498Z",
     "shell.execute_reply": "2021-03-08T09:34:19.688056Z"
    },
    "papermill": {
     "duration": 1.128181,
     "end_time": "2021-03-08T09:34:19.688227",
     "exception": false,
     "start_time": "2021-03-08T09:34:18.560046",
     "status": "completed"
    },
    "tags": []
   },
   "outputs": [
    {
     "data": {
      "text/html": [
       "<div>\n",
       "<style scoped>\n",
       "    .dataframe tbody tr th:only-of-type {\n",
       "        vertical-align: middle;\n",
       "    }\n",
       "\n",
       "    .dataframe tbody tr th {\n",
       "        vertical-align: top;\n",
       "    }\n",
       "\n",
       "    .dataframe thead th {\n",
       "        text-align: right;\n",
       "    }\n",
       "</style>\n",
       "<table border=\"1\" class=\"dataframe\">\n",
       "  <thead>\n",
       "    <tr style=\"text-align: right;\">\n",
       "      <th></th>\n",
       "      <th>segment_id</th>\n",
       "      <th>time_to_eruption</th>\n",
       "      <th>time_to_eruption_normalize</th>\n",
       "      <th>preds</th>\n",
       "    </tr>\n",
       "  </thead>\n",
       "  <tbody>\n",
       "    <tr>\n",
       "      <th>0</th>\n",
       "      <td>859980212</td>\n",
       "      <td>17523064</td>\n",
       "      <td>0.766910</td>\n",
       "      <td>0.781434</td>\n",
       "    </tr>\n",
       "    <tr>\n",
       "      <th>1</th>\n",
       "      <td>925884391</td>\n",
       "      <td>41682685</td>\n",
       "      <td>1.824275</td>\n",
       "      <td>1.828830</td>\n",
       "    </tr>\n",
       "    <tr>\n",
       "      <th>2</th>\n",
       "      <td>2143227248</td>\n",
       "      <td>28548623</td>\n",
       "      <td>1.249452</td>\n",
       "      <td>1.245996</td>\n",
       "    </tr>\n",
       "    <tr>\n",
       "      <th>3</th>\n",
       "      <td>2029121195</td>\n",
       "      <td>43190417</td>\n",
       "      <td>1.890262</td>\n",
       "      <td>1.892455</td>\n",
       "    </tr>\n",
       "    <tr>\n",
       "      <th>4</th>\n",
       "      <td>586194492</td>\n",
       "      <td>38850589</td>\n",
       "      <td>1.700326</td>\n",
       "      <td>1.735031</td>\n",
       "    </tr>\n",
       "  </tbody>\n",
       "</table>\n",
       "</div>"
      ],
      "text/plain": [
       "   segment_id  time_to_eruption  time_to_eruption_normalize     preds\n",
       "0   859980212          17523064                    0.766910  0.781434\n",
       "1   925884391          41682685                    1.824275  1.828830\n",
       "2  2143227248          28548623                    1.249452  1.245996\n",
       "3  2029121195          43190417                    1.890262  1.892455\n",
       "4   586194492          38850589                    1.700326  1.735031"
      ]
     },
     "execution_count": 16,
     "metadata": {},
     "output_type": "execute_result"
    }
   ],
   "source": [
    "res_valid_df.head()"
   ]
  },
  {
   "cell_type": "code",
   "execution_count": 17,
   "metadata": {
    "execution": {
     "iopub.execute_input": "2021-03-08T09:34:21.872073Z",
     "iopub.status.busy": "2021-03-08T09:34:21.871436Z",
     "iopub.status.idle": "2021-03-08T09:34:22.177308Z",
     "shell.execute_reply": "2021-03-08T09:34:22.179833Z"
    },
    "papermill": {
     "duration": 1.393951,
     "end_time": "2021-03-08T09:34:22.180160",
     "exception": false,
     "start_time": "2021-03-08T09:34:20.786209",
     "status": "completed"
    },
    "tags": []
   },
   "outputs": [],
   "source": [
    "res_valid_df.to_pickle('res_valid_df.pkl')"
   ]
  },
  {
   "cell_type": "code",
   "execution_count": null,
   "metadata": {
    "papermill": {
     "duration": 1.108745,
     "end_time": "2021-03-08T09:34:24.544729",
     "exception": false,
     "start_time": "2021-03-08T09:34:23.435984",
     "status": "completed"
    },
    "tags": []
   },
   "outputs": [],
   "source": []
  }
 ],
 "metadata": {
  "kernelspec": {
   "display_name": "Python 3",
   "language": "python",
   "name": "python3"
  },
  "language_info": {
   "codemirror_mode": {
    "name": "ipython",
    "version": 3
   },
   "file_extension": ".py",
   "mimetype": "text/x-python",
   "name": "python",
   "nbconvert_exporter": "python",
   "pygments_lexer": "ipython3",
   "version": "3.7.9"
  },
  "papermill": {
   "default_parameters": {},
   "duration": 24006.436316,
   "end_time": "2021-03-08T09:34:27.915268",
   "environment_variables": {},
   "exception": null,
   "input_path": "__notebook__.ipynb",
   "output_path": "__notebook__.ipynb",
   "parameters": {},
   "start_time": "2021-03-08T02:54:21.478952",
   "version": "2.2.2"
  }
 },
 "nbformat": 4,
 "nbformat_minor": 4
}
